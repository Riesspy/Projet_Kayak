{
 "cells": [
  {
   "cell_type": "code",
   "execution_count": 4,
   "metadata": {},
   "outputs": [
    {
     "ename": "ModuleNotFoundError",
     "evalue": "No module named 'dotenv'",
     "output_type": "error",
     "traceback": [
      "\u001b[1;31m---------------------------------------------------------------------------\u001b[0m",
      "\u001b[1;31mModuleNotFoundError\u001b[0m                       Traceback (most recent call last)",
      "\u001b[1;32m<ipython-input-4-6312f028f09c>\u001b[0m in \u001b[0;36m<module>\u001b[1;34m\u001b[0m\n\u001b[0;32m      7\u001b[0m \u001b[1;31m#import plotly.express as px\u001b[0m\u001b[1;33m\u001b[0m\u001b[1;33m\u001b[0m\u001b[1;33m\u001b[0m\u001b[0m\n\u001b[0;32m      8\u001b[0m \u001b[1;31m#import plotly.graph_objects as go\u001b[0m\u001b[1;33m\u001b[0m\u001b[1;33m\u001b[0m\u001b[1;33m\u001b[0m\u001b[0m\n\u001b[1;32m----> 9\u001b[1;33m \u001b[1;32mfrom\u001b[0m \u001b[0mdotenv\u001b[0m \u001b[1;32mimport\u001b[0m \u001b[0mload_dotenv\u001b[0m\u001b[1;33m\u001b[0m\u001b[1;33m\u001b[0m\u001b[0m\n\u001b[0m\u001b[0;32m     10\u001b[0m \u001b[1;32mfrom\u001b[0m \u001b[0mIPython\u001b[0m\u001b[1;33m.\u001b[0m\u001b[0mdisplay\u001b[0m \u001b[1;32mimport\u001b[0m \u001b[0mdisplay\u001b[0m\u001b[1;33m\u001b[0m\u001b[1;33m\u001b[0m\u001b[0m\n\u001b[0;32m     11\u001b[0m \u001b[1;32mfrom\u001b[0m \u001b[0mgeopy\u001b[0m\u001b[1;33m.\u001b[0m\u001b[0mgeocoders\u001b[0m \u001b[1;32mimport\u001b[0m \u001b[0mNominatim\u001b[0m\u001b[1;33m\u001b[0m\u001b[1;33m\u001b[0m\u001b[0m\n",
      "\u001b[1;31mModuleNotFoundError\u001b[0m: No module named 'dotenv'"
     ]
    }
   ],
   "source": [
    "# import\n",
    "import os\n",
    "import uuid\n",
    "import requests\n",
    "import numpy as np\n",
    "import pandas as pd\n",
    "#import plotly.express as px\n",
    "#import plotly.graph_objects as go\n",
    "from dotenv import load_dotenv\n",
    "from IPython.display import display\n",
    "from geopy.geocoders import Nominatim"
   ]
  },
  {
   "cell_type": "code",
   "execution_count": 5,
   "metadata": {},
   "outputs": [
    {
     "name": "stdout",
     "output_type": "stream",
     "text": [
      "Collecting dotenvNote: you may need to restart the kernel to use updated packages.\n",
      "\n"
     ]
    },
    {
     "name": "stderr",
     "output_type": "stream",
     "text": [
      "    ERROR: Command errored out with exit status 1:\n",
      "     command: 'C:\\Users\\Riadh\\.conda\\envs\\gee\\python.exe' -c 'import io, os, sys, setuptools, tokenize; sys.argv[0] = '\"'\"'C:\\\\Users\\\\Riadh\\\\AppData\\\\Local\\\\Temp\\\\pip-install-md6rjt6o\\\\dotenv_bbe74f3be3cb4641a3943115875d825d\\\\setup.py'\"'\"'; __file__='\"'\"'C:\\\\Users\\\\Riadh\\\\AppData\\\\Local\\\\Temp\\\\pip-install-md6rjt6o\\\\dotenv_bbe74f3be3cb4641a3943115875d825d\\\\setup.py'\"'\"';f = getattr(tokenize, '\"'\"'open'\"'\"', open)(__file__) if os.path.exists(__file__) else io.StringIO('\"'\"'from setuptools import setup; setup()'\"'\"');code = f.read().replace('\"'\"'\\r\\n'\"'\"', '\"'\"'\\n'\"'\"');f.close();exec(compile(code, __file__, '\"'\"'exec'\"'\"'))' egg_info --egg-base 'C:\\Users\\Riadh\\AppData\\Local\\Temp\\pip-pip-egg-info-7davon16'\n",
      "         cwd: C:\\Users\\Riadh\\AppData\\Local\\Temp\\pip-install-md6rjt6o\\dotenv_bbe74f3be3cb4641a3943115875d825d\\\n",
      "    Complete output (1154 lines):\n",
      "        ERROR: Command errored out with exit status 1:\n",
      "         command: 'C:\\Users\\Riadh\\.conda\\envs\\gee\\python.exe' -c 'import io, os, sys, setuptools, tokenize; sys.argv[0] = '\"'\"'C:\\\\Users\\\\Riadh\\\\AppData\\\\Local\\\\Temp\\\\pip-wheel-lapi3eqj\\\\distribute_aaad963739cc438e987f3fda7710a195\\\\setup.py'\"'\"'; __file__='\"'\"'C:\\\\Users\\\\Riadh\\\\AppData\\\\Local\\\\Temp\\\\pip-wheel-lapi3eqj\\\\distribute_aaad963739cc438e987f3fda7710a195\\\\setup.py'\"'\"';f = getattr(tokenize, '\"'\"'open'\"'\"', open)(__file__) if os.path.exists(__file__) else io.StringIO('\"'\"'from setuptools import setup; setup()'\"'\"');code = f.read().replace('\"'\"'\\r\\n'\"'\"', '\"'\"'\\n'\"'\"');f.close();exec(compile(code, __file__, '\"'\"'exec'\"'\"'))' egg_info --egg-base 'C:\\Users\\Riadh\\AppData\\Local\\Temp\\pip-pip-egg-info-93_df67s'\n",
      "             cwd: C:\\Users\\Riadh\\AppData\\Local\\Temp\\pip-wheel-lapi3eqj\\distribute_aaad963739cc438e987f3fda7710a195\\\n",
      "        Complete output (15 lines):\n",
      "        Traceback (most recent call last):\n",
      "          File \"<string>\", line 1, in <module>\n",
      "          File \"C:\\Users\\Riadh\\AppData\\Local\\Temp\\pip-wheel-lapi3eqj\\distribute_aaad963739cc438e987f3fda7710a195\\setuptools\\__init__.py\", line 2, in <module>\n",
      "            from setuptools.extension import Extension, Library\n",
      "          File \"C:\\Users\\Riadh\\AppData\\Local\\Temp\\pip-wheel-lapi3eqj\\distribute_aaad963739cc438e987f3fda7710a195\\setuptools\\extension.py\", line 5, in <module>\n",
      "            from setuptools.dist import _get_unpatched\n",
      "          File \"C:\\Users\\Riadh\\AppData\\Local\\Temp\\pip-wheel-lapi3eqj\\distribute_aaad963739cc438e987f3fda7710a195\\setuptools\\dist.py\", line 7, in <module>\n",
      "            from setuptools.command.install import install\n",
      "          File \"C:\\Users\\Riadh\\AppData\\Local\\Temp\\pip-wheel-lapi3eqj\\distribute_aaad963739cc438e987f3fda7710a195\\setuptools\\command\\__init__.py\", line 8, in <module>\n",
      "            from setuptools.command import install_scripts\n",
      "          File \"C:\\Users\\Riadh\\AppData\\Local\\Temp\\pip-wheel-lapi3eqj\\distribute_aaad963739cc438e987f3fda7710a195\\setuptools\\command\\install_scripts.py\", line 3, in <module>\n",
      "            from pkg_resources import Distribution, PathMetadata, ensure_directory\n",
      "          File \"C:\\Users\\Riadh\\AppData\\Local\\Temp\\pip-wheel-lapi3eqj\\distribute_aaad963739cc438e987f3fda7710a195\\pkg_resources.py\", line 1518, in <module>\n"
     ]
    },
    {
     "name": "stdout",
     "output_type": "stream",
     "text": [
      "  Downloading dotenv-0.0.5.tar.gz (2.4 kB)\n",
      "  Downloading dotenv-0.0.4.tar.gz (2.0 kB)\n",
      "  Downloading dotenv-0.0.2.tar.gz (6.7 kB)\n",
      "  Downloading dotenv-0.0.1.tar.gz (6.5 kB)\n"
     ]
    },
    {
     "name": "stderr",
     "output_type": "stream",
     "text": [
      "            register_loader_type(importlib_bootstrap.SourceFileLoader, DefaultProvider)\n",
      "        AttributeError: module 'importlib._bootstrap' has no attribute 'SourceFileLoader'\n",
      "        ----------------------------------------\n",
      "    WARNING: Discarding https://files.pythonhosted.org/packages/5f/ad/1fde06877a8d7d5c9b60eff7de2d452f639916ae1d48f0b8f97bf97e570a/distribute-0.7.3.zip#sha256=3dc7a8d059dcf72f0ead2fa2144a24ee0ef07dce816e8c3545d7345767138c5e (from https://pypi.org/simple/distribute/). Command errored out with exit status 1: python setup.py egg_info Check the logs for full command output.\n",
      "        ERROR: Command errored out with exit status 1:\n",
      "         command: 'C:\\Users\\Riadh\\.conda\\envs\\gee\\python.exe' -c 'import io, os, sys, setuptools, tokenize; sys.argv[0] = '\"'\"'C:\\\\Users\\\\Riadh\\\\AppData\\\\Local\\\\Temp\\\\pip-wheel-lapi3eqj\\\\distribute_207a0e38937e4f128a6674f4a2f50db5\\\\setup.py'\"'\"'; __file__='\"'\"'C:\\\\Users\\\\Riadh\\\\AppData\\\\Local\\\\Temp\\\\pip-wheel-lapi3eqj\\\\distribute_207a0e38937e4f128a6674f4a2f50db5\\\\setup.py'\"'\"';f = getattr(tokenize, '\"'\"'open'\"'\"', open)(__file__) if os.path.exists(__file__) else io.StringIO('\"'\"'from setuptools import setup; setup()'\"'\"');code = f.read().replace('\"'\"'\\r\\n'\"'\"', '\"'\"'\\n'\"'\"');f.close();exec(compile(code, __file__, '\"'\"'exec'\"'\"'))' egg_info --egg-base 'C:\\Users\\Riadh\\AppData\\Local\\Temp\\pip-pip-egg-info-qx8c0fdz'\n",
      "             cwd: C:\\Users\\Riadh\\AppData\\Local\\Temp\\pip-wheel-lapi3eqj\\distribute_207a0e38937e4f128a6674f4a2f50db5\\\n",
      "        Complete output (10 lines):\n",
      "        Traceback (most recent call last):\n",
      "          File \"<string>\", line 1, in <module>\n",
      "          File \"C:\\Users\\Riadh\\AppData\\Local\\Temp\\pip-wheel-lapi3eqj\\distribute_207a0e38937e4f128a6674f4a2f50db5\\setuptools\\__init__.py\", line 2, in <module>\n",
      "            from setuptools.extension import Extension, Library\n",
      "          File \"C:\\Users\\Riadh\\AppData\\Local\\Temp\\pip-wheel-lapi3eqj\\distribute_207a0e38937e4f128a6674f4a2f50db5\\setuptools\\extension.py\", line 5, in <module>\n",
      "            from setuptools.dist import _get_unpatched\n",
      "          File \"C:\\Users\\Riadh\\AppData\\Local\\Temp\\pip-wheel-lapi3eqj\\distribute_207a0e38937e4f128a6674f4a2f50db5\\setuptools\\dist.py\", line 103\n",
      "            except ValueError, e:\n",
      "                             ^\n",
      "        SyntaxError: invalid syntax\n",
      "        ----------------------------------------\n",
      "    WARNING: Discarding https://files.pythonhosted.org/packages/67/58/fb1902ce3aee9d868648bb1bb44ca6fdeac04726a6053741bf0485390ec4/distribute-0.6.49.zip#sha256=2e6ef91d00784f9680b413e2a2f4d7c1456927cd9a34ebce99448cd4fbf6fbb8 (from https://pypi.org/simple/distribute/). Command errored out with exit status 1: python setup.py egg_info Check the logs for full command output.\n",
      "        ERROR: Command errored out with exit status 1:\n",
      "         command: 'C:\\Users\\Riadh\\.conda\\envs\\gee\\python.exe' -c 'import io, os, sys, setuptools, tokenize; sys.argv[0] = '\"'\"'C:\\\\Users\\\\Riadh\\\\AppData\\\\Local\\\\Temp\\\\pip-wheel-lapi3eqj\\\\distribute_806e4066bfc44a3fa815c5893c8a2d65\\\\setup.py'\"'\"'; __file__='\"'\"'C:\\\\Users\\\\Riadh\\\\AppData\\\\Local\\\\Temp\\\\pip-wheel-lapi3eqj\\\\distribute_806e4066bfc44a3fa815c5893c8a2d65\\\\setup.py'\"'\"';f = getattr(tokenize, '\"'\"'open'\"'\"', open)(__file__) if os.path.exists(__file__) else io.StringIO('\"'\"'from setuptools import setup; setup()'\"'\"');code = f.read().replace('\"'\"'\\r\\n'\"'\"', '\"'\"'\\n'\"'\"');f.close();exec(compile(code, __file__, '\"'\"'exec'\"'\"'))' egg_info --egg-base 'C:\\Users\\Riadh\\AppData\\Local\\Temp\\pip-pip-egg-info-h8u481uk'\n",
      "             cwd: C:\\Users\\Riadh\\AppData\\Local\\Temp\\pip-wheel-lapi3eqj\\distribute_806e4066bfc44a3fa815c5893c8a2d65\\\n",
      "        Complete output (10 lines):\n",
      "        Traceback (most recent call last):\n",
      "          File \"<string>\", line 1, in <module>\n",
      "          File \"C:\\Users\\Riadh\\AppData\\Local\\Temp\\pip-wheel-lapi3eqj\\distribute_806e4066bfc44a3fa815c5893c8a2d65\\setuptools\\__init__.py\", line 2, in <module>\n",
      "            from setuptools.extension import Extension, Library\n",
      "          File \"C:\\Users\\Riadh\\AppData\\Local\\Temp\\pip-wheel-lapi3eqj\\distribute_806e4066bfc44a3fa815c5893c8a2d65\\setuptools\\extension.py\", line 5, in <module>\n",
      "            from setuptools.dist import _get_unpatched\n",
      "          File \"C:\\Users\\Riadh\\AppData\\Local\\Temp\\pip-wheel-lapi3eqj\\distribute_806e4066bfc44a3fa815c5893c8a2d65\\setuptools\\dist.py\", line 103\n",
      "            except ValueError, e:\n",
      "                             ^\n",
      "        SyntaxError: invalid syntax\n",
      "        ----------------------------------------\n",
      "    WARNING: Discarding https://files.pythonhosted.org/packages/f3/2b/e97c01487b7636ba3fcff5e73db995c66c524d54d0907d238311524f67c8/distribute-0.6.49.tar.gz#sha256=b877a9f155fc13cbf409d4fdbf709d25c24f28dfe3531ecb419eb069bd80e878 (from https://pypi.org/simple/distribute/). Command errored out with exit status 1: python setup.py egg_info Check the logs for full command output.\n",
      "        ERROR: Command errored out with exit status 1:\n",
      "         command: 'C:\\Users\\Riadh\\.conda\\envs\\gee\\python.exe' -c 'import io, os, sys, setuptools, tokenize; sys.argv[0] = '\"'\"'C:\\\\Users\\\\Riadh\\\\AppData\\\\Local\\\\Temp\\\\pip-wheel-lapi3eqj\\\\distribute_3143ee56fbc64d3ea356a36ab779773f\\\\setup.py'\"'\"'; __file__='\"'\"'C:\\\\Users\\\\Riadh\\\\AppData\\\\Local\\\\Temp\\\\pip-wheel-lapi3eqj\\\\distribute_3143ee56fbc64d3ea356a36ab779773f\\\\setup.py'\"'\"';f = getattr(tokenize, '\"'\"'open'\"'\"', open)(__file__) if os.path.exists(__file__) else io.StringIO('\"'\"'from setuptools import setup; setup()'\"'\"');code = f.read().replace('\"'\"'\\r\\n'\"'\"', '\"'\"'\\n'\"'\"');f.close();exec(compile(code, __file__, '\"'\"'exec'\"'\"'))' egg_info --egg-base 'C:\\Users\\Riadh\\AppData\\Local\\Temp\\pip-pip-egg-info-c_i3l4or'\n",
      "             cwd: C:\\Users\\Riadh\\AppData\\Local\\Temp\\pip-wheel-lapi3eqj\\distribute_3143ee56fbc64d3ea356a36ab779773f\\\n",
      "        Complete output (10 lines):\n",
      "        Traceback (most recent call last):\n",
      "          File \"<string>\", line 1, in <module>\n",
      "          File \"C:\\Users\\Riadh\\AppData\\Local\\Temp\\pip-wheel-lapi3eqj\\distribute_3143ee56fbc64d3ea356a36ab779773f\\setuptools\\__init__.py\", line 2, in <module>\n",
      "            from setuptools.extension import Extension, Library\n",
      "          File \"C:\\Users\\Riadh\\AppData\\Local\\Temp\\pip-wheel-lapi3eqj\\distribute_3143ee56fbc64d3ea356a36ab779773f\\setuptools\\extension.py\", line 5, in <module>\n",
      "            from setuptools.dist import _get_unpatched\n",
      "          File \"C:\\Users\\Riadh\\AppData\\Local\\Temp\\pip-wheel-lapi3eqj\\distribute_3143ee56fbc64d3ea356a36ab779773f\\setuptools\\dist.py\", line 103\n",
      "            except ValueError, e:\n",
      "                             ^\n",
      "        SyntaxError: invalid syntax\n",
      "        ----------------------------------------\n",
      "    WARNING: Discarding https://files.pythonhosted.org/packages/8e/5d/a47e0d4891cd8aff83e331440732972661541320e92dbb05e38dd17c29e2/distribute-0.6.48.zip#sha256=89d9f1e9c8f9ff3c96c1292f5e4511b3b30462caabafcf7cc1ee7264c6df755f (from https://pypi.org/simple/distribute/). Command errored out with exit status 1: python setup.py egg_info Check the logs for full command output.\n",
      "        ERROR: Command errored out with exit status 1:\n",
      "         command: 'C:\\Users\\Riadh\\.conda\\envs\\gee\\python.exe' -c 'import io, os, sys, setuptools, tokenize; sys.argv[0] = '\"'\"'C:\\\\Users\\\\Riadh\\\\AppData\\\\Local\\\\Temp\\\\pip-wheel-lapi3eqj\\\\distribute_57b59977e0c44b71ac0f03a7531cd2ea\\\\setup.py'\"'\"'; __file__='\"'\"'C:\\\\Users\\\\Riadh\\\\AppData\\\\Local\\\\Temp\\\\pip-wheel-lapi3eqj\\\\distribute_57b59977e0c44b71ac0f03a7531cd2ea\\\\setup.py'\"'\"';f = getattr(tokenize, '\"'\"'open'\"'\"', open)(__file__) if os.path.exists(__file__) else io.StringIO('\"'\"'from setuptools import setup; setup()'\"'\"');code = f.read().replace('\"'\"'\\r\\n'\"'\"', '\"'\"'\\n'\"'\"');f.close();exec(compile(code, __file__, '\"'\"'exec'\"'\"'))' egg_info --egg-base 'C:\\Users\\Riadh\\AppData\\Local\\Temp\\pip-pip-egg-info-jy_sawhg'\n",
      "             cwd: C:\\Users\\Riadh\\AppData\\Local\\Temp\\pip-wheel-lapi3eqj\\distribute_57b59977e0c44b71ac0f03a7531cd2ea\\\n",
      "        Complete output (10 lines):\n",
      "        Traceback (most recent call last):\n",
      "          File \"<string>\", line 1, in <module>\n",
      "          File \"C:\\Users\\Riadh\\AppData\\Local\\Temp\\pip-wheel-lapi3eqj\\distribute_57b59977e0c44b71ac0f03a7531cd2ea\\setuptools\\__init__.py\", line 2, in <module>\n",
      "            from setuptools.extension import Extension, Library\n",
      "          File \"C:\\Users\\Riadh\\AppData\\Local\\Temp\\pip-wheel-lapi3eqj\\distribute_57b59977e0c44b71ac0f03a7531cd2ea\\setuptools\\extension.py\", line 5, in <module>\n",
      "            from setuptools.dist import _get_unpatched\n",
      "          File \"C:\\Users\\Riadh\\AppData\\Local\\Temp\\pip-wheel-lapi3eqj\\distribute_57b59977e0c44b71ac0f03a7531cd2ea\\setuptools\\dist.py\", line 103\n",
      "            except ValueError, e:\n",
      "                             ^\n",
      "        SyntaxError: invalid syntax\n",
      "        ----------------------------------------\n",
      "    WARNING: Discarding https://files.pythonhosted.org/packages/80/c0/c97660e5e4b13d999d150b1f55d88e3bf7e103a8eebd9d24ef7a2307741c/distribute-0.6.48.tar.gz#sha256=3b88a8b7eb585718f4647360f2ed80a2eed3c544ec59c641dea4ff29310cd6bc (from https://pypi.org/simple/distribute/). Command errored out with exit status 1: python setup.py egg_info Check the logs for full command output.\n",
      "        ERROR: Command errored out with exit status 1:\n",
      "         command: 'C:\\Users\\Riadh\\.conda\\envs\\gee\\python.exe' -c 'import io, os, sys, setuptools, tokenize; sys.argv[0] = '\"'\"'C:\\\\Users\\\\Riadh\\\\AppData\\\\Local\\\\Temp\\\\pip-wheel-lapi3eqj\\\\distribute_e5a9d801abf34e47b742f5a305d604b2\\\\setup.py'\"'\"'; __file__='\"'\"'C:\\\\Users\\\\Riadh\\\\AppData\\\\Local\\\\Temp\\\\pip-wheel-lapi3eqj\\\\distribute_e5a9d801abf34e47b742f5a305d604b2\\\\setup.py'\"'\"';f = getattr(tokenize, '\"'\"'open'\"'\"', open)(__file__) if os.path.exists(__file__) else io.StringIO('\"'\"'from setuptools import setup; setup()'\"'\"');code = f.read().replace('\"'\"'\\r\\n'\"'\"', '\"'\"'\\n'\"'\"');f.close();exec(compile(code, __file__, '\"'\"'exec'\"'\"'))' egg_info --egg-base 'C:\\Users\\Riadh\\AppData\\Local\\Temp\\pip-pip-egg-info-eicrqs6f'\n",
      "             cwd: C:\\Users\\Riadh\\AppData\\Local\\Temp\\pip-wheel-lapi3eqj\\distribute_e5a9d801abf34e47b742f5a305d604b2\\\n",
      "        Complete output (10 lines):\n",
      "        Traceback (most recent call last):\n",
      "          File \"<string>\", line 1, in <module>\n",
      "          File \"C:\\Users\\Riadh\\AppData\\Local\\Temp\\pip-wheel-lapi3eqj\\distribute_e5a9d801abf34e47b742f5a305d604b2\\setuptools\\__init__.py\", line 2, in <module>\n",
      "            from setuptools.extension import Extension, Library\n",
      "          File \"C:\\Users\\Riadh\\AppData\\Local\\Temp\\pip-wheel-lapi3eqj\\distribute_e5a9d801abf34e47b742f5a305d604b2\\setuptools\\extension.py\", line 5, in <module>\n",
      "            from setuptools.dist import _get_unpatched\n",
      "          File \"C:\\Users\\Riadh\\AppData\\Local\\Temp\\pip-wheel-lapi3eqj\\distribute_e5a9d801abf34e47b742f5a305d604b2\\setuptools\\dist.py\", line 103\n",
      "            except ValueError, e:\n",
      "                             ^\n",
      "        SyntaxError: invalid syntax\n",
      "        ----------------------------------------\n",
      "    WARNING: Discarding https://files.pythonhosted.org/packages/5d/5f/3938baf3c82179d1850a9ea2c5939377a81d644acccb094d64d1e1118f75/distribute-0.6.47.zip#sha256=22d4920651da97ce023c3ac22b32464b9c6dd2d8d22d447534cfaf41fb2faac0 (from https://pypi.org/simple/distribute/). Command errored out with exit status 1: python setup.py egg_info Check the logs for full command output.\n",
      "        ERROR: Command errored out with exit status 1:\n",
      "         command: 'C:\\Users\\Riadh\\.conda\\envs\\gee\\python.exe' -c 'import io, os, sys, setuptools, tokenize; sys.argv[0] = '\"'\"'C:\\\\Users\\\\Riadh\\\\AppData\\\\Local\\\\Temp\\\\pip-wheel-lapi3eqj\\\\distribute_29266afa54e8484e90ce1d4768fa5eda\\\\setup.py'\"'\"'; __file__='\"'\"'C:\\\\Users\\\\Riadh\\\\AppData\\\\Local\\\\Temp\\\\pip-wheel-lapi3eqj\\\\distribute_29266afa54e8484e90ce1d4768fa5eda\\\\setup.py'\"'\"';f = getattr(tokenize, '\"'\"'open'\"'\"', open)(__file__) if os.path.exists(__file__) else io.StringIO('\"'\"'from setuptools import setup; setup()'\"'\"');code = f.read().replace('\"'\"'\\r\\n'\"'\"', '\"'\"'\\n'\"'\"');f.close();exec(compile(code, __file__, '\"'\"'exec'\"'\"'))' egg_info --egg-base 'C:\\Users\\Riadh\\AppData\\Local\\Temp\\pip-pip-egg-info-ie0icceo'\n",
      "             cwd: C:\\Users\\Riadh\\AppData\\Local\\Temp\\pip-wheel-lapi3eqj\\distribute_29266afa54e8484e90ce1d4768fa5eda\\\n",
      "        Complete output (10 lines):\n",
      "        Traceback (most recent call last):\n",
      "          File \"<string>\", line 1, in <module>\n",
      "          File \"C:\\Users\\Riadh\\AppData\\Local\\Temp\\pip-wheel-lapi3eqj\\distribute_29266afa54e8484e90ce1d4768fa5eda\\setuptools\\__init__.py\", line 2, in <module>\n",
      "            from setuptools.extension import Extension, Library\n",
      "          File \"C:\\Users\\Riadh\\AppData\\Local\\Temp\\pip-wheel-lapi3eqj\\distribute_29266afa54e8484e90ce1d4768fa5eda\\setuptools\\extension.py\", line 5, in <module>\n",
      "            from setuptools.dist import _get_unpatched\n",
      "          File \"C:\\Users\\Riadh\\AppData\\Local\\Temp\\pip-wheel-lapi3eqj\\distribute_29266afa54e8484e90ce1d4768fa5eda\\setuptools\\dist.py\", line 103\n",
      "            except ValueError, e:\n",
      "                             ^\n",
      "        SyntaxError: invalid syntax\n",
      "        ----------------------------------------\n",
      "    WARNING: Discarding https://files.pythonhosted.org/packages/b4/f8/92222dccdb72d3b6f43b18ebcb93aa7f46849c44d23a5e98efe53c5eff55/distribute-0.6.47.tar.gz#sha256=89bb51db38a69bdd6099a8b487f8365d45e786596076f3f9fe17caa07a846774 (from https://pypi.org/simple/distribute/). Command errored out with exit status 1: python setup.py egg_info Check the logs for full command output.\n",
      "        ERROR: Command errored out with exit status 1:\n",
      "         command: 'C:\\Users\\Riadh\\.conda\\envs\\gee\\python.exe' -c 'import io, os, sys, setuptools, tokenize; sys.argv[0] = '\"'\"'C:\\\\Users\\\\Riadh\\\\AppData\\\\Local\\\\Temp\\\\pip-wheel-lapi3eqj\\\\distribute_6e7ec69891364efbbbf7751f9de0fcb1\\\\setup.py'\"'\"'; __file__='\"'\"'C:\\\\Users\\\\Riadh\\\\AppData\\\\Local\\\\Temp\\\\pip-wheel-lapi3eqj\\\\distribute_6e7ec69891364efbbbf7751f9de0fcb1\\\\setup.py'\"'\"';f = getattr(tokenize, '\"'\"'open'\"'\"', open)(__file__) if os.path.exists(__file__) else io.StringIO('\"'\"'from setuptools import setup; setup()'\"'\"');code = f.read().replace('\"'\"'\\r\\n'\"'\"', '\"'\"'\\n'\"'\"');f.close();exec(compile(code, __file__, '\"'\"'exec'\"'\"'))' egg_info --egg-base 'C:\\Users\\Riadh\\AppData\\Local\\Temp\\pip-pip-egg-info-535t94ik'\n",
      "             cwd: C:\\Users\\Riadh\\AppData\\Local\\Temp\\pip-wheel-lapi3eqj\\distribute_6e7ec69891364efbbbf7751f9de0fcb1\\\n",
      "        Complete output (10 lines):\n",
      "        Traceback (most recent call last):\n",
      "          File \"<string>\", line 1, in <module>\n",
      "          File \"C:\\Users\\Riadh\\AppData\\Local\\Temp\\pip-wheel-lapi3eqj\\distribute_6e7ec69891364efbbbf7751f9de0fcb1\\setuptools\\__init__.py\", line 2, in <module>\n",
      "            from setuptools.extension import Extension, Library\n",
      "          File \"C:\\Users\\Riadh\\AppData\\Local\\Temp\\pip-wheel-lapi3eqj\\distribute_6e7ec69891364efbbbf7751f9de0fcb1\\setuptools\\extension.py\", line 5, in <module>\n",
      "            from setuptools.dist import _get_unpatched\n",
      "          File \"C:\\Users\\Riadh\\AppData\\Local\\Temp\\pip-wheel-lapi3eqj\\distribute_6e7ec69891364efbbbf7751f9de0fcb1\\setuptools\\dist.py\", line 103\n",
      "            except ValueError, e:\n",
      "                             ^\n",
      "        SyntaxError: invalid syntax\n",
      "        ----------------------------------------\n",
      "    WARNING: Discarding https://files.pythonhosted.org/packages/06/b9/74d0d48befa2bd9c32e06b5e69cda4ca5c8293ccb76ad862eaca1657518d/distribute-0.6.46.zip#sha256=08feb3fb8dc22cd610ecc9674eb014e91bc89fcc6e7156443dbafb6b49d96477 (from https://pypi.org/simple/distribute/). Command errored out with exit status 1: python setup.py egg_info Check the logs for full command output.\n",
      "        ERROR: Command errored out with exit status 1:\n",
      "         command: 'C:\\Users\\Riadh\\.conda\\envs\\gee\\python.exe' -c 'import io, os, sys, setuptools, tokenize; sys.argv[0] = '\"'\"'C:\\\\Users\\\\Riadh\\\\AppData\\\\Local\\\\Temp\\\\pip-wheel-lapi3eqj\\\\distribute_fff21def9a67463d9dc4d78f39ddf59f\\\\setup.py'\"'\"'; __file__='\"'\"'C:\\\\Users\\\\Riadh\\\\AppData\\\\Local\\\\Temp\\\\pip-wheel-lapi3eqj\\\\distribute_fff21def9a67463d9dc4d78f39ddf59f\\\\setup.py'\"'\"';f = getattr(tokenize, '\"'\"'open'\"'\"', open)(__file__) if os.path.exists(__file__) else io.StringIO('\"'\"'from setuptools import setup; setup()'\"'\"');code = f.read().replace('\"'\"'\\r\\n'\"'\"', '\"'\"'\\n'\"'\"');f.close();exec(compile(code, __file__, '\"'\"'exec'\"'\"'))' egg_info --egg-base 'C:\\Users\\Riadh\\AppData\\Local\\Temp\\pip-pip-egg-info-lkbg7g97'\n",
      "             cwd: C:\\Users\\Riadh\\AppData\\Local\\Temp\\pip-wheel-lapi3eqj\\distribute_fff21def9a67463d9dc4d78f39ddf59f\\\n",
      "        Complete output (10 lines):\n",
      "        Traceback (most recent call last):\n",
      "          File \"<string>\", line 1, in <module>\n",
      "          File \"C:\\Users\\Riadh\\AppData\\Local\\Temp\\pip-wheel-lapi3eqj\\distribute_fff21def9a67463d9dc4d78f39ddf59f\\setuptools\\__init__.py\", line 2, in <module>\n",
      "            from setuptools.extension import Extension, Library\n",
      "          File \"C:\\Users\\Riadh\\AppData\\Local\\Temp\\pip-wheel-lapi3eqj\\distribute_fff21def9a67463d9dc4d78f39ddf59f\\setuptools\\extension.py\", line 5, in <module>\n",
      "            from setuptools.dist import _get_unpatched\n",
      "          File \"C:\\Users\\Riadh\\AppData\\Local\\Temp\\pip-wheel-lapi3eqj\\distribute_fff21def9a67463d9dc4d78f39ddf59f\\setuptools\\dist.py\", line 103\n",
      "            except ValueError, e:\n",
      "                             ^\n",
      "        SyntaxError: invalid syntax\n",
      "        ----------------------------------------\n",
      "    WARNING: Discarding https://files.pythonhosted.org/packages/e2/af/422a5b1ebfe6d8f54dcd1d846eaed1c71c85ebaa87d7ed8c22bcc974be99/distribute-0.6.46.tar.gz#sha256=6eed4e5ec5369d91e90c3d16713728b619423b8b02c2526cefb0602c086236c7 (from https://pypi.org/simple/distribute/). Command errored out with exit status 1: python setup.py egg_info Check the logs for full command output.\n",
      "        ERROR: Command errored out with exit status 1:\n",
      "         command: 'C:\\Users\\Riadh\\.conda\\envs\\gee\\python.exe' -c 'import io, os, sys, setuptools, tokenize; sys.argv[0] = '\"'\"'C:\\\\Users\\\\Riadh\\\\AppData\\\\Local\\\\Temp\\\\pip-wheel-lapi3eqj\\\\distribute_496cb61001064b24bb81268f50b1eeda\\\\setup.py'\"'\"'; __file__='\"'\"'C:\\\\Users\\\\Riadh\\\\AppData\\\\Local\\\\Temp\\\\pip-wheel-lapi3eqj\\\\distribute_496cb61001064b24bb81268f50b1eeda\\\\setup.py'\"'\"';f = getattr(tokenize, '\"'\"'open'\"'\"', open)(__file__) if os.path.exists(__file__) else io.StringIO('\"'\"'from setuptools import setup; setup()'\"'\"');code = f.read().replace('\"'\"'\\r\\n'\"'\"', '\"'\"'\\n'\"'\"');f.close();exec(compile(code, __file__, '\"'\"'exec'\"'\"'))' egg_info --egg-base 'C:\\Users\\Riadh\\AppData\\Local\\Temp\\pip-pip-egg-info-15wz1d2_'\n",
      "             cwd: C:\\Users\\Riadh\\AppData\\Local\\Temp\\pip-wheel-lapi3eqj\\distribute_496cb61001064b24bb81268f50b1eeda\\\n",
      "        Complete output (10 lines):\n",
      "        Traceback (most recent call last):\n",
      "          File \"<string>\", line 1, in <module>\n",
      "          File \"C:\\Users\\Riadh\\AppData\\Local\\Temp\\pip-wheel-lapi3eqj\\distribute_496cb61001064b24bb81268f50b1eeda\\setuptools\\__init__.py\", line 2, in <module>\n",
      "            from setuptools.extension import Extension, Library\n",
      "          File \"C:\\Users\\Riadh\\AppData\\Local\\Temp\\pip-wheel-lapi3eqj\\distribute_496cb61001064b24bb81268f50b1eeda\\setuptools\\extension.py\", line 5, in <module>\n",
      "            from setuptools.dist import _get_unpatched\n",
      "          File \"C:\\Users\\Riadh\\AppData\\Local\\Temp\\pip-wheel-lapi3eqj\\distribute_496cb61001064b24bb81268f50b1eeda\\setuptools\\dist.py\", line 103\n",
      "            except ValueError, e:\n",
      "                             ^\n",
      "        SyntaxError: invalid syntax\n",
      "        ----------------------------------------\n",
      "    WARNING: Discarding https://files.pythonhosted.org/packages/38/46/63a32f9ccc8724a5e36b6bcde2c2429ead90edbc646f7481a5357a3e1d1c/distribute-0.6.45.zip#sha256=d5e510cd44531aed207ea039455a486f2d8291dbf4b0bc7c57deef691586dd85 (from https://pypi.org/simple/distribute/). Command errored out with exit status 1: python setup.py egg_info Check the logs for full command output.\n",
      "        ERROR: Command errored out with exit status 1:\n",
      "         command: 'C:\\Users\\Riadh\\.conda\\envs\\gee\\python.exe' -c 'import io, os, sys, setuptools, tokenize; sys.argv[0] = '\"'\"'C:\\\\Users\\\\Riadh\\\\AppData\\\\Local\\\\Temp\\\\pip-wheel-lapi3eqj\\\\distribute_e06803b2f9c444bb8d06d95cc953dcb6\\\\setup.py'\"'\"'; __file__='\"'\"'C:\\\\Users\\\\Riadh\\\\AppData\\\\Local\\\\Temp\\\\pip-wheel-lapi3eqj\\\\distribute_e06803b2f9c444bb8d06d95cc953dcb6\\\\setup.py'\"'\"';f = getattr(tokenize, '\"'\"'open'\"'\"', open)(__file__) if os.path.exists(__file__) else io.StringIO('\"'\"'from setuptools import setup; setup()'\"'\"');code = f.read().replace('\"'\"'\\r\\n'\"'\"', '\"'\"'\\n'\"'\"');f.close();exec(compile(code, __file__, '\"'\"'exec'\"'\"'))' egg_info --egg-base 'C:\\Users\\Riadh\\AppData\\Local\\Temp\\pip-pip-egg-info-2jumzi8i'\n",
      "             cwd: C:\\Users\\Riadh\\AppData\\Local\\Temp\\pip-wheel-lapi3eqj\\distribute_e06803b2f9c444bb8d06d95cc953dcb6\\\n",
      "        Complete output (10 lines):\n",
      "        Traceback (most recent call last):\n",
      "          File \"<string>\", line 1, in <module>\n",
      "          File \"C:\\Users\\Riadh\\AppData\\Local\\Temp\\pip-wheel-lapi3eqj\\distribute_e06803b2f9c444bb8d06d95cc953dcb6\\setuptools\\__init__.py\", line 2, in <module>\n",
      "            from setuptools.extension import Extension, Library\n",
      "          File \"C:\\Users\\Riadh\\AppData\\Local\\Temp\\pip-wheel-lapi3eqj\\distribute_e06803b2f9c444bb8d06d95cc953dcb6\\setuptools\\extension.py\", line 5, in <module>\n",
      "            from setuptools.dist import _get_unpatched\n",
      "          File \"C:\\Users\\Riadh\\AppData\\Local\\Temp\\pip-wheel-lapi3eqj\\distribute_e06803b2f9c444bb8d06d95cc953dcb6\\setuptools\\dist.py\", line 103\n",
      "            except ValueError, e:\n",
      "                             ^\n",
      "        SyntaxError: invalid syntax\n",
      "        ----------------------------------------\n",
      "    WARNING: Discarding https://files.pythonhosted.org/packages/ae/e2/71b808010e2cd5e627706344d0d65df2e2d31d2b52d259f0bcb7b1827bf4/distribute-0.6.45.tar.gz#sha256=7c0b21329bbd087410ce4be4bf64058c1085a27e5ae5886a52950ff46ab9eb66 (from https://pypi.org/simple/distribute/). Command errored out with exit status 1: python setup.py egg_info Check the logs for full command output.\n",
      "        ERROR: Command errored out with exit status 1:\n",
      "         command: 'C:\\Users\\Riadh\\.conda\\envs\\gee\\python.exe' -c 'import io, os, sys, setuptools, tokenize; sys.argv[0] = '\"'\"'C:\\\\Users\\\\Riadh\\\\AppData\\\\Local\\\\Temp\\\\pip-wheel-lapi3eqj\\\\distribute_e6921b9cc6164eacbb7ebbf2f7b5be5c\\\\setup.py'\"'\"'; __file__='\"'\"'C:\\\\Users\\\\Riadh\\\\AppData\\\\Local\\\\Temp\\\\pip-wheel-lapi3eqj\\\\distribute_e6921b9cc6164eacbb7ebbf2f7b5be5c\\\\setup.py'\"'\"';f = getattr(tokenize, '\"'\"'open'\"'\"', open)(__file__) if os.path.exists(__file__) else io.StringIO('\"'\"'from setuptools import setup; setup()'\"'\"');code = f.read().replace('\"'\"'\\r\\n'\"'\"', '\"'\"'\\n'\"'\"');f.close();exec(compile(code, __file__, '\"'\"'exec'\"'\"'))' egg_info --egg-base 'C:\\Users\\Riadh\\AppData\\Local\\Temp\\pip-pip-egg-info-mdii_yup'\n",
      "             cwd: C:\\Users\\Riadh\\AppData\\Local\\Temp\\pip-wheel-lapi3eqj\\distribute_e6921b9cc6164eacbb7ebbf2f7b5be5c\\\n",
      "        Complete output (10 lines):\n",
      "        Traceback (most recent call last):\n",
      "          File \"<string>\", line 1, in <module>\n",
      "          File \"C:\\Users\\Riadh\\AppData\\Local\\Temp\\pip-wheel-lapi3eqj\\distribute_e6921b9cc6164eacbb7ebbf2f7b5be5c\\setuptools\\__init__.py\", line 2, in <module>\n",
      "            from setuptools.extension import Extension, Library\n",
      "          File \"C:\\Users\\Riadh\\AppData\\Local\\Temp\\pip-wheel-lapi3eqj\\distribute_e6921b9cc6164eacbb7ebbf2f7b5be5c\\setuptools\\extension.py\", line 5, in <module>\n",
      "            from setuptools.dist import _get_unpatched\n",
      "          File \"C:\\Users\\Riadh\\AppData\\Local\\Temp\\pip-wheel-lapi3eqj\\distribute_e6921b9cc6164eacbb7ebbf2f7b5be5c\\setuptools\\dist.py\", line 103\n",
      "            except ValueError, e:\n",
      "                             ^\n",
      "        SyntaxError: invalid syntax\n",
      "        ----------------------------------------\n",
      "    WARNING: Discarding https://files.pythonhosted.org/packages/a0/0b/29fa375b60678ead8d63c33e66001ea4625eca089ddeddc1a998c13dc97d/distribute-0.6.44.zip#sha256=75dc4e98662c6d0cdb6752d0344c9aab1835284c58188eb374115c17221cbedd (from https://pypi.org/simple/distribute/). Command errored out with exit status 1: python setup.py egg_info Check the logs for full command output.\n",
      "        ERROR: Command errored out with exit status 1:\n",
      "         command: 'C:\\Users\\Riadh\\.conda\\envs\\gee\\python.exe' -c 'import io, os, sys, setuptools, tokenize; sys.argv[0] = '\"'\"'C:\\\\Users\\\\Riadh\\\\AppData\\\\Local\\\\Temp\\\\pip-wheel-lapi3eqj\\\\distribute_ab1fe8764d8b4f4896063b6deb8690bb\\\\setup.py'\"'\"'; __file__='\"'\"'C:\\\\Users\\\\Riadh\\\\AppData\\\\Local\\\\Temp\\\\pip-wheel-lapi3eqj\\\\distribute_ab1fe8764d8b4f4896063b6deb8690bb\\\\setup.py'\"'\"';f = getattr(tokenize, '\"'\"'open'\"'\"', open)(__file__) if os.path.exists(__file__) else io.StringIO('\"'\"'from setuptools import setup; setup()'\"'\"');code = f.read().replace('\"'\"'\\r\\n'\"'\"', '\"'\"'\\n'\"'\"');f.close();exec(compile(code, __file__, '\"'\"'exec'\"'\"'))' egg_info --egg-base 'C:\\Users\\Riadh\\AppData\\Local\\Temp\\pip-pip-egg-info-sorrybvd'\n",
      "             cwd: C:\\Users\\Riadh\\AppData\\Local\\Temp\\pip-wheel-lapi3eqj\\distribute_ab1fe8764d8b4f4896063b6deb8690bb\\\n",
      "        Complete output (10 lines):\n",
      "        Traceback (most recent call last):\n",
      "          File \"<string>\", line 1, in <module>\n",
      "          File \"C:\\Users\\Riadh\\AppData\\Local\\Temp\\pip-wheel-lapi3eqj\\distribute_ab1fe8764d8b4f4896063b6deb8690bb\\setuptools\\__init__.py\", line 2, in <module>\n",
      "            from setuptools.extension import Extension, Library\n",
      "          File \"C:\\Users\\Riadh\\AppData\\Local\\Temp\\pip-wheel-lapi3eqj\\distribute_ab1fe8764d8b4f4896063b6deb8690bb\\setuptools\\extension.py\", line 5, in <module>\n",
      "            from setuptools.dist import _get_unpatched\n",
      "          File \"C:\\Users\\Riadh\\AppData\\Local\\Temp\\pip-wheel-lapi3eqj\\distribute_ab1fe8764d8b4f4896063b6deb8690bb\\setuptools\\dist.py\", line 103\n",
      "            except ValueError, e:\n",
      "                             ^\n",
      "        SyntaxError: invalid syntax\n",
      "        ----------------------------------------\n",
      "    WARNING: Discarding https://files.pythonhosted.org/packages/94/f1/53fee5ab8ee3bd360e30188be3a0f0e277e46c6e1927085985ae37e0cfd1/distribute-0.6.44.tar.gz#sha256=1a7de57e6d95c08836ba644b012ace19515824567647e81a3c105b35b6982805 (from https://pypi.org/simple/distribute/). Command errored out with exit status 1: python setup.py egg_info Check the logs for full command output.\n",
      "        ERROR: Command errored out with exit status 1:\n",
      "         command: 'C:\\Users\\Riadh\\.conda\\envs\\gee\\python.exe' -c 'import io, os, sys, setuptools, tokenize; sys.argv[0] = '\"'\"'C:\\\\Users\\\\Riadh\\\\AppData\\\\Local\\\\Temp\\\\pip-wheel-lapi3eqj\\\\distribute_01b113843d3e4e11ba444aed06bda1d3\\\\setup.py'\"'\"'; __file__='\"'\"'C:\\\\Users\\\\Riadh\\\\AppData\\\\Local\\\\Temp\\\\pip-wheel-lapi3eqj\\\\distribute_01b113843d3e4e11ba444aed06bda1d3\\\\setup.py'\"'\"';f = getattr(tokenize, '\"'\"'open'\"'\"', open)(__file__) if os.path.exists(__file__) else io.StringIO('\"'\"'from setuptools import setup; setup()'\"'\"');code = f.read().replace('\"'\"'\\r\\n'\"'\"', '\"'\"'\\n'\"'\"');f.close();exec(compile(code, __file__, '\"'\"'exec'\"'\"'))' egg_info --egg-base 'C:\\Users\\Riadh\\AppData\\Local\\Temp\\pip-pip-egg-info-22bj_jiw'\n",
      "             cwd: C:\\Users\\Riadh\\AppData\\Local\\Temp\\pip-wheel-lapi3eqj\\distribute_01b113843d3e4e11ba444aed06bda1d3\\\n",
      "        Complete output (10 lines):\n",
      "        Traceback (most recent call last):\n",
      "          File \"<string>\", line 1, in <module>\n",
      "          File \"C:\\Users\\Riadh\\AppData\\Local\\Temp\\pip-wheel-lapi3eqj\\distribute_01b113843d3e4e11ba444aed06bda1d3\\setuptools\\__init__.py\", line 2, in <module>\n",
      "            from setuptools.extension import Extension, Library\n",
      "          File \"C:\\Users\\Riadh\\AppData\\Local\\Temp\\pip-wheel-lapi3eqj\\distribute_01b113843d3e4e11ba444aed06bda1d3\\setuptools\\extension.py\", line 5, in <module>\n",
      "            from setuptools.dist import _get_unpatched\n",
      "          File \"C:\\Users\\Riadh\\AppData\\Local\\Temp\\pip-wheel-lapi3eqj\\distribute_01b113843d3e4e11ba444aed06bda1d3\\setuptools\\dist.py\", line 103\n",
      "            except ValueError, e:\n",
      "                             ^\n",
      "        SyntaxError: invalid syntax\n",
      "        ----------------------------------------\n",
      "    WARNING: Discarding https://files.pythonhosted.org/packages/8b/04/0bde724600729d8a2c5df48b04a90c98f5cd366a249629cb54541648df3e/distribute-0.6.43.zip#sha256=a8a92e9fb14367cea2f2bc4723b3710d7df6be3d0c12c5ae0253f65845ccac5e (from https://pypi.org/simple/distribute/). Command errored out with exit status 1: python setup.py egg_info Check the logs for full command output.\n",
      "        ERROR: Command errored out with exit status 1:\n",
      "         command: 'C:\\Users\\Riadh\\.conda\\envs\\gee\\python.exe' -c 'import io, os, sys, setuptools, tokenize; sys.argv[0] = '\"'\"'C:\\\\Users\\\\Riadh\\\\AppData\\\\Local\\\\Temp\\\\pip-wheel-lapi3eqj\\\\distribute_5da2fdc7ab1c420287f05c33f7b9e195\\\\setup.py'\"'\"'; __file__='\"'\"'C:\\\\Users\\\\Riadh\\\\AppData\\\\Local\\\\Temp\\\\pip-wheel-lapi3eqj\\\\distribute_5da2fdc7ab1c420287f05c33f7b9e195\\\\setup.py'\"'\"';f = getattr(tokenize, '\"'\"'open'\"'\"', open)(__file__) if os.path.exists(__file__) else io.StringIO('\"'\"'from setuptools import setup; setup()'\"'\"');code = f.read().replace('\"'\"'\\r\\n'\"'\"', '\"'\"'\\n'\"'\"');f.close();exec(compile(code, __file__, '\"'\"'exec'\"'\"'))' egg_info --egg-base 'C:\\Users\\Riadh\\AppData\\Local\\Temp\\pip-pip-egg-info-ij5x5nzs'\n",
      "             cwd: C:\\Users\\Riadh\\AppData\\Local\\Temp\\pip-wheel-lapi3eqj\\distribute_5da2fdc7ab1c420287f05c33f7b9e195\\\n",
      "        Complete output (10 lines):\n",
      "        Traceback (most recent call last):\n",
      "          File \"<string>\", line 1, in <module>\n",
      "          File \"C:\\Users\\Riadh\\AppData\\Local\\Temp\\pip-wheel-lapi3eqj\\distribute_5da2fdc7ab1c420287f05c33f7b9e195\\setuptools\\__init__.py\", line 2, in <module>\n",
      "            from setuptools.extension import Extension, Library\n",
      "          File \"C:\\Users\\Riadh\\AppData\\Local\\Temp\\pip-wheel-lapi3eqj\\distribute_5da2fdc7ab1c420287f05c33f7b9e195\\setuptools\\extension.py\", line 5, in <module>\n",
      "            from setuptools.dist import _get_unpatched\n",
      "          File \"C:\\Users\\Riadh\\AppData\\Local\\Temp\\pip-wheel-lapi3eqj\\distribute_5da2fdc7ab1c420287f05c33f7b9e195\\setuptools\\dist.py\", line 103\n",
      "            except ValueError, e:\n",
      "                             ^\n",
      "        SyntaxError: invalid syntax\n",
      "        ----------------------------------------\n",
      "    WARNING: Discarding https://files.pythonhosted.org/packages/71/df/0fa0a5a64ac62c1fc8f94130795c0f8841a0103c431ea30f0450a4af3b8d/distribute-0.6.43.tar.gz#sha256=6f9de4b0dc8120180141dd7980057eb7968dad04457ff294efae2fe6e9376fd3 (from https://pypi.org/simple/distribute/). Command errored out with exit status 1: python setup.py egg_info Check the logs for full command output.\n",
      "        ERROR: Command errored out with exit status 1:\n",
      "         command: 'C:\\Users\\Riadh\\.conda\\envs\\gee\\python.exe' -c 'import io, os, sys, setuptools, tokenize; sys.argv[0] = '\"'\"'C:\\\\Users\\\\Riadh\\\\AppData\\\\Local\\\\Temp\\\\pip-wheel-lapi3eqj\\\\distribute_78275b2037b241c7bc3cb31d65861461\\\\setup.py'\"'\"'; __file__='\"'\"'C:\\\\Users\\\\Riadh\\\\AppData\\\\Local\\\\Temp\\\\pip-wheel-lapi3eqj\\\\distribute_78275b2037b241c7bc3cb31d65861461\\\\setup.py'\"'\"';f = getattr(tokenize, '\"'\"'open'\"'\"', open)(__file__) if os.path.exists(__file__) else io.StringIO('\"'\"'from setuptools import setup; setup()'\"'\"');code = f.read().replace('\"'\"'\\r\\n'\"'\"', '\"'\"'\\n'\"'\"');f.close();exec(compile(code, __file__, '\"'\"'exec'\"'\"'))' egg_info --egg-base 'C:\\Users\\Riadh\\AppData\\Local\\Temp\\pip-pip-egg-info-tyebqo8l'\n",
      "             cwd: C:\\Users\\Riadh\\AppData\\Local\\Temp\\pip-wheel-lapi3eqj\\distribute_78275b2037b241c7bc3cb31d65861461\\\n",
      "        Complete output (10 lines):\n",
      "        Traceback (most recent call last):\n",
      "          File \"<string>\", line 1, in <module>\n",
      "          File \"C:\\Users\\Riadh\\AppData\\Local\\Temp\\pip-wheel-lapi3eqj\\distribute_78275b2037b241c7bc3cb31d65861461\\setuptools\\__init__.py\", line 2, in <module>\n",
      "            from setuptools.extension import Extension, Library\n",
      "          File \"C:\\Users\\Riadh\\AppData\\Local\\Temp\\pip-wheel-lapi3eqj\\distribute_78275b2037b241c7bc3cb31d65861461\\setuptools\\extension.py\", line 5, in <module>\n",
      "            from setuptools.dist import _get_unpatched\n",
      "          File \"C:\\Users\\Riadh\\AppData\\Local\\Temp\\pip-wheel-lapi3eqj\\distribute_78275b2037b241c7bc3cb31d65861461\\setuptools\\dist.py\", line 103\n",
      "            except ValueError, e:\n",
      "                             ^\n",
      "        SyntaxError: invalid syntax\n",
      "        ----------------------------------------\n",
      "    WARNING: Discarding https://files.pythonhosted.org/packages/f6/20/ea4efea35549719673ca24987de97339961409f00f26ee04025fd032f2da/distribute-0.6.42.zip#sha256=881896b5d895819d6bb894de85a7e6cbd90b3d1f3894441d09d805c4c069ef3c (from https://pypi.org/simple/distribute/). Command errored out with exit status 1: python setup.py egg_info Check the logs for full command output.\n",
      "        ERROR: Command errored out with exit status 1:\n",
      "         command: 'C:\\Users\\Riadh\\.conda\\envs\\gee\\python.exe' -c 'import io, os, sys, setuptools, tokenize; sys.argv[0] = '\"'\"'C:\\\\Users\\\\Riadh\\\\AppData\\\\Local\\\\Temp\\\\pip-wheel-lapi3eqj\\\\distribute_0ddbf523979547a5b4c794696cc9b29a\\\\setup.py'\"'\"'; __file__='\"'\"'C:\\\\Users\\\\Riadh\\\\AppData\\\\Local\\\\Temp\\\\pip-wheel-lapi3eqj\\\\distribute_0ddbf523979547a5b4c794696cc9b29a\\\\setup.py'\"'\"';f = getattr(tokenize, '\"'\"'open'\"'\"', open)(__file__) if os.path.exists(__file__) else io.StringIO('\"'\"'from setuptools import setup; setup()'\"'\"');code = f.read().replace('\"'\"'\\r\\n'\"'\"', '\"'\"'\\n'\"'\"');f.close();exec(compile(code, __file__, '\"'\"'exec'\"'\"'))' egg_info --egg-base 'C:\\Users\\Riadh\\AppData\\Local\\Temp\\pip-pip-egg-info-hpgsc6m_'\n",
      "             cwd: C:\\Users\\Riadh\\AppData\\Local\\Temp\\pip-wheel-lapi3eqj\\distribute_0ddbf523979547a5b4c794696cc9b29a\\\n",
      "        Complete output (10 lines):\n",
      "        Traceback (most recent call last):\n",
      "          File \"<string>\", line 1, in <module>\n",
      "          File \"C:\\Users\\Riadh\\AppData\\Local\\Temp\\pip-wheel-lapi3eqj\\distribute_0ddbf523979547a5b4c794696cc9b29a\\setuptools\\__init__.py\", line 2, in <module>\n",
      "            from setuptools.extension import Extension, Library\n",
      "          File \"C:\\Users\\Riadh\\AppData\\Local\\Temp\\pip-wheel-lapi3eqj\\distribute_0ddbf523979547a5b4c794696cc9b29a\\setuptools\\extension.py\", line 5, in <module>\n",
      "            from setuptools.dist import _get_unpatched\n",
      "          File \"C:\\Users\\Riadh\\AppData\\Local\\Temp\\pip-wheel-lapi3eqj\\distribute_0ddbf523979547a5b4c794696cc9b29a\\setuptools\\dist.py\", line 103\n",
      "            except ValueError, e:\n",
      "                             ^\n",
      "        SyntaxError: invalid syntax\n",
      "        ----------------------------------------\n",
      "    WARNING: Discarding https://files.pythonhosted.org/packages/c8/52/c87242dc7f211b0ad4513772a77e9f917933eb3e80c63c3fe5a887c9f62d/distribute-0.6.42.tar.gz#sha256=097e6b62154966b2831f8d5d52a4106708d41f17e0074dc95b456516305b4508 (from https://pypi.org/simple/distribute/). Command errored out with exit status 1: python setup.py egg_info Check the logs for full command output.\n",
      "        ERROR: Command errored out with exit status 1:\n",
      "         command: 'C:\\Users\\Riadh\\.conda\\envs\\gee\\python.exe' -c 'import io, os, sys, setuptools, tokenize; sys.argv[0] = '\"'\"'C:\\\\Users\\\\Riadh\\\\AppData\\\\Local\\\\Temp\\\\pip-wheel-lapi3eqj\\\\distribute_c595135da7ad4fba88978fe0d65887d9\\\\setup.py'\"'\"'; __file__='\"'\"'C:\\\\Users\\\\Riadh\\\\AppData\\\\Local\\\\Temp\\\\pip-wheel-lapi3eqj\\\\distribute_c595135da7ad4fba88978fe0d65887d9\\\\setup.py'\"'\"';f = getattr(tokenize, '\"'\"'open'\"'\"', open)(__file__) if os.path.exists(__file__) else io.StringIO('\"'\"'from setuptools import setup; setup()'\"'\"');code = f.read().replace('\"'\"'\\r\\n'\"'\"', '\"'\"'\\n'\"'\"');f.close();exec(compile(code, __file__, '\"'\"'exec'\"'\"'))' egg_info --egg-base 'C:\\Users\\Riadh\\AppData\\Local\\Temp\\pip-pip-egg-info-ebps8h4c'\n",
      "             cwd: C:\\Users\\Riadh\\AppData\\Local\\Temp\\pip-wheel-lapi3eqj\\distribute_c595135da7ad4fba88978fe0d65887d9\\\n",
      "        Complete output (10 lines):\n",
      "        Traceback (most recent call last):\n",
      "          File \"<string>\", line 1, in <module>\n",
      "          File \"C:\\Users\\Riadh\\AppData\\Local\\Temp\\pip-wheel-lapi3eqj\\distribute_c595135da7ad4fba88978fe0d65887d9\\setuptools\\__init__.py\", line 2, in <module>\n",
      "            from setuptools.extension import Extension, Library\n",
      "          File \"C:\\Users\\Riadh\\AppData\\Local\\Temp\\pip-wheel-lapi3eqj\\distribute_c595135da7ad4fba88978fe0d65887d9\\setuptools\\extension.py\", line 5, in <module>\n",
      "            from setuptools.dist import _get_unpatched\n",
      "          File \"C:\\Users\\Riadh\\AppData\\Local\\Temp\\pip-wheel-lapi3eqj\\distribute_c595135da7ad4fba88978fe0d65887d9\\setuptools\\dist.py\", line 103\n",
      "            except ValueError, e:\n",
      "                             ^\n",
      "        SyntaxError: invalid syntax\n",
      "        ----------------------------------------\n",
      "    WARNING: Discarding https://files.pythonhosted.org/packages/9b/df/e30c4a713d145a3b03c4c55abb2bba44026d52a5f30deae7cd0705d6c638/distribute-0.6.41.zip#sha256=41a6c67a5769dd522420534126af8970e9f662f22526b62fe8fed54d426f130a (from https://pypi.org/simple/distribute/). Command errored out with exit status 1: python setup.py egg_info Check the logs for full command output.\n",
      "        ERROR: Command errored out with exit status 1:\n",
      "         command: 'C:\\Users\\Riadh\\.conda\\envs\\gee\\python.exe' -c 'import io, os, sys, setuptools, tokenize; sys.argv[0] = '\"'\"'C:\\\\Users\\\\Riadh\\\\AppData\\\\Local\\\\Temp\\\\pip-wheel-lapi3eqj\\\\distribute_e310d48083ae49bfbc3d4a202396bd57\\\\setup.py'\"'\"'; __file__='\"'\"'C:\\\\Users\\\\Riadh\\\\AppData\\\\Local\\\\Temp\\\\pip-wheel-lapi3eqj\\\\distribute_e310d48083ae49bfbc3d4a202396bd57\\\\setup.py'\"'\"';f = getattr(tokenize, '\"'\"'open'\"'\"', open)(__file__) if os.path.exists(__file__) else io.StringIO('\"'\"'from setuptools import setup; setup()'\"'\"');code = f.read().replace('\"'\"'\\r\\n'\"'\"', '\"'\"'\\n'\"'\"');f.close();exec(compile(code, __file__, '\"'\"'exec'\"'\"'))' egg_info --egg-base 'C:\\Users\\Riadh\\AppData\\Local\\Temp\\pip-pip-egg-info-yvviwnxa'\n",
      "             cwd: C:\\Users\\Riadh\\AppData\\Local\\Temp\\pip-wheel-lapi3eqj\\distribute_e310d48083ae49bfbc3d4a202396bd57\\\n",
      "        Complete output (10 lines):\n",
      "        Traceback (most recent call last):\n",
      "          File \"<string>\", line 1, in <module>\n",
      "          File \"C:\\Users\\Riadh\\AppData\\Local\\Temp\\pip-wheel-lapi3eqj\\distribute_e310d48083ae49bfbc3d4a202396bd57\\setuptools\\__init__.py\", line 2, in <module>\n",
      "            from setuptools.extension import Extension, Library\n",
      "          File \"C:\\Users\\Riadh\\AppData\\Local\\Temp\\pip-wheel-lapi3eqj\\distribute_e310d48083ae49bfbc3d4a202396bd57\\setuptools\\extension.py\", line 5, in <module>\n",
      "            from setuptools.dist import _get_unpatched\n",
      "          File \"C:\\Users\\Riadh\\AppData\\Local\\Temp\\pip-wheel-lapi3eqj\\distribute_e310d48083ae49bfbc3d4a202396bd57\\setuptools\\dist.py\", line 103\n",
      "            except ValueError, e:\n",
      "                             ^\n",
      "        SyntaxError: invalid syntax\n",
      "        ----------------------------------------\n",
      "    WARNING: Discarding https://files.pythonhosted.org/packages/2d/d7/8a90509f92b3fcf9b0b4ea35e5f520b073814ce15d3294360f85761e3f88/distribute-0.6.41.tar.gz#sha256=7ca6e0ca3c76be3c37a9340170e531045700a5db778c5849066e24622e7f9f4b (from https://pypi.org/simple/distribute/). Command errored out with exit status 1: python setup.py egg_info Check the logs for full command output.\n",
      "        ERROR: Command errored out with exit status 1:\n",
      "         command: 'C:\\Users\\Riadh\\.conda\\envs\\gee\\python.exe' -c 'import io, os, sys, setuptools, tokenize; sys.argv[0] = '\"'\"'C:\\\\Users\\\\Riadh\\\\AppData\\\\Local\\\\Temp\\\\pip-wheel-lapi3eqj\\\\distribute_b319a836a8434310a0b10663eafefa9d\\\\setup.py'\"'\"'; __file__='\"'\"'C:\\\\Users\\\\Riadh\\\\AppData\\\\Local\\\\Temp\\\\pip-wheel-lapi3eqj\\\\distribute_b319a836a8434310a0b10663eafefa9d\\\\setup.py'\"'\"';f = getattr(tokenize, '\"'\"'open'\"'\"', open)(__file__) if os.path.exists(__file__) else io.StringIO('\"'\"'from setuptools import setup; setup()'\"'\"');code = f.read().replace('\"'\"'\\r\\n'\"'\"', '\"'\"'\\n'\"'\"');f.close();exec(compile(code, __file__, '\"'\"'exec'\"'\"'))' egg_info --egg-base 'C:\\Users\\Riadh\\AppData\\Local\\Temp\\pip-pip-egg-info-pso5_yav'\n",
      "             cwd: C:\\Users\\Riadh\\AppData\\Local\\Temp\\pip-wheel-lapi3eqj\\distribute_b319a836a8434310a0b10663eafefa9d\\\n",
      "        Complete output (10 lines):\n",
      "        Traceback (most recent call last):\n",
      "          File \"<string>\", line 1, in <module>\n",
      "          File \"C:\\Users\\Riadh\\AppData\\Local\\Temp\\pip-wheel-lapi3eqj\\distribute_b319a836a8434310a0b10663eafefa9d\\setuptools\\__init__.py\", line 2, in <module>\n",
      "            from setuptools.extension import Extension, Library\n",
      "          File \"C:\\Users\\Riadh\\AppData\\Local\\Temp\\pip-wheel-lapi3eqj\\distribute_b319a836a8434310a0b10663eafefa9d\\setuptools\\extension.py\", line 5, in <module>\n",
      "            from setuptools.dist import _get_unpatched\n",
      "          File \"C:\\Users\\Riadh\\AppData\\Local\\Temp\\pip-wheel-lapi3eqj\\distribute_b319a836a8434310a0b10663eafefa9d\\setuptools\\dist.py\", line 103\n",
      "            except ValueError, e:\n",
      "                             ^\n",
      "        SyntaxError: invalid syntax\n",
      "        ----------------------------------------\n",
      "    WARNING: Discarding https://files.pythonhosted.org/packages/4c/a8/9306aee26830e151e78bbfa44f0fa6d03e79c2ee76270840f05f89171e7f/distribute-0.6.40.zip#sha256=6e1454702a1e2311cf6654b702828a0eecf73afea22e02aefde05c92f15e7280 (from https://pypi.org/simple/distribute/). Command errored out with exit status 1: python setup.py egg_info Check the logs for full command output.\n",
      "        ERROR: Command errored out with exit status 1:\n",
      "         command: 'C:\\Users\\Riadh\\.conda\\envs\\gee\\python.exe' -c 'import io, os, sys, setuptools, tokenize; sys.argv[0] = '\"'\"'C:\\\\Users\\\\Riadh\\\\AppData\\\\Local\\\\Temp\\\\pip-wheel-lapi3eqj\\\\distribute_72a4f59360914fed978be0f8eca78456\\\\setup.py'\"'\"'; __file__='\"'\"'C:\\\\Users\\\\Riadh\\\\AppData\\\\Local\\\\Temp\\\\pip-wheel-lapi3eqj\\\\distribute_72a4f59360914fed978be0f8eca78456\\\\setup.py'\"'\"';f = getattr(tokenize, '\"'\"'open'\"'\"', open)(__file__) if os.path.exists(__file__) else io.StringIO('\"'\"'from setuptools import setup; setup()'\"'\"');code = f.read().replace('\"'\"'\\r\\n'\"'\"', '\"'\"'\\n'\"'\"');f.close();exec(compile(code, __file__, '\"'\"'exec'\"'\"'))' egg_info --egg-base 'C:\\Users\\Riadh\\AppData\\Local\\Temp\\pip-pip-egg-info-xpng31r_'\n",
      "             cwd: C:\\Users\\Riadh\\AppData\\Local\\Temp\\pip-wheel-lapi3eqj\\distribute_72a4f59360914fed978be0f8eca78456\\\n",
      "        Complete output (10 lines):\n",
      "        Traceback (most recent call last):\n",
      "          File \"<string>\", line 1, in <module>\n",
      "          File \"C:\\Users\\Riadh\\AppData\\Local\\Temp\\pip-wheel-lapi3eqj\\distribute_72a4f59360914fed978be0f8eca78456\\setuptools\\__init__.py\", line 2, in <module>\n",
      "            from setuptools.extension import Extension, Library\n",
      "          File \"C:\\Users\\Riadh\\AppData\\Local\\Temp\\pip-wheel-lapi3eqj\\distribute_72a4f59360914fed978be0f8eca78456\\setuptools\\extension.py\", line 5, in <module>\n",
      "            from setuptools.dist import _get_unpatched\n",
      "          File \"C:\\Users\\Riadh\\AppData\\Local\\Temp\\pip-wheel-lapi3eqj\\distribute_72a4f59360914fed978be0f8eca78456\\setuptools\\dist.py\", line 103\n",
      "            except ValueError, e:\n",
      "                             ^\n",
      "        SyntaxError: invalid syntax\n",
      "        ----------------------------------------\n",
      "    WARNING: Discarding https://files.pythonhosted.org/packages/bc/a4/df58ee742593190e4c613f15f1457be7e8408d5c9432fb41e061e0e785f0/distribute-0.6.40.tar.gz#sha256=5e06a3097f4150b26e4de0d4f57dbe7425ac3645ce7a337abffab8489bc80daa (from https://pypi.org/simple/distribute/). Command errored out with exit status 1: python setup.py egg_info Check the logs for full command output.\n",
      "        ERROR: Command errored out with exit status 1:\n",
      "         command: 'C:\\Users\\Riadh\\.conda\\envs\\gee\\python.exe' -c 'import io, os, sys, setuptools, tokenize; sys.argv[0] = '\"'\"'C:\\\\Users\\\\Riadh\\\\AppData\\\\Local\\\\Temp\\\\pip-wheel-lapi3eqj\\\\distribute_98c883248f3b48fc9203877f4aab4898\\\\setup.py'\"'\"'; __file__='\"'\"'C:\\\\Users\\\\Riadh\\\\AppData\\\\Local\\\\Temp\\\\pip-wheel-lapi3eqj\\\\distribute_98c883248f3b48fc9203877f4aab4898\\\\setup.py'\"'\"';f = getattr(tokenize, '\"'\"'open'\"'\"', open)(__file__) if os.path.exists(__file__) else io.StringIO('\"'\"'from setuptools import setup; setup()'\"'\"');code = f.read().replace('\"'\"'\\r\\n'\"'\"', '\"'\"'\\n'\"'\"');f.close();exec(compile(code, __file__, '\"'\"'exec'\"'\"'))' egg_info --egg-base 'C:\\Users\\Riadh\\AppData\\Local\\Temp\\pip-pip-egg-info-uuj75fhq'\n",
      "             cwd: C:\\Users\\Riadh\\AppData\\Local\\Temp\\pip-wheel-lapi3eqj\\distribute_98c883248f3b48fc9203877f4aab4898\\\n",
      "        Complete output (10 lines):\n",
      "        Traceback (most recent call last):\n",
      "          File \"<string>\", line 1, in <module>\n",
      "          File \"C:\\Users\\Riadh\\AppData\\Local\\Temp\\pip-wheel-lapi3eqj\\distribute_98c883248f3b48fc9203877f4aab4898\\setuptools\\__init__.py\", line 2, in <module>\n",
      "            from setuptools.extension import Extension, Library\n",
      "          File \"C:\\Users\\Riadh\\AppData\\Local\\Temp\\pip-wheel-lapi3eqj\\distribute_98c883248f3b48fc9203877f4aab4898\\setuptools\\extension.py\", line 5, in <module>\n",
      "            from setuptools.dist import _get_unpatched\n",
      "          File \"C:\\Users\\Riadh\\AppData\\Local\\Temp\\pip-wheel-lapi3eqj\\distribute_98c883248f3b48fc9203877f4aab4898\\setuptools\\dist.py\", line 103\n",
      "            except ValueError, e:\n",
      "                             ^\n",
      "        SyntaxError: invalid syntax\n",
      "        ----------------------------------------\n",
      "    WARNING: Discarding https://files.pythonhosted.org/packages/f8/4e/3ca573ae5d3baf4e44fa98e5b9ec3c96bf09c869fd8e4a1ab1b47c7c6f32/distribute-0.6.39.zip#sha256=132a373c6ee22054011c9d7a869c6f3e7cfc95b06168d2a04416357b331a2def (from https://pypi.org/simple/distribute/). Command errored out with exit status 1: python setup.py egg_info Check the logs for full command output.\n",
      "        ERROR: Command errored out with exit status 1:\n",
      "         command: 'C:\\Users\\Riadh\\.conda\\envs\\gee\\python.exe' -c 'import io, os, sys, setuptools, tokenize; sys.argv[0] = '\"'\"'C:\\\\Users\\\\Riadh\\\\AppData\\\\Local\\\\Temp\\\\pip-wheel-lapi3eqj\\\\distribute_12abb47128d04ad393213784f2a0e3e9\\\\setup.py'\"'\"'; __file__='\"'\"'C:\\\\Users\\\\Riadh\\\\AppData\\\\Local\\\\Temp\\\\pip-wheel-lapi3eqj\\\\distribute_12abb47128d04ad393213784f2a0e3e9\\\\setup.py'\"'\"';f = getattr(tokenize, '\"'\"'open'\"'\"', open)(__file__) if os.path.exists(__file__) else io.StringIO('\"'\"'from setuptools import setup; setup()'\"'\"');code = f.read().replace('\"'\"'\\r\\n'\"'\"', '\"'\"'\\n'\"'\"');f.close();exec(compile(code, __file__, '\"'\"'exec'\"'\"'))' egg_info --egg-base 'C:\\Users\\Riadh\\AppData\\Local\\Temp\\pip-pip-egg-info-g8spwgzd'\n",
      "             cwd: C:\\Users\\Riadh\\AppData\\Local\\Temp\\pip-wheel-lapi3eqj\\distribute_12abb47128d04ad393213784f2a0e3e9\\\n",
      "        Complete output (10 lines):\n",
      "        Traceback (most recent call last):\n",
      "          File \"<string>\", line 1, in <module>\n",
      "          File \"C:\\Users\\Riadh\\AppData\\Local\\Temp\\pip-wheel-lapi3eqj\\distribute_12abb47128d04ad393213784f2a0e3e9\\setuptools\\__init__.py\", line 2, in <module>\n",
      "            from setuptools.extension import Extension, Library\n",
      "          File \"C:\\Users\\Riadh\\AppData\\Local\\Temp\\pip-wheel-lapi3eqj\\distribute_12abb47128d04ad393213784f2a0e3e9\\setuptools\\extension.py\", line 5, in <module>\n",
      "            from setuptools.dist import _get_unpatched\n",
      "          File \"C:\\Users\\Riadh\\AppData\\Local\\Temp\\pip-wheel-lapi3eqj\\distribute_12abb47128d04ad393213784f2a0e3e9\\setuptools\\dist.py\", line 103\n",
      "            except ValueError, e:\n",
      "                             ^\n",
      "        SyntaxError: invalid syntax\n",
      "        ----------------------------------------\n",
      "    WARNING: Discarding https://files.pythonhosted.org/packages/9a/6c/11f4686ac4305d23b43be59b4ce2cc2c10e00c639472300b13893a754bc7/distribute-0.6.39.tar.gz#sha256=77d0ca76247ab9217212a0c5c3062cac4002cdeb9e02ce6b39e8a3f5b7c296b4 (from https://pypi.org/simple/distribute/). Command errored out with exit status 1: python setup.py egg_info Check the logs for full command output.\n",
      "        ERROR: Command errored out with exit status 1:\n",
      "         command: 'C:\\Users\\Riadh\\.conda\\envs\\gee\\python.exe' -c 'import io, os, sys, setuptools, tokenize; sys.argv[0] = '\"'\"'C:\\\\Users\\\\Riadh\\\\AppData\\\\Local\\\\Temp\\\\pip-wheel-lapi3eqj\\\\distribute_2dbd8cb1f8d74e8f93f291482c7a9780\\\\setup.py'\"'\"'; __file__='\"'\"'C:\\\\Users\\\\Riadh\\\\AppData\\\\Local\\\\Temp\\\\pip-wheel-lapi3eqj\\\\distribute_2dbd8cb1f8d74e8f93f291482c7a9780\\\\setup.py'\"'\"';f = getattr(tokenize, '\"'\"'open'\"'\"', open)(__file__) if os.path.exists(__file__) else io.StringIO('\"'\"'from setuptools import setup; setup()'\"'\"');code = f.read().replace('\"'\"'\\r\\n'\"'\"', '\"'\"'\\n'\"'\"');f.close();exec(compile(code, __file__, '\"'\"'exec'\"'\"'))' egg_info --egg-base 'C:\\Users\\Riadh\\AppData\\Local\\Temp\\pip-pip-egg-info-ctzjoqz1'\n",
      "             cwd: C:\\Users\\Riadh\\AppData\\Local\\Temp\\pip-wheel-lapi3eqj\\distribute_2dbd8cb1f8d74e8f93f291482c7a9780\\\n",
      "        Complete output (10 lines):\n",
      "        Traceback (most recent call last):\n",
      "          File \"<string>\", line 1, in <module>\n",
      "          File \"C:\\Users\\Riadh\\AppData\\Local\\Temp\\pip-wheel-lapi3eqj\\distribute_2dbd8cb1f8d74e8f93f291482c7a9780\\setuptools\\__init__.py\", line 2, in <module>\n",
      "            from setuptools.extension import Extension, Library\n",
      "          File \"C:\\Users\\Riadh\\AppData\\Local\\Temp\\pip-wheel-lapi3eqj\\distribute_2dbd8cb1f8d74e8f93f291482c7a9780\\setuptools\\extension.py\", line 5, in <module>\n",
      "            from setuptools.dist import _get_unpatched\n",
      "          File \"C:\\Users\\Riadh\\AppData\\Local\\Temp\\pip-wheel-lapi3eqj\\distribute_2dbd8cb1f8d74e8f93f291482c7a9780\\setuptools\\dist.py\", line 103\n",
      "            except ValueError, e:\n",
      "                             ^\n",
      "        SyntaxError: invalid syntax\n",
      "        ----------------------------------------\n",
      "    WARNING: Discarding https://files.pythonhosted.org/packages/56/26/745b893435e3c34fa39ca40bec216b1eef82dfef2df2e155f8b56b6603d0/distribute-0.6.38.zip#sha256=122d45874a4cda46273c22031dc937f07eb850a9b882996261521427a8e8f1c2 (from https://pypi.org/simple/distribute/). Command errored out with exit status 1: python setup.py egg_info Check the logs for full command output.\n",
      "        ERROR: Command errored out with exit status 1:\n",
      "         command: 'C:\\Users\\Riadh\\.conda\\envs\\gee\\python.exe' -c 'import io, os, sys, setuptools, tokenize; sys.argv[0] = '\"'\"'C:\\\\Users\\\\Riadh\\\\AppData\\\\Local\\\\Temp\\\\pip-wheel-lapi3eqj\\\\distribute_31f2eb8d2a7842de981d40073b34a5c8\\\\setup.py'\"'\"'; __file__='\"'\"'C:\\\\Users\\\\Riadh\\\\AppData\\\\Local\\\\Temp\\\\pip-wheel-lapi3eqj\\\\distribute_31f2eb8d2a7842de981d40073b34a5c8\\\\setup.py'\"'\"';f = getattr(tokenize, '\"'\"'open'\"'\"', open)(__file__) if os.path.exists(__file__) else io.StringIO('\"'\"'from setuptools import setup; setup()'\"'\"');code = f.read().replace('\"'\"'\\r\\n'\"'\"', '\"'\"'\\n'\"'\"');f.close();exec(compile(code, __file__, '\"'\"'exec'\"'\"'))' egg_info --egg-base 'C:\\Users\\Riadh\\AppData\\Local\\Temp\\pip-pip-egg-info-9skmbvv_'\n",
      "             cwd: C:\\Users\\Riadh\\AppData\\Local\\Temp\\pip-wheel-lapi3eqj\\distribute_31f2eb8d2a7842de981d40073b34a5c8\\\n",
      "        Complete output (10 lines):\n",
      "        Traceback (most recent call last):\n",
      "          File \"<string>\", line 1, in <module>\n",
      "          File \"C:\\Users\\Riadh\\AppData\\Local\\Temp\\pip-wheel-lapi3eqj\\distribute_31f2eb8d2a7842de981d40073b34a5c8\\setuptools\\__init__.py\", line 2, in <module>\n",
      "            from setuptools.extension import Extension, Library\n",
      "          File \"C:\\Users\\Riadh\\AppData\\Local\\Temp\\pip-wheel-lapi3eqj\\distribute_31f2eb8d2a7842de981d40073b34a5c8\\setuptools\\extension.py\", line 5, in <module>\n",
      "            from setuptools.dist import _get_unpatched\n",
      "          File \"C:\\Users\\Riadh\\AppData\\Local\\Temp\\pip-wheel-lapi3eqj\\distribute_31f2eb8d2a7842de981d40073b34a5c8\\setuptools\\dist.py\", line 103\n",
      "            except ValueError, e:\n",
      "                             ^\n",
      "        SyntaxError: invalid syntax\n",
      "        ----------------------------------------\n",
      "    WARNING: Discarding https://files.pythonhosted.org/packages/44/24/f43cbc3b122aeb27405b4cb4e294535c1bab4c60c86d4846ab5657bfd528/distribute-0.6.38.tar.gz#sha256=e4805005a1983610aa86bf3affd034631163cf9f3caa7f958ae2705b26658229 (from https://pypi.org/simple/distribute/). Command errored out with exit status 1: python setup.py egg_info Check the logs for full command output.\n",
      "        ERROR: Command errored out with exit status 1:\n",
      "         command: 'C:\\Users\\Riadh\\.conda\\envs\\gee\\python.exe' -c 'import io, os, sys, setuptools, tokenize; sys.argv[0] = '\"'\"'C:\\\\Users\\\\Riadh\\\\AppData\\\\Local\\\\Temp\\\\pip-wheel-lapi3eqj\\\\distribute_80c9e050aee0467183b2de9291b5c7b4\\\\setup.py'\"'\"'; __file__='\"'\"'C:\\\\Users\\\\Riadh\\\\AppData\\\\Local\\\\Temp\\\\pip-wheel-lapi3eqj\\\\distribute_80c9e050aee0467183b2de9291b5c7b4\\\\setup.py'\"'\"';f = getattr(tokenize, '\"'\"'open'\"'\"', open)(__file__) if os.path.exists(__file__) else io.StringIO('\"'\"'from setuptools import setup; setup()'\"'\"');code = f.read().replace('\"'\"'\\r\\n'\"'\"', '\"'\"'\\n'\"'\"');f.close();exec(compile(code, __file__, '\"'\"'exec'\"'\"'))' egg_info --egg-base 'C:\\Users\\Riadh\\AppData\\Local\\Temp\\pip-pip-egg-info-vlqpnact'\n",
      "             cwd: C:\\Users\\Riadh\\AppData\\Local\\Temp\\pip-wheel-lapi3eqj\\distribute_80c9e050aee0467183b2de9291b5c7b4\\\n",
      "        Complete output (10 lines):\n",
      "        Traceback (most recent call last):\n",
      "          File \"<string>\", line 1, in <module>\n",
      "          File \"C:\\Users\\Riadh\\AppData\\Local\\Temp\\pip-wheel-lapi3eqj\\distribute_80c9e050aee0467183b2de9291b5c7b4\\setuptools\\__init__.py\", line 2, in <module>\n",
      "            from setuptools.extension import Extension, Library\n",
      "          File \"C:\\Users\\Riadh\\AppData\\Local\\Temp\\pip-wheel-lapi3eqj\\distribute_80c9e050aee0467183b2de9291b5c7b4\\setuptools\\extension.py\", line 5, in <module>\n",
      "            from setuptools.dist import _get_unpatched\n",
      "          File \"C:\\Users\\Riadh\\AppData\\Local\\Temp\\pip-wheel-lapi3eqj\\distribute_80c9e050aee0467183b2de9291b5c7b4\\setuptools\\dist.py\", line 103\n",
      "            except ValueError, e:\n",
      "                             ^\n",
      "        SyntaxError: invalid syntax\n",
      "        ----------------------------------------\n",
      "    WARNING: Discarding https://files.pythonhosted.org/packages/a9/1d/f8b2d90b9deb6072cd6af885b0d006bea3cc0749cbb45b6d6da9b4a8b682/distribute-0.6.37.zip#sha256=d6670be471d8158ceff28cfdfa5af77aeae38d0618c5eb0d8710eb8798a1372d (from https://pypi.org/simple/distribute/). Command errored out with exit status 1: python setup.py egg_info Check the logs for full command output.\n",
      "        ERROR: Command errored out with exit status 1:\n",
      "         command: 'C:\\Users\\Riadh\\.conda\\envs\\gee\\python.exe' -c 'import io, os, sys, setuptools, tokenize; sys.argv[0] = '\"'\"'C:\\\\Users\\\\Riadh\\\\AppData\\\\Local\\\\Temp\\\\pip-wheel-lapi3eqj\\\\distribute_7217d134033b4d71b2ce757fc99eaa31\\\\setup.py'\"'\"'; __file__='\"'\"'C:\\\\Users\\\\Riadh\\\\AppData\\\\Local\\\\Temp\\\\pip-wheel-lapi3eqj\\\\distribute_7217d134033b4d71b2ce757fc99eaa31\\\\setup.py'\"'\"';f = getattr(tokenize, '\"'\"'open'\"'\"', open)(__file__) if os.path.exists(__file__) else io.StringIO('\"'\"'from setuptools import setup; setup()'\"'\"');code = f.read().replace('\"'\"'\\r\\n'\"'\"', '\"'\"'\\n'\"'\"');f.close();exec(compile(code, __file__, '\"'\"'exec'\"'\"'))' egg_info --egg-base 'C:\\Users\\Riadh\\AppData\\Local\\Temp\\pip-pip-egg-info-vs9_5ii8'\n",
      "             cwd: C:\\Users\\Riadh\\AppData\\Local\\Temp\\pip-wheel-lapi3eqj\\distribute_7217d134033b4d71b2ce757fc99eaa31\\\n",
      "        Complete output (10 lines):\n",
      "        Traceback (most recent call last):\n",
      "          File \"<string>\", line 1, in <module>\n",
      "          File \"C:\\Users\\Riadh\\AppData\\Local\\Temp\\pip-wheel-lapi3eqj\\distribute_7217d134033b4d71b2ce757fc99eaa31\\setuptools\\__init__.py\", line 2, in <module>\n",
      "            from setuptools.extension import Extension, Library\n",
      "          File \"C:\\Users\\Riadh\\AppData\\Local\\Temp\\pip-wheel-lapi3eqj\\distribute_7217d134033b4d71b2ce757fc99eaa31\\setuptools\\extension.py\", line 5, in <module>\n",
      "            from setuptools.dist import _get_unpatched\n",
      "          File \"C:\\Users\\Riadh\\AppData\\Local\\Temp\\pip-wheel-lapi3eqj\\distribute_7217d134033b4d71b2ce757fc99eaa31\\setuptools\\dist.py\", line 103\n",
      "            except ValueError, e:\n",
      "                             ^\n",
      "        SyntaxError: invalid syntax\n",
      "        ----------------------------------------\n",
      "    WARNING: Discarding https://files.pythonhosted.org/packages/f3/36/3878909df1720f45ee0b9902e85a24db14542bde438523de10192421e582/distribute-0.6.37.tar.gz#sha256=5ad9d50eaf871ddda55f68165924124ad81bfd19fc4f0730f0a3a8ca190d58c6 (from https://pypi.org/simple/distribute/). Command errored out with exit status 1: python setup.py egg_info Check the logs for full command output.\n",
      "        ERROR: Command errored out with exit status 1:\n",
      "         command: 'C:\\Users\\Riadh\\.conda\\envs\\gee\\python.exe' -c 'import io, os, sys, setuptools, tokenize; sys.argv[0] = '\"'\"'C:\\\\Users\\\\Riadh\\\\AppData\\\\Local\\\\Temp\\\\pip-wheel-lapi3eqj\\\\distribute_ab8f8c81acbb4a72b2d569875c5ef924\\\\setup.py'\"'\"'; __file__='\"'\"'C:\\\\Users\\\\Riadh\\\\AppData\\\\Local\\\\Temp\\\\pip-wheel-lapi3eqj\\\\distribute_ab8f8c81acbb4a72b2d569875c5ef924\\\\setup.py'\"'\"';f = getattr(tokenize, '\"'\"'open'\"'\"', open)(__file__) if os.path.exists(__file__) else io.StringIO('\"'\"'from setuptools import setup; setup()'\"'\"');code = f.read().replace('\"'\"'\\r\\n'\"'\"', '\"'\"'\\n'\"'\"');f.close();exec(compile(code, __file__, '\"'\"'exec'\"'\"'))' egg_info --egg-base 'C:\\Users\\Riadh\\AppData\\Local\\Temp\\pip-pip-egg-info-2f2et8rq'\n",
      "             cwd: C:\\Users\\Riadh\\AppData\\Local\\Temp\\pip-wheel-lapi3eqj\\distribute_ab8f8c81acbb4a72b2d569875c5ef924\\\n",
      "        Complete output (10 lines):\n",
      "        Traceback (most recent call last):\n",
      "          File \"<string>\", line 1, in <module>\n",
      "          File \"C:\\Users\\Riadh\\AppData\\Local\\Temp\\pip-wheel-lapi3eqj\\distribute_ab8f8c81acbb4a72b2d569875c5ef924\\setuptools\\__init__.py\", line 2, in <module>\n",
      "            from setuptools.extension import Extension, Library\n",
      "          File \"C:\\Users\\Riadh\\AppData\\Local\\Temp\\pip-wheel-lapi3eqj\\distribute_ab8f8c81acbb4a72b2d569875c5ef924\\setuptools\\extension.py\", line 5, in <module>\n",
      "            from setuptools.dist import _get_unpatched\n",
      "          File \"C:\\Users\\Riadh\\AppData\\Local\\Temp\\pip-wheel-lapi3eqj\\distribute_ab8f8c81acbb4a72b2d569875c5ef924\\setuptools\\dist.py\", line 103\n",
      "            except ValueError, e:\n",
      "                             ^\n",
      "        SyntaxError: invalid syntax\n",
      "        ----------------------------------------\n",
      "    WARNING: Discarding https://files.pythonhosted.org/packages/b7/18/1faa307038d6a25a1e05ba1adfe9c67217e456bbacef5a9f0cc567da4ef3/distribute-0.6.36.zip#sha256=32b66b45daaf7a8e68895dbfb5457cf8d76b18ed14f0e92123ffdb4f56e70c65 (from https://pypi.org/simple/distribute/). Command errored out with exit status 1: python setup.py egg_info Check the logs for full command output.\n",
      "        ERROR: Command errored out with exit status 1:\n",
      "         command: 'C:\\Users\\Riadh\\.conda\\envs\\gee\\python.exe' -c 'import io, os, sys, setuptools, tokenize; sys.argv[0] = '\"'\"'C:\\\\Users\\\\Riadh\\\\AppData\\\\Local\\\\Temp\\\\pip-wheel-lapi3eqj\\\\distribute_bdb8739bd61d409fb1e69b6c46e8cfc0\\\\setup.py'\"'\"'; __file__='\"'\"'C:\\\\Users\\\\Riadh\\\\AppData\\\\Local\\\\Temp\\\\pip-wheel-lapi3eqj\\\\distribute_bdb8739bd61d409fb1e69b6c46e8cfc0\\\\setup.py'\"'\"';f = getattr(tokenize, '\"'\"'open'\"'\"', open)(__file__) if os.path.exists(__file__) else io.StringIO('\"'\"'from setuptools import setup; setup()'\"'\"');code = f.read().replace('\"'\"'\\r\\n'\"'\"', '\"'\"'\\n'\"'\"');f.close();exec(compile(code, __file__, '\"'\"'exec'\"'\"'))' egg_info --egg-base 'C:\\Users\\Riadh\\AppData\\Local\\Temp\\pip-pip-egg-info-33zdh43v'\n",
      "             cwd: C:\\Users\\Riadh\\AppData\\Local\\Temp\\pip-wheel-lapi3eqj\\distribute_bdb8739bd61d409fb1e69b6c46e8cfc0\\\n",
      "        Complete output (10 lines):\n",
      "        Traceback (most recent call last):\n",
      "          File \"<string>\", line 1, in <module>\n",
      "          File \"C:\\Users\\Riadh\\AppData\\Local\\Temp\\pip-wheel-lapi3eqj\\distribute_bdb8739bd61d409fb1e69b6c46e8cfc0\\setuptools\\__init__.py\", line 2, in <module>\n",
      "            from setuptools.extension import Extension, Library\n",
      "          File \"C:\\Users\\Riadh\\AppData\\Local\\Temp\\pip-wheel-lapi3eqj\\distribute_bdb8739bd61d409fb1e69b6c46e8cfc0\\setuptools\\extension.py\", line 5, in <module>\n",
      "            from setuptools.dist import _get_unpatched\n",
      "          File \"C:\\Users\\Riadh\\AppData\\Local\\Temp\\pip-wheel-lapi3eqj\\distribute_bdb8739bd61d409fb1e69b6c46e8cfc0\\setuptools\\dist.py\", line 103\n",
      "            except ValueError, e:\n",
      "                             ^\n",
      "        SyntaxError: invalid syntax\n",
      "        ----------------------------------------\n",
      "    WARNING: Discarding https://files.pythonhosted.org/packages/52/ae/96f7e82c38a5517dae71ae244e3cdcfadfdb3895987a1591b2d19d6f7a9b/distribute-0.6.36.tar.gz#sha256=2474f9d0706b476ce0e139195cc35b360adb665df968d74d3bab022003d54bc2 (from https://pypi.org/simple/distribute/). Command errored out with exit status 1: python setup.py egg_info Check the logs for full command output.\n",
      "        ERROR: Command errored out with exit status 1:\n",
      "         command: 'C:\\Users\\Riadh\\.conda\\envs\\gee\\python.exe' -c 'import io, os, sys, setuptools, tokenize; sys.argv[0] = '\"'\"'C:\\\\Users\\\\Riadh\\\\AppData\\\\Local\\\\Temp\\\\pip-wheel-lapi3eqj\\\\distribute_28334f304f57472e8a1d5636f452a713\\\\setup.py'\"'\"'; __file__='\"'\"'C:\\\\Users\\\\Riadh\\\\AppData\\\\Local\\\\Temp\\\\pip-wheel-lapi3eqj\\\\distribute_28334f304f57472e8a1d5636f452a713\\\\setup.py'\"'\"';f = getattr(tokenize, '\"'\"'open'\"'\"', open)(__file__) if os.path.exists(__file__) else io.StringIO('\"'\"'from setuptools import setup; setup()'\"'\"');code = f.read().replace('\"'\"'\\r\\n'\"'\"', '\"'\"'\\n'\"'\"');f.close();exec(compile(code, __file__, '\"'\"'exec'\"'\"'))' egg_info --egg-base 'C:\\Users\\Riadh\\AppData\\Local\\Temp\\pip-pip-egg-info-ps2olews'\n",
      "             cwd: C:\\Users\\Riadh\\AppData\\Local\\Temp\\pip-wheel-lapi3eqj\\distribute_28334f304f57472e8a1d5636f452a713\\\n",
      "        Complete output (10 lines):\n",
      "        Traceback (most recent call last):\n",
      "          File \"<string>\", line 1, in <module>\n",
      "          File \"C:\\Users\\Riadh\\AppData\\Local\\Temp\\pip-wheel-lapi3eqj\\distribute_28334f304f57472e8a1d5636f452a713\\setuptools\\__init__.py\", line 2, in <module>\n",
      "            from setuptools.extension import Extension, Library\n",
      "          File \"C:\\Users\\Riadh\\AppData\\Local\\Temp\\pip-wheel-lapi3eqj\\distribute_28334f304f57472e8a1d5636f452a713\\setuptools\\extension.py\", line 5, in <module>\n",
      "            from setuptools.dist import _get_unpatched\n",
      "          File \"C:\\Users\\Riadh\\AppData\\Local\\Temp\\pip-wheel-lapi3eqj\\distribute_28334f304f57472e8a1d5636f452a713\\setuptools\\dist.py\", line 103\n",
      "            except ValueError, e:\n",
      "                             ^\n",
      "        SyntaxError: invalid syntax\n",
      "        ----------------------------------------\n",
      "    WARNING: Discarding https://files.pythonhosted.org/packages/54/23/cdf26d55a4d5af062c49ea3d524729270452e23b726b007f11608539f3ae/distribute-0.6.35.zip#sha256=2c0a4ff54b51c2b6679400f8cbbb766e2d236eb9886acf526691a7c0cce368fe (from https://pypi.org/simple/distribute/). Command errored out with exit status 1: python setup.py egg_info Check the logs for full command output.\n",
      "        ERROR: Command errored out with exit status 1:\n",
      "         command: 'C:\\Users\\Riadh\\.conda\\envs\\gee\\python.exe' -c 'import io, os, sys, setuptools, tokenize; sys.argv[0] = '\"'\"'C:\\\\Users\\\\Riadh\\\\AppData\\\\Local\\\\Temp\\\\pip-wheel-lapi3eqj\\\\distribute_b134da42624a454bbe23d8609cd2c3c4\\\\setup.py'\"'\"'; __file__='\"'\"'C:\\\\Users\\\\Riadh\\\\AppData\\\\Local\\\\Temp\\\\pip-wheel-lapi3eqj\\\\distribute_b134da42624a454bbe23d8609cd2c3c4\\\\setup.py'\"'\"';f = getattr(tokenize, '\"'\"'open'\"'\"', open)(__file__) if os.path.exists(__file__) else io.StringIO('\"'\"'from setuptools import setup; setup()'\"'\"');code = f.read().replace('\"'\"'\\r\\n'\"'\"', '\"'\"'\\n'\"'\"');f.close();exec(compile(code, __file__, '\"'\"'exec'\"'\"'))' egg_info --egg-base 'C:\\Users\\Riadh\\AppData\\Local\\Temp\\pip-pip-egg-info-v_gqoy8z'\n",
      "             cwd: C:\\Users\\Riadh\\AppData\\Local\\Temp\\pip-wheel-lapi3eqj\\distribute_b134da42624a454bbe23d8609cd2c3c4\\\n",
      "        Complete output (10 lines):\n",
      "        Traceback (most recent call last):\n",
      "          File \"<string>\", line 1, in <module>\n",
      "          File \"C:\\Users\\Riadh\\AppData\\Local\\Temp\\pip-wheel-lapi3eqj\\distribute_b134da42624a454bbe23d8609cd2c3c4\\setuptools\\__init__.py\", line 2, in <module>\n",
      "            from setuptools.extension import Extension, Library\n",
      "          File \"C:\\Users\\Riadh\\AppData\\Local\\Temp\\pip-wheel-lapi3eqj\\distribute_b134da42624a454bbe23d8609cd2c3c4\\setuptools\\extension.py\", line 5, in <module>\n",
      "            from setuptools.dist import _get_unpatched\n",
      "          File \"C:\\Users\\Riadh\\AppData\\Local\\Temp\\pip-wheel-lapi3eqj\\distribute_b134da42624a454bbe23d8609cd2c3c4\\setuptools\\dist.py\", line 103\n",
      "            except ValueError, e:\n",
      "                             ^\n",
      "        SyntaxError: invalid syntax\n",
      "        ----------------------------------------\n",
      "    WARNING: Discarding https://files.pythonhosted.org/packages/e1/15/e61fd2df870382666ca800908b686932a3e1f603a9e80e93c2da7c71b2f0/distribute-0.6.35.tar.gz#sha256=7ee7ce926e15b0066c6d241e1ff271c30ff99b9ec7648699263d36967409e804 (from https://pypi.org/simple/distribute/). Command errored out with exit status 1: python setup.py egg_info Check the logs for full command output.\n",
      "        ERROR: Command errored out with exit status 1:\n",
      "         command: 'C:\\Users\\Riadh\\.conda\\envs\\gee\\python.exe' -c 'import io, os, sys, setuptools, tokenize; sys.argv[0] = '\"'\"'C:\\\\Users\\\\Riadh\\\\AppData\\\\Local\\\\Temp\\\\pip-wheel-lapi3eqj\\\\distribute_0fd17614b4584fc59868ea91cdcddcb1\\\\setup.py'\"'\"'; __file__='\"'\"'C:\\\\Users\\\\Riadh\\\\AppData\\\\Local\\\\Temp\\\\pip-wheel-lapi3eqj\\\\distribute_0fd17614b4584fc59868ea91cdcddcb1\\\\setup.py'\"'\"';f = getattr(tokenize, '\"'\"'open'\"'\"', open)(__file__) if os.path.exists(__file__) else io.StringIO('\"'\"'from setuptools import setup; setup()'\"'\"');code = f.read().replace('\"'\"'\\r\\n'\"'\"', '\"'\"'\\n'\"'\"');f.close();exec(compile(code, __file__, '\"'\"'exec'\"'\"'))' egg_info --egg-base 'C:\\Users\\Riadh\\AppData\\Local\\Temp\\pip-pip-egg-info-3comu8sv'\n",
      "             cwd: C:\\Users\\Riadh\\AppData\\Local\\Temp\\pip-wheel-lapi3eqj\\distribute_0fd17614b4584fc59868ea91cdcddcb1\\\n",
      "        Complete output (10 lines):\n",
      "        Traceback (most recent call last):\n",
      "          File \"<string>\", line 1, in <module>\n",
      "          File \"C:\\Users\\Riadh\\AppData\\Local\\Temp\\pip-wheel-lapi3eqj\\distribute_0fd17614b4584fc59868ea91cdcddcb1\\setuptools\\__init__.py\", line 2, in <module>\n",
      "            from setuptools.extension import Extension, Library\n",
      "          File \"C:\\Users\\Riadh\\AppData\\Local\\Temp\\pip-wheel-lapi3eqj\\distribute_0fd17614b4584fc59868ea91cdcddcb1\\setuptools\\extension.py\", line 5, in <module>\n",
      "            from setuptools.dist import _get_unpatched\n",
      "          File \"C:\\Users\\Riadh\\AppData\\Local\\Temp\\pip-wheel-lapi3eqj\\distribute_0fd17614b4584fc59868ea91cdcddcb1\\setuptools\\dist.py\", line 103\n",
      "            except ValueError, e:\n",
      "                             ^\n",
      "        SyntaxError: invalid syntax\n",
      "        ----------------------------------------\n",
      "    WARNING: Discarding https://files.pythonhosted.org/packages/f6/29/2e1d82c8859b0330be3aa6cae1040587768506c153742ef7b8feeb4e09cd/distribute-0.6.34.zip#sha256=8ffe1be0cde1d3d3a00823ff654d6c04b27d795693d59761bc7d5f6ea3de3f95 (from https://pypi.org/simple/distribute/). Command errored out with exit status 1: python setup.py egg_info Check the logs for full command output.\n",
      "        ERROR: Command errored out with exit status 1:\n",
      "         command: 'C:\\Users\\Riadh\\.conda\\envs\\gee\\python.exe' -c 'import io, os, sys, setuptools, tokenize; sys.argv[0] = '\"'\"'C:\\\\Users\\\\Riadh\\\\AppData\\\\Local\\\\Temp\\\\pip-wheel-lapi3eqj\\\\distribute_cc7adf4ccf7049f1b8e73f3351d33200\\\\setup.py'\"'\"'; __file__='\"'\"'C:\\\\Users\\\\Riadh\\\\AppData\\\\Local\\\\Temp\\\\pip-wheel-lapi3eqj\\\\distribute_cc7adf4ccf7049f1b8e73f3351d33200\\\\setup.py'\"'\"';f = getattr(tokenize, '\"'\"'open'\"'\"', open)(__file__) if os.path.exists(__file__) else io.StringIO('\"'\"'from setuptools import setup; setup()'\"'\"');code = f.read().replace('\"'\"'\\r\\n'\"'\"', '\"'\"'\\n'\"'\"');f.close();exec(compile(code, __file__, '\"'\"'exec'\"'\"'))' egg_info --egg-base 'C:\\Users\\Riadh\\AppData\\Local\\Temp\\pip-pip-egg-info-13i6xbbm'\n",
      "             cwd: C:\\Users\\Riadh\\AppData\\Local\\Temp\\pip-wheel-lapi3eqj\\distribute_cc7adf4ccf7049f1b8e73f3351d33200\\\n",
      "        Complete output (10 lines):\n",
      "        Traceback (most recent call last):\n",
      "          File \"<string>\", line 1, in <module>\n",
      "          File \"C:\\Users\\Riadh\\AppData\\Local\\Temp\\pip-wheel-lapi3eqj\\distribute_cc7adf4ccf7049f1b8e73f3351d33200\\setuptools\\__init__.py\", line 2, in <module>\n",
      "            from setuptools.extension import Extension, Library\n",
      "          File \"C:\\Users\\Riadh\\AppData\\Local\\Temp\\pip-wheel-lapi3eqj\\distribute_cc7adf4ccf7049f1b8e73f3351d33200\\setuptools\\extension.py\", line 5, in <module>\n",
      "            from setuptools.dist import _get_unpatched\n",
      "          File \"C:\\Users\\Riadh\\AppData\\Local\\Temp\\pip-wheel-lapi3eqj\\distribute_cc7adf4ccf7049f1b8e73f3351d33200\\setuptools\\dist.py\", line 103\n",
      "            except ValueError, e:\n",
      "                             ^\n",
      "        SyntaxError: invalid syntax\n",
      "        ----------------------------------------\n",
      "    WARNING: Discarding https://files.pythonhosted.org/packages/a2/f0/0d76f4f1e677509b5c09de2e86b7e98925730321779519eba924fa1b5199/distribute-0.6.34.tar.gz#sha256=1a82a50f448fd963c1efade437b9ace3c47bfdd9b168fcdba7fca140df4b364e (from https://pypi.org/simple/distribute/). Command errored out with exit status 1: python setup.py egg_info Check the logs for full command output.\n",
      "        ERROR: Command errored out with exit status 1:\n",
      "         command: 'C:\\Users\\Riadh\\.conda\\envs\\gee\\python.exe' -c 'import io, os, sys, setuptools, tokenize; sys.argv[0] = '\"'\"'C:\\\\Users\\\\Riadh\\\\AppData\\\\Local\\\\Temp\\\\pip-wheel-lapi3eqj\\\\distribute_563b10014e554497b77b82505ca6d26e\\\\setup.py'\"'\"'; __file__='\"'\"'C:\\\\Users\\\\Riadh\\\\AppData\\\\Local\\\\Temp\\\\pip-wheel-lapi3eqj\\\\distribute_563b10014e554497b77b82505ca6d26e\\\\setup.py'\"'\"';f = getattr(tokenize, '\"'\"'open'\"'\"', open)(__file__) if os.path.exists(__file__) else io.StringIO('\"'\"'from setuptools import setup; setup()'\"'\"');code = f.read().replace('\"'\"'\\r\\n'\"'\"', '\"'\"'\\n'\"'\"');f.close();exec(compile(code, __file__, '\"'\"'exec'\"'\"'))' egg_info --egg-base 'C:\\Users\\Riadh\\AppData\\Local\\Temp\\pip-pip-egg-info-2w_ji7f2'\n",
      "             cwd: C:\\Users\\Riadh\\AppData\\Local\\Temp\\pip-wheel-lapi3eqj\\distribute_563b10014e554497b77b82505ca6d26e\\\n",
      "        Complete output (10 lines):\n",
      "        Traceback (most recent call last):\n",
      "          File \"<string>\", line 1, in <module>\n",
      "          File \"C:\\Users\\Riadh\\AppData\\Local\\Temp\\pip-wheel-lapi3eqj\\distribute_563b10014e554497b77b82505ca6d26e\\setuptools\\__init__.py\", line 2, in <module>\n",
      "            from setuptools.extension import Extension, Library\n",
      "          File \"C:\\Users\\Riadh\\AppData\\Local\\Temp\\pip-wheel-lapi3eqj\\distribute_563b10014e554497b77b82505ca6d26e\\setuptools\\extension.py\", line 5, in <module>\n",
      "            from setuptools.dist import _get_unpatched\n",
      "          File \"C:\\Users\\Riadh\\AppData\\Local\\Temp\\pip-wheel-lapi3eqj\\distribute_563b10014e554497b77b82505ca6d26e\\setuptools\\dist.py\", line 103\n",
      "            except ValueError, e:\n",
      "                             ^\n",
      "        SyntaxError: invalid syntax\n",
      "        ----------------------------------------\n",
      "    WARNING: Discarding https://files.pythonhosted.org/packages/2f/f9/ed567c3db5635145b672e6e6b1021e64936028dee9460e520025d5185f80/distribute-0.6.33.zip#sha256=da0bd1a5f89549e324ad24f5050e3a992a4ba676bf7fa4abd0e3eaa896079990 (from https://pypi.org/simple/distribute/). Command errored out with exit status 1: python setup.py egg_info Check the logs for full command output.\n",
      "        ERROR: Command errored out with exit status 1:\n",
      "         command: 'C:\\Users\\Riadh\\.conda\\envs\\gee\\python.exe' -c 'import io, os, sys, setuptools, tokenize; sys.argv[0] = '\"'\"'C:\\\\Users\\\\Riadh\\\\AppData\\\\Local\\\\Temp\\\\pip-wheel-lapi3eqj\\\\distribute_1e1ac5fb4358445ab76b584079bcd212\\\\setup.py'\"'\"'; __file__='\"'\"'C:\\\\Users\\\\Riadh\\\\AppData\\\\Local\\\\Temp\\\\pip-wheel-lapi3eqj\\\\distribute_1e1ac5fb4358445ab76b584079bcd212\\\\setup.py'\"'\"';f = getattr(tokenize, '\"'\"'open'\"'\"', open)(__file__) if os.path.exists(__file__) else io.StringIO('\"'\"'from setuptools import setup; setup()'\"'\"');code = f.read().replace('\"'\"'\\r\\n'\"'\"', '\"'\"'\\n'\"'\"');f.close();exec(compile(code, __file__, '\"'\"'exec'\"'\"'))' egg_info --egg-base 'C:\\Users\\Riadh\\AppData\\Local\\Temp\\pip-pip-egg-info-kzr485p2'\n",
      "             cwd: C:\\Users\\Riadh\\AppData\\Local\\Temp\\pip-wheel-lapi3eqj\\distribute_1e1ac5fb4358445ab76b584079bcd212\\\n",
      "        Complete output (10 lines):\n",
      "        Traceback (most recent call last):\n",
      "          File \"<string>\", line 1, in <module>\n",
      "          File \"C:\\Users\\Riadh\\AppData\\Local\\Temp\\pip-wheel-lapi3eqj\\distribute_1e1ac5fb4358445ab76b584079bcd212\\setuptools\\__init__.py\", line 2, in <module>\n",
      "            from setuptools.extension import Extension, Library\n",
      "          File \"C:\\Users\\Riadh\\AppData\\Local\\Temp\\pip-wheel-lapi3eqj\\distribute_1e1ac5fb4358445ab76b584079bcd212\\setuptools\\extension.py\", line 5, in <module>\n",
      "            from setuptools.dist import _get_unpatched\n",
      "          File \"C:\\Users\\Riadh\\AppData\\Local\\Temp\\pip-wheel-lapi3eqj\\distribute_1e1ac5fb4358445ab76b584079bcd212\\setuptools\\dist.py\", line 103\n",
      "            except ValueError, e:\n",
      "                             ^\n",
      "        SyntaxError: invalid syntax\n",
      "        ----------------------------------------\n",
      "    WARNING: Discarding https://files.pythonhosted.org/packages/81/a1/cc2f93e485bda7132136ffb1874068a20e6e0aad77d6063b5a17efc2383a/distribute-0.6.33.tar.gz#sha256=52d9bf08ddd7598fea591434188577e59f06cbaa0fbd9cf31dd09b455c18433a (from https://pypi.org/simple/distribute/). Command errored out with exit status 1: python setup.py egg_info Check the logs for full command output.\n",
      "        ERROR: Command errored out with exit status 1:\n",
      "         command: 'C:\\Users\\Riadh\\.conda\\envs\\gee\\python.exe' -c 'import io, os, sys, setuptools, tokenize; sys.argv[0] = '\"'\"'C:\\\\Users\\\\Riadh\\\\AppData\\\\Local\\\\Temp\\\\pip-wheel-lapi3eqj\\\\distribute_9c59a13f0a774271b46fe18bb021bb51\\\\setup.py'\"'\"'; __file__='\"'\"'C:\\\\Users\\\\Riadh\\\\AppData\\\\Local\\\\Temp\\\\pip-wheel-lapi3eqj\\\\distribute_9c59a13f0a774271b46fe18bb021bb51\\\\setup.py'\"'\"';f = getattr(tokenize, '\"'\"'open'\"'\"', open)(__file__) if os.path.exists(__file__) else io.StringIO('\"'\"'from setuptools import setup; setup()'\"'\"');code = f.read().replace('\"'\"'\\r\\n'\"'\"', '\"'\"'\\n'\"'\"');f.close();exec(compile(code, __file__, '\"'\"'exec'\"'\"'))' egg_info --egg-base 'C:\\Users\\Riadh\\AppData\\Local\\Temp\\pip-pip-egg-info-3bnhqq6t'\n",
      "             cwd: C:\\Users\\Riadh\\AppData\\Local\\Temp\\pip-wheel-lapi3eqj\\distribute_9c59a13f0a774271b46fe18bb021bb51\\\n",
      "        Complete output (10 lines):\n",
      "        Traceback (most recent call last):\n",
      "          File \"<string>\", line 1, in <module>\n",
      "          File \"C:\\Users\\Riadh\\AppData\\Local\\Temp\\pip-wheel-lapi3eqj\\distribute_9c59a13f0a774271b46fe18bb021bb51\\setuptools\\__init__.py\", line 2, in <module>\n",
      "            from setuptools.extension import Extension, Library\n",
      "          File \"C:\\Users\\Riadh\\AppData\\Local\\Temp\\pip-wheel-lapi3eqj\\distribute_9c59a13f0a774271b46fe18bb021bb51\\setuptools\\extension.py\", line 5, in <module>\n",
      "            from setuptools.dist import _get_unpatched\n",
      "          File \"C:\\Users\\Riadh\\AppData\\Local\\Temp\\pip-wheel-lapi3eqj\\distribute_9c59a13f0a774271b46fe18bb021bb51\\setuptools\\dist.py\", line 103\n",
      "            except ValueError, e:\n",
      "                             ^\n",
      "        SyntaxError: invalid syntax\n",
      "        ----------------------------------------\n",
      "    WARNING: Discarding https://files.pythonhosted.org/packages/8d/a6/f82b8038bf9bf36e6a565891c596bcdd5c55ff6cbb32c2e3becc6d94080b/distribute-0.6.32.zip#sha256=64b73cd34379eff02ef08c2c398677916f66b93ca5bb13f5f6a49e5031e58ad2 (from https://pypi.org/simple/distribute/). Command errored out with exit status 1: python setup.py egg_info Check the logs for full command output.\n",
      "        ERROR: Command errored out with exit status 1:\n",
      "         command: 'C:\\Users\\Riadh\\.conda\\envs\\gee\\python.exe' -c 'import io, os, sys, setuptools, tokenize; sys.argv[0] = '\"'\"'C:\\\\Users\\\\Riadh\\\\AppData\\\\Local\\\\Temp\\\\pip-wheel-lapi3eqj\\\\distribute_e4423c27e4d745a8995017b7abf71d22\\\\setup.py'\"'\"'; __file__='\"'\"'C:\\\\Users\\\\Riadh\\\\AppData\\\\Local\\\\Temp\\\\pip-wheel-lapi3eqj\\\\distribute_e4423c27e4d745a8995017b7abf71d22\\\\setup.py'\"'\"';f = getattr(tokenize, '\"'\"'open'\"'\"', open)(__file__) if os.path.exists(__file__) else io.StringIO('\"'\"'from setuptools import setup; setup()'\"'\"');code = f.read().replace('\"'\"'\\r\\n'\"'\"', '\"'\"'\\n'\"'\"');f.close();exec(compile(code, __file__, '\"'\"'exec'\"'\"'))' egg_info --egg-base 'C:\\Users\\Riadh\\AppData\\Local\\Temp\\pip-pip-egg-info-6abz3a72'\n",
      "             cwd: C:\\Users\\Riadh\\AppData\\Local\\Temp\\pip-wheel-lapi3eqj\\distribute_e4423c27e4d745a8995017b7abf71d22\\\n",
      "        Complete output (10 lines):\n",
      "        Traceback (most recent call last):\n",
      "          File \"<string>\", line 1, in <module>\n",
      "          File \"C:\\Users\\Riadh\\AppData\\Local\\Temp\\pip-wheel-lapi3eqj\\distribute_e4423c27e4d745a8995017b7abf71d22\\setuptools\\__init__.py\", line 2, in <module>\n",
      "            from setuptools.extension import Extension, Library\n",
      "          File \"C:\\Users\\Riadh\\AppData\\Local\\Temp\\pip-wheel-lapi3eqj\\distribute_e4423c27e4d745a8995017b7abf71d22\\setuptools\\extension.py\", line 5, in <module>\n",
      "            from setuptools.dist import _get_unpatched\n",
      "          File \"C:\\Users\\Riadh\\AppData\\Local\\Temp\\pip-wheel-lapi3eqj\\distribute_e4423c27e4d745a8995017b7abf71d22\\setuptools\\dist.py\", line 103\n",
      "            except ValueError, e:\n",
      "                             ^\n",
      "        SyntaxError: invalid syntax\n",
      "        ----------------------------------------\n",
      "    WARNING: Discarding https://files.pythonhosted.org/packages/49/3f/d747add39a5fe4ceb910813c48d1c1564e40ab66f43ea41fd4ded884169a/distribute-0.6.32.tar.gz#sha256=8970cd1e148b5d1fea9430584aea66c45ea22d80e0933393ec49ebc388f718df (from https://pypi.org/simple/distribute/). Command errored out with exit status 1: python setup.py egg_info Check the logs for full command output.\n",
      "        ERROR: Command errored out with exit status 1:\n",
      "         command: 'C:\\Users\\Riadh\\.conda\\envs\\gee\\python.exe' -c 'import io, os, sys, setuptools, tokenize; sys.argv[0] = '\"'\"'C:\\\\Users\\\\Riadh\\\\AppData\\\\Local\\\\Temp\\\\pip-wheel-lapi3eqj\\\\distribute_039da7833c444773ab67277271e2deb2\\\\setup.py'\"'\"'; __file__='\"'\"'C:\\\\Users\\\\Riadh\\\\AppData\\\\Local\\\\Temp\\\\pip-wheel-lapi3eqj\\\\distribute_039da7833c444773ab67277271e2deb2\\\\setup.py'\"'\"';f = getattr(tokenize, '\"'\"'open'\"'\"', open)(__file__) if os.path.exists(__file__) else io.StringIO('\"'\"'from setuptools import setup; setup()'\"'\"');code = f.read().replace('\"'\"'\\r\\n'\"'\"', '\"'\"'\\n'\"'\"');f.close();exec(compile(code, __file__, '\"'\"'exec'\"'\"'))' egg_info --egg-base 'C:\\Users\\Riadh\\AppData\\Local\\Temp\\pip-pip-egg-info-kvdjwbyx'\n",
      "             cwd: C:\\Users\\Riadh\\AppData\\Local\\Temp\\pip-wheel-lapi3eqj\\distribute_039da7833c444773ab67277271e2deb2\\\n",
      "        Complete output (10 lines):\n",
      "        Traceback (most recent call last):\n",
      "          File \"<string>\", line 1, in <module>\n",
      "          File \"C:\\Users\\Riadh\\AppData\\Local\\Temp\\pip-wheel-lapi3eqj\\distribute_039da7833c444773ab67277271e2deb2\\setuptools\\__init__.py\", line 2, in <module>\n",
      "            from setuptools.extension import Extension, Library\n",
      "          File \"C:\\Users\\Riadh\\AppData\\Local\\Temp\\pip-wheel-lapi3eqj\\distribute_039da7833c444773ab67277271e2deb2\\setuptools\\extension.py\", line 5, in <module>\n",
      "            from setuptools.dist import _get_unpatched\n",
      "          File \"C:\\Users\\Riadh\\AppData\\Local\\Temp\\pip-wheel-lapi3eqj\\distribute_039da7833c444773ab67277271e2deb2\\setuptools\\dist.py\", line 103\n",
      "            except ValueError, e:\n",
      "                             ^\n",
      "        SyntaxError: invalid syntax\n",
      "        ----------------------------------------\n",
      "    WARNING: Discarding https://files.pythonhosted.org/packages/73/51/21de5f4ae97310e2d34e60e7f3100929e9c461776599fb7ff527fb3ecb47/distribute-0.6.31.zip#sha256=c07d115808a76d0edb93842ac6e1015216990f21125c8f0120daeac22951a2d7 (from https://pypi.org/simple/distribute/). Command errored out with exit status 1: python setup.py egg_info Check the logs for full command output.\n",
      "        ERROR: Command errored out with exit status 1:\n",
      "         command: 'C:\\Users\\Riadh\\.conda\\envs\\gee\\python.exe' -c 'import io, os, sys, setuptools, tokenize; sys.argv[0] = '\"'\"'C:\\\\Users\\\\Riadh\\\\AppData\\\\Local\\\\Temp\\\\pip-wheel-lapi3eqj\\\\distribute_a0f3fb136e7c4f888c87aeab2991f37f\\\\setup.py'\"'\"'; __file__='\"'\"'C:\\\\Users\\\\Riadh\\\\AppData\\\\Local\\\\Temp\\\\pip-wheel-lapi3eqj\\\\distribute_a0f3fb136e7c4f888c87aeab2991f37f\\\\setup.py'\"'\"';f = getattr(tokenize, '\"'\"'open'\"'\"', open)(__file__) if os.path.exists(__file__) else io.StringIO('\"'\"'from setuptools import setup; setup()'\"'\"');code = f.read().replace('\"'\"'\\r\\n'\"'\"', '\"'\"'\\n'\"'\"');f.close();exec(compile(code, __file__, '\"'\"'exec'\"'\"'))' egg_info --egg-base 'C:\\Users\\Riadh\\AppData\\Local\\Temp\\pip-pip-egg-info-vqhn9x7v'\n",
      "             cwd: C:\\Users\\Riadh\\AppData\\Local\\Temp\\pip-wheel-lapi3eqj\\distribute_a0f3fb136e7c4f888c87aeab2991f37f\\\n",
      "        Complete output (10 lines):\n",
      "        Traceback (most recent call last):\n",
      "          File \"<string>\", line 1, in <module>\n",
      "          File \"C:\\Users\\Riadh\\AppData\\Local\\Temp\\pip-wheel-lapi3eqj\\distribute_a0f3fb136e7c4f888c87aeab2991f37f\\setuptools\\__init__.py\", line 2, in <module>\n",
      "            from setuptools.extension import Extension, Library\n",
      "          File \"C:\\Users\\Riadh\\AppData\\Local\\Temp\\pip-wheel-lapi3eqj\\distribute_a0f3fb136e7c4f888c87aeab2991f37f\\setuptools\\extension.py\", line 5, in <module>\n",
      "            from setuptools.dist import _get_unpatched\n",
      "          File \"C:\\Users\\Riadh\\AppData\\Local\\Temp\\pip-wheel-lapi3eqj\\distribute_a0f3fb136e7c4f888c87aeab2991f37f\\setuptools\\dist.py\", line 103\n",
      "            except ValueError, e:\n",
      "                             ^\n",
      "        SyntaxError: invalid syntax\n",
      "        ----------------------------------------\n",
      "    WARNING: Discarding https://files.pythonhosted.org/packages/e7/da/2e0f7670f9f7dbe440f5673b5b18e896d7b85b4303d4281925176a12e6bc/distribute-0.6.31.tar.gz#sha256=9716293effc8d68068ce41e287b6903cf355641d0642b44e69dd92e9699dcbcf (from https://pypi.org/simple/distribute/). Command errored out with exit status 1: python setup.py egg_info Check the logs for full command output.\n",
      "        ERROR: Command errored out with exit status 1:\n",
      "         command: 'C:\\Users\\Riadh\\.conda\\envs\\gee\\python.exe' -c 'import io, os, sys, setuptools, tokenize; sys.argv[0] = '\"'\"'C:\\\\Users\\\\Riadh\\\\AppData\\\\Local\\\\Temp\\\\pip-wheel-lapi3eqj\\\\distribute_6b70b497cd1c44c5aba5f332be3fadcf\\\\setup.py'\"'\"'; __file__='\"'\"'C:\\\\Users\\\\Riadh\\\\AppData\\\\Local\\\\Temp\\\\pip-wheel-lapi3eqj\\\\distribute_6b70b497cd1c44c5aba5f332be3fadcf\\\\setup.py'\"'\"';f = getattr(tokenize, '\"'\"'open'\"'\"', open)(__file__) if os.path.exists(__file__) else io.StringIO('\"'\"'from setuptools import setup; setup()'\"'\"');code = f.read().replace('\"'\"'\\r\\n'\"'\"', '\"'\"'\\n'\"'\"');f.close();exec(compile(code, __file__, '\"'\"'exec'\"'\"'))' egg_info --egg-base 'C:\\Users\\Riadh\\AppData\\Local\\Temp\\pip-pip-egg-info-yqehohrp'\n",
      "             cwd: C:\\Users\\Riadh\\AppData\\Local\\Temp\\pip-wheel-lapi3eqj\\distribute_6b70b497cd1c44c5aba5f332be3fadcf\\\n",
      "        Complete output (10 lines):\n",
      "        Traceback (most recent call last):\n",
      "          File \"<string>\", line 1, in <module>\n",
      "          File \"C:\\Users\\Riadh\\AppData\\Local\\Temp\\pip-wheel-lapi3eqj\\distribute_6b70b497cd1c44c5aba5f332be3fadcf\\setuptools\\__init__.py\", line 2, in <module>\n",
      "            from setuptools.extension import Extension, Library\n",
      "          File \"C:\\Users\\Riadh\\AppData\\Local\\Temp\\pip-wheel-lapi3eqj\\distribute_6b70b497cd1c44c5aba5f332be3fadcf\\setuptools\\extension.py\", line 5, in <module>\n",
      "            from setuptools.dist import _get_unpatched\n",
      "          File \"C:\\Users\\Riadh\\AppData\\Local\\Temp\\pip-wheel-lapi3eqj\\distribute_6b70b497cd1c44c5aba5f332be3fadcf\\setuptools\\dist.py\", line 103\n",
      "            except ValueError, e:\n",
      "                             ^\n",
      "        SyntaxError: invalid syntax\n",
      "        ----------------------------------------\n",
      "    WARNING: Discarding https://files.pythonhosted.org/packages/e7/23/507064c9ee19ecab8783248273473cff1291bce2411f51459eba5109551a/distribute-0.6.30.zip#sha256=07a68008c9321369ea33136e9547bf330f1797764583226456e1511a32127527 (from https://pypi.org/simple/distribute/). Command errored out with exit status 1: python setup.py egg_info Check the logs for full command output.\n",
      "        ERROR: Command errored out with exit status 1:\n",
      "         command: 'C:\\Users\\Riadh\\.conda\\envs\\gee\\python.exe' -c 'import io, os, sys, setuptools, tokenize; sys.argv[0] = '\"'\"'C:\\\\Users\\\\Riadh\\\\AppData\\\\Local\\\\Temp\\\\pip-wheel-lapi3eqj\\\\distribute_7f55de21110e47b3ad0d2f9b3a8c297b\\\\setup.py'\"'\"'; __file__='\"'\"'C:\\\\Users\\\\Riadh\\\\AppData\\\\Local\\\\Temp\\\\pip-wheel-lapi3eqj\\\\distribute_7f55de21110e47b3ad0d2f9b3a8c297b\\\\setup.py'\"'\"';f = getattr(tokenize, '\"'\"'open'\"'\"', open)(__file__) if os.path.exists(__file__) else io.StringIO('\"'\"'from setuptools import setup; setup()'\"'\"');code = f.read().replace('\"'\"'\\r\\n'\"'\"', '\"'\"'\\n'\"'\"');f.close();exec(compile(code, __file__, '\"'\"'exec'\"'\"'))' egg_info --egg-base 'C:\\Users\\Riadh\\AppData\\Local\\Temp\\pip-pip-egg-info-ecdl8s71'\n",
      "             cwd: C:\\Users\\Riadh\\AppData\\Local\\Temp\\pip-wheel-lapi3eqj\\distribute_7f55de21110e47b3ad0d2f9b3a8c297b\\\n",
      "        Complete output (10 lines):\n",
      "        Traceback (most recent call last):\n",
      "          File \"<string>\", line 1, in <module>\n",
      "          File \"C:\\Users\\Riadh\\AppData\\Local\\Temp\\pip-wheel-lapi3eqj\\distribute_7f55de21110e47b3ad0d2f9b3a8c297b\\setuptools\\__init__.py\", line 2, in <module>\n",
      "            from setuptools.extension import Extension, Library\n",
      "          File \"C:\\Users\\Riadh\\AppData\\Local\\Temp\\pip-wheel-lapi3eqj\\distribute_7f55de21110e47b3ad0d2f9b3a8c297b\\setuptools\\extension.py\", line 5, in <module>\n",
      "            from setuptools.dist import _get_unpatched\n",
      "          File \"C:\\Users\\Riadh\\AppData\\Local\\Temp\\pip-wheel-lapi3eqj\\distribute_7f55de21110e47b3ad0d2f9b3a8c297b\\setuptools\\dist.py\", line 103\n",
      "            except ValueError, e:\n",
      "                             ^\n",
      "        SyntaxError: invalid syntax\n",
      "        ----------------------------------------\n",
      "    WARNING: Discarding https://files.pythonhosted.org/packages/d7/4b/a08384fdde2b86d0f88aa16df7b31326d90b7b3a9ff55acfa1c1c6b2c5be/distribute-0.6.30.tar.gz#sha256=7ff34c3a9a844ee881ff28efc5d1f74603b72e0a5235a9d6dc76e603149e8eab (from https://pypi.org/simple/distribute/). Command errored out with exit status 1: python setup.py egg_info Check the logs for full command output.\n",
      "        ERROR: Command errored out with exit status 1:\n",
      "         command: 'C:\\Users\\Riadh\\.conda\\envs\\gee\\python.exe' -c 'import io, os, sys, setuptools, tokenize; sys.argv[0] = '\"'\"'C:\\\\Users\\\\Riadh\\\\AppData\\\\Local\\\\Temp\\\\pip-wheel-lapi3eqj\\\\distribute_6d0c95110ce546acb9cf169f7c6f454f\\\\setup.py'\"'\"'; __file__='\"'\"'C:\\\\Users\\\\Riadh\\\\AppData\\\\Local\\\\Temp\\\\pip-wheel-lapi3eqj\\\\distribute_6d0c95110ce546acb9cf169f7c6f454f\\\\setup.py'\"'\"';f = getattr(tokenize, '\"'\"'open'\"'\"', open)(__file__) if os.path.exists(__file__) else io.StringIO('\"'\"'from setuptools import setup; setup()'\"'\"');code = f.read().replace('\"'\"'\\r\\n'\"'\"', '\"'\"'\\n'\"'\"');f.close();exec(compile(code, __file__, '\"'\"'exec'\"'\"'))' egg_info --egg-base 'C:\\Users\\Riadh\\AppData\\Local\\Temp\\pip-pip-egg-info-ce3te1i6'\n",
      "             cwd: C:\\Users\\Riadh\\AppData\\Local\\Temp\\pip-wheel-lapi3eqj\\distribute_6d0c95110ce546acb9cf169f7c6f454f\\\n",
      "        Complete output (10 lines):\n",
      "        Traceback (most recent call last):\n",
      "          File \"<string>\", line 1, in <module>\n",
      "          File \"C:\\Users\\Riadh\\AppData\\Local\\Temp\\pip-wheel-lapi3eqj\\distribute_6d0c95110ce546acb9cf169f7c6f454f\\setuptools\\__init__.py\", line 2, in <module>\n",
      "            from setuptools.extension import Extension, Library\n",
      "          File \"C:\\Users\\Riadh\\AppData\\Local\\Temp\\pip-wheel-lapi3eqj\\distribute_6d0c95110ce546acb9cf169f7c6f454f\\setuptools\\extension.py\", line 5, in <module>\n",
      "            from setuptools.dist import _get_unpatched\n",
      "          File \"C:\\Users\\Riadh\\AppData\\Local\\Temp\\pip-wheel-lapi3eqj\\distribute_6d0c95110ce546acb9cf169f7c6f454f\\setuptools\\dist.py\", line 103\n",
      "            except ValueError, e:\n",
      "                             ^\n",
      "        SyntaxError: invalid syntax\n",
      "        ----------------------------------------\n",
      "    WARNING: Discarding https://files.pythonhosted.org/packages/a5/9f/54f0d4cf1a29308ea6b64c4cc8b3f5a3378fc51420c4d66e6b6485e628e9/distribute-0.6.29.zip#sha256=fe32fe888ea39e8f8efae20b5a47880b52b1647c2d9b7b3031d12e7461764327 (from https://pypi.org/simple/distribute/). Command errored out with exit status 1: python setup.py egg_info Check the logs for full command output.\n",
      "        ERROR: Command errored out with exit status 1:\n",
      "         command: 'C:\\Users\\Riadh\\.conda\\envs\\gee\\python.exe' -c 'import io, os, sys, setuptools, tokenize; sys.argv[0] = '\"'\"'C:\\\\Users\\\\Riadh\\\\AppData\\\\Local\\\\Temp\\\\pip-wheel-lapi3eqj\\\\distribute_866186035d83466485f0b969349039d2\\\\setup.py'\"'\"'; __file__='\"'\"'C:\\\\Users\\\\Riadh\\\\AppData\\\\Local\\\\Temp\\\\pip-wheel-lapi3eqj\\\\distribute_866186035d83466485f0b969349039d2\\\\setup.py'\"'\"';f = getattr(tokenize, '\"'\"'open'\"'\"', open)(__file__) if os.path.exists(__file__) else io.StringIO('\"'\"'from setuptools import setup; setup()'\"'\"');code = f.read().replace('\"'\"'\\r\\n'\"'\"', '\"'\"'\\n'\"'\"');f.close();exec(compile(code, __file__, '\"'\"'exec'\"'\"'))' egg_info --egg-base 'C:\\Users\\Riadh\\AppData\\Local\\Temp\\pip-pip-egg-info-i76hxwzk'\n",
      "             cwd: C:\\Users\\Riadh\\AppData\\Local\\Temp\\pip-wheel-lapi3eqj\\distribute_866186035d83466485f0b969349039d2\\\n",
      "        Complete output (10 lines):\n",
      "        Traceback (most recent call last):\n",
      "          File \"<string>\", line 1, in <module>\n",
      "          File \"C:\\Users\\Riadh\\AppData\\Local\\Temp\\pip-wheel-lapi3eqj\\distribute_866186035d83466485f0b969349039d2\\setuptools\\__init__.py\", line 2, in <module>\n",
      "            from setuptools.extension import Extension, Library\n",
      "          File \"C:\\Users\\Riadh\\AppData\\Local\\Temp\\pip-wheel-lapi3eqj\\distribute_866186035d83466485f0b969349039d2\\setuptools\\extension.py\", line 5, in <module>\n",
      "            from setuptools.dist import _get_unpatched\n",
      "          File \"C:\\Users\\Riadh\\AppData\\Local\\Temp\\pip-wheel-lapi3eqj\\distribute_866186035d83466485f0b969349039d2\\setuptools\\dist.py\", line 103\n",
      "            except ValueError, e:\n",
      "                             ^\n",
      "        SyntaxError: invalid syntax\n",
      "        ----------------------------------------\n",
      "    WARNING: Discarding https://files.pythonhosted.org/packages/1d/72/fe1c1eb05445595be6b653d5b282d4687528d437d6f038bfb8e69f3afd01/distribute-0.6.29.tar.gz#sha256=2d74ee0360907f87e7125fe847ba541866777a1bc5315b4578bda06a4604544d (from https://pypi.org/simple/distribute/). Command errored out with exit status 1: python setup.py egg_info Check the logs for full command output.\n",
      "        ERROR: Command errored out with exit status 1:\n",
      "         command: 'C:\\Users\\Riadh\\.conda\\envs\\gee\\python.exe' -c 'import io, os, sys, setuptools, tokenize; sys.argv[0] = '\"'\"'C:\\\\Users\\\\Riadh\\\\AppData\\\\Local\\\\Temp\\\\pip-wheel-lapi3eqj\\\\distribute_84404d8a02ad4809a2e12bf9727ce81e\\\\setup.py'\"'\"'; __file__='\"'\"'C:\\\\Users\\\\Riadh\\\\AppData\\\\Local\\\\Temp\\\\pip-wheel-lapi3eqj\\\\distribute_84404d8a02ad4809a2e12bf9727ce81e\\\\setup.py'\"'\"';f = getattr(tokenize, '\"'\"'open'\"'\"', open)(__file__) if os.path.exists(__file__) else io.StringIO('\"'\"'from setuptools import setup; setup()'\"'\"');code = f.read().replace('\"'\"'\\r\\n'\"'\"', '\"'\"'\\n'\"'\"');f.close();exec(compile(code, __file__, '\"'\"'exec'\"'\"'))' egg_info --egg-base 'C:\\Users\\Riadh\\AppData\\Local\\Temp\\pip-pip-egg-info-ikp2w50l'\n",
      "             cwd: C:\\Users\\Riadh\\AppData\\Local\\Temp\\pip-wheel-lapi3eqj\\distribute_84404d8a02ad4809a2e12bf9727ce81e\\\n",
      "        Complete output (10 lines):\n",
      "        Traceback (most recent call last):\n",
      "          File \"<string>\", line 1, in <module>\n",
      "          File \"C:\\Users\\Riadh\\AppData\\Local\\Temp\\pip-wheel-lapi3eqj\\distribute_84404d8a02ad4809a2e12bf9727ce81e\\setuptools\\__init__.py\", line 2, in <module>\n",
      "            from setuptools.extension import Extension, Library\n",
      "          File \"C:\\Users\\Riadh\\AppData\\Local\\Temp\\pip-wheel-lapi3eqj\\distribute_84404d8a02ad4809a2e12bf9727ce81e\\setuptools\\extension.py\", line 5, in <module>\n",
      "            from setuptools.dist import _get_unpatched\n",
      "          File \"C:\\Users\\Riadh\\AppData\\Local\\Temp\\pip-wheel-lapi3eqj\\distribute_84404d8a02ad4809a2e12bf9727ce81e\\setuptools\\dist.py\", line 103\n",
      "            except ValueError, e:\n",
      "                             ^\n",
      "        SyntaxError: invalid syntax\n",
      "        ----------------------------------------\n",
      "    WARNING: Discarding https://files.pythonhosted.org/packages/cb/0e/a58066fc4059f5b0d7dafa484aac0fcf45180800059eaf69528857237f64/distribute-0.6.28.zip#sha256=d754b7b21be61816dfddbbda234b1039a7e4f5e921201cc7bfde2d2985ef72e4 (from https://pypi.org/simple/distribute/). Command errored out with exit status 1: python setup.py egg_info Check the logs for full command output.\n",
      "        ERROR: Command errored out with exit status 1:\n",
      "         command: 'C:\\Users\\Riadh\\.conda\\envs\\gee\\python.exe' -c 'import io, os, sys, setuptools, tokenize; sys.argv[0] = '\"'\"'C:\\\\Users\\\\Riadh\\\\AppData\\\\Local\\\\Temp\\\\pip-wheel-lapi3eqj\\\\distribute_2a121debe69149479559ba172c609c78\\\\setup.py'\"'\"'; __file__='\"'\"'C:\\\\Users\\\\Riadh\\\\AppData\\\\Local\\\\Temp\\\\pip-wheel-lapi3eqj\\\\distribute_2a121debe69149479559ba172c609c78\\\\setup.py'\"'\"';f = getattr(tokenize, '\"'\"'open'\"'\"', open)(__file__) if os.path.exists(__file__) else io.StringIO('\"'\"'from setuptools import setup; setup()'\"'\"');code = f.read().replace('\"'\"'\\r\\n'\"'\"', '\"'\"'\\n'\"'\"');f.close();exec(compile(code, __file__, '\"'\"'exec'\"'\"'))' egg_info --egg-base 'C:\\Users\\Riadh\\AppData\\Local\\Temp\\pip-pip-egg-info-ira587je'\n",
      "             cwd: C:\\Users\\Riadh\\AppData\\Local\\Temp\\pip-wheel-lapi3eqj\\distribute_2a121debe69149479559ba172c609c78\\\n",
      "        Complete output (10 lines):\n",
      "        Traceback (most recent call last):\n",
      "          File \"<string>\", line 1, in <module>\n",
      "          File \"C:\\Users\\Riadh\\AppData\\Local\\Temp\\pip-wheel-lapi3eqj\\distribute_2a121debe69149479559ba172c609c78\\setuptools\\__init__.py\", line 2, in <module>\n",
      "            from setuptools.extension import Extension, Library\n",
      "          File \"C:\\Users\\Riadh\\AppData\\Local\\Temp\\pip-wheel-lapi3eqj\\distribute_2a121debe69149479559ba172c609c78\\setuptools\\extension.py\", line 5, in <module>\n",
      "            from setuptools.dist import _get_unpatched\n",
      "          File \"C:\\Users\\Riadh\\AppData\\Local\\Temp\\pip-wheel-lapi3eqj\\distribute_2a121debe69149479559ba172c609c78\\setuptools\\dist.py\", line 103\n",
      "            except ValueError, e:\n",
      "                             ^\n",
      "        SyntaxError: invalid syntax\n",
      "        ----------------------------------------\n",
      "    WARNING: Discarding https://files.pythonhosted.org/packages/2f/f5/0ac674dd39ea80db147230362cff5e9cbe3b1e893fde9aeab5d2f72da83c/distribute-0.6.28.tar.gz#sha256=a42e897551aeb7600708f4aa6a0c02acb4458613976234b7d4fad7ae841a8d63 (from https://pypi.org/simple/distribute/). Command errored out with exit status 1: python setup.py egg_info Check the logs for full command output.\n",
      "        ERROR: Command errored out with exit status 1:\n",
      "         command: 'C:\\Users\\Riadh\\.conda\\envs\\gee\\python.exe' -c 'import io, os, sys, setuptools, tokenize; sys.argv[0] = '\"'\"'C:\\\\Users\\\\Riadh\\\\AppData\\\\Local\\\\Temp\\\\pip-wheel-lapi3eqj\\\\distribute_a33a28ae7ab34ab19605b396a84f8bbc\\\\setup.py'\"'\"'; __file__='\"'\"'C:\\\\Users\\\\Riadh\\\\AppData\\\\Local\\\\Temp\\\\pip-wheel-lapi3eqj\\\\distribute_a33a28ae7ab34ab19605b396a84f8bbc\\\\setup.py'\"'\"';f = getattr(tokenize, '\"'\"'open'\"'\"', open)(__file__) if os.path.exists(__file__) else io.StringIO('\"'\"'from setuptools import setup; setup()'\"'\"');code = f.read().replace('\"'\"'\\r\\n'\"'\"', '\"'\"'\\n'\"'\"');f.close();exec(compile(code, __file__, '\"'\"'exec'\"'\"'))' egg_info --egg-base 'C:\\Users\\Riadh\\AppData\\Local\\Temp\\pip-pip-egg-info-w1dhxjxy'\n",
      "             cwd: C:\\Users\\Riadh\\AppData\\Local\\Temp\\pip-wheel-lapi3eqj\\distribute_a33a28ae7ab34ab19605b396a84f8bbc\\\n",
      "        Complete output (10 lines):\n",
      "        Traceback (most recent call last):\n",
      "          File \"<string>\", line 1, in <module>\n",
      "          File \"C:\\Users\\Riadh\\AppData\\Local\\Temp\\pip-wheel-lapi3eqj\\distribute_a33a28ae7ab34ab19605b396a84f8bbc\\setuptools\\__init__.py\", line 2, in <module>\n",
      "            from setuptools.extension import Extension, Library\n",
      "          File \"C:\\Users\\Riadh\\AppData\\Local\\Temp\\pip-wheel-lapi3eqj\\distribute_a33a28ae7ab34ab19605b396a84f8bbc\\setuptools\\extension.py\", line 5, in <module>\n",
      "            from setuptools.dist import _get_unpatched\n",
      "          File \"C:\\Users\\Riadh\\AppData\\Local\\Temp\\pip-wheel-lapi3eqj\\distribute_a33a28ae7ab34ab19605b396a84f8bbc\\setuptools\\dist.py\", line 103\n",
      "            except ValueError, e:\n",
      "                             ^\n",
      "        SyntaxError: invalid syntax\n",
      "        ----------------------------------------\n",
      "    WARNING: Discarding https://files.pythonhosted.org/packages/8c/ce/7e1d6c0bb82683b74960f09651de2a536bc7b48ac74b54675bfb79cc27e2/distribute-0.6.27.zip#sha256=fd98fb9a36237271809533334535c369fe78a689f22ceedf8d6778f3b05a19ff (from https://pypi.org/simple/distribute/). Command errored out with exit status 1: python setup.py egg_info Check the logs for full command output.\n",
      "        ERROR: Command errored out with exit status 1:\n",
      "         command: 'C:\\Users\\Riadh\\.conda\\envs\\gee\\python.exe' -c 'import io, os, sys, setuptools, tokenize; sys.argv[0] = '\"'\"'C:\\\\Users\\\\Riadh\\\\AppData\\\\Local\\\\Temp\\\\pip-wheel-lapi3eqj\\\\distribute_4eba96d444df4973ad6e5bf22791a5fc\\\\setup.py'\"'\"'; __file__='\"'\"'C:\\\\Users\\\\Riadh\\\\AppData\\\\Local\\\\Temp\\\\pip-wheel-lapi3eqj\\\\distribute_4eba96d444df4973ad6e5bf22791a5fc\\\\setup.py'\"'\"';f = getattr(tokenize, '\"'\"'open'\"'\"', open)(__file__) if os.path.exists(__file__) else io.StringIO('\"'\"'from setuptools import setup; setup()'\"'\"');code = f.read().replace('\"'\"'\\r\\n'\"'\"', '\"'\"'\\n'\"'\"');f.close();exec(compile(code, __file__, '\"'\"'exec'\"'\"'))' egg_info --egg-base 'C:\\Users\\Riadh\\AppData\\Local\\Temp\\pip-pip-egg-info-kreg7639'\n",
      "             cwd: C:\\Users\\Riadh\\AppData\\Local\\Temp\\pip-wheel-lapi3eqj\\distribute_4eba96d444df4973ad6e5bf22791a5fc\\\n",
      "        Complete output (10 lines):\n",
      "        Traceback (most recent call last):\n",
      "          File \"<string>\", line 1, in <module>\n",
      "          File \"C:\\Users\\Riadh\\AppData\\Local\\Temp\\pip-wheel-lapi3eqj\\distribute_4eba96d444df4973ad6e5bf22791a5fc\\setuptools\\__init__.py\", line 2, in <module>\n",
      "            from setuptools.extension import Extension, Library\n",
      "          File \"C:\\Users\\Riadh\\AppData\\Local\\Temp\\pip-wheel-lapi3eqj\\distribute_4eba96d444df4973ad6e5bf22791a5fc\\setuptools\\extension.py\", line 5, in <module>\n",
      "            from setuptools.dist import _get_unpatched\n",
      "          File \"C:\\Users\\Riadh\\AppData\\Local\\Temp\\pip-wheel-lapi3eqj\\distribute_4eba96d444df4973ad6e5bf22791a5fc\\setuptools\\dist.py\", line 103\n",
      "            except ValueError, e:\n",
      "                             ^\n",
      "        SyntaxError: invalid syntax\n",
      "        ----------------------------------------\n",
      "    WARNING: Discarding https://files.pythonhosted.org/packages/33/cd/b81641625955e7f13d3a02b13176f7cc7becf96da5607c3283d14e2fa0a6/distribute-0.6.27.tar.gz#sha256=5d79e472ba49e5de17318a9c59b9adf5790ba6b186c6edc1657acd9afe55de00 (from https://pypi.org/simple/distribute/). Command errored out with exit status 1: python setup.py egg_info Check the logs for full command output.\n",
      "        ERROR: Command errored out with exit status 1:\n",
      "         command: 'C:\\Users\\Riadh\\.conda\\envs\\gee\\python.exe' -c 'import io, os, sys, setuptools, tokenize; sys.argv[0] = '\"'\"'C:\\\\Users\\\\Riadh\\\\AppData\\\\Local\\\\Temp\\\\pip-wheel-lapi3eqj\\\\distribute_973b95312e95403b9a1d2d2e29fcd70d\\\\setup.py'\"'\"'; __file__='\"'\"'C:\\\\Users\\\\Riadh\\\\AppData\\\\Local\\\\Temp\\\\pip-wheel-lapi3eqj\\\\distribute_973b95312e95403b9a1d2d2e29fcd70d\\\\setup.py'\"'\"';f = getattr(tokenize, '\"'\"'open'\"'\"', open)(__file__) if os.path.exists(__file__) else io.StringIO('\"'\"'from setuptools import setup; setup()'\"'\"');code = f.read().replace('\"'\"'\\r\\n'\"'\"', '\"'\"'\\n'\"'\"');f.close();exec(compile(code, __file__, '\"'\"'exec'\"'\"'))' egg_info --egg-base 'C:\\Users\\Riadh\\AppData\\Local\\Temp\\pip-pip-egg-info-1r3thrri'\n",
      "             cwd: C:\\Users\\Riadh\\AppData\\Local\\Temp\\pip-wheel-lapi3eqj\\distribute_973b95312e95403b9a1d2d2e29fcd70d\\\n",
      "        Complete output (10 lines):\n",
      "        Traceback (most recent call last):\n",
      "          File \"<string>\", line 1, in <module>\n",
      "          File \"C:\\Users\\Riadh\\AppData\\Local\\Temp\\pip-wheel-lapi3eqj\\distribute_973b95312e95403b9a1d2d2e29fcd70d\\setuptools\\__init__.py\", line 2, in <module>\n",
      "            from setuptools.extension import Extension, Library\n",
      "          File \"C:\\Users\\Riadh\\AppData\\Local\\Temp\\pip-wheel-lapi3eqj\\distribute_973b95312e95403b9a1d2d2e29fcd70d\\setuptools\\extension.py\", line 5, in <module>\n",
      "            from setuptools.dist import _get_unpatched\n",
      "          File \"C:\\Users\\Riadh\\AppData\\Local\\Temp\\pip-wheel-lapi3eqj\\distribute_973b95312e95403b9a1d2d2e29fcd70d\\setuptools\\dist.py\", line 103\n",
      "            except ValueError, e:\n",
      "                             ^\n",
      "        SyntaxError: invalid syntax\n",
      "        ----------------------------------------\n",
      "    WARNING: Discarding https://files.pythonhosted.org/packages/2c/be/b67877f2b48db5bbcf7b5e131a69c401753c9af9b4968254ff8bfc9e1ca7/distribute-0.6.26.zip#sha256=2f3551943f8a18ece8948711a6340fafc2e57c29d921e1e3ec0caf78878ff343 (from https://pypi.org/simple/distribute/). Command errored out with exit status 1: python setup.py egg_info Check the logs for full command output.\n",
      "        ERROR: Command errored out with exit status 1:\n",
      "         command: 'C:\\Users\\Riadh\\.conda\\envs\\gee\\python.exe' -c 'import io, os, sys, setuptools, tokenize; sys.argv[0] = '\"'\"'C:\\\\Users\\\\Riadh\\\\AppData\\\\Local\\\\Temp\\\\pip-wheel-lapi3eqj\\\\distribute_16e679002fc4409e941cd25332c3e129\\\\setup.py'\"'\"'; __file__='\"'\"'C:\\\\Users\\\\Riadh\\\\AppData\\\\Local\\\\Temp\\\\pip-wheel-lapi3eqj\\\\distribute_16e679002fc4409e941cd25332c3e129\\\\setup.py'\"'\"';f = getattr(tokenize, '\"'\"'open'\"'\"', open)(__file__) if os.path.exists(__file__) else io.StringIO('\"'\"'from setuptools import setup; setup()'\"'\"');code = f.read().replace('\"'\"'\\r\\n'\"'\"', '\"'\"'\\n'\"'\"');f.close();exec(compile(code, __file__, '\"'\"'exec'\"'\"'))' egg_info --egg-base 'C:\\Users\\Riadh\\AppData\\Local\\Temp\\pip-pip-egg-info-41xfuw5f'\n",
      "             cwd: C:\\Users\\Riadh\\AppData\\Local\\Temp\\pip-wheel-lapi3eqj\\distribute_16e679002fc4409e941cd25332c3e129\\\n",
      "        Complete output (10 lines):\n",
      "        Traceback (most recent call last):\n",
      "          File \"<string>\", line 1, in <module>\n",
      "          File \"C:\\Users\\Riadh\\AppData\\Local\\Temp\\pip-wheel-lapi3eqj\\distribute_16e679002fc4409e941cd25332c3e129\\setuptools\\__init__.py\", line 2, in <module>\n",
      "            from setuptools.extension import Extension, Library\n",
      "          File \"C:\\Users\\Riadh\\AppData\\Local\\Temp\\pip-wheel-lapi3eqj\\distribute_16e679002fc4409e941cd25332c3e129\\setuptools\\extension.py\", line 5, in <module>\n",
      "            from setuptools.dist import _get_unpatched\n",
      "          File \"C:\\Users\\Riadh\\AppData\\Local\\Temp\\pip-wheel-lapi3eqj\\distribute_16e679002fc4409e941cd25332c3e129\\setuptools\\dist.py\", line 103\n",
      "            except ValueError, e:\n",
      "                             ^\n",
      "        SyntaxError: invalid syntax\n",
      "        ----------------------------------------\n",
      "    WARNING: Discarding https://files.pythonhosted.org/packages/03/08/16815ba1e7d7dc21289c0ea89bffea4c34cc4d10979d2f3f64837ee51087/distribute-0.6.26.tar.gz#sha256=9c29c56dcbb0e88a12714071d0b64e1be2da805b650f9394e8c7c719b7675030 (from https://pypi.org/simple/distribute/). Command errored out with exit status 1: python setup.py egg_info Check the logs for full command output.\n",
      "        ERROR: Command errored out with exit status 1:\n",
      "         command: 'C:\\Users\\Riadh\\.conda\\envs\\gee\\python.exe' -c 'import io, os, sys, setuptools, tokenize; sys.argv[0] = '\"'\"'C:\\\\Users\\\\Riadh\\\\AppData\\\\Local\\\\Temp\\\\pip-wheel-lapi3eqj\\\\distribute_84edb89af2e04f2f85c913178d6304d1\\\\setup.py'\"'\"'; __file__='\"'\"'C:\\\\Users\\\\Riadh\\\\AppData\\\\Local\\\\Temp\\\\pip-wheel-lapi3eqj\\\\distribute_84edb89af2e04f2f85c913178d6304d1\\\\setup.py'\"'\"';f = getattr(tokenize, '\"'\"'open'\"'\"', open)(__file__) if os.path.exists(__file__) else io.StringIO('\"'\"'from setuptools import setup; setup()'\"'\"');code = f.read().replace('\"'\"'\\r\\n'\"'\"', '\"'\"'\\n'\"'\"');f.close();exec(compile(code, __file__, '\"'\"'exec'\"'\"'))' egg_info --egg-base 'C:\\Users\\Riadh\\AppData\\Local\\Temp\\pip-pip-egg-info-895kfg41'\n",
      "             cwd: C:\\Users\\Riadh\\AppData\\Local\\Temp\\pip-wheel-lapi3eqj\\distribute_84edb89af2e04f2f85c913178d6304d1\\\n",
      "        Complete output (10 lines):\n",
      "        Traceback (most recent call last):\n",
      "          File \"<string>\", line 1, in <module>\n",
      "          File \"C:\\Users\\Riadh\\AppData\\Local\\Temp\\pip-wheel-lapi3eqj\\distribute_84edb89af2e04f2f85c913178d6304d1\\setuptools\\__init__.py\", line 2, in <module>\n",
      "            from setuptools.extension import Extension, Library\n",
      "          File \"C:\\Users\\Riadh\\AppData\\Local\\Temp\\pip-wheel-lapi3eqj\\distribute_84edb89af2e04f2f85c913178d6304d1\\setuptools\\extension.py\", line 2, in <module>\n",
      "            from setuptools.dist import _get_unpatched\n",
      "          File \"C:\\Users\\Riadh\\AppData\\Local\\Temp\\pip-wheel-lapi3eqj\\distribute_84edb89af2e04f2f85c913178d6304d1\\setuptools\\dist.py\", line 103\n",
      "            except ValueError, e:\n",
      "                             ^\n",
      "        SyntaxError: invalid syntax\n",
      "        ----------------------------------------\n",
      "    WARNING: Discarding https://files.pythonhosted.org/packages/2a/e5/a20bb4e1abdf71985e9a67d56136b973b41ea295ba3e756f47ad1c54953d/distribute-0.6.25.zip#sha256=865a99ed213301c83396bc111c659ce6ffcd870417a6115d7e59271c74df1f2d (from https://pypi.org/simple/distribute/). Command errored out with exit status 1: python setup.py egg_info Check the logs for full command output.\n",
      "        ERROR: Command errored out with exit status 1:\n",
      "         command: 'C:\\Users\\Riadh\\.conda\\envs\\gee\\python.exe' -c 'import io, os, sys, setuptools, tokenize; sys.argv[0] = '\"'\"'C:\\\\Users\\\\Riadh\\\\AppData\\\\Local\\\\Temp\\\\pip-wheel-lapi3eqj\\\\distribute_4fbc13fd35594813bcf266cb914c3e30\\\\setup.py'\"'\"'; __file__='\"'\"'C:\\\\Users\\\\Riadh\\\\AppData\\\\Local\\\\Temp\\\\pip-wheel-lapi3eqj\\\\distribute_4fbc13fd35594813bcf266cb914c3e30\\\\setup.py'\"'\"';f = getattr(tokenize, '\"'\"'open'\"'\"', open)(__file__) if os.path.exists(__file__) else io.StringIO('\"'\"'from setuptools import setup; setup()'\"'\"');code = f.read().replace('\"'\"'\\r\\n'\"'\"', '\"'\"'\\n'\"'\"');f.close();exec(compile(code, __file__, '\"'\"'exec'\"'\"'))' egg_info --egg-base 'C:\\Users\\Riadh\\AppData\\Local\\Temp\\pip-pip-egg-info-fszvgvkt'\n",
      "             cwd: C:\\Users\\Riadh\\AppData\\Local\\Temp\\pip-wheel-lapi3eqj\\distribute_4fbc13fd35594813bcf266cb914c3e30\\\n",
      "        Complete output (10 lines):\n",
      "        Traceback (most recent call last):\n",
      "          File \"<string>\", line 1, in <module>\n",
      "          File \"C:\\Users\\Riadh\\AppData\\Local\\Temp\\pip-wheel-lapi3eqj\\distribute_4fbc13fd35594813bcf266cb914c3e30\\setuptools\\__init__.py\", line 2, in <module>\n",
      "            from setuptools.extension import Extension, Library\n",
      "          File \"C:\\Users\\Riadh\\AppData\\Local\\Temp\\pip-wheel-lapi3eqj\\distribute_4fbc13fd35594813bcf266cb914c3e30\\setuptools\\extension.py\", line 2, in <module>\n",
      "            from setuptools.dist import _get_unpatched\n",
      "          File \"C:\\Users\\Riadh\\AppData\\Local\\Temp\\pip-wheel-lapi3eqj\\distribute_4fbc13fd35594813bcf266cb914c3e30\\setuptools\\dist.py\", line 103\n",
      "            except ValueError, e:\n",
      "                             ^\n",
      "        SyntaxError: invalid syntax\n",
      "        ----------------------------------------\n",
      "    WARNING: Discarding https://files.pythonhosted.org/packages/60/63/3ed8905bef060a1654000d19d4d55ea56a87fb895bbad83d9c52cb024a50/distribute-0.6.25.tar.gz#sha256=ed11ff44b68b8dd274f11d7d5ca1659620be0620fb7dc305b3d39b0742788c31 (from https://pypi.org/simple/distribute/). Command errored out with exit status 1: python setup.py egg_info Check the logs for full command output.\n",
      "        ERROR: Command errored out with exit status 1:\n",
      "         command: 'C:\\Users\\Riadh\\.conda\\envs\\gee\\python.exe' -c 'import io, os, sys, setuptools, tokenize; sys.argv[0] = '\"'\"'C:\\\\Users\\\\Riadh\\\\AppData\\\\Local\\\\Temp\\\\pip-wheel-lapi3eqj\\\\distribute_ffc487f0330c4d19ad32ea2eff5f49fb\\\\setup.py'\"'\"'; __file__='\"'\"'C:\\\\Users\\\\Riadh\\\\AppData\\\\Local\\\\Temp\\\\pip-wheel-lapi3eqj\\\\distribute_ffc487f0330c4d19ad32ea2eff5f49fb\\\\setup.py'\"'\"';f = getattr(tokenize, '\"'\"'open'\"'\"', open)(__file__) if os.path.exists(__file__) else io.StringIO('\"'\"'from setuptools import setup; setup()'\"'\"');code = f.read().replace('\"'\"'\\r\\n'\"'\"', '\"'\"'\\n'\"'\"');f.close();exec(compile(code, __file__, '\"'\"'exec'\"'\"'))' egg_info --egg-base 'C:\\Users\\Riadh\\AppData\\Local\\Temp\\pip-pip-egg-info-p2yh5p5z'\n",
      "             cwd: C:\\Users\\Riadh\\AppData\\Local\\Temp\\pip-wheel-lapi3eqj\\distribute_ffc487f0330c4d19ad32ea2eff5f49fb\\\n",
      "        Complete output (10 lines):\n",
      "        Traceback (most recent call last):\n",
      "          File \"<string>\", line 1, in <module>\n",
      "          File \"C:\\Users\\Riadh\\AppData\\Local\\Temp\\pip-wheel-lapi3eqj\\distribute_ffc487f0330c4d19ad32ea2eff5f49fb\\setuptools\\__init__.py\", line 2, in <module>\n",
      "            from setuptools.extension import Extension, Library\n",
      "          File \"C:\\Users\\Riadh\\AppData\\Local\\Temp\\pip-wheel-lapi3eqj\\distribute_ffc487f0330c4d19ad32ea2eff5f49fb\\setuptools\\extension.py\", line 2, in <module>\n",
      "            from setuptools.dist import _get_unpatched\n",
      "          File \"C:\\Users\\Riadh\\AppData\\Local\\Temp\\pip-wheel-lapi3eqj\\distribute_ffc487f0330c4d19ad32ea2eff5f49fb\\setuptools\\dist.py\", line 103\n",
      "            except ValueError, e:\n",
      "                             ^\n",
      "        SyntaxError: invalid syntax\n",
      "        ----------------------------------------\n",
      "    WARNING: Discarding https://files.pythonhosted.org/packages/af/1e/ebca61f90d9edb8088e5c4363a05279e572ac42ffae20229ce6af303cb8f/distribute-0.6.24.zip#sha256=2f172188e1d50ed9f541b6317ba08e3028a1bdb286c55a1d36fedc717c0b4695 (from https://pypi.org/simple/distribute/). Command errored out with exit status 1: python setup.py egg_info Check the logs for full command output.\n",
      "        ERROR: Command errored out with exit status 1:\n",
      "         command: 'C:\\Users\\Riadh\\.conda\\envs\\gee\\python.exe' -c 'import io, os, sys, setuptools, tokenize; sys.argv[0] = '\"'\"'C:\\\\Users\\\\Riadh\\\\AppData\\\\Local\\\\Temp\\\\pip-wheel-lapi3eqj\\\\distribute_06335b7df6a74334a6a004d200cb9e09\\\\setup.py'\"'\"'; __file__='\"'\"'C:\\\\Users\\\\Riadh\\\\AppData\\\\Local\\\\Temp\\\\pip-wheel-lapi3eqj\\\\distribute_06335b7df6a74334a6a004d200cb9e09\\\\setup.py'\"'\"';f = getattr(tokenize, '\"'\"'open'\"'\"', open)(__file__) if os.path.exists(__file__) else io.StringIO('\"'\"'from setuptools import setup; setup()'\"'\"');code = f.read().replace('\"'\"'\\r\\n'\"'\"', '\"'\"'\\n'\"'\"');f.close();exec(compile(code, __file__, '\"'\"'exec'\"'\"'))' egg_info --egg-base 'C:\\Users\\Riadh\\AppData\\Local\\Temp\\pip-pip-egg-info-56zbn37h'\n",
      "             cwd: C:\\Users\\Riadh\\AppData\\Local\\Temp\\pip-wheel-lapi3eqj\\distribute_06335b7df6a74334a6a004d200cb9e09\\\n",
      "        Complete output (10 lines):\n",
      "        Traceback (most recent call last):\n",
      "          File \"<string>\", line 1, in <module>\n",
      "          File \"C:\\Users\\Riadh\\AppData\\Local\\Temp\\pip-wheel-lapi3eqj\\distribute_06335b7df6a74334a6a004d200cb9e09\\setuptools\\__init__.py\", line 2, in <module>\n",
      "            from setuptools.extension import Extension, Library\n",
      "          File \"C:\\Users\\Riadh\\AppData\\Local\\Temp\\pip-wheel-lapi3eqj\\distribute_06335b7df6a74334a6a004d200cb9e09\\setuptools\\extension.py\", line 2, in <module>\n",
      "            from setuptools.dist import _get_unpatched\n",
      "          File \"C:\\Users\\Riadh\\AppData\\Local\\Temp\\pip-wheel-lapi3eqj\\distribute_06335b7df6a74334a6a004d200cb9e09\\setuptools\\dist.py\", line 103\n",
      "            except ValueError, e:\n",
      "                             ^\n",
      "        SyntaxError: invalid syntax\n",
      "        ----------------------------------------\n",
      "    WARNING: Discarding https://files.pythonhosted.org/packages/8a/4f/49f801acde031de47223a7541763b2f5ccedf88cb001694b0d3570e9dc15/distribute-0.6.24.tar.gz#sha256=c61fde9f388c9600eb8ee54bd7168039c5fb74fa334138bc49cdf6a6c1341627 (from https://pypi.org/simple/distribute/). Command errored out with exit status 1: python setup.py egg_info Check the logs for full command output.\n",
      "        ERROR: Command errored out with exit status 1:\n",
      "         command: 'C:\\Users\\Riadh\\.conda\\envs\\gee\\python.exe' -c 'import io, os, sys, setuptools, tokenize; sys.argv[0] = '\"'\"'C:\\\\Users\\\\Riadh\\\\AppData\\\\Local\\\\Temp\\\\pip-wheel-lapi3eqj\\\\distribute_2f4afa16412d4500a29936aa9abe79fd\\\\setup.py'\"'\"'; __file__='\"'\"'C:\\\\Users\\\\Riadh\\\\AppData\\\\Local\\\\Temp\\\\pip-wheel-lapi3eqj\\\\distribute_2f4afa16412d4500a29936aa9abe79fd\\\\setup.py'\"'\"';f = getattr(tokenize, '\"'\"'open'\"'\"', open)(__file__) if os.path.exists(__file__) else io.StringIO('\"'\"'from setuptools import setup; setup()'\"'\"');code = f.read().replace('\"'\"'\\r\\n'\"'\"', '\"'\"'\\n'\"'\"');f.close();exec(compile(code, __file__, '\"'\"'exec'\"'\"'))' egg_info --egg-base 'C:\\Users\\Riadh\\AppData\\Local\\Temp\\pip-pip-egg-info-loxujtm1'\n",
      "             cwd: C:\\Users\\Riadh\\AppData\\Local\\Temp\\pip-wheel-lapi3eqj\\distribute_2f4afa16412d4500a29936aa9abe79fd\\\n",
      "        Complete output (10 lines):\n",
      "        Traceback (most recent call last):\n",
      "          File \"<string>\", line 1, in <module>\n",
      "          File \"C:\\Users\\Riadh\\AppData\\Local\\Temp\\pip-wheel-lapi3eqj\\distribute_2f4afa16412d4500a29936aa9abe79fd\\setuptools\\__init__.py\", line 2, in <module>\n",
      "            from setuptools.extension import Extension, Library\n",
      "          File \"C:\\Users\\Riadh\\AppData\\Local\\Temp\\pip-wheel-lapi3eqj\\distribute_2f4afa16412d4500a29936aa9abe79fd\\setuptools\\extension.py\", line 2, in <module>\n",
      "            from setuptools.dist import _get_unpatched\n",
      "          File \"C:\\Users\\Riadh\\AppData\\Local\\Temp\\pip-wheel-lapi3eqj\\distribute_2f4afa16412d4500a29936aa9abe79fd\\setuptools\\dist.py\", line 103\n",
      "            except ValueError, e:\n",
      "                             ^\n",
      "        SyntaxError: invalid syntax\n",
      "        ----------------------------------------\n",
      "    WARNING: Discarding https://files.pythonhosted.org/packages/64/4d/2e651f25c2feda7bbde61ce8584055a41d3a4d38fd0a83a2ec1a0ed4662c/distribute-0.6.21.zip#sha256=66cfd8f068da36fa5fb932968ab0378fe5716a7bd7c84016273a160fb07fa3e3 (from https://pypi.org/simple/distribute/). Command errored out with exit status 1: python setup.py egg_info Check the logs for full command output.\n",
      "        ERROR: Command errored out with exit status 1:\n",
      "         command: 'C:\\Users\\Riadh\\.conda\\envs\\gee\\python.exe' -c 'import io, os, sys, setuptools, tokenize; sys.argv[0] = '\"'\"'C:\\\\Users\\\\Riadh\\\\AppData\\\\Local\\\\Temp\\\\pip-wheel-lapi3eqj\\\\distribute_ce1013a376e0433cac2870ff0abd9361\\\\setup.py'\"'\"'; __file__='\"'\"'C:\\\\Users\\\\Riadh\\\\AppData\\\\Local\\\\Temp\\\\pip-wheel-lapi3eqj\\\\distribute_ce1013a376e0433cac2870ff0abd9361\\\\setup.py'\"'\"';f = getattr(tokenize, '\"'\"'open'\"'\"', open)(__file__) if os.path.exists(__file__) else io.StringIO('\"'\"'from setuptools import setup; setup()'\"'\"');code = f.read().replace('\"'\"'\\r\\n'\"'\"', '\"'\"'\\n'\"'\"');f.close();exec(compile(code, __file__, '\"'\"'exec'\"'\"'))' egg_info --egg-base 'C:\\Users\\Riadh\\AppData\\Local\\Temp\\pip-pip-egg-info-kem9gneo'\n",
      "             cwd: C:\\Users\\Riadh\\AppData\\Local\\Temp\\pip-wheel-lapi3eqj\\distribute_ce1013a376e0433cac2870ff0abd9361\\\n",
      "        Complete output (10 lines):\n",
      "        Traceback (most recent call last):\n",
      "          File \"<string>\", line 1, in <module>\n",
      "          File \"C:\\Users\\Riadh\\AppData\\Local\\Temp\\pip-wheel-lapi3eqj\\distribute_ce1013a376e0433cac2870ff0abd9361\\setuptools\\__init__.py\", line 2, in <module>\n",
      "            from setuptools.extension import Extension, Library\n",
      "          File \"C:\\Users\\Riadh\\AppData\\Local\\Temp\\pip-wheel-lapi3eqj\\distribute_ce1013a376e0433cac2870ff0abd9361\\setuptools\\extension.py\", line 2, in <module>\n",
      "            from setuptools.dist import _get_unpatched\n",
      "          File \"C:\\Users\\Riadh\\AppData\\Local\\Temp\\pip-wheel-lapi3eqj\\distribute_ce1013a376e0433cac2870ff0abd9361\\setuptools\\dist.py\", line 103\n",
      "            except ValueError, e:\n",
      "                             ^\n",
      "        SyntaxError: invalid syntax\n",
      "        ----------------------------------------\n",
      "    WARNING: Discarding https://files.pythonhosted.org/packages/77/b5/c12c3b72749402550bbfdbc7865c6e9fee3293379096305029ee8be34126/distribute-0.6.21.tar.gz#sha256=5701c39864ac17d17b66aceca4ea3c92a8b9ab63d593ac491a2455d3de3e53b9 (from https://pypi.org/simple/distribute/). Command errored out with exit status 1: python setup.py egg_info Check the logs for full command output.\n",
      "        ERROR: Command errored out with exit status 1:\n",
      "         command: 'C:\\Users\\Riadh\\.conda\\envs\\gee\\python.exe' -c 'import io, os, sys, setuptools, tokenize; sys.argv[0] = '\"'\"'C:\\\\Users\\\\Riadh\\\\AppData\\\\Local\\\\Temp\\\\pip-wheel-lapi3eqj\\\\distribute_d7ec0b97975249ec850a6949f5109ff5\\\\setup.py'\"'\"'; __file__='\"'\"'C:\\\\Users\\\\Riadh\\\\AppData\\\\Local\\\\Temp\\\\pip-wheel-lapi3eqj\\\\distribute_d7ec0b97975249ec850a6949f5109ff5\\\\setup.py'\"'\"';f = getattr(tokenize, '\"'\"'open'\"'\"', open)(__file__) if os.path.exists(__file__) else io.StringIO('\"'\"'from setuptools import setup; setup()'\"'\"');code = f.read().replace('\"'\"'\\r\\n'\"'\"', '\"'\"'\\n'\"'\"');f.close();exec(compile(code, __file__, '\"'\"'exec'\"'\"'))' egg_info --egg-base 'C:\\Users\\Riadh\\AppData\\Local\\Temp\\pip-pip-egg-info-xmkb1oqo'\n",
      "             cwd: C:\\Users\\Riadh\\AppData\\Local\\Temp\\pip-wheel-lapi3eqj\\distribute_d7ec0b97975249ec850a6949f5109ff5\\\n",
      "        Complete output (10 lines):\n",
      "        Traceback (most recent call last):\n",
      "          File \"<string>\", line 1, in <module>\n",
      "          File \"C:\\Users\\Riadh\\AppData\\Local\\Temp\\pip-wheel-lapi3eqj\\distribute_d7ec0b97975249ec850a6949f5109ff5\\setuptools\\__init__.py\", line 2, in <module>\n",
      "            from setuptools.extension import Extension, Library\n",
      "          File \"C:\\Users\\Riadh\\AppData\\Local\\Temp\\pip-wheel-lapi3eqj\\distribute_d7ec0b97975249ec850a6949f5109ff5\\setuptools\\extension.py\", line 2, in <module>\n",
      "            from setuptools.dist import _get_unpatched\n",
      "          File \"C:\\Users\\Riadh\\AppData\\Local\\Temp\\pip-wheel-lapi3eqj\\distribute_d7ec0b97975249ec850a6949f5109ff5\\setuptools\\dist.py\", line 103\n",
      "            except ValueError, e:\n",
      "                             ^\n",
      "        SyntaxError: invalid syntax\n",
      "        ----------------------------------------\n",
      "    WARNING: Discarding https://files.pythonhosted.org/packages/fd/38/c1df29e89485ed854db98cbf89cae131244ae5624da622425f59c2fc1b7a/distribute-0.6.20.zip#sha256=c9975d1e6ec2c73fc84440586989bf62c29ea0f8c0cade30b8b840590deb6696 (from https://pypi.org/simple/distribute/). Command errored out with exit status 1: python setup.py egg_info Check the logs for full command output.\n",
      "        ERROR: Command errored out with exit status 1:\n",
      "         command: 'C:\\Users\\Riadh\\.conda\\envs\\gee\\python.exe' -c 'import io, os, sys, setuptools, tokenize; sys.argv[0] = '\"'\"'C:\\\\Users\\\\Riadh\\\\AppData\\\\Local\\\\Temp\\\\pip-wheel-lapi3eqj\\\\distribute_049426dbf4604060a8cff79099164d71\\\\setup.py'\"'\"'; __file__='\"'\"'C:\\\\Users\\\\Riadh\\\\AppData\\\\Local\\\\Temp\\\\pip-wheel-lapi3eqj\\\\distribute_049426dbf4604060a8cff79099164d71\\\\setup.py'\"'\"';f = getattr(tokenize, '\"'\"'open'\"'\"', open)(__file__) if os.path.exists(__file__) else io.StringIO('\"'\"'from setuptools import setup; setup()'\"'\"');code = f.read().replace('\"'\"'\\r\\n'\"'\"', '\"'\"'\\n'\"'\"');f.close();exec(compile(code, __file__, '\"'\"'exec'\"'\"'))' egg_info --egg-base 'C:\\Users\\Riadh\\AppData\\Local\\Temp\\pip-pip-egg-info-v6pzya0s'\n",
      "             cwd: C:\\Users\\Riadh\\AppData\\Local\\Temp\\pip-wheel-lapi3eqj\\distribute_049426dbf4604060a8cff79099164d71\\\n",
      "        Complete output (10 lines):\n",
      "        Traceback (most recent call last):\n",
      "          File \"<string>\", line 1, in <module>\n",
      "          File \"C:\\Users\\Riadh\\AppData\\Local\\Temp\\pip-wheel-lapi3eqj\\distribute_049426dbf4604060a8cff79099164d71\\setuptools\\__init__.py\", line 2, in <module>\n",
      "            from setuptools.extension import Extension, Library\n",
      "          File \"C:\\Users\\Riadh\\AppData\\Local\\Temp\\pip-wheel-lapi3eqj\\distribute_049426dbf4604060a8cff79099164d71\\setuptools\\extension.py\", line 2, in <module>\n",
      "            from setuptools.dist import _get_unpatched\n",
      "          File \"C:\\Users\\Riadh\\AppData\\Local\\Temp\\pip-wheel-lapi3eqj\\distribute_049426dbf4604060a8cff79099164d71\\setuptools\\dist.py\", line 103\n",
      "            except ValueError, e:\n",
      "                             ^\n",
      "        SyntaxError: invalid syntax\n",
      "        ----------------------------------------\n",
      "    WARNING: Discarding https://files.pythonhosted.org/packages/ff/1b/ea2ba1b02f2ed1f80d81db35335f14480648f1f0d20be3094dbf75ff68e1/distribute-0.6.20.tar.gz#sha256=8314683ad7cadfeb5918ff0bf7d410782a0b7f1615173c72d761cc8b43f7520e (from https://pypi.org/simple/distribute/). Command errored out with exit status 1: python setup.py egg_info Check the logs for full command output.\n",
      "        ERROR: Command errored out with exit status 1:\n",
      "         command: 'C:\\Users\\Riadh\\.conda\\envs\\gee\\python.exe' -c 'import io, os, sys, setuptools, tokenize; sys.argv[0] = '\"'\"'C:\\\\Users\\\\Riadh\\\\AppData\\\\Local\\\\Temp\\\\pip-wheel-lapi3eqj\\\\distribute_6932e45c437548c39dbe66746684b6dd\\\\setup.py'\"'\"'; __file__='\"'\"'C:\\\\Users\\\\Riadh\\\\AppData\\\\Local\\\\Temp\\\\pip-wheel-lapi3eqj\\\\distribute_6932e45c437548c39dbe66746684b6dd\\\\setup.py'\"'\"';f = getattr(tokenize, '\"'\"'open'\"'\"', open)(__file__) if os.path.exists(__file__) else io.StringIO('\"'\"'from setuptools import setup; setup()'\"'\"');code = f.read().replace('\"'\"'\\r\\n'\"'\"', '\"'\"'\\n'\"'\"');f.close();exec(compile(code, __file__, '\"'\"'exec'\"'\"'))' egg_info --egg-base 'C:\\Users\\Riadh\\AppData\\Local\\Temp\\pip-pip-egg-info-aw8czo8z'\n",
      "             cwd: C:\\Users\\Riadh\\AppData\\Local\\Temp\\pip-wheel-lapi3eqj\\distribute_6932e45c437548c39dbe66746684b6dd\\\n",
      "        Complete output (10 lines):\n",
      "        Traceback (most recent call last):\n",
      "          File \"<string>\", line 1, in <module>\n",
      "          File \"C:\\Users\\Riadh\\AppData\\Local\\Temp\\pip-wheel-lapi3eqj\\distribute_6932e45c437548c39dbe66746684b6dd\\setuptools\\__init__.py\", line 2, in <module>\n",
      "            from setuptools.extension import Extension, Library\n",
      "          File \"C:\\Users\\Riadh\\AppData\\Local\\Temp\\pip-wheel-lapi3eqj\\distribute_6932e45c437548c39dbe66746684b6dd\\setuptools\\extension.py\", line 2, in <module>\n",
      "            from setuptools.dist import _get_unpatched\n",
      "          File \"C:\\Users\\Riadh\\AppData\\Local\\Temp\\pip-wheel-lapi3eqj\\distribute_6932e45c437548c39dbe66746684b6dd\\setuptools\\dist.py\", line 103\n",
      "            except ValueError, e:\n",
      "                             ^\n",
      "        SyntaxError: invalid syntax\n",
      "        ----------------------------------------\n",
      "    WARNING: Discarding https://files.pythonhosted.org/packages/e2/f5/64dedcfd63da54b05372dcf0688b9ab6dd27ac64acac40f260f96d561519/distribute-0.6.19.zip#sha256=5ce5d0e067de948136c61b24ffc943bf01f25da22e672acf698ad17581dfdacd (from https://pypi.org/simple/distribute/). Command errored out with exit status 1: python setup.py egg_info Check the logs for full command output.\n",
      "        ERROR: Command errored out with exit status 1:\n",
      "         command: 'C:\\Users\\Riadh\\.conda\\envs\\gee\\python.exe' -c 'import io, os, sys, setuptools, tokenize; sys.argv[0] = '\"'\"'C:\\\\Users\\\\Riadh\\\\AppData\\\\Local\\\\Temp\\\\pip-wheel-lapi3eqj\\\\distribute_d5e59cf9cd6c4ab0bfe7944e1d22e3d0\\\\setup.py'\"'\"'; __file__='\"'\"'C:\\\\Users\\\\Riadh\\\\AppData\\\\Local\\\\Temp\\\\pip-wheel-lapi3eqj\\\\distribute_d5e59cf9cd6c4ab0bfe7944e1d22e3d0\\\\setup.py'\"'\"';f = getattr(tokenize, '\"'\"'open'\"'\"', open)(__file__) if os.path.exists(__file__) else io.StringIO('\"'\"'from setuptools import setup; setup()'\"'\"');code = f.read().replace('\"'\"'\\r\\n'\"'\"', '\"'\"'\\n'\"'\"');f.close();exec(compile(code, __file__, '\"'\"'exec'\"'\"'))' egg_info --egg-base 'C:\\Users\\Riadh\\AppData\\Local\\Temp\\pip-pip-egg-info-8tcw_fyi'\n",
      "             cwd: C:\\Users\\Riadh\\AppData\\Local\\Temp\\pip-wheel-lapi3eqj\\distribute_d5e59cf9cd6c4ab0bfe7944e1d22e3d0\\\n",
      "        Complete output (10 lines):\n",
      "        Traceback (most recent call last):\n",
      "          File \"<string>\", line 1, in <module>\n",
      "          File \"C:\\Users\\Riadh\\AppData\\Local\\Temp\\pip-wheel-lapi3eqj\\distribute_d5e59cf9cd6c4ab0bfe7944e1d22e3d0\\setuptools\\__init__.py\", line 2, in <module>\n",
      "            from setuptools.extension import Extension, Library\n",
      "          File \"C:\\Users\\Riadh\\AppData\\Local\\Temp\\pip-wheel-lapi3eqj\\distribute_d5e59cf9cd6c4ab0bfe7944e1d22e3d0\\setuptools\\extension.py\", line 2, in <module>\n",
      "            from setuptools.dist import _get_unpatched\n",
      "          File \"C:\\Users\\Riadh\\AppData\\Local\\Temp\\pip-wheel-lapi3eqj\\distribute_d5e59cf9cd6c4ab0bfe7944e1d22e3d0\\setuptools\\dist.py\", line 103\n",
      "            except ValueError, e:\n",
      "                             ^\n",
      "        SyntaxError: invalid syntax\n",
      "        ----------------------------------------\n",
      "    WARNING: Discarding https://files.pythonhosted.org/packages/86/74/d6862980635b0827a9564646fbab7386c91d46b5dc177deb7a4d5a4a74df/distribute-0.6.19.tar.gz#sha256=a1c4f65170ae95c4078ca5c3e24f1df018fe6ea2d4f3a702eed0d74d70cd6722 (from https://pypi.org/simple/distribute/). Command errored out with exit status 1: python setup.py egg_info Check the logs for full command output.\n",
      "        ERROR: Command errored out with exit status 1:\n",
      "         command: 'C:\\Users\\Riadh\\.conda\\envs\\gee\\python.exe' -c 'import io, os, sys, setuptools, tokenize; sys.argv[0] = '\"'\"'C:\\\\Users\\\\Riadh\\\\AppData\\\\Local\\\\Temp\\\\pip-wheel-lapi3eqj\\\\distribute_a4eb3a7967a04f49a500c62bcae96f2b\\\\setup.py'\"'\"'; __file__='\"'\"'C:\\\\Users\\\\Riadh\\\\AppData\\\\Local\\\\Temp\\\\pip-wheel-lapi3eqj\\\\distribute_a4eb3a7967a04f49a500c62bcae96f2b\\\\setup.py'\"'\"';f = getattr(tokenize, '\"'\"'open'\"'\"', open)(__file__) if os.path.exists(__file__) else io.StringIO('\"'\"'from setuptools import setup; setup()'\"'\"');code = f.read().replace('\"'\"'\\r\\n'\"'\"', '\"'\"'\\n'\"'\"');f.close();exec(compile(code, __file__, '\"'\"'exec'\"'\"'))' egg_info --egg-base 'C:\\Users\\Riadh\\AppData\\Local\\Temp\\pip-pip-egg-info-lg0ytmdi'\n",
      "             cwd: C:\\Users\\Riadh\\AppData\\Local\\Temp\\pip-wheel-lapi3eqj\\distribute_a4eb3a7967a04f49a500c62bcae96f2b\\\n",
      "        Complete output (10 lines):\n",
      "        Traceback (most recent call last):\n",
      "          File \"<string>\", line 1, in <module>\n",
      "          File \"C:\\Users\\Riadh\\AppData\\Local\\Temp\\pip-wheel-lapi3eqj\\distribute_a4eb3a7967a04f49a500c62bcae96f2b\\setuptools\\__init__.py\", line 2, in <module>\n",
      "            from setuptools.extension import Extension, Library\n",
      "          File \"C:\\Users\\Riadh\\AppData\\Local\\Temp\\pip-wheel-lapi3eqj\\distribute_a4eb3a7967a04f49a500c62bcae96f2b\\setuptools\\extension.py\", line 2, in <module>\n",
      "            from setuptools.dist import _get_unpatched\n",
      "          File \"C:\\Users\\Riadh\\AppData\\Local\\Temp\\pip-wheel-lapi3eqj\\distribute_a4eb3a7967a04f49a500c62bcae96f2b\\setuptools\\dist.py\", line 103\n",
      "            except ValueError, e:\n",
      "                             ^\n",
      "        SyntaxError: invalid syntax\n",
      "        ----------------------------------------\n",
      "    WARNING: Discarding https://files.pythonhosted.org/packages/35/4f/b0564981f9dd220a6db88be661a8331523a2524caf3d01e976a0c87a6942/distribute-0.6.18.zip#sha256=89fb195fdc09527e1d21758272ec67cad5304390aeb3ff6fe45821687aa93577 (from https://pypi.org/simple/distribute/). Command errored out with exit status 1: python setup.py egg_info Check the logs for full command output.\n",
      "        ERROR: Command errored out with exit status 1:\n",
      "         command: 'C:\\Users\\Riadh\\.conda\\envs\\gee\\python.exe' -c 'import io, os, sys, setuptools, tokenize; sys.argv[0] = '\"'\"'C:\\\\Users\\\\Riadh\\\\AppData\\\\Local\\\\Temp\\\\pip-wheel-lapi3eqj\\\\distribute_6719157aef6b4837bfe2d68bb6b5f527\\\\setup.py'\"'\"'; __file__='\"'\"'C:\\\\Users\\\\Riadh\\\\AppData\\\\Local\\\\Temp\\\\pip-wheel-lapi3eqj\\\\distribute_6719157aef6b4837bfe2d68bb6b5f527\\\\setup.py'\"'\"';f = getattr(tokenize, '\"'\"'open'\"'\"', open)(__file__) if os.path.exists(__file__) else io.StringIO('\"'\"'from setuptools import setup; setup()'\"'\"');code = f.read().replace('\"'\"'\\r\\n'\"'\"', '\"'\"'\\n'\"'\"');f.close();exec(compile(code, __file__, '\"'\"'exec'\"'\"'))' egg_info --egg-base 'C:\\Users\\Riadh\\AppData\\Local\\Temp\\pip-pip-egg-info-nqk73j10'\n",
      "             cwd: C:\\Users\\Riadh\\AppData\\Local\\Temp\\pip-wheel-lapi3eqj\\distribute_6719157aef6b4837bfe2d68bb6b5f527\\\n",
      "        Complete output (10 lines):\n",
      "        Traceback (most recent call last):\n",
      "          File \"<string>\", line 1, in <module>\n",
      "          File \"C:\\Users\\Riadh\\AppData\\Local\\Temp\\pip-wheel-lapi3eqj\\distribute_6719157aef6b4837bfe2d68bb6b5f527\\setuptools\\__init__.py\", line 2, in <module>\n",
      "            from setuptools.extension import Extension, Library\n",
      "          File \"C:\\Users\\Riadh\\AppData\\Local\\Temp\\pip-wheel-lapi3eqj\\distribute_6719157aef6b4837bfe2d68bb6b5f527\\setuptools\\extension.py\", line 2, in <module>\n",
      "            from setuptools.dist import _get_unpatched\n",
      "          File \"C:\\Users\\Riadh\\AppData\\Local\\Temp\\pip-wheel-lapi3eqj\\distribute_6719157aef6b4837bfe2d68bb6b5f527\\setuptools\\dist.py\", line 103\n",
      "            except ValueError, e:\n",
      "                             ^\n",
      "        SyntaxError: invalid syntax\n",
      "        ----------------------------------------\n",
      "    WARNING: Discarding https://files.pythonhosted.org/packages/b3/93/cc5e6ff77a060b5a28e3e0d8db907f4b69a546ce75ff6fd653319461cdf1/distribute-0.6.18.tar.gz#sha256=160f74cd7b4125b373604b8ce84c6fa5153d46416b85aae2469255f679d6362a (from https://pypi.org/simple/distribute/). Command errored out with exit status 1: python setup.py egg_info Check the logs for full command output.\n",
      "        ERROR: Command errored out with exit status 1:\n",
      "         command: 'C:\\Users\\Riadh\\.conda\\envs\\gee\\python.exe' -c 'import io, os, sys, setuptools, tokenize; sys.argv[0] = '\"'\"'C:\\\\Users\\\\Riadh\\\\AppData\\\\Local\\\\Temp\\\\pip-wheel-lapi3eqj\\\\distribute_9bf9510269f840e78e59bc7c47fd5bc6\\\\setup.py'\"'\"'; __file__='\"'\"'C:\\\\Users\\\\Riadh\\\\AppData\\\\Local\\\\Temp\\\\pip-wheel-lapi3eqj\\\\distribute_9bf9510269f840e78e59bc7c47fd5bc6\\\\setup.py'\"'\"';f = getattr(tokenize, '\"'\"'open'\"'\"', open)(__file__) if os.path.exists(__file__) else io.StringIO('\"'\"'from setuptools import setup; setup()'\"'\"');code = f.read().replace('\"'\"'\\r\\n'\"'\"', '\"'\"'\\n'\"'\"');f.close();exec(compile(code, __file__, '\"'\"'exec'\"'\"'))' egg_info --egg-base 'C:\\Users\\Riadh\\AppData\\Local\\Temp\\pip-pip-egg-info-a6mrp_wq'\n",
      "             cwd: C:\\Users\\Riadh\\AppData\\Local\\Temp\\pip-wheel-lapi3eqj\\distribute_9bf9510269f840e78e59bc7c47fd5bc6\\\n",
      "        Complete output (10 lines):\n",
      "        Traceback (most recent call last):\n",
      "          File \"<string>\", line 1, in <module>\n",
      "          File \"C:\\Users\\Riadh\\AppData\\Local\\Temp\\pip-wheel-lapi3eqj\\distribute_9bf9510269f840e78e59bc7c47fd5bc6\\setuptools\\__init__.py\", line 2, in <module>\n",
      "            from setuptools.extension import Extension, Library\n",
      "          File \"C:\\Users\\Riadh\\AppData\\Local\\Temp\\pip-wheel-lapi3eqj\\distribute_9bf9510269f840e78e59bc7c47fd5bc6\\setuptools\\extension.py\", line 2, in <module>\n",
      "            from setuptools.dist import _get_unpatched\n",
      "          File \"C:\\Users\\Riadh\\AppData\\Local\\Temp\\pip-wheel-lapi3eqj\\distribute_9bf9510269f840e78e59bc7c47fd5bc6\\setuptools\\dist.py\", line 103\n",
      "            except ValueError, e:\n",
      "                             ^\n",
      "        SyntaxError: invalid syntax\n",
      "        ----------------------------------------\n",
      "    WARNING: Discarding https://files.pythonhosted.org/packages/5f/d0/2c0c6142f91f75e3f3cfefe869757226742fd21db00e935b6cb9052a01bf/distribute-0.6.17.zip#sha256=5c138bca2e17c730089a1120864472c3c659fbe87d7ba65dd7a1c089c759bfa9 (from https://pypi.org/simple/distribute/). Command errored out with exit status 1: python setup.py egg_info Check the logs for full command output.\n",
      "        ERROR: Command errored out with exit status 1:\n",
      "         command: 'C:\\Users\\Riadh\\.conda\\envs\\gee\\python.exe' -c 'import io, os, sys, setuptools, tokenize; sys.argv[0] = '\"'\"'C:\\\\Users\\\\Riadh\\\\AppData\\\\Local\\\\Temp\\\\pip-wheel-lapi3eqj\\\\distribute_02885f90f7cf45dc9eecfbc6e53e2808\\\\setup.py'\"'\"'; __file__='\"'\"'C:\\\\Users\\\\Riadh\\\\AppData\\\\Local\\\\Temp\\\\pip-wheel-lapi3eqj\\\\distribute_02885f90f7cf45dc9eecfbc6e53e2808\\\\setup.py'\"'\"';f = getattr(tokenize, '\"'\"'open'\"'\"', open)(__file__) if os.path.exists(__file__) else io.StringIO('\"'\"'from setuptools import setup; setup()'\"'\"');code = f.read().replace('\"'\"'\\r\\n'\"'\"', '\"'\"'\\n'\"'\"');f.close();exec(compile(code, __file__, '\"'\"'exec'\"'\"'))' egg_info --egg-base 'C:\\Users\\Riadh\\AppData\\Local\\Temp\\pip-pip-egg-info-1dvhwqd1'\n",
      "             cwd: C:\\Users\\Riadh\\AppData\\Local\\Temp\\pip-wheel-lapi3eqj\\distribute_02885f90f7cf45dc9eecfbc6e53e2808\\\n",
      "        Complete output (10 lines):\n",
      "        Traceback (most recent call last):\n",
      "          File \"<string>\", line 1, in <module>\n",
      "          File \"C:\\Users\\Riadh\\AppData\\Local\\Temp\\pip-wheel-lapi3eqj\\distribute_02885f90f7cf45dc9eecfbc6e53e2808\\setuptools\\__init__.py\", line 2, in <module>\n",
      "            from setuptools.extension import Extension, Library\n",
      "          File \"C:\\Users\\Riadh\\AppData\\Local\\Temp\\pip-wheel-lapi3eqj\\distribute_02885f90f7cf45dc9eecfbc6e53e2808\\setuptools\\extension.py\", line 2, in <module>\n",
      "            from setuptools.dist import _get_unpatched\n",
      "          File \"C:\\Users\\Riadh\\AppData\\Local\\Temp\\pip-wheel-lapi3eqj\\distribute_02885f90f7cf45dc9eecfbc6e53e2808\\setuptools\\dist.py\", line 103\n",
      "            except ValueError, e:\n",
      "                             ^\n",
      "        SyntaxError: invalid syntax\n",
      "        ----------------------------------------\n",
      "    WARNING: Discarding https://files.pythonhosted.org/packages/7f/1c/37153c8248bd510bfd573c26d5fd2b91bcf39ebc513ab8f7883294d0625b/distribute-0.6.17.tar.gz#sha256=8052d922eaf542e336593822c15e753248373c88ce4a1a94674952698ab7c5ac (from https://pypi.org/simple/distribute/). Command errored out with exit status 1: python setup.py egg_info Check the logs for full command output.\n",
      "        ERROR: Command errored out with exit status 1:\n",
      "         command: 'C:\\Users\\Riadh\\.conda\\envs\\gee\\python.exe' -c 'import io, os, sys, setuptools, tokenize; sys.argv[0] = '\"'\"'C:\\\\Users\\\\Riadh\\\\AppData\\\\Local\\\\Temp\\\\pip-wheel-lapi3eqj\\\\distribute_262e536c7f2c4870b506c1dbfe4d7de2\\\\setup.py'\"'\"'; __file__='\"'\"'C:\\\\Users\\\\Riadh\\\\AppData\\\\Local\\\\Temp\\\\pip-wheel-lapi3eqj\\\\distribute_262e536c7f2c4870b506c1dbfe4d7de2\\\\setup.py'\"'\"';f = getattr(tokenize, '\"'\"'open'\"'\"', open)(__file__) if os.path.exists(__file__) else io.StringIO('\"'\"'from setuptools import setup; setup()'\"'\"');code = f.read().replace('\"'\"'\\r\\n'\"'\"', '\"'\"'\\n'\"'\"');f.close();exec(compile(code, __file__, '\"'\"'exec'\"'\"'))' egg_info --egg-base 'C:\\Users\\Riadh\\AppData\\Local\\Temp\\pip-pip-egg-info-dwm6fbeq'\n",
      "             cwd: C:\\Users\\Riadh\\AppData\\Local\\Temp\\pip-wheel-lapi3eqj\\distribute_262e536c7f2c4870b506c1dbfe4d7de2\\\n",
      "        Complete output (10 lines):\n",
      "        Traceback (most recent call last):\n",
      "          File \"<string>\", line 1, in <module>\n",
      "          File \"C:\\Users\\Riadh\\AppData\\Local\\Temp\\pip-wheel-lapi3eqj\\distribute_262e536c7f2c4870b506c1dbfe4d7de2\\setuptools\\__init__.py\", line 2, in <module>\n",
      "            from setuptools.extension import Extension, Library\n",
      "          File \"C:\\Users\\Riadh\\AppData\\Local\\Temp\\pip-wheel-lapi3eqj\\distribute_262e536c7f2c4870b506c1dbfe4d7de2\\setuptools\\extension.py\", line 2, in <module>\n",
      "            from setuptools.dist import _get_unpatched\n",
      "          File \"C:\\Users\\Riadh\\AppData\\Local\\Temp\\pip-wheel-lapi3eqj\\distribute_262e536c7f2c4870b506c1dbfe4d7de2\\setuptools\\dist.py\", line 103\n",
      "            except ValueError, e:\n",
      "                             ^\n",
      "        SyntaxError: invalid syntax\n",
      "        ----------------------------------------\n",
      "    WARNING: Discarding https://files.pythonhosted.org/packages/de/f0/13745a2a99391522cd6d8eb493c0fff54754c669de5988efab80573d382d/distribute-0.6.16.zip#sha256=5ba2f101f32861c5aa87cc50037b1c7d30a2b225c8c324afbc0b89a8660b8dbe (from https://pypi.org/simple/distribute/). Command errored out with exit status 1: python setup.py egg_info Check the logs for full command output.\n",
      "        ERROR: Command errored out with exit status 1:\n",
      "         command: 'C:\\Users\\Riadh\\.conda\\envs\\gee\\python.exe' -c 'import io, os, sys, setuptools, tokenize; sys.argv[0] = '\"'\"'C:\\\\Users\\\\Riadh\\\\AppData\\\\Local\\\\Temp\\\\pip-wheel-lapi3eqj\\\\distribute_2241ff4389434bb9972d3be49cbe80d5\\\\setup.py'\"'\"'; __file__='\"'\"'C:\\\\Users\\\\Riadh\\\\AppData\\\\Local\\\\Temp\\\\pip-wheel-lapi3eqj\\\\distribute_2241ff4389434bb9972d3be49cbe80d5\\\\setup.py'\"'\"';f = getattr(tokenize, '\"'\"'open'\"'\"', open)(__file__) if os.path.exists(__file__) else io.StringIO('\"'\"'from setuptools import setup; setup()'\"'\"');code = f.read().replace('\"'\"'\\r\\n'\"'\"', '\"'\"'\\n'\"'\"');f.close();exec(compile(code, __file__, '\"'\"'exec'\"'\"'))' egg_info --egg-base 'C:\\Users\\Riadh\\AppData\\Local\\Temp\\pip-pip-egg-info-rj_6j2gp'\n",
      "             cwd: C:\\Users\\Riadh\\AppData\\Local\\Temp\\pip-wheel-lapi3eqj\\distribute_2241ff4389434bb9972d3be49cbe80d5\\\n",
      "        Complete output (10 lines):\n",
      "        Traceback (most recent call last):\n",
      "          File \"<string>\", line 1, in <module>\n",
      "          File \"C:\\Users\\Riadh\\AppData\\Local\\Temp\\pip-wheel-lapi3eqj\\distribute_2241ff4389434bb9972d3be49cbe80d5\\setuptools\\__init__.py\", line 2, in <module>\n",
      "            from setuptools.extension import Extension, Library\n",
      "          File \"C:\\Users\\Riadh\\AppData\\Local\\Temp\\pip-wheel-lapi3eqj\\distribute_2241ff4389434bb9972d3be49cbe80d5\\setuptools\\extension.py\", line 2, in <module>\n",
      "            from setuptools.dist import _get_unpatched\n",
      "          File \"C:\\Users\\Riadh\\AppData\\Local\\Temp\\pip-wheel-lapi3eqj\\distribute_2241ff4389434bb9972d3be49cbe80d5\\setuptools\\dist.py\", line 103\n",
      "            except ValueError, e:\n",
      "                             ^\n",
      "        SyntaxError: invalid syntax\n",
      "        ----------------------------------------\n",
      "    WARNING: Discarding https://files.pythonhosted.org/packages/20/e0/6c03055f8520384b0050bb97757ab58afae5f35adb8b9a26bba2cd4de8bd/distribute-0.6.16.tar.gz#sha256=cb2de242f3af2d1aa225e514e5b8ed7d41cdb4c505d3cf5cc6e3ca0646b4dd9b (from https://pypi.org/simple/distribute/). Command errored out with exit status 1: python setup.py egg_info Check the logs for full command output.\n",
      "        ERROR: Command errored out with exit status 1:\n",
      "         command: 'C:\\Users\\Riadh\\.conda\\envs\\gee\\python.exe' -c 'import io, os, sys, setuptools, tokenize; sys.argv[0] = '\"'\"'C:\\\\Users\\\\Riadh\\\\AppData\\\\Local\\\\Temp\\\\pip-wheel-lapi3eqj\\\\distribute_ddc831571672495697d11e90e34342ec\\\\setup.py'\"'\"'; __file__='\"'\"'C:\\\\Users\\\\Riadh\\\\AppData\\\\Local\\\\Temp\\\\pip-wheel-lapi3eqj\\\\distribute_ddc831571672495697d11e90e34342ec\\\\setup.py'\"'\"';f = getattr(tokenize, '\"'\"'open'\"'\"', open)(__file__) if os.path.exists(__file__) else io.StringIO('\"'\"'from setuptools import setup; setup()'\"'\"');code = f.read().replace('\"'\"'\\r\\n'\"'\"', '\"'\"'\\n'\"'\"');f.close();exec(compile(code, __file__, '\"'\"'exec'\"'\"'))' egg_info --egg-base 'C:\\Users\\Riadh\\AppData\\Local\\Temp\\pip-pip-egg-info-yk7b7uu2'\n",
      "             cwd: C:\\Users\\Riadh\\AppData\\Local\\Temp\\pip-wheel-lapi3eqj\\distribute_ddc831571672495697d11e90e34342ec\\\n",
      "        Complete output (10 lines):\n",
      "        Traceback (most recent call last):\n",
      "          File \"<string>\", line 1, in <module>\n",
      "          File \"C:\\Users\\Riadh\\AppData\\Local\\Temp\\pip-wheel-lapi3eqj\\distribute_ddc831571672495697d11e90e34342ec\\setuptools\\__init__.py\", line 2, in <module>\n",
      "            from setuptools.extension import Extension, Library\n",
      "          File \"C:\\Users\\Riadh\\AppData\\Local\\Temp\\pip-wheel-lapi3eqj\\distribute_ddc831571672495697d11e90e34342ec\\setuptools\\extension.py\", line 2, in <module>\n",
      "            from setuptools.dist import _get_unpatched\n",
      "          File \"C:\\Users\\Riadh\\AppData\\Local\\Temp\\pip-wheel-lapi3eqj\\distribute_ddc831571672495697d11e90e34342ec\\setuptools\\dist.py\", line 103\n",
      "            except ValueError, e:\n",
      "                             ^\n",
      "        SyntaxError: invalid syntax\n",
      "        ----------------------------------------\n",
      "    WARNING: Discarding https://files.pythonhosted.org/packages/7f/00/9219235d4222c3da6729e6e2afa4a9080b987169bab3b2ec6cbb7c2e86da/distribute-0.6.15.zip#sha256=a6cba0f43a70dceab680ba475df2a451b53257e5dc3267323c2a666c1673a31b (from https://pypi.org/simple/distribute/). Command errored out with exit status 1: python setup.py egg_info Check the logs for full command output.\n",
      "        ERROR: Command errored out with exit status 1:\n",
      "         command: 'C:\\Users\\Riadh\\.conda\\envs\\gee\\python.exe' -c 'import io, os, sys, setuptools, tokenize; sys.argv[0] = '\"'\"'C:\\\\Users\\\\Riadh\\\\AppData\\\\Local\\\\Temp\\\\pip-wheel-lapi3eqj\\\\distribute_5a366864d54049b58686bc692a5a4d8d\\\\setup.py'\"'\"'; __file__='\"'\"'C:\\\\Users\\\\Riadh\\\\AppData\\\\Local\\\\Temp\\\\pip-wheel-lapi3eqj\\\\distribute_5a366864d54049b58686bc692a5a4d8d\\\\setup.py'\"'\"';f = getattr(tokenize, '\"'\"'open'\"'\"', open)(__file__) if os.path.exists(__file__) else io.StringIO('\"'\"'from setuptools import setup; setup()'\"'\"');code = f.read().replace('\"'\"'\\r\\n'\"'\"', '\"'\"'\\n'\"'\"');f.close();exec(compile(code, __file__, '\"'\"'exec'\"'\"'))' egg_info --egg-base 'C:\\Users\\Riadh\\AppData\\Local\\Temp\\pip-pip-egg-info-vop8ucq8'\n",
      "             cwd: C:\\Users\\Riadh\\AppData\\Local\\Temp\\pip-wheel-lapi3eqj\\distribute_5a366864d54049b58686bc692a5a4d8d\\\n",
      "        Complete output (10 lines):\n",
      "        Traceback (most recent call last):\n",
      "          File \"<string>\", line 1, in <module>\n",
      "          File \"C:\\Users\\Riadh\\AppData\\Local\\Temp\\pip-wheel-lapi3eqj\\distribute_5a366864d54049b58686bc692a5a4d8d\\setuptools\\__init__.py\", line 2, in <module>\n",
      "            from setuptools.extension import Extension, Library\n",
      "          File \"C:\\Users\\Riadh\\AppData\\Local\\Temp\\pip-wheel-lapi3eqj\\distribute_5a366864d54049b58686bc692a5a4d8d\\setuptools\\extension.py\", line 2, in <module>\n",
      "            from setuptools.dist import _get_unpatched\n",
      "          File \"C:\\Users\\Riadh\\AppData\\Local\\Temp\\pip-wheel-lapi3eqj\\distribute_5a366864d54049b58686bc692a5a4d8d\\setuptools\\dist.py\", line 103\n",
      "            except ValueError, e:\n",
      "                             ^\n",
      "        SyntaxError: invalid syntax\n",
      "        ----------------------------------------\n",
      "    WARNING: Discarding https://files.pythonhosted.org/packages/07/a6/8f6b270b7e6a1be3df78b174e2437fdb631cfcce16f82c2f8b7affb50ee2/distribute-0.6.15.tar.gz#sha256=85b05942f84146d8f0ed17906b90af7662d649b922fe77a8c402da5da258a481 (from https://pypi.org/simple/distribute/). Command errored out with exit status 1: python setup.py egg_info Check the logs for full command output.\n",
      "    ERROR: Exception:\n",
      "    Traceback (most recent call last):\n",
      "      File \"C:\\Users\\Riadh\\.conda\\envs\\gee\\lib\\site-packages\\pip\\_internal\\cli\\base_command.py\", line 180, in _main\n",
      "        status = self.run(options, args)\n",
      "      File \"C:\\Users\\Riadh\\.conda\\envs\\gee\\lib\\site-packages\\pip\\_internal\\cli\\req_command.py\", line 204, in wrapper\n",
      "        return func(self, options, args)\n",
      "      File \"C:\\Users\\Riadh\\.conda\\envs\\gee\\lib\\site-packages\\pip\\_internal\\commands\\wheel.py\", line 142, in run\n",
      "        requirement_set = resolver.resolve(\n",
      "      File \"C:\\Users\\Riadh\\.conda\\envs\\gee\\lib\\site-packages\\pip\\_internal\\resolution\\resolvelib\\resolver.py\", line 127, in resolve\n",
      "        result = self._result = resolver.resolve(\n",
      "      File \"C:\\Users\\Riadh\\.conda\\envs\\gee\\lib\\site-packages\\pip\\_vendor\\resolvelib\\resolvers.py\", line 473, in resolve\n",
      "        state = resolution.resolve(requirements, max_rounds=max_rounds)\n",
      "      File \"C:\\Users\\Riadh\\.conda\\envs\\gee\\lib\\site-packages\\pip\\_vendor\\resolvelib\\resolvers.py\", line 341, in resolve\n",
      "        name, crit = self._merge_into_criterion(r, parent=None)\n",
      "      File \"C:\\Users\\Riadh\\.conda\\envs\\gee\\lib\\site-packages\\pip\\_vendor\\resolvelib\\resolvers.py\", line 172, in _merge_into_criterion\n",
      "        if not criterion.candidates:\n",
      "      File \"C:\\Users\\Riadh\\.conda\\envs\\gee\\lib\\site-packages\\pip\\_vendor\\resolvelib\\structs.py\", line 139, in __bool__\n",
      "        return bool(self._sequence)\n",
      "      File \"C:\\Users\\Riadh\\.conda\\envs\\gee\\lib\\site-packages\\pip\\_internal\\resolution\\resolvelib\\found_candidates.py\", line 143, in __bool__\n",
      "        return any(self)\n",
      "      File \"C:\\Users\\Riadh\\.conda\\envs\\gee\\lib\\site-packages\\pip\\_internal\\resolution\\resolvelib\\found_candidates.py\", line 129, in <genexpr>\n",
      "        return (c for c in iterator if id(c) not in self._incompatible_ids)\n",
      "      File \"C:\\Users\\Riadh\\.conda\\envs\\gee\\lib\\site-packages\\pip\\_internal\\resolution\\resolvelib\\found_candidates.py\", line 33, in _iter_built\n",
      "        candidate = func()\n",
      "      File \"C:\\Users\\Riadh\\.conda\\envs\\gee\\lib\\site-packages\\pip\\_internal\\resolution\\resolvelib\\factory.py\", line 200, in _make_candidate_from_link\n",
      "        self._link_candidate_cache[link] = LinkCandidate(\n",
      "      File \"C:\\Users\\Riadh\\.conda\\envs\\gee\\lib\\site-packages\\pip\\_internal\\resolution\\resolvelib\\candidates.py\", line 306, in __init__\n",
      "        super().__init__(\n",
      "      File \"C:\\Users\\Riadh\\.conda\\envs\\gee\\lib\\site-packages\\pip\\_internal\\resolution\\resolvelib\\candidates.py\", line 151, in __init__\n",
      "        self.dist = self._prepare()\n",
      "      File \"C:\\Users\\Riadh\\.conda\\envs\\gee\\lib\\site-packages\\pip\\_internal\\resolution\\resolvelib\\candidates.py\", line 234, in _prepare\n",
      "        dist = self._prepare_distribution()\n",
      "      File \"C:\\Users\\Riadh\\.conda\\envs\\gee\\lib\\site-packages\\pip\\_internal\\resolution\\resolvelib\\candidates.py\", line 317, in _prepare_distribution\n",
      "        return self._factory.preparer.prepare_linked_requirement(\n",
      "      File \"C:\\Users\\Riadh\\.conda\\envs\\gee\\lib\\site-packages\\pip\\_internal\\operations\\prepare.py\", line 508, in prepare_linked_requirement\n",
      "        return self._prepare_linked_requirement(req, parallel_builds)\n",
      "      File \"C:\\Users\\Riadh\\.conda\\envs\\gee\\lib\\site-packages\\pip\\_internal\\operations\\prepare.py\", line 550, in _prepare_linked_requirement\n",
      "        local_file = unpack_url(\n",
      "      File \"C:\\Users\\Riadh\\.conda\\envs\\gee\\lib\\site-packages\\pip\\_internal\\operations\\prepare.py\", line 249, in unpack_url\n",
      "        unpack_file(file.path, location, file.content_type)\n",
      "      File \"C:\\Users\\Riadh\\.conda\\envs\\gee\\lib\\site-packages\\pip\\_internal\\utils\\unpacking.py\", line 250, in unpack_file\n",
      "        unzip_file(filename, location, flatten=not filename.endswith(\".whl\"))\n",
      "      File \"C:\\Users\\Riadh\\.conda\\envs\\gee\\lib\\site-packages\\pip\\_internal\\utils\\unpacking.py\", line 147, in unzip_file\n",
      "        shutil.copyfileobj(fp, destfp)\n",
      "      File \"C:\\Users\\Riadh\\.conda\\envs\\gee\\lib\\shutil.py\", line 208, in copyfileobj\n",
      "        fdst_write(buf)\n",
      "    OSError: [Errno 28] No space left on device\n",
      "    Traceback (most recent call last):\n",
      "      File \"C:\\Users\\Riadh\\.conda\\envs\\gee\\lib\\site-packages\\setuptools\\installer.py\", line 75, in fetch_build_egg\n",
      "        subprocess.check_call(cmd)\n",
      "      File \"C:\\Users\\Riadh\\.conda\\envs\\gee\\lib\\subprocess.py\", line 373, in check_call\n",
      "        raise CalledProcessError(retcode, cmd)\n",
      "    subprocess.CalledProcessError: Command '['C:\\\\Users\\\\Riadh\\\\.conda\\\\envs\\\\gee\\\\python.exe', '-m', 'pip', '--disable-pip-version-check', 'wheel', '--no-deps', '-w', 'C:\\\\Users\\\\Riadh\\\\AppData\\\\Local\\\\Temp\\\\tmph0xst3bo', '--quiet', 'distribute']' returned non-zero exit status 2.\n",
      "    \n",
      "    The above exception was the direct cause of the following exception:\n",
      "    \n",
      "    Traceback (most recent call last):\n",
      "      File \"<string>\", line 1, in <module>\n",
      "      File \"C:\\Users\\Riadh\\AppData\\Local\\Temp\\pip-install-md6rjt6o\\dotenv_bbe74f3be3cb4641a3943115875d825d\\setup.py\", line 13, in <module>\n",
      "        setup(name='dotenv',\n",
      "      File \"C:\\Users\\Riadh\\.conda\\envs\\gee\\lib\\site-packages\\setuptools\\__init__.py\", line 152, in setup\n",
      "        _install_setup_requires(attrs)\n",
      "      File \"C:\\Users\\Riadh\\.conda\\envs\\gee\\lib\\site-packages\\setuptools\\__init__.py\", line 147, in _install_setup_requires\n",
      "        dist.fetch_build_eggs(dist.setup_requires)\n",
      "      File \"C:\\Users\\Riadh\\.conda\\envs\\gee\\lib\\site-packages\\setuptools\\dist.py\", line 686, in fetch_build_eggs\n",
      "        resolved_dists = pkg_resources.working_set.resolve(\n",
      "      File \"C:\\Users\\Riadh\\.conda\\envs\\gee\\lib\\site-packages\\pkg_resources\\__init__.py\", line 766, in resolve\n",
      "        dist = best[req.key] = env.best_match(\n",
      "      File \"C:\\Users\\Riadh\\.conda\\envs\\gee\\lib\\site-packages\\pkg_resources\\__init__.py\", line 1051, in best_match\n",
      "        return self.obtain(req, installer)\n",
      "      File \"C:\\Users\\Riadh\\.conda\\envs\\gee\\lib\\site-packages\\pkg_resources\\__init__.py\", line 1063, in obtain\n",
      "        return installer(requirement)\n",
      "      File \"C:\\Users\\Riadh\\.conda\\envs\\gee\\lib\\site-packages\\setuptools\\dist.py\", line 745, in fetch_build_egg\n",
      "        return fetch_build_egg(self, req)\n",
      "      File \"C:\\Users\\Riadh\\.conda\\envs\\gee\\lib\\site-packages\\setuptools\\installer.py\", line 77, in fetch_build_egg\n",
      "        raise DistutilsError(str(e)) from e\n",
      "    distutils.errors.DistutilsError: Command '['C:\\\\Users\\\\Riadh\\\\.conda\\\\envs\\\\gee\\\\python.exe', '-m', 'pip', '--disable-pip-version-check', 'wheel', '--no-deps', '-w', 'C:\\\\Users\\\\Riadh\\\\AppData\\\\Local\\\\Temp\\\\tmph0xst3bo', '--quiet', 'distribute']' returned non-zero exit status 2.\n",
      "    ----------------------------------------\n",
      "WARNING: Discarding https://files.pythonhosted.org/packages/e2/46/3754073706e31670eed18bfa8a879305b56a471db15f20523c2427b10078/dotenv-0.0.5.tar.gz#sha256=b58d2ab3f83dbd4f8a362b21158a606bee87317a9444485566b3c8f0af847091 (from https://pypi.org/simple/dotenv/). Command errored out with exit status 1: python setup.py egg_info Check the logs for full command output.\n",
      "    ERROR: Command errored out with exit status 1:\n",
      "     command: 'C:\\Users\\Riadh\\.conda\\envs\\gee\\python.exe' -c 'import io, os, sys, setuptools, tokenize; sys.argv[0] = '\"'\"'C:\\\\Users\\\\Riadh\\\\AppData\\\\Local\\\\Temp\\\\pip-install-md6rjt6o\\\\dotenv_e8d448dfba5c4e3aab390d18db4140a6\\\\setup.py'\"'\"'; __file__='\"'\"'C:\\\\Users\\\\Riadh\\\\AppData\\\\Local\\\\Temp\\\\pip-install-md6rjt6o\\\\dotenv_e8d448dfba5c4e3aab390d18db4140a6\\\\setup.py'\"'\"';f = getattr(tokenize, '\"'\"'open'\"'\"', open)(__file__) if os.path.exists(__file__) else io.StringIO('\"'\"'from setuptools import setup; setup()'\"'\"');code = f.read().replace('\"'\"'\\r\\n'\"'\"', '\"'\"'\\n'\"'\"');f.close();exec(compile(code, __file__, '\"'\"'exec'\"'\"'))' egg_info --egg-base 'C:\\Users\\Riadh\\AppData\\Local\\Temp\\pip-pip-egg-info-91dzodfj'\n",
      "         cwd: C:\\Users\\Riadh\\AppData\\Local\\Temp\\pip-install-md6rjt6o\\dotenv_e8d448dfba5c4e3aab390d18db4140a6\\\n",
      "    Complete output (1168 lines):\n",
      "        ERROR: Command errored out with exit status 1:\n",
      "         command: 'C:\\Users\\Riadh\\.conda\\envs\\gee\\python.exe' -c 'import io, os, sys, setuptools, tokenize; sys.argv[0] = '\"'\"'C:\\\\Users\\\\Riadh\\\\AppData\\\\Local\\\\Temp\\\\pip-wheel-pnc4rdl5\\\\distribute_def9b8a6071e4829bb5c1aacfbbee259\\\\setup.py'\"'\"'; __file__='\"'\"'C:\\\\Users\\\\Riadh\\\\AppData\\\\Local\\\\Temp\\\\pip-wheel-pnc4rdl5\\\\distribute_def9b8a6071e4829bb5c1aacfbbee259\\\\setup.py'\"'\"';f = getattr(tokenize, '\"'\"'open'\"'\"', open)(__file__) if os.path.exists(__file__) else io.StringIO('\"'\"'from setuptools import setup; setup()'\"'\"');code = f.read().replace('\"'\"'\\r\\n'\"'\"', '\"'\"'\\n'\"'\"');f.close();exec(compile(code, __file__, '\"'\"'exec'\"'\"'))' egg_info --egg-base 'C:\\Users\\Riadh\\AppData\\Local\\Temp\\pip-pip-egg-info-be3t05ve'\n",
      "             cwd: C:\\Users\\Riadh\\AppData\\Local\\Temp\\pip-wheel-pnc4rdl5\\distribute_def9b8a6071e4829bb5c1aacfbbee259\\\n",
      "        Complete output (15 lines):\n",
      "        Traceback (most recent call last):\n",
      "          File \"<string>\", line 1, in <module>\n",
      "          File \"C:\\Users\\Riadh\\AppData\\Local\\Temp\\pip-wheel-pnc4rdl5\\distribute_def9b8a6071e4829bb5c1aacfbbee259\\setuptools\\__init__.py\", line 2, in <module>\n",
      "            from setuptools.extension import Extension, Library\n",
      "          File \"C:\\Users\\Riadh\\AppData\\Local\\Temp\\pip-wheel-pnc4rdl5\\distribute_def9b8a6071e4829bb5c1aacfbbee259\\setuptools\\extension.py\", line 5, in <module>\n",
      "            from setuptools.dist import _get_unpatched\n",
      "          File \"C:\\Users\\Riadh\\AppData\\Local\\Temp\\pip-wheel-pnc4rdl5\\distribute_def9b8a6071e4829bb5c1aacfbbee259\\setuptools\\dist.py\", line 7, in <module>\n",
      "            from setuptools.command.install import install\n",
      "          File \"C:\\Users\\Riadh\\AppData\\Local\\Temp\\pip-wheel-pnc4rdl5\\distribute_def9b8a6071e4829bb5c1aacfbbee259\\setuptools\\command\\__init__.py\", line 8, in <module>\n",
      "            from setuptools.command import install_scripts\n",
      "          File \"C:\\Users\\Riadh\\AppData\\Local\\Temp\\pip-wheel-pnc4rdl5\\distribute_def9b8a6071e4829bb5c1aacfbbee259\\setuptools\\command\\install_scripts.py\", line 3, in <module>\n",
      "            from pkg_resources import Distribution, PathMetadata, ensure_directory\n",
      "          File \"C:\\Users\\Riadh\\AppData\\Local\\Temp\\pip-wheel-pnc4rdl5\\distribute_def9b8a6071e4829bb5c1aacfbbee259\\pkg_resources.py\", line 1518, in <module>\n",
      "            register_loader_type(importlib_bootstrap.SourceFileLoader, DefaultProvider)\n",
      "        AttributeError: module 'importlib._bootstrap' has no attribute 'SourceFileLoader'\n",
      "        ----------------------------------------\n",
      "    WARNING: Discarding https://files.pythonhosted.org/packages/5f/ad/1fde06877a8d7d5c9b60eff7de2d452f639916ae1d48f0b8f97bf97e570a/distribute-0.7.3.zip#sha256=3dc7a8d059dcf72f0ead2fa2144a24ee0ef07dce816e8c3545d7345767138c5e (from https://pypi.org/simple/distribute/). Command errored out with exit status 1: python setup.py egg_info Check the logs for full command output.\n",
      "        ERROR: Command errored out with exit status 1:\n",
      "         command: 'C:\\Users\\Riadh\\.conda\\envs\\gee\\python.exe' -c 'import io, os, sys, setuptools, tokenize; sys.argv[0] = '\"'\"'C:\\\\Users\\\\Riadh\\\\AppData\\\\Local\\\\Temp\\\\pip-wheel-pnc4rdl5\\\\distribute_10276b696a4643f69b1d5d1d88407b9d\\\\setup.py'\"'\"'; __file__='\"'\"'C:\\\\Users\\\\Riadh\\\\AppData\\\\Local\\\\Temp\\\\pip-wheel-pnc4rdl5\\\\distribute_10276b696a4643f69b1d5d1d88407b9d\\\\setup.py'\"'\"';f = getattr(tokenize, '\"'\"'open'\"'\"', open)(__file__) if os.path.exists(__file__) else io.StringIO('\"'\"'from setuptools import setup; setup()'\"'\"');code = f.read().replace('\"'\"'\\r\\n'\"'\"', '\"'\"'\\n'\"'\"');f.close();exec(compile(code, __file__, '\"'\"'exec'\"'\"'))' egg_info --egg-base 'C:\\Users\\Riadh\\AppData\\Local\\Temp\\pip-pip-egg-info-yz_g5umn'\n",
      "             cwd: C:\\Users\\Riadh\\AppData\\Local\\Temp\\pip-wheel-pnc4rdl5\\distribute_10276b696a4643f69b1d5d1d88407b9d\\\n",
      "        Complete output (10 lines):\n",
      "        Traceback (most recent call last):\n",
      "          File \"<string>\", line 1, in <module>\n",
      "          File \"C:\\Users\\Riadh\\AppData\\Local\\Temp\\pip-wheel-pnc4rdl5\\distribute_10276b696a4643f69b1d5d1d88407b9d\\setuptools\\__init__.py\", line 2, in <module>\n",
      "            from setuptools.extension import Extension, Library\n",
      "          File \"C:\\Users\\Riadh\\AppData\\Local\\Temp\\pip-wheel-pnc4rdl5\\distribute_10276b696a4643f69b1d5d1d88407b9d\\setuptools\\extension.py\", line 5, in <module>\n",
      "            from setuptools.dist import _get_unpatched\n",
      "          File \"C:\\Users\\Riadh\\AppData\\Local\\Temp\\pip-wheel-pnc4rdl5\\distribute_10276b696a4643f69b1d5d1d88407b9d\\setuptools\\dist.py\", line 103\n",
      "            except ValueError, e:\n",
      "                             ^\n",
      "        SyntaxError: invalid syntax\n",
      "        ----------------------------------------\n",
      "    WARNING: Discarding https://files.pythonhosted.org/packages/67/58/fb1902ce3aee9d868648bb1bb44ca6fdeac04726a6053741bf0485390ec4/distribute-0.6.49.zip#sha256=2e6ef91d00784f9680b413e2a2f4d7c1456927cd9a34ebce99448cd4fbf6fbb8 (from https://pypi.org/simple/distribute/). Command errored out with exit status 1: python setup.py egg_info Check the logs for full command output.\n",
      "        ERROR: Command errored out with exit status 1:\n",
      "         command: 'C:\\Users\\Riadh\\.conda\\envs\\gee\\python.exe' -c 'import io, os, sys, setuptools, tokenize; sys.argv[0] = '\"'\"'C:\\\\Users\\\\Riadh\\\\AppData\\\\Local\\\\Temp\\\\pip-wheel-pnc4rdl5\\\\distribute_4941bf99c10843cabec870c4346f3565\\\\setup.py'\"'\"'; __file__='\"'\"'C:\\\\Users\\\\Riadh\\\\AppData\\\\Local\\\\Temp\\\\pip-wheel-pnc4rdl5\\\\distribute_4941bf99c10843cabec870c4346f3565\\\\setup.py'\"'\"';f = getattr(tokenize, '\"'\"'open'\"'\"', open)(__file__) if os.path.exists(__file__) else io.StringIO('\"'\"'from setuptools import setup; setup()'\"'\"');code = f.read().replace('\"'\"'\\r\\n'\"'\"', '\"'\"'\\n'\"'\"');f.close();exec(compile(code, __file__, '\"'\"'exec'\"'\"'))' egg_info --egg-base 'C:\\Users\\Riadh\\AppData\\Local\\Temp\\pip-pip-egg-info-456_o8cw'\n",
      "             cwd: C:\\Users\\Riadh\\AppData\\Local\\Temp\\pip-wheel-pnc4rdl5\\distribute_4941bf99c10843cabec870c4346f3565\\\n",
      "        Complete output (10 lines):\n",
      "        Traceback (most recent call last):\n",
      "          File \"<string>\", line 1, in <module>\n",
      "          File \"C:\\Users\\Riadh\\AppData\\Local\\Temp\\pip-wheel-pnc4rdl5\\distribute_4941bf99c10843cabec870c4346f3565\\setuptools\\__init__.py\", line 2, in <module>\n",
      "            from setuptools.extension import Extension, Library\n",
      "          File \"C:\\Users\\Riadh\\AppData\\Local\\Temp\\pip-wheel-pnc4rdl5\\distribute_4941bf99c10843cabec870c4346f3565\\setuptools\\extension.py\", line 5, in <module>\n",
      "            from setuptools.dist import _get_unpatched\n",
      "          File \"C:\\Users\\Riadh\\AppData\\Local\\Temp\\pip-wheel-pnc4rdl5\\distribute_4941bf99c10843cabec870c4346f3565\\setuptools\\dist.py\", line 103\n",
      "            except ValueError, e:\n",
      "                             ^\n",
      "        SyntaxError: invalid syntax\n",
      "        ----------------------------------------\n",
      "    WARNING: Discarding https://files.pythonhosted.org/packages/f3/2b/e97c01487b7636ba3fcff5e73db995c66c524d54d0907d238311524f67c8/distribute-0.6.49.tar.gz#sha256=b877a9f155fc13cbf409d4fdbf709d25c24f28dfe3531ecb419eb069bd80e878 (from https://pypi.org/simple/distribute/). Command errored out with exit status 1: python setup.py egg_info Check the logs for full command output.\n",
      "        ERROR: Command errored out with exit status 1:\n",
      "         command: 'C:\\Users\\Riadh\\.conda\\envs\\gee\\python.exe' -c 'import io, os, sys, setuptools, tokenize; sys.argv[0] = '\"'\"'C:\\\\Users\\\\Riadh\\\\AppData\\\\Local\\\\Temp\\\\pip-wheel-pnc4rdl5\\\\distribute_c7573639c46b4e0ca98ab4205f8009b7\\\\setup.py'\"'\"'; __file__='\"'\"'C:\\\\Users\\\\Riadh\\\\AppData\\\\Local\\\\Temp\\\\pip-wheel-pnc4rdl5\\\\distribute_c7573639c46b4e0ca98ab4205f8009b7\\\\setup.py'\"'\"';f = getattr(tokenize, '\"'\"'open'\"'\"', open)(__file__) if os.path.exists(__file__) else io.StringIO('\"'\"'from setuptools import setup; setup()'\"'\"');code = f.read().replace('\"'\"'\\r\\n'\"'\"', '\"'\"'\\n'\"'\"');f.close();exec(compile(code, __file__, '\"'\"'exec'\"'\"'))' egg_info --egg-base 'C:\\Users\\Riadh\\AppData\\Local\\Temp\\pip-pip-egg-info-wjbbf4l2'\n",
      "             cwd: C:\\Users\\Riadh\\AppData\\Local\\Temp\\pip-wheel-pnc4rdl5\\distribute_c7573639c46b4e0ca98ab4205f8009b7\\\n",
      "        Complete output (10 lines):\n",
      "        Traceback (most recent call last):\n",
      "          File \"<string>\", line 1, in <module>\n",
      "          File \"C:\\Users\\Riadh\\AppData\\Local\\Temp\\pip-wheel-pnc4rdl5\\distribute_c7573639c46b4e0ca98ab4205f8009b7\\setuptools\\__init__.py\", line 2, in <module>\n",
      "            from setuptools.extension import Extension, Library\n",
      "          File \"C:\\Users\\Riadh\\AppData\\Local\\Temp\\pip-wheel-pnc4rdl5\\distribute_c7573639c46b4e0ca98ab4205f8009b7\\setuptools\\extension.py\", line 5, in <module>\n",
      "            from setuptools.dist import _get_unpatched\n",
      "          File \"C:\\Users\\Riadh\\AppData\\Local\\Temp\\pip-wheel-pnc4rdl5\\distribute_c7573639c46b4e0ca98ab4205f8009b7\\setuptools\\dist.py\", line 103\n",
      "            except ValueError, e:\n",
      "                             ^\n",
      "        SyntaxError: invalid syntax\n",
      "        ----------------------------------------\n",
      "    WARNING: Discarding https://files.pythonhosted.org/packages/8e/5d/a47e0d4891cd8aff83e331440732972661541320e92dbb05e38dd17c29e2/distribute-0.6.48.zip#sha256=89d9f1e9c8f9ff3c96c1292f5e4511b3b30462caabafcf7cc1ee7264c6df755f (from https://pypi.org/simple/distribute/). Command errored out with exit status 1: python setup.py egg_info Check the logs for full command output.\n",
      "        ERROR: Command errored out with exit status 1:\n",
      "         command: 'C:\\Users\\Riadh\\.conda\\envs\\gee\\python.exe' -c 'import io, os, sys, setuptools, tokenize; sys.argv[0] = '\"'\"'C:\\\\Users\\\\Riadh\\\\AppData\\\\Local\\\\Temp\\\\pip-wheel-pnc4rdl5\\\\distribute_bafdc06df8b04ca4b79affab3c4a15c0\\\\setup.py'\"'\"'; __file__='\"'\"'C:\\\\Users\\\\Riadh\\\\AppData\\\\Local\\\\Temp\\\\pip-wheel-pnc4rdl5\\\\distribute_bafdc06df8b04ca4b79affab3c4a15c0\\\\setup.py'\"'\"';f = getattr(tokenize, '\"'\"'open'\"'\"', open)(__file__) if os.path.exists(__file__) else io.StringIO('\"'\"'from setuptools import setup; setup()'\"'\"');code = f.read().replace('\"'\"'\\r\\n'\"'\"', '\"'\"'\\n'\"'\"');f.close();exec(compile(code, __file__, '\"'\"'exec'\"'\"'))' egg_info --egg-base 'C:\\Users\\Riadh\\AppData\\Local\\Temp\\pip-pip-egg-info-vv2oc9o1'\n",
      "             cwd: C:\\Users\\Riadh\\AppData\\Local\\Temp\\pip-wheel-pnc4rdl5\\distribute_bafdc06df8b04ca4b79affab3c4a15c0\\\n",
      "        Complete output (10 lines):\n",
      "        Traceback (most recent call last):\n",
      "          File \"<string>\", line 1, in <module>\n",
      "          File \"C:\\Users\\Riadh\\AppData\\Local\\Temp\\pip-wheel-pnc4rdl5\\distribute_bafdc06df8b04ca4b79affab3c4a15c0\\setuptools\\__init__.py\", line 2, in <module>\n",
      "            from setuptools.extension import Extension, Library\n",
      "          File \"C:\\Users\\Riadh\\AppData\\Local\\Temp\\pip-wheel-pnc4rdl5\\distribute_bafdc06df8b04ca4b79affab3c4a15c0\\setuptools\\extension.py\", line 5, in <module>\n",
      "            from setuptools.dist import _get_unpatched\n",
      "          File \"C:\\Users\\Riadh\\AppData\\Local\\Temp\\pip-wheel-pnc4rdl5\\distribute_bafdc06df8b04ca4b79affab3c4a15c0\\setuptools\\dist.py\", line 103\n",
      "            except ValueError, e:\n",
      "                             ^\n",
      "        SyntaxError: invalid syntax\n",
      "        ----------------------------------------\n",
      "    WARNING: Discarding https://files.pythonhosted.org/packages/80/c0/c97660e5e4b13d999d150b1f55d88e3bf7e103a8eebd9d24ef7a2307741c/distribute-0.6.48.tar.gz#sha256=3b88a8b7eb585718f4647360f2ed80a2eed3c544ec59c641dea4ff29310cd6bc (from https://pypi.org/simple/distribute/). Command errored out with exit status 1: python setup.py egg_info Check the logs for full command output.\n",
      "        ERROR: Command errored out with exit status 1:\n",
      "         command: 'C:\\Users\\Riadh\\.conda\\envs\\gee\\python.exe' -c 'import io, os, sys, setuptools, tokenize; sys.argv[0] = '\"'\"'C:\\\\Users\\\\Riadh\\\\AppData\\\\Local\\\\Temp\\\\pip-wheel-pnc4rdl5\\\\distribute_84c798243593453c8af75315513ecf4b\\\\setup.py'\"'\"'; __file__='\"'\"'C:\\\\Users\\\\Riadh\\\\AppData\\\\Local\\\\Temp\\\\pip-wheel-pnc4rdl5\\\\distribute_84c798243593453c8af75315513ecf4b\\\\setup.py'\"'\"';f = getattr(tokenize, '\"'\"'open'\"'\"', open)(__file__) if os.path.exists(__file__) else io.StringIO('\"'\"'from setuptools import setup; setup()'\"'\"');code = f.read().replace('\"'\"'\\r\\n'\"'\"', '\"'\"'\\n'\"'\"');f.close();exec(compile(code, __file__, '\"'\"'exec'\"'\"'))' egg_info --egg-base 'C:\\Users\\Riadh\\AppData\\Local\\Temp\\pip-pip-egg-info-c3g8_3i9'\n",
      "             cwd: C:\\Users\\Riadh\\AppData\\Local\\Temp\\pip-wheel-pnc4rdl5\\distribute_84c798243593453c8af75315513ecf4b\\\n",
      "        Complete output (10 lines):\n",
      "        Traceback (most recent call last):\n",
      "          File \"<string>\", line 1, in <module>\n",
      "          File \"C:\\Users\\Riadh\\AppData\\Local\\Temp\\pip-wheel-pnc4rdl5\\distribute_84c798243593453c8af75315513ecf4b\\setuptools\\__init__.py\", line 2, in <module>\n",
      "            from setuptools.extension import Extension, Library\n",
      "          File \"C:\\Users\\Riadh\\AppData\\Local\\Temp\\pip-wheel-pnc4rdl5\\distribute_84c798243593453c8af75315513ecf4b\\setuptools\\extension.py\", line 5, in <module>\n",
      "            from setuptools.dist import _get_unpatched\n",
      "          File \"C:\\Users\\Riadh\\AppData\\Local\\Temp\\pip-wheel-pnc4rdl5\\distribute_84c798243593453c8af75315513ecf4b\\setuptools\\dist.py\", line 103\n",
      "            except ValueError, e:\n",
      "                             ^\n",
      "        SyntaxError: invalid syntax\n",
      "        ----------------------------------------\n",
      "    WARNING: Discarding https://files.pythonhosted.org/packages/5d/5f/3938baf3c82179d1850a9ea2c5939377a81d644acccb094d64d1e1118f75/distribute-0.6.47.zip#sha256=22d4920651da97ce023c3ac22b32464b9c6dd2d8d22d447534cfaf41fb2faac0 (from https://pypi.org/simple/distribute/). Command errored out with exit status 1: python setup.py egg_info Check the logs for full command output.\n",
      "        ERROR: Command errored out with exit status 1:\n",
      "         command: 'C:\\Users\\Riadh\\.conda\\envs\\gee\\python.exe' -c 'import io, os, sys, setuptools, tokenize; sys.argv[0] = '\"'\"'C:\\\\Users\\\\Riadh\\\\AppData\\\\Local\\\\Temp\\\\pip-wheel-pnc4rdl5\\\\distribute_ef26f92c117641cb99c86da15397214b\\\\setup.py'\"'\"'; __file__='\"'\"'C:\\\\Users\\\\Riadh\\\\AppData\\\\Local\\\\Temp\\\\pip-wheel-pnc4rdl5\\\\distribute_ef26f92c117641cb99c86da15397214b\\\\setup.py'\"'\"';f = getattr(tokenize, '\"'\"'open'\"'\"', open)(__file__) if os.path.exists(__file__) else io.StringIO('\"'\"'from setuptools import setup; setup()'\"'\"');code = f.read().replace('\"'\"'\\r\\n'\"'\"', '\"'\"'\\n'\"'\"');f.close();exec(compile(code, __file__, '\"'\"'exec'\"'\"'))' egg_info --egg-base 'C:\\Users\\Riadh\\AppData\\Local\\Temp\\pip-pip-egg-info-ozk8y50b'\n",
      "             cwd: C:\\Users\\Riadh\\AppData\\Local\\Temp\\pip-wheel-pnc4rdl5\\distribute_ef26f92c117641cb99c86da15397214b\\\n",
      "        Complete output (10 lines):\n",
      "        Traceback (most recent call last):\n",
      "          File \"<string>\", line 1, in <module>\n",
      "          File \"C:\\Users\\Riadh\\AppData\\Local\\Temp\\pip-wheel-pnc4rdl5\\distribute_ef26f92c117641cb99c86da15397214b\\setuptools\\__init__.py\", line 2, in <module>\n",
      "            from setuptools.extension import Extension, Library\n",
      "          File \"C:\\Users\\Riadh\\AppData\\Local\\Temp\\pip-wheel-pnc4rdl5\\distribute_ef26f92c117641cb99c86da15397214b\\setuptools\\extension.py\", line 5, in <module>\n",
      "            from setuptools.dist import _get_unpatched\n",
      "          File \"C:\\Users\\Riadh\\AppData\\Local\\Temp\\pip-wheel-pnc4rdl5\\distribute_ef26f92c117641cb99c86da15397214b\\setuptools\\dist.py\", line 103\n",
      "            except ValueError, e:\n",
      "                             ^\n",
      "        SyntaxError: invalid syntax\n",
      "        ----------------------------------------\n",
      "    WARNING: Discarding https://files.pythonhosted.org/packages/b4/f8/92222dccdb72d3b6f43b18ebcb93aa7f46849c44d23a5e98efe53c5eff55/distribute-0.6.47.tar.gz#sha256=89bb51db38a69bdd6099a8b487f8365d45e786596076f3f9fe17caa07a846774 (from https://pypi.org/simple/distribute/). Command errored out with exit status 1: python setup.py egg_info Check the logs for full command output.\n",
      "        ERROR: Command errored out with exit status 1:\n",
      "         command: 'C:\\Users\\Riadh\\.conda\\envs\\gee\\python.exe' -c 'import io, os, sys, setuptools, tokenize; sys.argv[0] = '\"'\"'C:\\\\Users\\\\Riadh\\\\AppData\\\\Local\\\\Temp\\\\pip-wheel-pnc4rdl5\\\\distribute_7044e3ce995c4a1897f9771d77881971\\\\setup.py'\"'\"'; __file__='\"'\"'C:\\\\Users\\\\Riadh\\\\AppData\\\\Local\\\\Temp\\\\pip-wheel-pnc4rdl5\\\\distribute_7044e3ce995c4a1897f9771d77881971\\\\setup.py'\"'\"';f = getattr(tokenize, '\"'\"'open'\"'\"', open)(__file__) if os.path.exists(__file__) else io.StringIO('\"'\"'from setuptools import setup; setup()'\"'\"');code = f.read().replace('\"'\"'\\r\\n'\"'\"', '\"'\"'\\n'\"'\"');f.close();exec(compile(code, __file__, '\"'\"'exec'\"'\"'))' egg_info --egg-base 'C:\\Users\\Riadh\\AppData\\Local\\Temp\\pip-pip-egg-info-8e7lj4jx'\n",
      "             cwd: C:\\Users\\Riadh\\AppData\\Local\\Temp\\pip-wheel-pnc4rdl5\\distribute_7044e3ce995c4a1897f9771d77881971\\\n",
      "        Complete output (10 lines):\n",
      "        Traceback (most recent call last):\n",
      "          File \"<string>\", line 1, in <module>\n",
      "          File \"C:\\Users\\Riadh\\AppData\\Local\\Temp\\pip-wheel-pnc4rdl5\\distribute_7044e3ce995c4a1897f9771d77881971\\setuptools\\__init__.py\", line 2, in <module>\n",
      "            from setuptools.extension import Extension, Library\n",
      "          File \"C:\\Users\\Riadh\\AppData\\Local\\Temp\\pip-wheel-pnc4rdl5\\distribute_7044e3ce995c4a1897f9771d77881971\\setuptools\\extension.py\", line 5, in <module>\n",
      "            from setuptools.dist import _get_unpatched\n",
      "          File \"C:\\Users\\Riadh\\AppData\\Local\\Temp\\pip-wheel-pnc4rdl5\\distribute_7044e3ce995c4a1897f9771d77881971\\setuptools\\dist.py\", line 103\n",
      "            except ValueError, e:\n",
      "                             ^\n",
      "        SyntaxError: invalid syntax\n",
      "        ----------------------------------------\n",
      "    WARNING: Discarding https://files.pythonhosted.org/packages/06/b9/74d0d48befa2bd9c32e06b5e69cda4ca5c8293ccb76ad862eaca1657518d/distribute-0.6.46.zip#sha256=08feb3fb8dc22cd610ecc9674eb014e91bc89fcc6e7156443dbafb6b49d96477 (from https://pypi.org/simple/distribute/). Command errored out with exit status 1: python setup.py egg_info Check the logs for full command output.\n",
      "        ERROR: Command errored out with exit status 1:\n",
      "         command: 'C:\\Users\\Riadh\\.conda\\envs\\gee\\python.exe' -c 'import io, os, sys, setuptools, tokenize; sys.argv[0] = '\"'\"'C:\\\\Users\\\\Riadh\\\\AppData\\\\Local\\\\Temp\\\\pip-wheel-pnc4rdl5\\\\distribute_664ce235f85849b29ed64f944c937f2d\\\\setup.py'\"'\"'; __file__='\"'\"'C:\\\\Users\\\\Riadh\\\\AppData\\\\Local\\\\Temp\\\\pip-wheel-pnc4rdl5\\\\distribute_664ce235f85849b29ed64f944c937f2d\\\\setup.py'\"'\"';f = getattr(tokenize, '\"'\"'open'\"'\"', open)(__file__) if os.path.exists(__file__) else io.StringIO('\"'\"'from setuptools import setup; setup()'\"'\"');code = f.read().replace('\"'\"'\\r\\n'\"'\"', '\"'\"'\\n'\"'\"');f.close();exec(compile(code, __file__, '\"'\"'exec'\"'\"'))' egg_info --egg-base 'C:\\Users\\Riadh\\AppData\\Local\\Temp\\pip-pip-egg-info-mr59u75r'\n",
      "             cwd: C:\\Users\\Riadh\\AppData\\Local\\Temp\\pip-wheel-pnc4rdl5\\distribute_664ce235f85849b29ed64f944c937f2d\\\n",
      "        Complete output (10 lines):\n",
      "        Traceback (most recent call last):\n",
      "          File \"<string>\", line 1, in <module>\n",
      "          File \"C:\\Users\\Riadh\\AppData\\Local\\Temp\\pip-wheel-pnc4rdl5\\distribute_664ce235f85849b29ed64f944c937f2d\\setuptools\\__init__.py\", line 2, in <module>\n",
      "            from setuptools.extension import Extension, Library\n",
      "          File \"C:\\Users\\Riadh\\AppData\\Local\\Temp\\pip-wheel-pnc4rdl5\\distribute_664ce235f85849b29ed64f944c937f2d\\setuptools\\extension.py\", line 5, in <module>\n",
      "            from setuptools.dist import _get_unpatched\n",
      "          File \"C:\\Users\\Riadh\\AppData\\Local\\Temp\\pip-wheel-pnc4rdl5\\distribute_664ce235f85849b29ed64f944c937f2d\\setuptools\\dist.py\", line 103\n",
      "            except ValueError, e:\n",
      "                             ^\n",
      "        SyntaxError: invalid syntax\n",
      "        ----------------------------------------\n",
      "    WARNING: Discarding https://files.pythonhosted.org/packages/e2/af/422a5b1ebfe6d8f54dcd1d846eaed1c71c85ebaa87d7ed8c22bcc974be99/distribute-0.6.46.tar.gz#sha256=6eed4e5ec5369d91e90c3d16713728b619423b8b02c2526cefb0602c086236c7 (from https://pypi.org/simple/distribute/). Command errored out with exit status 1: python setup.py egg_info Check the logs for full command output.\n",
      "        ERROR: Command errored out with exit status 1:\n",
      "         command: 'C:\\Users\\Riadh\\.conda\\envs\\gee\\python.exe' -c 'import io, os, sys, setuptools, tokenize; sys.argv[0] = '\"'\"'C:\\\\Users\\\\Riadh\\\\AppData\\\\Local\\\\Temp\\\\pip-wheel-pnc4rdl5\\\\distribute_e6a2a593c5bf4178964e128ddd429f85\\\\setup.py'\"'\"'; __file__='\"'\"'C:\\\\Users\\\\Riadh\\\\AppData\\\\Local\\\\Temp\\\\pip-wheel-pnc4rdl5\\\\distribute_e6a2a593c5bf4178964e128ddd429f85\\\\setup.py'\"'\"';f = getattr(tokenize, '\"'\"'open'\"'\"', open)(__file__) if os.path.exists(__file__) else io.StringIO('\"'\"'from setuptools import setup; setup()'\"'\"');code = f.read().replace('\"'\"'\\r\\n'\"'\"', '\"'\"'\\n'\"'\"');f.close();exec(compile(code, __file__, '\"'\"'exec'\"'\"'))' egg_info --egg-base 'C:\\Users\\Riadh\\AppData\\Local\\Temp\\pip-pip-egg-info-b0qj8uky'\n",
      "             cwd: C:\\Users\\Riadh\\AppData\\Local\\Temp\\pip-wheel-pnc4rdl5\\distribute_e6a2a593c5bf4178964e128ddd429f85\\\n",
      "        Complete output (10 lines):\n",
      "        Traceback (most recent call last):\n",
      "          File \"<string>\", line 1, in <module>\n",
      "          File \"C:\\Users\\Riadh\\AppData\\Local\\Temp\\pip-wheel-pnc4rdl5\\distribute_e6a2a593c5bf4178964e128ddd429f85\\setuptools\\__init__.py\", line 2, in <module>\n",
      "            from setuptools.extension import Extension, Library\n",
      "          File \"C:\\Users\\Riadh\\AppData\\Local\\Temp\\pip-wheel-pnc4rdl5\\distribute_e6a2a593c5bf4178964e128ddd429f85\\setuptools\\extension.py\", line 5, in <module>\n",
      "            from setuptools.dist import _get_unpatched\n",
      "          File \"C:\\Users\\Riadh\\AppData\\Local\\Temp\\pip-wheel-pnc4rdl5\\distribute_e6a2a593c5bf4178964e128ddd429f85\\setuptools\\dist.py\", line 103\n",
      "            except ValueError, e:\n",
      "                             ^\n",
      "        SyntaxError: invalid syntax\n",
      "        ----------------------------------------\n",
      "    WARNING: Discarding https://files.pythonhosted.org/packages/38/46/63a32f9ccc8724a5e36b6bcde2c2429ead90edbc646f7481a5357a3e1d1c/distribute-0.6.45.zip#sha256=d5e510cd44531aed207ea039455a486f2d8291dbf4b0bc7c57deef691586dd85 (from https://pypi.org/simple/distribute/). Command errored out with exit status 1: python setup.py egg_info Check the logs for full command output.\n",
      "        ERROR: Command errored out with exit status 1:\n",
      "         command: 'C:\\Users\\Riadh\\.conda\\envs\\gee\\python.exe' -c 'import io, os, sys, setuptools, tokenize; sys.argv[0] = '\"'\"'C:\\\\Users\\\\Riadh\\\\AppData\\\\Local\\\\Temp\\\\pip-wheel-pnc4rdl5\\\\distribute_c94a36b32bb543969cfe03e0be8fef94\\\\setup.py'\"'\"'; __file__='\"'\"'C:\\\\Users\\\\Riadh\\\\AppData\\\\Local\\\\Temp\\\\pip-wheel-pnc4rdl5\\\\distribute_c94a36b32bb543969cfe03e0be8fef94\\\\setup.py'\"'\"';f = getattr(tokenize, '\"'\"'open'\"'\"', open)(__file__) if os.path.exists(__file__) else io.StringIO('\"'\"'from setuptools import setup; setup()'\"'\"');code = f.read().replace('\"'\"'\\r\\n'\"'\"', '\"'\"'\\n'\"'\"');f.close();exec(compile(code, __file__, '\"'\"'exec'\"'\"'))' egg_info --egg-base 'C:\\Users\\Riadh\\AppData\\Local\\Temp\\pip-pip-egg-info-az9czam4'\n",
      "             cwd: C:\\Users\\Riadh\\AppData\\Local\\Temp\\pip-wheel-pnc4rdl5\\distribute_c94a36b32bb543969cfe03e0be8fef94\\\n",
      "        Complete output (10 lines):\n",
      "        Traceback (most recent call last):\n",
      "          File \"<string>\", line 1, in <module>\n",
      "          File \"C:\\Users\\Riadh\\AppData\\Local\\Temp\\pip-wheel-pnc4rdl5\\distribute_c94a36b32bb543969cfe03e0be8fef94\\setuptools\\__init__.py\", line 2, in <module>\n",
      "            from setuptools.extension import Extension, Library\n",
      "          File \"C:\\Users\\Riadh\\AppData\\Local\\Temp\\pip-wheel-pnc4rdl5\\distribute_c94a36b32bb543969cfe03e0be8fef94\\setuptools\\extension.py\", line 5, in <module>\n",
      "            from setuptools.dist import _get_unpatched\n",
      "          File \"C:\\Users\\Riadh\\AppData\\Local\\Temp\\pip-wheel-pnc4rdl5\\distribute_c94a36b32bb543969cfe03e0be8fef94\\setuptools\\dist.py\", line 103\n",
      "            except ValueError, e:\n",
      "                             ^\n",
      "        SyntaxError: invalid syntax\n",
      "        ----------------------------------------\n",
      "    WARNING: Discarding https://files.pythonhosted.org/packages/ae/e2/71b808010e2cd5e627706344d0d65df2e2d31d2b52d259f0bcb7b1827bf4/distribute-0.6.45.tar.gz#sha256=7c0b21329bbd087410ce4be4bf64058c1085a27e5ae5886a52950ff46ab9eb66 (from https://pypi.org/simple/distribute/). Command errored out with exit status 1: python setup.py egg_info Check the logs for full command output.\n",
      "        ERROR: Command errored out with exit status 1:\n",
      "         command: 'C:\\Users\\Riadh\\.conda\\envs\\gee\\python.exe' -c 'import io, os, sys, setuptools, tokenize; sys.argv[0] = '\"'\"'C:\\\\Users\\\\Riadh\\\\AppData\\\\Local\\\\Temp\\\\pip-wheel-pnc4rdl5\\\\distribute_8db4cbad5e2b448ab286687dbd3a58f9\\\\setup.py'\"'\"'; __file__='\"'\"'C:\\\\Users\\\\Riadh\\\\AppData\\\\Local\\\\Temp\\\\pip-wheel-pnc4rdl5\\\\distribute_8db4cbad5e2b448ab286687dbd3a58f9\\\\setup.py'\"'\"';f = getattr(tokenize, '\"'\"'open'\"'\"', open)(__file__) if os.path.exists(__file__) else io.StringIO('\"'\"'from setuptools import setup; setup()'\"'\"');code = f.read().replace('\"'\"'\\r\\n'\"'\"', '\"'\"'\\n'\"'\"');f.close();exec(compile(code, __file__, '\"'\"'exec'\"'\"'))' egg_info --egg-base 'C:\\Users\\Riadh\\AppData\\Local\\Temp\\pip-pip-egg-info-p5ery2h7'\n",
      "             cwd: C:\\Users\\Riadh\\AppData\\Local\\Temp\\pip-wheel-pnc4rdl5\\distribute_8db4cbad5e2b448ab286687dbd3a58f9\\\n",
      "        Complete output (10 lines):\n",
      "        Traceback (most recent call last):\n",
      "          File \"<string>\", line 1, in <module>\n",
      "          File \"C:\\Users\\Riadh\\AppData\\Local\\Temp\\pip-wheel-pnc4rdl5\\distribute_8db4cbad5e2b448ab286687dbd3a58f9\\setuptools\\__init__.py\", line 2, in <module>\n",
      "            from setuptools.extension import Extension, Library\n",
      "          File \"C:\\Users\\Riadh\\AppData\\Local\\Temp\\pip-wheel-pnc4rdl5\\distribute_8db4cbad5e2b448ab286687dbd3a58f9\\setuptools\\extension.py\", line 5, in <module>\n",
      "            from setuptools.dist import _get_unpatched\n",
      "          File \"C:\\Users\\Riadh\\AppData\\Local\\Temp\\pip-wheel-pnc4rdl5\\distribute_8db4cbad5e2b448ab286687dbd3a58f9\\setuptools\\dist.py\", line 103\n",
      "            except ValueError, e:\n",
      "                             ^\n",
      "        SyntaxError: invalid syntax\n",
      "        ----------------------------------------\n",
      "    WARNING: Discarding https://files.pythonhosted.org/packages/a0/0b/29fa375b60678ead8d63c33e66001ea4625eca089ddeddc1a998c13dc97d/distribute-0.6.44.zip#sha256=75dc4e98662c6d0cdb6752d0344c9aab1835284c58188eb374115c17221cbedd (from https://pypi.org/simple/distribute/). Command errored out with exit status 1: python setup.py egg_info Check the logs for full command output.\n",
      "        ERROR: Command errored out with exit status 1:\n",
      "         command: 'C:\\Users\\Riadh\\.conda\\envs\\gee\\python.exe' -c 'import io, os, sys, setuptools, tokenize; sys.argv[0] = '\"'\"'C:\\\\Users\\\\Riadh\\\\AppData\\\\Local\\\\Temp\\\\pip-wheel-pnc4rdl5\\\\distribute_c9795da9c5f34dab80d278bd43de6187\\\\setup.py'\"'\"'; __file__='\"'\"'C:\\\\Users\\\\Riadh\\\\AppData\\\\Local\\\\Temp\\\\pip-wheel-pnc4rdl5\\\\distribute_c9795da9c5f34dab80d278bd43de6187\\\\setup.py'\"'\"';f = getattr(tokenize, '\"'\"'open'\"'\"', open)(__file__) if os.path.exists(__file__) else io.StringIO('\"'\"'from setuptools import setup; setup()'\"'\"');code = f.read().replace('\"'\"'\\r\\n'\"'\"', '\"'\"'\\n'\"'\"');f.close();exec(compile(code, __file__, '\"'\"'exec'\"'\"'))' egg_info --egg-base 'C:\\Users\\Riadh\\AppData\\Local\\Temp\\pip-pip-egg-info-joty4399'\n",
      "             cwd: C:\\Users\\Riadh\\AppData\\Local\\Temp\\pip-wheel-pnc4rdl5\\distribute_c9795da9c5f34dab80d278bd43de6187\\\n",
      "        Complete output (10 lines):\n",
      "        Traceback (most recent call last):\n",
      "          File \"<string>\", line 1, in <module>\n",
      "          File \"C:\\Users\\Riadh\\AppData\\Local\\Temp\\pip-wheel-pnc4rdl5\\distribute_c9795da9c5f34dab80d278bd43de6187\\setuptools\\__init__.py\", line 2, in <module>\n",
      "            from setuptools.extension import Extension, Library\n",
      "          File \"C:\\Users\\Riadh\\AppData\\Local\\Temp\\pip-wheel-pnc4rdl5\\distribute_c9795da9c5f34dab80d278bd43de6187\\setuptools\\extension.py\", line 5, in <module>\n",
      "            from setuptools.dist import _get_unpatched\n",
      "          File \"C:\\Users\\Riadh\\AppData\\Local\\Temp\\pip-wheel-pnc4rdl5\\distribute_c9795da9c5f34dab80d278bd43de6187\\setuptools\\dist.py\", line 103\n",
      "            except ValueError, e:\n",
      "                             ^\n",
      "        SyntaxError: invalid syntax\n",
      "        ----------------------------------------\n",
      "    WARNING: Discarding https://files.pythonhosted.org/packages/94/f1/53fee5ab8ee3bd360e30188be3a0f0e277e46c6e1927085985ae37e0cfd1/distribute-0.6.44.tar.gz#sha256=1a7de57e6d95c08836ba644b012ace19515824567647e81a3c105b35b6982805 (from https://pypi.org/simple/distribute/). Command errored out with exit status 1: python setup.py egg_info Check the logs for full command output.\n",
      "        ERROR: Command errored out with exit status 1:\n",
      "         command: 'C:\\Users\\Riadh\\.conda\\envs\\gee\\python.exe' -c 'import io, os, sys, setuptools, tokenize; sys.argv[0] = '\"'\"'C:\\\\Users\\\\Riadh\\\\AppData\\\\Local\\\\Temp\\\\pip-wheel-pnc4rdl5\\\\distribute_2b4dcc161f3b4e568d8bec7b7c4921ef\\\\setup.py'\"'\"'; __file__='\"'\"'C:\\\\Users\\\\Riadh\\\\AppData\\\\Local\\\\Temp\\\\pip-wheel-pnc4rdl5\\\\distribute_2b4dcc161f3b4e568d8bec7b7c4921ef\\\\setup.py'\"'\"';f = getattr(tokenize, '\"'\"'open'\"'\"', open)(__file__) if os.path.exists(__file__) else io.StringIO('\"'\"'from setuptools import setup; setup()'\"'\"');code = f.read().replace('\"'\"'\\r\\n'\"'\"', '\"'\"'\\n'\"'\"');f.close();exec(compile(code, __file__, '\"'\"'exec'\"'\"'))' egg_info --egg-base 'C:\\Users\\Riadh\\AppData\\Local\\Temp\\pip-pip-egg-info-kwb6q207'\n",
      "             cwd: C:\\Users\\Riadh\\AppData\\Local\\Temp\\pip-wheel-pnc4rdl5\\distribute_2b4dcc161f3b4e568d8bec7b7c4921ef\\\n",
      "        Complete output (10 lines):\n",
      "        Traceback (most recent call last):\n",
      "          File \"<string>\", line 1, in <module>\n",
      "          File \"C:\\Users\\Riadh\\AppData\\Local\\Temp\\pip-wheel-pnc4rdl5\\distribute_2b4dcc161f3b4e568d8bec7b7c4921ef\\setuptools\\__init__.py\", line 2, in <module>\n",
      "            from setuptools.extension import Extension, Library\n",
      "          File \"C:\\Users\\Riadh\\AppData\\Local\\Temp\\pip-wheel-pnc4rdl5\\distribute_2b4dcc161f3b4e568d8bec7b7c4921ef\\setuptools\\extension.py\", line 5, in <module>\n",
      "            from setuptools.dist import _get_unpatched\n",
      "          File \"C:\\Users\\Riadh\\AppData\\Local\\Temp\\pip-wheel-pnc4rdl5\\distribute_2b4dcc161f3b4e568d8bec7b7c4921ef\\setuptools\\dist.py\", line 103\n",
      "            except ValueError, e:\n",
      "                             ^\n",
      "        SyntaxError: invalid syntax\n",
      "        ----------------------------------------\n",
      "    WARNING: Discarding https://files.pythonhosted.org/packages/8b/04/0bde724600729d8a2c5df48b04a90c98f5cd366a249629cb54541648df3e/distribute-0.6.43.zip#sha256=a8a92e9fb14367cea2f2bc4723b3710d7df6be3d0c12c5ae0253f65845ccac5e (from https://pypi.org/simple/distribute/). Command errored out with exit status 1: python setup.py egg_info Check the logs for full command output.\n",
      "        ERROR: Command errored out with exit status 1:\n",
      "         command: 'C:\\Users\\Riadh\\.conda\\envs\\gee\\python.exe' -c 'import io, os, sys, setuptools, tokenize; sys.argv[0] = '\"'\"'C:\\\\Users\\\\Riadh\\\\AppData\\\\Local\\\\Temp\\\\pip-wheel-pnc4rdl5\\\\distribute_64e3cc4952054b9faf5875a2b922b3c1\\\\setup.py'\"'\"'; __file__='\"'\"'C:\\\\Users\\\\Riadh\\\\AppData\\\\Local\\\\Temp\\\\pip-wheel-pnc4rdl5\\\\distribute_64e3cc4952054b9faf5875a2b922b3c1\\\\setup.py'\"'\"';f = getattr(tokenize, '\"'\"'open'\"'\"', open)(__file__) if os.path.exists(__file__) else io.StringIO('\"'\"'from setuptools import setup; setup()'\"'\"');code = f.read().replace('\"'\"'\\r\\n'\"'\"', '\"'\"'\\n'\"'\"');f.close();exec(compile(code, __file__, '\"'\"'exec'\"'\"'))' egg_info --egg-base 'C:\\Users\\Riadh\\AppData\\Local\\Temp\\pip-pip-egg-info-ydvlwb61'\n",
      "             cwd: C:\\Users\\Riadh\\AppData\\Local\\Temp\\pip-wheel-pnc4rdl5\\distribute_64e3cc4952054b9faf5875a2b922b3c1\\\n",
      "        Complete output (10 lines):\n",
      "        Traceback (most recent call last):\n",
      "          File \"<string>\", line 1, in <module>\n",
      "          File \"C:\\Users\\Riadh\\AppData\\Local\\Temp\\pip-wheel-pnc4rdl5\\distribute_64e3cc4952054b9faf5875a2b922b3c1\\setuptools\\__init__.py\", line 2, in <module>\n",
      "            from setuptools.extension import Extension, Library\n",
      "          File \"C:\\Users\\Riadh\\AppData\\Local\\Temp\\pip-wheel-pnc4rdl5\\distribute_64e3cc4952054b9faf5875a2b922b3c1\\setuptools\\extension.py\", line 5, in <module>\n",
      "            from setuptools.dist import _get_unpatched\n",
      "          File \"C:\\Users\\Riadh\\AppData\\Local\\Temp\\pip-wheel-pnc4rdl5\\distribute_64e3cc4952054b9faf5875a2b922b3c1\\setuptools\\dist.py\", line 103\n",
      "            except ValueError, e:\n",
      "                             ^\n",
      "        SyntaxError: invalid syntax\n",
      "        ----------------------------------------\n",
      "    WARNING: Discarding https://files.pythonhosted.org/packages/71/df/0fa0a5a64ac62c1fc8f94130795c0f8841a0103c431ea30f0450a4af3b8d/distribute-0.6.43.tar.gz#sha256=6f9de4b0dc8120180141dd7980057eb7968dad04457ff294efae2fe6e9376fd3 (from https://pypi.org/simple/distribute/). Command errored out with exit status 1: python setup.py egg_info Check the logs for full command output.\n",
      "        ERROR: Command errored out with exit status 1:\n",
      "         command: 'C:\\Users\\Riadh\\.conda\\envs\\gee\\python.exe' -c 'import io, os, sys, setuptools, tokenize; sys.argv[0] = '\"'\"'C:\\\\Users\\\\Riadh\\\\AppData\\\\Local\\\\Temp\\\\pip-wheel-pnc4rdl5\\\\distribute_a7a86dcae64f4cbf88be038298e20926\\\\setup.py'\"'\"'; __file__='\"'\"'C:\\\\Users\\\\Riadh\\\\AppData\\\\Local\\\\Temp\\\\pip-wheel-pnc4rdl5\\\\distribute_a7a86dcae64f4cbf88be038298e20926\\\\setup.py'\"'\"';f = getattr(tokenize, '\"'\"'open'\"'\"', open)(__file__) if os.path.exists(__file__) else io.StringIO('\"'\"'from setuptools import setup; setup()'\"'\"');code = f.read().replace('\"'\"'\\r\\n'\"'\"', '\"'\"'\\n'\"'\"');f.close();exec(compile(code, __file__, '\"'\"'exec'\"'\"'))' egg_info --egg-base 'C:\\Users\\Riadh\\AppData\\Local\\Temp\\pip-pip-egg-info-2jvtbb_f'\n",
      "             cwd: C:\\Users\\Riadh\\AppData\\Local\\Temp\\pip-wheel-pnc4rdl5\\distribute_a7a86dcae64f4cbf88be038298e20926\\\n",
      "        Complete output (10 lines):\n",
      "        Traceback (most recent call last):\n",
      "          File \"<string>\", line 1, in <module>\n",
      "          File \"C:\\Users\\Riadh\\AppData\\Local\\Temp\\pip-wheel-pnc4rdl5\\distribute_a7a86dcae64f4cbf88be038298e20926\\setuptools\\__init__.py\", line 2, in <module>\n",
      "            from setuptools.extension import Extension, Library\n",
      "          File \"C:\\Users\\Riadh\\AppData\\Local\\Temp\\pip-wheel-pnc4rdl5\\distribute_a7a86dcae64f4cbf88be038298e20926\\setuptools\\extension.py\", line 5, in <module>\n",
      "            from setuptools.dist import _get_unpatched\n",
      "          File \"C:\\Users\\Riadh\\AppData\\Local\\Temp\\pip-wheel-pnc4rdl5\\distribute_a7a86dcae64f4cbf88be038298e20926\\setuptools\\dist.py\", line 103\n",
      "            except ValueError, e:\n",
      "                             ^\n",
      "        SyntaxError: invalid syntax\n",
      "        ----------------------------------------\n",
      "    WARNING: Discarding https://files.pythonhosted.org/packages/f6/20/ea4efea35549719673ca24987de97339961409f00f26ee04025fd032f2da/distribute-0.6.42.zip#sha256=881896b5d895819d6bb894de85a7e6cbd90b3d1f3894441d09d805c4c069ef3c (from https://pypi.org/simple/distribute/). Command errored out with exit status 1: python setup.py egg_info Check the logs for full command output.\n",
      "        ERROR: Command errored out with exit status 1:\n",
      "         command: 'C:\\Users\\Riadh\\.conda\\envs\\gee\\python.exe' -c 'import io, os, sys, setuptools, tokenize; sys.argv[0] = '\"'\"'C:\\\\Users\\\\Riadh\\\\AppData\\\\Local\\\\Temp\\\\pip-wheel-pnc4rdl5\\\\distribute_eb26c9e6fcbc44adb6e93fbf67e814e9\\\\setup.py'\"'\"'; __file__='\"'\"'C:\\\\Users\\\\Riadh\\\\AppData\\\\Local\\\\Temp\\\\pip-wheel-pnc4rdl5\\\\distribute_eb26c9e6fcbc44adb6e93fbf67e814e9\\\\setup.py'\"'\"';f = getattr(tokenize, '\"'\"'open'\"'\"', open)(__file__) if os.path.exists(__file__) else io.StringIO('\"'\"'from setuptools import setup; setup()'\"'\"');code = f.read().replace('\"'\"'\\r\\n'\"'\"', '\"'\"'\\n'\"'\"');f.close();exec(compile(code, __file__, '\"'\"'exec'\"'\"'))' egg_info --egg-base 'C:\\Users\\Riadh\\AppData\\Local\\Temp\\pip-pip-egg-info-00yct88d'\n",
      "             cwd: C:\\Users\\Riadh\\AppData\\Local\\Temp\\pip-wheel-pnc4rdl5\\distribute_eb26c9e6fcbc44adb6e93fbf67e814e9\\\n",
      "        Complete output (10 lines):\n",
      "        Traceback (most recent call last):\n",
      "          File \"<string>\", line 1, in <module>\n",
      "          File \"C:\\Users\\Riadh\\AppData\\Local\\Temp\\pip-wheel-pnc4rdl5\\distribute_eb26c9e6fcbc44adb6e93fbf67e814e9\\setuptools\\__init__.py\", line 2, in <module>\n",
      "            from setuptools.extension import Extension, Library\n",
      "          File \"C:\\Users\\Riadh\\AppData\\Local\\Temp\\pip-wheel-pnc4rdl5\\distribute_eb26c9e6fcbc44adb6e93fbf67e814e9\\setuptools\\extension.py\", line 5, in <module>\n",
      "            from setuptools.dist import _get_unpatched\n",
      "          File \"C:\\Users\\Riadh\\AppData\\Local\\Temp\\pip-wheel-pnc4rdl5\\distribute_eb26c9e6fcbc44adb6e93fbf67e814e9\\setuptools\\dist.py\", line 103\n",
      "            except ValueError, e:\n",
      "                             ^\n",
      "        SyntaxError: invalid syntax\n",
      "        ----------------------------------------\n",
      "    WARNING: Discarding https://files.pythonhosted.org/packages/c8/52/c87242dc7f211b0ad4513772a77e9f917933eb3e80c63c3fe5a887c9f62d/distribute-0.6.42.tar.gz#sha256=097e6b62154966b2831f8d5d52a4106708d41f17e0074dc95b456516305b4508 (from https://pypi.org/simple/distribute/). Command errored out with exit status 1: python setup.py egg_info Check the logs for full command output.\n",
      "        ERROR: Command errored out with exit status 1:\n",
      "         command: 'C:\\Users\\Riadh\\.conda\\envs\\gee\\python.exe' -c 'import io, os, sys, setuptools, tokenize; sys.argv[0] = '\"'\"'C:\\\\Users\\\\Riadh\\\\AppData\\\\Local\\\\Temp\\\\pip-wheel-pnc4rdl5\\\\distribute_35efe6de53c849849787f41e16417b90\\\\setup.py'\"'\"'; __file__='\"'\"'C:\\\\Users\\\\Riadh\\\\AppData\\\\Local\\\\Temp\\\\pip-wheel-pnc4rdl5\\\\distribute_35efe6de53c849849787f41e16417b90\\\\setup.py'\"'\"';f = getattr(tokenize, '\"'\"'open'\"'\"', open)(__file__) if os.path.exists(__file__) else io.StringIO('\"'\"'from setuptools import setup; setup()'\"'\"');code = f.read().replace('\"'\"'\\r\\n'\"'\"', '\"'\"'\\n'\"'\"');f.close();exec(compile(code, __file__, '\"'\"'exec'\"'\"'))' egg_info --egg-base 'C:\\Users\\Riadh\\AppData\\Local\\Temp\\pip-pip-egg-info-geafd690'\n",
      "             cwd: C:\\Users\\Riadh\\AppData\\Local\\Temp\\pip-wheel-pnc4rdl5\\distribute_35efe6de53c849849787f41e16417b90\\\n",
      "        Complete output (10 lines):\n",
      "        Traceback (most recent call last):\n",
      "          File \"<string>\", line 1, in <module>\n",
      "          File \"C:\\Users\\Riadh\\AppData\\Local\\Temp\\pip-wheel-pnc4rdl5\\distribute_35efe6de53c849849787f41e16417b90\\setuptools\\__init__.py\", line 2, in <module>\n",
      "            from setuptools.extension import Extension, Library\n",
      "          File \"C:\\Users\\Riadh\\AppData\\Local\\Temp\\pip-wheel-pnc4rdl5\\distribute_35efe6de53c849849787f41e16417b90\\setuptools\\extension.py\", line 5, in <module>\n",
      "            from setuptools.dist import _get_unpatched\n",
      "          File \"C:\\Users\\Riadh\\AppData\\Local\\Temp\\pip-wheel-pnc4rdl5\\distribute_35efe6de53c849849787f41e16417b90\\setuptools\\dist.py\", line 103\n",
      "            except ValueError, e:\n",
      "                             ^\n",
      "        SyntaxError: invalid syntax\n",
      "        ----------------------------------------\n",
      "    WARNING: Discarding https://files.pythonhosted.org/packages/9b/df/e30c4a713d145a3b03c4c55abb2bba44026d52a5f30deae7cd0705d6c638/distribute-0.6.41.zip#sha256=41a6c67a5769dd522420534126af8970e9f662f22526b62fe8fed54d426f130a (from https://pypi.org/simple/distribute/). Command errored out with exit status 1: python setup.py egg_info Check the logs for full command output.\n",
      "        ERROR: Command errored out with exit status 1:\n",
      "         command: 'C:\\Users\\Riadh\\.conda\\envs\\gee\\python.exe' -c 'import io, os, sys, setuptools, tokenize; sys.argv[0] = '\"'\"'C:\\\\Users\\\\Riadh\\\\AppData\\\\Local\\\\Temp\\\\pip-wheel-pnc4rdl5\\\\distribute_df22f15d641e4b698887e383d0e28a15\\\\setup.py'\"'\"'; __file__='\"'\"'C:\\\\Users\\\\Riadh\\\\AppData\\\\Local\\\\Temp\\\\pip-wheel-pnc4rdl5\\\\distribute_df22f15d641e4b698887e383d0e28a15\\\\setup.py'\"'\"';f = getattr(tokenize, '\"'\"'open'\"'\"', open)(__file__) if os.path.exists(__file__) else io.StringIO('\"'\"'from setuptools import setup; setup()'\"'\"');code = f.read().replace('\"'\"'\\r\\n'\"'\"', '\"'\"'\\n'\"'\"');f.close();exec(compile(code, __file__, '\"'\"'exec'\"'\"'))' egg_info --egg-base 'C:\\Users\\Riadh\\AppData\\Local\\Temp\\pip-pip-egg-info-9j7w9ebg'\n",
      "             cwd: C:\\Users\\Riadh\\AppData\\Local\\Temp\\pip-wheel-pnc4rdl5\\distribute_df22f15d641e4b698887e383d0e28a15\\\n",
      "        Complete output (10 lines):\n",
      "        Traceback (most recent call last):\n",
      "          File \"<string>\", line 1, in <module>\n",
      "          File \"C:\\Users\\Riadh\\AppData\\Local\\Temp\\pip-wheel-pnc4rdl5\\distribute_df22f15d641e4b698887e383d0e28a15\\setuptools\\__init__.py\", line 2, in <module>\n",
      "            from setuptools.extension import Extension, Library\n",
      "          File \"C:\\Users\\Riadh\\AppData\\Local\\Temp\\pip-wheel-pnc4rdl5\\distribute_df22f15d641e4b698887e383d0e28a15\\setuptools\\extension.py\", line 5, in <module>\n",
      "            from setuptools.dist import _get_unpatched\n",
      "          File \"C:\\Users\\Riadh\\AppData\\Local\\Temp\\pip-wheel-pnc4rdl5\\distribute_df22f15d641e4b698887e383d0e28a15\\setuptools\\dist.py\", line 103\n",
      "            except ValueError, e:\n",
      "                             ^\n",
      "        SyntaxError: invalid syntax\n",
      "        ----------------------------------------\n",
      "    WARNING: Discarding https://files.pythonhosted.org/packages/2d/d7/8a90509f92b3fcf9b0b4ea35e5f520b073814ce15d3294360f85761e3f88/distribute-0.6.41.tar.gz#sha256=7ca6e0ca3c76be3c37a9340170e531045700a5db778c5849066e24622e7f9f4b (from https://pypi.org/simple/distribute/). Command errored out with exit status 1: python setup.py egg_info Check the logs for full command output.\n",
      "        ERROR: Command errored out with exit status 1:\n",
      "         command: 'C:\\Users\\Riadh\\.conda\\envs\\gee\\python.exe' -c 'import io, os, sys, setuptools, tokenize; sys.argv[0] = '\"'\"'C:\\\\Users\\\\Riadh\\\\AppData\\\\Local\\\\Temp\\\\pip-wheel-pnc4rdl5\\\\distribute_d6e342001d5b485482ce91fda996ad05\\\\setup.py'\"'\"'; __file__='\"'\"'C:\\\\Users\\\\Riadh\\\\AppData\\\\Local\\\\Temp\\\\pip-wheel-pnc4rdl5\\\\distribute_d6e342001d5b485482ce91fda996ad05\\\\setup.py'\"'\"';f = getattr(tokenize, '\"'\"'open'\"'\"', open)(__file__) if os.path.exists(__file__) else io.StringIO('\"'\"'from setuptools import setup; setup()'\"'\"');code = f.read().replace('\"'\"'\\r\\n'\"'\"', '\"'\"'\\n'\"'\"');f.close();exec(compile(code, __file__, '\"'\"'exec'\"'\"'))' egg_info --egg-base 'C:\\Users\\Riadh\\AppData\\Local\\Temp\\pip-pip-egg-info-is9y8rxy'\n",
      "             cwd: C:\\Users\\Riadh\\AppData\\Local\\Temp\\pip-wheel-pnc4rdl5\\distribute_d6e342001d5b485482ce91fda996ad05\\\n",
      "        Complete output (10 lines):\n",
      "        Traceback (most recent call last):\n",
      "          File \"<string>\", line 1, in <module>\n",
      "          File \"C:\\Users\\Riadh\\AppData\\Local\\Temp\\pip-wheel-pnc4rdl5\\distribute_d6e342001d5b485482ce91fda996ad05\\setuptools\\__init__.py\", line 2, in <module>\n",
      "            from setuptools.extension import Extension, Library\n",
      "          File \"C:\\Users\\Riadh\\AppData\\Local\\Temp\\pip-wheel-pnc4rdl5\\distribute_d6e342001d5b485482ce91fda996ad05\\setuptools\\extension.py\", line 5, in <module>\n",
      "            from setuptools.dist import _get_unpatched\n",
      "          File \"C:\\Users\\Riadh\\AppData\\Local\\Temp\\pip-wheel-pnc4rdl5\\distribute_d6e342001d5b485482ce91fda996ad05\\setuptools\\dist.py\", line 103\n",
      "            except ValueError, e:\n",
      "                             ^\n",
      "        SyntaxError: invalid syntax\n",
      "        ----------------------------------------\n",
      "    WARNING: Discarding https://files.pythonhosted.org/packages/4c/a8/9306aee26830e151e78bbfa44f0fa6d03e79c2ee76270840f05f89171e7f/distribute-0.6.40.zip#sha256=6e1454702a1e2311cf6654b702828a0eecf73afea22e02aefde05c92f15e7280 (from https://pypi.org/simple/distribute/). Command errored out with exit status 1: python setup.py egg_info Check the logs for full command output.\n",
      "        ERROR: Command errored out with exit status 1:\n",
      "         command: 'C:\\Users\\Riadh\\.conda\\envs\\gee\\python.exe' -c 'import io, os, sys, setuptools, tokenize; sys.argv[0] = '\"'\"'C:\\\\Users\\\\Riadh\\\\AppData\\\\Local\\\\Temp\\\\pip-wheel-pnc4rdl5\\\\distribute_9d0c782c22b84fe4a9c013bca699ee73\\\\setup.py'\"'\"'; __file__='\"'\"'C:\\\\Users\\\\Riadh\\\\AppData\\\\Local\\\\Temp\\\\pip-wheel-pnc4rdl5\\\\distribute_9d0c782c22b84fe4a9c013bca699ee73\\\\setup.py'\"'\"';f = getattr(tokenize, '\"'\"'open'\"'\"', open)(__file__) if os.path.exists(__file__) else io.StringIO('\"'\"'from setuptools import setup; setup()'\"'\"');code = f.read().replace('\"'\"'\\r\\n'\"'\"', '\"'\"'\\n'\"'\"');f.close();exec(compile(code, __file__, '\"'\"'exec'\"'\"'))' egg_info --egg-base 'C:\\Users\\Riadh\\AppData\\Local\\Temp\\pip-pip-egg-info-kzrg4h6w'\n",
      "             cwd: C:\\Users\\Riadh\\AppData\\Local\\Temp\\pip-wheel-pnc4rdl5\\distribute_9d0c782c22b84fe4a9c013bca699ee73\\\n",
      "        Complete output (10 lines):\n",
      "        Traceback (most recent call last):\n",
      "          File \"<string>\", line 1, in <module>\n",
      "          File \"C:\\Users\\Riadh\\AppData\\Local\\Temp\\pip-wheel-pnc4rdl5\\distribute_9d0c782c22b84fe4a9c013bca699ee73\\setuptools\\__init__.py\", line 2, in <module>\n",
      "            from setuptools.extension import Extension, Library\n",
      "          File \"C:\\Users\\Riadh\\AppData\\Local\\Temp\\pip-wheel-pnc4rdl5\\distribute_9d0c782c22b84fe4a9c013bca699ee73\\setuptools\\extension.py\", line 5, in <module>\n",
      "            from setuptools.dist import _get_unpatched\n",
      "          File \"C:\\Users\\Riadh\\AppData\\Local\\Temp\\pip-wheel-pnc4rdl5\\distribute_9d0c782c22b84fe4a9c013bca699ee73\\setuptools\\dist.py\", line 103\n",
      "            except ValueError, e:\n",
      "                             ^\n",
      "        SyntaxError: invalid syntax\n",
      "        ----------------------------------------\n",
      "    WARNING: Discarding https://files.pythonhosted.org/packages/bc/a4/df58ee742593190e4c613f15f1457be7e8408d5c9432fb41e061e0e785f0/distribute-0.6.40.tar.gz#sha256=5e06a3097f4150b26e4de0d4f57dbe7425ac3645ce7a337abffab8489bc80daa (from https://pypi.org/simple/distribute/). Command errored out with exit status 1: python setup.py egg_info Check the logs for full command output.\n",
      "        ERROR: Command errored out with exit status 1:\n",
      "         command: 'C:\\Users\\Riadh\\.conda\\envs\\gee\\python.exe' -c 'import io, os, sys, setuptools, tokenize; sys.argv[0] = '\"'\"'C:\\\\Users\\\\Riadh\\\\AppData\\\\Local\\\\Temp\\\\pip-wheel-pnc4rdl5\\\\distribute_5e5ed1ed69dd499fbad1bbab8934c544\\\\setup.py'\"'\"'; __file__='\"'\"'C:\\\\Users\\\\Riadh\\\\AppData\\\\Local\\\\Temp\\\\pip-wheel-pnc4rdl5\\\\distribute_5e5ed1ed69dd499fbad1bbab8934c544\\\\setup.py'\"'\"';f = getattr(tokenize, '\"'\"'open'\"'\"', open)(__file__) if os.path.exists(__file__) else io.StringIO('\"'\"'from setuptools import setup; setup()'\"'\"');code = f.read().replace('\"'\"'\\r\\n'\"'\"', '\"'\"'\\n'\"'\"');f.close();exec(compile(code, __file__, '\"'\"'exec'\"'\"'))' egg_info --egg-base 'C:\\Users\\Riadh\\AppData\\Local\\Temp\\pip-pip-egg-info-be001oaf'\n",
      "             cwd: C:\\Users\\Riadh\\AppData\\Local\\Temp\\pip-wheel-pnc4rdl5\\distribute_5e5ed1ed69dd499fbad1bbab8934c544\\\n",
      "        Complete output (10 lines):\n",
      "        Traceback (most recent call last):\n",
      "          File \"<string>\", line 1, in <module>\n",
      "          File \"C:\\Users\\Riadh\\AppData\\Local\\Temp\\pip-wheel-pnc4rdl5\\distribute_5e5ed1ed69dd499fbad1bbab8934c544\\setuptools\\__init__.py\", line 2, in <module>\n",
      "            from setuptools.extension import Extension, Library\n",
      "          File \"C:\\Users\\Riadh\\AppData\\Local\\Temp\\pip-wheel-pnc4rdl5\\distribute_5e5ed1ed69dd499fbad1bbab8934c544\\setuptools\\extension.py\", line 5, in <module>\n",
      "            from setuptools.dist import _get_unpatched\n",
      "          File \"C:\\Users\\Riadh\\AppData\\Local\\Temp\\pip-wheel-pnc4rdl5\\distribute_5e5ed1ed69dd499fbad1bbab8934c544\\setuptools\\dist.py\", line 103\n",
      "            except ValueError, e:\n",
      "                             ^\n",
      "        SyntaxError: invalid syntax\n",
      "        ----------------------------------------\n",
      "    WARNING: Discarding https://files.pythonhosted.org/packages/f8/4e/3ca573ae5d3baf4e44fa98e5b9ec3c96bf09c869fd8e4a1ab1b47c7c6f32/distribute-0.6.39.zip#sha256=132a373c6ee22054011c9d7a869c6f3e7cfc95b06168d2a04416357b331a2def (from https://pypi.org/simple/distribute/). Command errored out with exit status 1: python setup.py egg_info Check the logs for full command output.\n",
      "        ERROR: Command errored out with exit status 1:\n",
      "         command: 'C:\\Users\\Riadh\\.conda\\envs\\gee\\python.exe' -c 'import io, os, sys, setuptools, tokenize; sys.argv[0] = '\"'\"'C:\\\\Users\\\\Riadh\\\\AppData\\\\Local\\\\Temp\\\\pip-wheel-pnc4rdl5\\\\distribute_d44601bdb3784811b94a4fdc087dd5ff\\\\setup.py'\"'\"'; __file__='\"'\"'C:\\\\Users\\\\Riadh\\\\AppData\\\\Local\\\\Temp\\\\pip-wheel-pnc4rdl5\\\\distribute_d44601bdb3784811b94a4fdc087dd5ff\\\\setup.py'\"'\"';f = getattr(tokenize, '\"'\"'open'\"'\"', open)(__file__) if os.path.exists(__file__) else io.StringIO('\"'\"'from setuptools import setup; setup()'\"'\"');code = f.read().replace('\"'\"'\\r\\n'\"'\"', '\"'\"'\\n'\"'\"');f.close();exec(compile(code, __file__, '\"'\"'exec'\"'\"'))' egg_info --egg-base 'C:\\Users\\Riadh\\AppData\\Local\\Temp\\pip-pip-egg-info-ys9z6yyq'\n",
      "             cwd: C:\\Users\\Riadh\\AppData\\Local\\Temp\\pip-wheel-pnc4rdl5\\distribute_d44601bdb3784811b94a4fdc087dd5ff\\\n",
      "        Complete output (10 lines):\n",
      "        Traceback (most recent call last):\n",
      "          File \"<string>\", line 1, in <module>\n",
      "          File \"C:\\Users\\Riadh\\AppData\\Local\\Temp\\pip-wheel-pnc4rdl5\\distribute_d44601bdb3784811b94a4fdc087dd5ff\\setuptools\\__init__.py\", line 2, in <module>\n",
      "            from setuptools.extension import Extension, Library\n",
      "          File \"C:\\Users\\Riadh\\AppData\\Local\\Temp\\pip-wheel-pnc4rdl5\\distribute_d44601bdb3784811b94a4fdc087dd5ff\\setuptools\\extension.py\", line 5, in <module>\n",
      "            from setuptools.dist import _get_unpatched\n",
      "          File \"C:\\Users\\Riadh\\AppData\\Local\\Temp\\pip-wheel-pnc4rdl5\\distribute_d44601bdb3784811b94a4fdc087dd5ff\\setuptools\\dist.py\", line 103\n",
      "            except ValueError, e:\n",
      "                             ^\n",
      "        SyntaxError: invalid syntax\n",
      "        ----------------------------------------\n",
      "    WARNING: Discarding https://files.pythonhosted.org/packages/9a/6c/11f4686ac4305d23b43be59b4ce2cc2c10e00c639472300b13893a754bc7/distribute-0.6.39.tar.gz#sha256=77d0ca76247ab9217212a0c5c3062cac4002cdeb9e02ce6b39e8a3f5b7c296b4 (from https://pypi.org/simple/distribute/). Command errored out with exit status 1: python setup.py egg_info Check the logs for full command output.\n",
      "        ERROR: Command errored out with exit status 1:\n",
      "         command: 'C:\\Users\\Riadh\\.conda\\envs\\gee\\python.exe' -c 'import io, os, sys, setuptools, tokenize; sys.argv[0] = '\"'\"'C:\\\\Users\\\\Riadh\\\\AppData\\\\Local\\\\Temp\\\\pip-wheel-pnc4rdl5\\\\distribute_61b776abce8f45bc9ee1c59e358dd45a\\\\setup.py'\"'\"'; __file__='\"'\"'C:\\\\Users\\\\Riadh\\\\AppData\\\\Local\\\\Temp\\\\pip-wheel-pnc4rdl5\\\\distribute_61b776abce8f45bc9ee1c59e358dd45a\\\\setup.py'\"'\"';f = getattr(tokenize, '\"'\"'open'\"'\"', open)(__file__) if os.path.exists(__file__) else io.StringIO('\"'\"'from setuptools import setup; setup()'\"'\"');code = f.read().replace('\"'\"'\\r\\n'\"'\"', '\"'\"'\\n'\"'\"');f.close();exec(compile(code, __file__, '\"'\"'exec'\"'\"'))' egg_info --egg-base 'C:\\Users\\Riadh\\AppData\\Local\\Temp\\pip-pip-egg-info-etbg5dtx'\n",
      "             cwd: C:\\Users\\Riadh\\AppData\\Local\\Temp\\pip-wheel-pnc4rdl5\\distribute_61b776abce8f45bc9ee1c59e358dd45a\\\n",
      "        Complete output (10 lines):\n",
      "        Traceback (most recent call last):\n",
      "          File \"<string>\", line 1, in <module>\n",
      "          File \"C:\\Users\\Riadh\\AppData\\Local\\Temp\\pip-wheel-pnc4rdl5\\distribute_61b776abce8f45bc9ee1c59e358dd45a\\setuptools\\__init__.py\", line 2, in <module>\n",
      "            from setuptools.extension import Extension, Library\n",
      "          File \"C:\\Users\\Riadh\\AppData\\Local\\Temp\\pip-wheel-pnc4rdl5\\distribute_61b776abce8f45bc9ee1c59e358dd45a\\setuptools\\extension.py\", line 5, in <module>\n",
      "            from setuptools.dist import _get_unpatched\n",
      "          File \"C:\\Users\\Riadh\\AppData\\Local\\Temp\\pip-wheel-pnc4rdl5\\distribute_61b776abce8f45bc9ee1c59e358dd45a\\setuptools\\dist.py\", line 103\n",
      "            except ValueError, e:\n",
      "                             ^\n",
      "        SyntaxError: invalid syntax\n",
      "        ----------------------------------------\n",
      "    WARNING: Discarding https://files.pythonhosted.org/packages/56/26/745b893435e3c34fa39ca40bec216b1eef82dfef2df2e155f8b56b6603d0/distribute-0.6.38.zip#sha256=122d45874a4cda46273c22031dc937f07eb850a9b882996261521427a8e8f1c2 (from https://pypi.org/simple/distribute/). Command errored out with exit status 1: python setup.py egg_info Check the logs for full command output.\n",
      "        ERROR: Command errored out with exit status 1:\n",
      "         command: 'C:\\Users\\Riadh\\.conda\\envs\\gee\\python.exe' -c 'import io, os, sys, setuptools, tokenize; sys.argv[0] = '\"'\"'C:\\\\Users\\\\Riadh\\\\AppData\\\\Local\\\\Temp\\\\pip-wheel-pnc4rdl5\\\\distribute_22721861d01c4ccbbe8080788dedd7a5\\\\setup.py'\"'\"'; __file__='\"'\"'C:\\\\Users\\\\Riadh\\\\AppData\\\\Local\\\\Temp\\\\pip-wheel-pnc4rdl5\\\\distribute_22721861d01c4ccbbe8080788dedd7a5\\\\setup.py'\"'\"';f = getattr(tokenize, '\"'\"'open'\"'\"', open)(__file__) if os.path.exists(__file__) else io.StringIO('\"'\"'from setuptools import setup; setup()'\"'\"');code = f.read().replace('\"'\"'\\r\\n'\"'\"', '\"'\"'\\n'\"'\"');f.close();exec(compile(code, __file__, '\"'\"'exec'\"'\"'))' egg_info --egg-base 'C:\\Users\\Riadh\\AppData\\Local\\Temp\\pip-pip-egg-info-2xrk5hjx'\n",
      "             cwd: C:\\Users\\Riadh\\AppData\\Local\\Temp\\pip-wheel-pnc4rdl5\\distribute_22721861d01c4ccbbe8080788dedd7a5\\\n",
      "        Complete output (10 lines):\n",
      "        Traceback (most recent call last):\n",
      "          File \"<string>\", line 1, in <module>\n",
      "          File \"C:\\Users\\Riadh\\AppData\\Local\\Temp\\pip-wheel-pnc4rdl5\\distribute_22721861d01c4ccbbe8080788dedd7a5\\setuptools\\__init__.py\", line 2, in <module>\n",
      "            from setuptools.extension import Extension, Library\n",
      "          File \"C:\\Users\\Riadh\\AppData\\Local\\Temp\\pip-wheel-pnc4rdl5\\distribute_22721861d01c4ccbbe8080788dedd7a5\\setuptools\\extension.py\", line 5, in <module>\n",
      "            from setuptools.dist import _get_unpatched\n",
      "          File \"C:\\Users\\Riadh\\AppData\\Local\\Temp\\pip-wheel-pnc4rdl5\\distribute_22721861d01c4ccbbe8080788dedd7a5\\setuptools\\dist.py\", line 103\n",
      "            except ValueError, e:\n",
      "                             ^\n",
      "        SyntaxError: invalid syntax\n",
      "        ----------------------------------------\n",
      "    WARNING: Discarding https://files.pythonhosted.org/packages/44/24/f43cbc3b122aeb27405b4cb4e294535c1bab4c60c86d4846ab5657bfd528/distribute-0.6.38.tar.gz#sha256=e4805005a1983610aa86bf3affd034631163cf9f3caa7f958ae2705b26658229 (from https://pypi.org/simple/distribute/). Command errored out with exit status 1: python setup.py egg_info Check the logs for full command output.\n",
      "        ERROR: Command errored out with exit status 1:\n",
      "         command: 'C:\\Users\\Riadh\\.conda\\envs\\gee\\python.exe' -c 'import io, os, sys, setuptools, tokenize; sys.argv[0] = '\"'\"'C:\\\\Users\\\\Riadh\\\\AppData\\\\Local\\\\Temp\\\\pip-wheel-pnc4rdl5\\\\distribute_7c19da1784fa4e95960d36c9f79d1aa8\\\\setup.py'\"'\"'; __file__='\"'\"'C:\\\\Users\\\\Riadh\\\\AppData\\\\Local\\\\Temp\\\\pip-wheel-pnc4rdl5\\\\distribute_7c19da1784fa4e95960d36c9f79d1aa8\\\\setup.py'\"'\"';f = getattr(tokenize, '\"'\"'open'\"'\"', open)(__file__) if os.path.exists(__file__) else io.StringIO('\"'\"'from setuptools import setup; setup()'\"'\"');code = f.read().replace('\"'\"'\\r\\n'\"'\"', '\"'\"'\\n'\"'\"');f.close();exec(compile(code, __file__, '\"'\"'exec'\"'\"'))' egg_info --egg-base 'C:\\Users\\Riadh\\AppData\\Local\\Temp\\pip-pip-egg-info-9lcfikw1'\n",
      "             cwd: C:\\Users\\Riadh\\AppData\\Local\\Temp\\pip-wheel-pnc4rdl5\\distribute_7c19da1784fa4e95960d36c9f79d1aa8\\\n",
      "        Complete output (10 lines):\n",
      "        Traceback (most recent call last):\n",
      "          File \"<string>\", line 1, in <module>\n",
      "          File \"C:\\Users\\Riadh\\AppData\\Local\\Temp\\pip-wheel-pnc4rdl5\\distribute_7c19da1784fa4e95960d36c9f79d1aa8\\setuptools\\__init__.py\", line 2, in <module>\n",
      "            from setuptools.extension import Extension, Library\n",
      "          File \"C:\\Users\\Riadh\\AppData\\Local\\Temp\\pip-wheel-pnc4rdl5\\distribute_7c19da1784fa4e95960d36c9f79d1aa8\\setuptools\\extension.py\", line 5, in <module>\n",
      "            from setuptools.dist import _get_unpatched\n",
      "          File \"C:\\Users\\Riadh\\AppData\\Local\\Temp\\pip-wheel-pnc4rdl5\\distribute_7c19da1784fa4e95960d36c9f79d1aa8\\setuptools\\dist.py\", line 103\n",
      "            except ValueError, e:\n",
      "                             ^\n",
      "        SyntaxError: invalid syntax\n",
      "        ----------------------------------------\n",
      "    WARNING: Discarding https://files.pythonhosted.org/packages/a9/1d/f8b2d90b9deb6072cd6af885b0d006bea3cc0749cbb45b6d6da9b4a8b682/distribute-0.6.37.zip#sha256=d6670be471d8158ceff28cfdfa5af77aeae38d0618c5eb0d8710eb8798a1372d (from https://pypi.org/simple/distribute/). Command errored out with exit status 1: python setup.py egg_info Check the logs for full command output.\n",
      "        ERROR: Command errored out with exit status 1:\n",
      "         command: 'C:\\Users\\Riadh\\.conda\\envs\\gee\\python.exe' -c 'import io, os, sys, setuptools, tokenize; sys.argv[0] = '\"'\"'C:\\\\Users\\\\Riadh\\\\AppData\\\\Local\\\\Temp\\\\pip-wheel-pnc4rdl5\\\\distribute_f73009e246e346e3b8e053e3ccd6768a\\\\setup.py'\"'\"'; __file__='\"'\"'C:\\\\Users\\\\Riadh\\\\AppData\\\\Local\\\\Temp\\\\pip-wheel-pnc4rdl5\\\\distribute_f73009e246e346e3b8e053e3ccd6768a\\\\setup.py'\"'\"';f = getattr(tokenize, '\"'\"'open'\"'\"', open)(__file__) if os.path.exists(__file__) else io.StringIO('\"'\"'from setuptools import setup; setup()'\"'\"');code = f.read().replace('\"'\"'\\r\\n'\"'\"', '\"'\"'\\n'\"'\"');f.close();exec(compile(code, __file__, '\"'\"'exec'\"'\"'))' egg_info --egg-base 'C:\\Users\\Riadh\\AppData\\Local\\Temp\\pip-pip-egg-info-3oqa5s2g'\n",
      "             cwd: C:\\Users\\Riadh\\AppData\\Local\\Temp\\pip-wheel-pnc4rdl5\\distribute_f73009e246e346e3b8e053e3ccd6768a\\\n",
      "        Complete output (10 lines):\n",
      "        Traceback (most recent call last):\n",
      "          File \"<string>\", line 1, in <module>\n",
      "          File \"C:\\Users\\Riadh\\AppData\\Local\\Temp\\pip-wheel-pnc4rdl5\\distribute_f73009e246e346e3b8e053e3ccd6768a\\setuptools\\__init__.py\", line 2, in <module>\n",
      "            from setuptools.extension import Extension, Library\n",
      "          File \"C:\\Users\\Riadh\\AppData\\Local\\Temp\\pip-wheel-pnc4rdl5\\distribute_f73009e246e346e3b8e053e3ccd6768a\\setuptools\\extension.py\", line 5, in <module>\n",
      "            from setuptools.dist import _get_unpatched\n",
      "          File \"C:\\Users\\Riadh\\AppData\\Local\\Temp\\pip-wheel-pnc4rdl5\\distribute_f73009e246e346e3b8e053e3ccd6768a\\setuptools\\dist.py\", line 103\n",
      "            except ValueError, e:\n",
      "                             ^\n",
      "        SyntaxError: invalid syntax\n",
      "        ----------------------------------------\n",
      "    WARNING: Discarding https://files.pythonhosted.org/packages/f3/36/3878909df1720f45ee0b9902e85a24db14542bde438523de10192421e582/distribute-0.6.37.tar.gz#sha256=5ad9d50eaf871ddda55f68165924124ad81bfd19fc4f0730f0a3a8ca190d58c6 (from https://pypi.org/simple/distribute/). Command errored out with exit status 1: python setup.py egg_info Check the logs for full command output.\n",
      "        ERROR: Command errored out with exit status 1:\n",
      "         command: 'C:\\Users\\Riadh\\.conda\\envs\\gee\\python.exe' -c 'import io, os, sys, setuptools, tokenize; sys.argv[0] = '\"'\"'C:\\\\Users\\\\Riadh\\\\AppData\\\\Local\\\\Temp\\\\pip-wheel-pnc4rdl5\\\\distribute_221950e24ebc498eb37ea968d0ff8f26\\\\setup.py'\"'\"'; __file__='\"'\"'C:\\\\Users\\\\Riadh\\\\AppData\\\\Local\\\\Temp\\\\pip-wheel-pnc4rdl5\\\\distribute_221950e24ebc498eb37ea968d0ff8f26\\\\setup.py'\"'\"';f = getattr(tokenize, '\"'\"'open'\"'\"', open)(__file__) if os.path.exists(__file__) else io.StringIO('\"'\"'from setuptools import setup; setup()'\"'\"');code = f.read().replace('\"'\"'\\r\\n'\"'\"', '\"'\"'\\n'\"'\"');f.close();exec(compile(code, __file__, '\"'\"'exec'\"'\"'))' egg_info --egg-base 'C:\\Users\\Riadh\\AppData\\Local\\Temp\\pip-pip-egg-info-6gzomaly'\n",
      "             cwd: C:\\Users\\Riadh\\AppData\\Local\\Temp\\pip-wheel-pnc4rdl5\\distribute_221950e24ebc498eb37ea968d0ff8f26\\\n",
      "        Complete output (10 lines):\n",
      "        Traceback (most recent call last):\n",
      "          File \"<string>\", line 1, in <module>\n",
      "          File \"C:\\Users\\Riadh\\AppData\\Local\\Temp\\pip-wheel-pnc4rdl5\\distribute_221950e24ebc498eb37ea968d0ff8f26\\setuptools\\__init__.py\", line 2, in <module>\n",
      "            from setuptools.extension import Extension, Library\n",
      "          File \"C:\\Users\\Riadh\\AppData\\Local\\Temp\\pip-wheel-pnc4rdl5\\distribute_221950e24ebc498eb37ea968d0ff8f26\\setuptools\\extension.py\", line 5, in <module>\n",
      "            from setuptools.dist import _get_unpatched\n",
      "          File \"C:\\Users\\Riadh\\AppData\\Local\\Temp\\pip-wheel-pnc4rdl5\\distribute_221950e24ebc498eb37ea968d0ff8f26\\setuptools\\dist.py\", line 103\n",
      "            except ValueError, e:\n",
      "                             ^\n",
      "        SyntaxError: invalid syntax\n",
      "        ----------------------------------------\n",
      "    WARNING: Discarding https://files.pythonhosted.org/packages/b7/18/1faa307038d6a25a1e05ba1adfe9c67217e456bbacef5a9f0cc567da4ef3/distribute-0.6.36.zip#sha256=32b66b45daaf7a8e68895dbfb5457cf8d76b18ed14f0e92123ffdb4f56e70c65 (from https://pypi.org/simple/distribute/). Command errored out with exit status 1: python setup.py egg_info Check the logs for full command output.\n",
      "        ERROR: Command errored out with exit status 1:\n",
      "         command: 'C:\\Users\\Riadh\\.conda\\envs\\gee\\python.exe' -c 'import io, os, sys, setuptools, tokenize; sys.argv[0] = '\"'\"'C:\\\\Users\\\\Riadh\\\\AppData\\\\Local\\\\Temp\\\\pip-wheel-pnc4rdl5\\\\distribute_7b440819777c441cacfc38444a4f2e16\\\\setup.py'\"'\"'; __file__='\"'\"'C:\\\\Users\\\\Riadh\\\\AppData\\\\Local\\\\Temp\\\\pip-wheel-pnc4rdl5\\\\distribute_7b440819777c441cacfc38444a4f2e16\\\\setup.py'\"'\"';f = getattr(tokenize, '\"'\"'open'\"'\"', open)(__file__) if os.path.exists(__file__) else io.StringIO('\"'\"'from setuptools import setup; setup()'\"'\"');code = f.read().replace('\"'\"'\\r\\n'\"'\"', '\"'\"'\\n'\"'\"');f.close();exec(compile(code, __file__, '\"'\"'exec'\"'\"'))' egg_info --egg-base 'C:\\Users\\Riadh\\AppData\\Local\\Temp\\pip-pip-egg-info-c6_065m_'\n",
      "             cwd: C:\\Users\\Riadh\\AppData\\Local\\Temp\\pip-wheel-pnc4rdl5\\distribute_7b440819777c441cacfc38444a4f2e16\\\n",
      "        Complete output (10 lines):\n",
      "        Traceback (most recent call last):\n",
      "          File \"<string>\", line 1, in <module>\n",
      "          File \"C:\\Users\\Riadh\\AppData\\Local\\Temp\\pip-wheel-pnc4rdl5\\distribute_7b440819777c441cacfc38444a4f2e16\\setuptools\\__init__.py\", line 2, in <module>\n",
      "            from setuptools.extension import Extension, Library\n",
      "          File \"C:\\Users\\Riadh\\AppData\\Local\\Temp\\pip-wheel-pnc4rdl5\\distribute_7b440819777c441cacfc38444a4f2e16\\setuptools\\extension.py\", line 5, in <module>\n",
      "            from setuptools.dist import _get_unpatched\n",
      "          File \"C:\\Users\\Riadh\\AppData\\Local\\Temp\\pip-wheel-pnc4rdl5\\distribute_7b440819777c441cacfc38444a4f2e16\\setuptools\\dist.py\", line 103\n",
      "            except ValueError, e:\n",
      "                             ^\n",
      "        SyntaxError: invalid syntax\n",
      "        ----------------------------------------\n",
      "    WARNING: Discarding https://files.pythonhosted.org/packages/52/ae/96f7e82c38a5517dae71ae244e3cdcfadfdb3895987a1591b2d19d6f7a9b/distribute-0.6.36.tar.gz#sha256=2474f9d0706b476ce0e139195cc35b360adb665df968d74d3bab022003d54bc2 (from https://pypi.org/simple/distribute/). Command errored out with exit status 1: python setup.py egg_info Check the logs for full command output.\n",
      "        ERROR: Command errored out with exit status 1:\n",
      "         command: 'C:\\Users\\Riadh\\.conda\\envs\\gee\\python.exe' -c 'import io, os, sys, setuptools, tokenize; sys.argv[0] = '\"'\"'C:\\\\Users\\\\Riadh\\\\AppData\\\\Local\\\\Temp\\\\pip-wheel-pnc4rdl5\\\\distribute_de683e09e60f450285b3d0a1854b92a6\\\\setup.py'\"'\"'; __file__='\"'\"'C:\\\\Users\\\\Riadh\\\\AppData\\\\Local\\\\Temp\\\\pip-wheel-pnc4rdl5\\\\distribute_de683e09e60f450285b3d0a1854b92a6\\\\setup.py'\"'\"';f = getattr(tokenize, '\"'\"'open'\"'\"', open)(__file__) if os.path.exists(__file__) else io.StringIO('\"'\"'from setuptools import setup; setup()'\"'\"');code = f.read().replace('\"'\"'\\r\\n'\"'\"', '\"'\"'\\n'\"'\"');f.close();exec(compile(code, __file__, '\"'\"'exec'\"'\"'))' egg_info --egg-base 'C:\\Users\\Riadh\\AppData\\Local\\Temp\\pip-pip-egg-info-0ubxnjr3'\n",
      "             cwd: C:\\Users\\Riadh\\AppData\\Local\\Temp\\pip-wheel-pnc4rdl5\\distribute_de683e09e60f450285b3d0a1854b92a6\\\n",
      "        Complete output (10 lines):\n",
      "        Traceback (most recent call last):\n",
      "          File \"<string>\", line 1, in <module>\n",
      "          File \"C:\\Users\\Riadh\\AppData\\Local\\Temp\\pip-wheel-pnc4rdl5\\distribute_de683e09e60f450285b3d0a1854b92a6\\setuptools\\__init__.py\", line 2, in <module>\n",
      "            from setuptools.extension import Extension, Library\n",
      "          File \"C:\\Users\\Riadh\\AppData\\Local\\Temp\\pip-wheel-pnc4rdl5\\distribute_de683e09e60f450285b3d0a1854b92a6\\setuptools\\extension.py\", line 5, in <module>\n",
      "            from setuptools.dist import _get_unpatched\n",
      "          File \"C:\\Users\\Riadh\\AppData\\Local\\Temp\\pip-wheel-pnc4rdl5\\distribute_de683e09e60f450285b3d0a1854b92a6\\setuptools\\dist.py\", line 103\n",
      "            except ValueError, e:\n",
      "                             ^\n",
      "        SyntaxError: invalid syntax\n",
      "        ----------------------------------------\n",
      "    WARNING: Discarding https://files.pythonhosted.org/packages/54/23/cdf26d55a4d5af062c49ea3d524729270452e23b726b007f11608539f3ae/distribute-0.6.35.zip#sha256=2c0a4ff54b51c2b6679400f8cbbb766e2d236eb9886acf526691a7c0cce368fe (from https://pypi.org/simple/distribute/). Command errored out with exit status 1: python setup.py egg_info Check the logs for full command output.\n",
      "        ERROR: Command errored out with exit status 1:\n",
      "         command: 'C:\\Users\\Riadh\\.conda\\envs\\gee\\python.exe' -c 'import io, os, sys, setuptools, tokenize; sys.argv[0] = '\"'\"'C:\\\\Users\\\\Riadh\\\\AppData\\\\Local\\\\Temp\\\\pip-wheel-pnc4rdl5\\\\distribute_32b9e1f2346e49c1adf5e3f87fcb599d\\\\setup.py'\"'\"'; __file__='\"'\"'C:\\\\Users\\\\Riadh\\\\AppData\\\\Local\\\\Temp\\\\pip-wheel-pnc4rdl5\\\\distribute_32b9e1f2346e49c1adf5e3f87fcb599d\\\\setup.py'\"'\"';f = getattr(tokenize, '\"'\"'open'\"'\"', open)(__file__) if os.path.exists(__file__) else io.StringIO('\"'\"'from setuptools import setup; setup()'\"'\"');code = f.read().replace('\"'\"'\\r\\n'\"'\"', '\"'\"'\\n'\"'\"');f.close();exec(compile(code, __file__, '\"'\"'exec'\"'\"'))' egg_info --egg-base 'C:\\Users\\Riadh\\AppData\\Local\\Temp\\pip-pip-egg-info-7z82n3_s'\n",
      "             cwd: C:\\Users\\Riadh\\AppData\\Local\\Temp\\pip-wheel-pnc4rdl5\\distribute_32b9e1f2346e49c1adf5e3f87fcb599d\\\n",
      "        Complete output (10 lines):\n",
      "        Traceback (most recent call last):\n",
      "          File \"<string>\", line 1, in <module>\n",
      "          File \"C:\\Users\\Riadh\\AppData\\Local\\Temp\\pip-wheel-pnc4rdl5\\distribute_32b9e1f2346e49c1adf5e3f87fcb599d\\setuptools\\__init__.py\", line 2, in <module>\n",
      "            from setuptools.extension import Extension, Library\n",
      "          File \"C:\\Users\\Riadh\\AppData\\Local\\Temp\\pip-wheel-pnc4rdl5\\distribute_32b9e1f2346e49c1adf5e3f87fcb599d\\setuptools\\extension.py\", line 5, in <module>\n",
      "            from setuptools.dist import _get_unpatched\n",
      "          File \"C:\\Users\\Riadh\\AppData\\Local\\Temp\\pip-wheel-pnc4rdl5\\distribute_32b9e1f2346e49c1adf5e3f87fcb599d\\setuptools\\dist.py\", line 103\n",
      "            except ValueError, e:\n",
      "                             ^\n",
      "        SyntaxError: invalid syntax\n",
      "        ----------------------------------------\n",
      "    WARNING: Discarding https://files.pythonhosted.org/packages/e1/15/e61fd2df870382666ca800908b686932a3e1f603a9e80e93c2da7c71b2f0/distribute-0.6.35.tar.gz#sha256=7ee7ce926e15b0066c6d241e1ff271c30ff99b9ec7648699263d36967409e804 (from https://pypi.org/simple/distribute/). Command errored out with exit status 1: python setup.py egg_info Check the logs for full command output.\n",
      "        ERROR: Command errored out with exit status 1:\n",
      "         command: 'C:\\Users\\Riadh\\.conda\\envs\\gee\\python.exe' -c 'import io, os, sys, setuptools, tokenize; sys.argv[0] = '\"'\"'C:\\\\Users\\\\Riadh\\\\AppData\\\\Local\\\\Temp\\\\pip-wheel-pnc4rdl5\\\\distribute_44076bf5e3244bb691bbfcc2ff819c9d\\\\setup.py'\"'\"'; __file__='\"'\"'C:\\\\Users\\\\Riadh\\\\AppData\\\\Local\\\\Temp\\\\pip-wheel-pnc4rdl5\\\\distribute_44076bf5e3244bb691bbfcc2ff819c9d\\\\setup.py'\"'\"';f = getattr(tokenize, '\"'\"'open'\"'\"', open)(__file__) if os.path.exists(__file__) else io.StringIO('\"'\"'from setuptools import setup; setup()'\"'\"');code = f.read().replace('\"'\"'\\r\\n'\"'\"', '\"'\"'\\n'\"'\"');f.close();exec(compile(code, __file__, '\"'\"'exec'\"'\"'))' egg_info --egg-base 'C:\\Users\\Riadh\\AppData\\Local\\Temp\\pip-pip-egg-info-c58bhsdj'\n",
      "             cwd: C:\\Users\\Riadh\\AppData\\Local\\Temp\\pip-wheel-pnc4rdl5\\distribute_44076bf5e3244bb691bbfcc2ff819c9d\\\n",
      "        Complete output (10 lines):\n",
      "        Traceback (most recent call last):\n",
      "          File \"<string>\", line 1, in <module>\n",
      "          File \"C:\\Users\\Riadh\\AppData\\Local\\Temp\\pip-wheel-pnc4rdl5\\distribute_44076bf5e3244bb691bbfcc2ff819c9d\\setuptools\\__init__.py\", line 2, in <module>\n",
      "            from setuptools.extension import Extension, Library\n",
      "          File \"C:\\Users\\Riadh\\AppData\\Local\\Temp\\pip-wheel-pnc4rdl5\\distribute_44076bf5e3244bb691bbfcc2ff819c9d\\setuptools\\extension.py\", line 5, in <module>\n",
      "            from setuptools.dist import _get_unpatched\n",
      "          File \"C:\\Users\\Riadh\\AppData\\Local\\Temp\\pip-wheel-pnc4rdl5\\distribute_44076bf5e3244bb691bbfcc2ff819c9d\\setuptools\\dist.py\", line 103\n",
      "            except ValueError, e:\n",
      "                             ^\n",
      "        SyntaxError: invalid syntax\n",
      "        ----------------------------------------\n",
      "    WARNING: Discarding https://files.pythonhosted.org/packages/f6/29/2e1d82c8859b0330be3aa6cae1040587768506c153742ef7b8feeb4e09cd/distribute-0.6.34.zip#sha256=8ffe1be0cde1d3d3a00823ff654d6c04b27d795693d59761bc7d5f6ea3de3f95 (from https://pypi.org/simple/distribute/). Command errored out with exit status 1: python setup.py egg_info Check the logs for full command output.\n",
      "        ERROR: Command errored out with exit status 1:\n",
      "         command: 'C:\\Users\\Riadh\\.conda\\envs\\gee\\python.exe' -c 'import io, os, sys, setuptools, tokenize; sys.argv[0] = '\"'\"'C:\\\\Users\\\\Riadh\\\\AppData\\\\Local\\\\Temp\\\\pip-wheel-pnc4rdl5\\\\distribute_9a05913fa354467d86bda170c679293b\\\\setup.py'\"'\"'; __file__='\"'\"'C:\\\\Users\\\\Riadh\\\\AppData\\\\Local\\\\Temp\\\\pip-wheel-pnc4rdl5\\\\distribute_9a05913fa354467d86bda170c679293b\\\\setup.py'\"'\"';f = getattr(tokenize, '\"'\"'open'\"'\"', open)(__file__) if os.path.exists(__file__) else io.StringIO('\"'\"'from setuptools import setup; setup()'\"'\"');code = f.read().replace('\"'\"'\\r\\n'\"'\"', '\"'\"'\\n'\"'\"');f.close();exec(compile(code, __file__, '\"'\"'exec'\"'\"'))' egg_info --egg-base 'C:\\Users\\Riadh\\AppData\\Local\\Temp\\pip-pip-egg-info-jovxq4ak'\n",
      "             cwd: C:\\Users\\Riadh\\AppData\\Local\\Temp\\pip-wheel-pnc4rdl5\\distribute_9a05913fa354467d86bda170c679293b\\\n",
      "        Complete output (10 lines):\n",
      "        Traceback (most recent call last):\n",
      "          File \"<string>\", line 1, in <module>\n",
      "          File \"C:\\Users\\Riadh\\AppData\\Local\\Temp\\pip-wheel-pnc4rdl5\\distribute_9a05913fa354467d86bda170c679293b\\setuptools\\__init__.py\", line 2, in <module>\n",
      "            from setuptools.extension import Extension, Library\n",
      "          File \"C:\\Users\\Riadh\\AppData\\Local\\Temp\\pip-wheel-pnc4rdl5\\distribute_9a05913fa354467d86bda170c679293b\\setuptools\\extension.py\", line 5, in <module>\n",
      "            from setuptools.dist import _get_unpatched\n",
      "          File \"C:\\Users\\Riadh\\AppData\\Local\\Temp\\pip-wheel-pnc4rdl5\\distribute_9a05913fa354467d86bda170c679293b\\setuptools\\dist.py\", line 103\n",
      "            except ValueError, e:\n",
      "                             ^\n",
      "        SyntaxError: invalid syntax\n",
      "        ----------------------------------------\n",
      "    WARNING: Discarding https://files.pythonhosted.org/packages/a2/f0/0d76f4f1e677509b5c09de2e86b7e98925730321779519eba924fa1b5199/distribute-0.6.34.tar.gz#sha256=1a82a50f448fd963c1efade437b9ace3c47bfdd9b168fcdba7fca140df4b364e (from https://pypi.org/simple/distribute/). Command errored out with exit status 1: python setup.py egg_info Check the logs for full command output.\n",
      "        ERROR: Command errored out with exit status 1:\n",
      "         command: 'C:\\Users\\Riadh\\.conda\\envs\\gee\\python.exe' -c 'import io, os, sys, setuptools, tokenize; sys.argv[0] = '\"'\"'C:\\\\Users\\\\Riadh\\\\AppData\\\\Local\\\\Temp\\\\pip-wheel-pnc4rdl5\\\\distribute_c170498af62a4a6da082b43fb87b87d5\\\\setup.py'\"'\"'; __file__='\"'\"'C:\\\\Users\\\\Riadh\\\\AppData\\\\Local\\\\Temp\\\\pip-wheel-pnc4rdl5\\\\distribute_c170498af62a4a6da082b43fb87b87d5\\\\setup.py'\"'\"';f = getattr(tokenize, '\"'\"'open'\"'\"', open)(__file__) if os.path.exists(__file__) else io.StringIO('\"'\"'from setuptools import setup; setup()'\"'\"');code = f.read().replace('\"'\"'\\r\\n'\"'\"', '\"'\"'\\n'\"'\"');f.close();exec(compile(code, __file__, '\"'\"'exec'\"'\"'))' egg_info --egg-base 'C:\\Users\\Riadh\\AppData\\Local\\Temp\\pip-pip-egg-info-xr6n30ki'\n",
      "             cwd: C:\\Users\\Riadh\\AppData\\Local\\Temp\\pip-wheel-pnc4rdl5\\distribute_c170498af62a4a6da082b43fb87b87d5\\\n",
      "        Complete output (10 lines):\n",
      "        Traceback (most recent call last):\n",
      "          File \"<string>\", line 1, in <module>\n",
      "          File \"C:\\Users\\Riadh\\AppData\\Local\\Temp\\pip-wheel-pnc4rdl5\\distribute_c170498af62a4a6da082b43fb87b87d5\\setuptools\\__init__.py\", line 2, in <module>\n",
      "            from setuptools.extension import Extension, Library\n",
      "          File \"C:\\Users\\Riadh\\AppData\\Local\\Temp\\pip-wheel-pnc4rdl5\\distribute_c170498af62a4a6da082b43fb87b87d5\\setuptools\\extension.py\", line 5, in <module>\n",
      "            from setuptools.dist import _get_unpatched\n",
      "          File \"C:\\Users\\Riadh\\AppData\\Local\\Temp\\pip-wheel-pnc4rdl5\\distribute_c170498af62a4a6da082b43fb87b87d5\\setuptools\\dist.py\", line 103\n",
      "            except ValueError, e:\n",
      "                             ^\n",
      "        SyntaxError: invalid syntax\n",
      "        ----------------------------------------\n",
      "    WARNING: Discarding https://files.pythonhosted.org/packages/2f/f9/ed567c3db5635145b672e6e6b1021e64936028dee9460e520025d5185f80/distribute-0.6.33.zip#sha256=da0bd1a5f89549e324ad24f5050e3a992a4ba676bf7fa4abd0e3eaa896079990 (from https://pypi.org/simple/distribute/). Command errored out with exit status 1: python setup.py egg_info Check the logs for full command output.\n",
      "        ERROR: Command errored out with exit status 1:\n",
      "         command: 'C:\\Users\\Riadh\\.conda\\envs\\gee\\python.exe' -c 'import io, os, sys, setuptools, tokenize; sys.argv[0] = '\"'\"'C:\\\\Users\\\\Riadh\\\\AppData\\\\Local\\\\Temp\\\\pip-wheel-pnc4rdl5\\\\distribute_4d35356b65284a6db0cb1ff2abc89e0a\\\\setup.py'\"'\"'; __file__='\"'\"'C:\\\\Users\\\\Riadh\\\\AppData\\\\Local\\\\Temp\\\\pip-wheel-pnc4rdl5\\\\distribute_4d35356b65284a6db0cb1ff2abc89e0a\\\\setup.py'\"'\"';f = getattr(tokenize, '\"'\"'open'\"'\"', open)(__file__) if os.path.exists(__file__) else io.StringIO('\"'\"'from setuptools import setup; setup()'\"'\"');code = f.read().replace('\"'\"'\\r\\n'\"'\"', '\"'\"'\\n'\"'\"');f.close();exec(compile(code, __file__, '\"'\"'exec'\"'\"'))' egg_info --egg-base 'C:\\Users\\Riadh\\AppData\\Local\\Temp\\pip-pip-egg-info-aoyi2leb'\n",
      "             cwd: C:\\Users\\Riadh\\AppData\\Local\\Temp\\pip-wheel-pnc4rdl5\\distribute_4d35356b65284a6db0cb1ff2abc89e0a\\\n",
      "        Complete output (10 lines):\n",
      "        Traceback (most recent call last):\n",
      "          File \"<string>\", line 1, in <module>\n",
      "          File \"C:\\Users\\Riadh\\AppData\\Local\\Temp\\pip-wheel-pnc4rdl5\\distribute_4d35356b65284a6db0cb1ff2abc89e0a\\setuptools\\__init__.py\", line 2, in <module>\n",
      "            from setuptools.extension import Extension, Library\n",
      "          File \"C:\\Users\\Riadh\\AppData\\Local\\Temp\\pip-wheel-pnc4rdl5\\distribute_4d35356b65284a6db0cb1ff2abc89e0a\\setuptools\\extension.py\", line 5, in <module>\n",
      "            from setuptools.dist import _get_unpatched\n",
      "          File \"C:\\Users\\Riadh\\AppData\\Local\\Temp\\pip-wheel-pnc4rdl5\\distribute_4d35356b65284a6db0cb1ff2abc89e0a\\setuptools\\dist.py\", line 103\n",
      "            except ValueError, e:\n",
      "                             ^\n",
      "        SyntaxError: invalid syntax\n",
      "        ----------------------------------------\n",
      "    WARNING: Discarding https://files.pythonhosted.org/packages/81/a1/cc2f93e485bda7132136ffb1874068a20e6e0aad77d6063b5a17efc2383a/distribute-0.6.33.tar.gz#sha256=52d9bf08ddd7598fea591434188577e59f06cbaa0fbd9cf31dd09b455c18433a (from https://pypi.org/simple/distribute/). Command errored out with exit status 1: python setup.py egg_info Check the logs for full command output.\n",
      "        ERROR: Command errored out with exit status 1:\n",
      "         command: 'C:\\Users\\Riadh\\.conda\\envs\\gee\\python.exe' -c 'import io, os, sys, setuptools, tokenize; sys.argv[0] = '\"'\"'C:\\\\Users\\\\Riadh\\\\AppData\\\\Local\\\\Temp\\\\pip-wheel-pnc4rdl5\\\\distribute_7cd400225e0441fb9e24b294dbad6afc\\\\setup.py'\"'\"'; __file__='\"'\"'C:\\\\Users\\\\Riadh\\\\AppData\\\\Local\\\\Temp\\\\pip-wheel-pnc4rdl5\\\\distribute_7cd400225e0441fb9e24b294dbad6afc\\\\setup.py'\"'\"';f = getattr(tokenize, '\"'\"'open'\"'\"', open)(__file__) if os.path.exists(__file__) else io.StringIO('\"'\"'from setuptools import setup; setup()'\"'\"');code = f.read().replace('\"'\"'\\r\\n'\"'\"', '\"'\"'\\n'\"'\"');f.close();exec(compile(code, __file__, '\"'\"'exec'\"'\"'))' egg_info --egg-base 'C:\\Users\\Riadh\\AppData\\Local\\Temp\\pip-pip-egg-info-idb_k5el'\n",
      "             cwd: C:\\Users\\Riadh\\AppData\\Local\\Temp\\pip-wheel-pnc4rdl5\\distribute_7cd400225e0441fb9e24b294dbad6afc\\\n",
      "        Complete output (10 lines):\n",
      "        Traceback (most recent call last):\n",
      "          File \"<string>\", line 1, in <module>\n",
      "          File \"C:\\Users\\Riadh\\AppData\\Local\\Temp\\pip-wheel-pnc4rdl5\\distribute_7cd400225e0441fb9e24b294dbad6afc\\setuptools\\__init__.py\", line 2, in <module>\n",
      "            from setuptools.extension import Extension, Library\n",
      "          File \"C:\\Users\\Riadh\\AppData\\Local\\Temp\\pip-wheel-pnc4rdl5\\distribute_7cd400225e0441fb9e24b294dbad6afc\\setuptools\\extension.py\", line 5, in <module>\n",
      "            from setuptools.dist import _get_unpatched\n",
      "          File \"C:\\Users\\Riadh\\AppData\\Local\\Temp\\pip-wheel-pnc4rdl5\\distribute_7cd400225e0441fb9e24b294dbad6afc\\setuptools\\dist.py\", line 103\n",
      "            except ValueError, e:\n",
      "                             ^\n",
      "        SyntaxError: invalid syntax\n",
      "        ----------------------------------------\n",
      "    WARNING: Discarding https://files.pythonhosted.org/packages/8d/a6/f82b8038bf9bf36e6a565891c596bcdd5c55ff6cbb32c2e3becc6d94080b/distribute-0.6.32.zip#sha256=64b73cd34379eff02ef08c2c398677916f66b93ca5bb13f5f6a49e5031e58ad2 (from https://pypi.org/simple/distribute/). Command errored out with exit status 1: python setup.py egg_info Check the logs for full command output.\n",
      "        ERROR: Command errored out with exit status 1:\n",
      "         command: 'C:\\Users\\Riadh\\.conda\\envs\\gee\\python.exe' -c 'import io, os, sys, setuptools, tokenize; sys.argv[0] = '\"'\"'C:\\\\Users\\\\Riadh\\\\AppData\\\\Local\\\\Temp\\\\pip-wheel-pnc4rdl5\\\\distribute_eb722cc94a934341a24726e28c2c6649\\\\setup.py'\"'\"'; __file__='\"'\"'C:\\\\Users\\\\Riadh\\\\AppData\\\\Local\\\\Temp\\\\pip-wheel-pnc4rdl5\\\\distribute_eb722cc94a934341a24726e28c2c6649\\\\setup.py'\"'\"';f = getattr(tokenize, '\"'\"'open'\"'\"', open)(__file__) if os.path.exists(__file__) else io.StringIO('\"'\"'from setuptools import setup; setup()'\"'\"');code = f.read().replace('\"'\"'\\r\\n'\"'\"', '\"'\"'\\n'\"'\"');f.close();exec(compile(code, __file__, '\"'\"'exec'\"'\"'))' egg_info --egg-base 'C:\\Users\\Riadh\\AppData\\Local\\Temp\\pip-pip-egg-info-wrk21248'\n",
      "             cwd: C:\\Users\\Riadh\\AppData\\Local\\Temp\\pip-wheel-pnc4rdl5\\distribute_eb722cc94a934341a24726e28c2c6649\\\n",
      "        Complete output (10 lines):\n",
      "        Traceback (most recent call last):\n",
      "          File \"<string>\", line 1, in <module>\n",
      "          File \"C:\\Users\\Riadh\\AppData\\Local\\Temp\\pip-wheel-pnc4rdl5\\distribute_eb722cc94a934341a24726e28c2c6649\\setuptools\\__init__.py\", line 2, in <module>\n",
      "            from setuptools.extension import Extension, Library\n",
      "          File \"C:\\Users\\Riadh\\AppData\\Local\\Temp\\pip-wheel-pnc4rdl5\\distribute_eb722cc94a934341a24726e28c2c6649\\setuptools\\extension.py\", line 5, in <module>\n",
      "            from setuptools.dist import _get_unpatched\n",
      "          File \"C:\\Users\\Riadh\\AppData\\Local\\Temp\\pip-wheel-pnc4rdl5\\distribute_eb722cc94a934341a24726e28c2c6649\\setuptools\\dist.py\", line 103\n",
      "            except ValueError, e:\n",
      "                             ^\n",
      "        SyntaxError: invalid syntax\n",
      "        ----------------------------------------\n",
      "    WARNING: Discarding https://files.pythonhosted.org/packages/49/3f/d747add39a5fe4ceb910813c48d1c1564e40ab66f43ea41fd4ded884169a/distribute-0.6.32.tar.gz#sha256=8970cd1e148b5d1fea9430584aea66c45ea22d80e0933393ec49ebc388f718df (from https://pypi.org/simple/distribute/). Command errored out with exit status 1: python setup.py egg_info Check the logs for full command output.\n",
      "        ERROR: Command errored out with exit status 1:\n",
      "         command: 'C:\\Users\\Riadh\\.conda\\envs\\gee\\python.exe' -c 'import io, os, sys, setuptools, tokenize; sys.argv[0] = '\"'\"'C:\\\\Users\\\\Riadh\\\\AppData\\\\Local\\\\Temp\\\\pip-wheel-pnc4rdl5\\\\distribute_6bd3a0ca61a6402c92e20e11d31cb6bb\\\\setup.py'\"'\"'; __file__='\"'\"'C:\\\\Users\\\\Riadh\\\\AppData\\\\Local\\\\Temp\\\\pip-wheel-pnc4rdl5\\\\distribute_6bd3a0ca61a6402c92e20e11d31cb6bb\\\\setup.py'\"'\"';f = getattr(tokenize, '\"'\"'open'\"'\"', open)(__file__) if os.path.exists(__file__) else io.StringIO('\"'\"'from setuptools import setup; setup()'\"'\"');code = f.read().replace('\"'\"'\\r\\n'\"'\"', '\"'\"'\\n'\"'\"');f.close();exec(compile(code, __file__, '\"'\"'exec'\"'\"'))' egg_info --egg-base 'C:\\Users\\Riadh\\AppData\\Local\\Temp\\pip-pip-egg-info-kd1cn08u'\n",
      "             cwd: C:\\Users\\Riadh\\AppData\\Local\\Temp\\pip-wheel-pnc4rdl5\\distribute_6bd3a0ca61a6402c92e20e11d31cb6bb\\\n",
      "        Complete output (10 lines):\n",
      "        Traceback (most recent call last):\n",
      "          File \"<string>\", line 1, in <module>\n",
      "          File \"C:\\Users\\Riadh\\AppData\\Local\\Temp\\pip-wheel-pnc4rdl5\\distribute_6bd3a0ca61a6402c92e20e11d31cb6bb\\setuptools\\__init__.py\", line 2, in <module>\n",
      "            from setuptools.extension import Extension, Library\n",
      "          File \"C:\\Users\\Riadh\\AppData\\Local\\Temp\\pip-wheel-pnc4rdl5\\distribute_6bd3a0ca61a6402c92e20e11d31cb6bb\\setuptools\\extension.py\", line 5, in <module>\n",
      "            from setuptools.dist import _get_unpatched\n",
      "          File \"C:\\Users\\Riadh\\AppData\\Local\\Temp\\pip-wheel-pnc4rdl5\\distribute_6bd3a0ca61a6402c92e20e11d31cb6bb\\setuptools\\dist.py\", line 103\n",
      "            except ValueError, e:\n",
      "                             ^\n",
      "        SyntaxError: invalid syntax\n",
      "        ----------------------------------------\n",
      "    WARNING: Discarding https://files.pythonhosted.org/packages/73/51/21de5f4ae97310e2d34e60e7f3100929e9c461776599fb7ff527fb3ecb47/distribute-0.6.31.zip#sha256=c07d115808a76d0edb93842ac6e1015216990f21125c8f0120daeac22951a2d7 (from https://pypi.org/simple/distribute/). Command errored out with exit status 1: python setup.py egg_info Check the logs for full command output.\n",
      "        ERROR: Command errored out with exit status 1:\n",
      "         command: 'C:\\Users\\Riadh\\.conda\\envs\\gee\\python.exe' -c 'import io, os, sys, setuptools, tokenize; sys.argv[0] = '\"'\"'C:\\\\Users\\\\Riadh\\\\AppData\\\\Local\\\\Temp\\\\pip-wheel-pnc4rdl5\\\\distribute_b559ff1140b64d12b7817ba33e491b1c\\\\setup.py'\"'\"'; __file__='\"'\"'C:\\\\Users\\\\Riadh\\\\AppData\\\\Local\\\\Temp\\\\pip-wheel-pnc4rdl5\\\\distribute_b559ff1140b64d12b7817ba33e491b1c\\\\setup.py'\"'\"';f = getattr(tokenize, '\"'\"'open'\"'\"', open)(__file__) if os.path.exists(__file__) else io.StringIO('\"'\"'from setuptools import setup; setup()'\"'\"');code = f.read().replace('\"'\"'\\r\\n'\"'\"', '\"'\"'\\n'\"'\"');f.close();exec(compile(code, __file__, '\"'\"'exec'\"'\"'))' egg_info --egg-base 'C:\\Users\\Riadh\\AppData\\Local\\Temp\\pip-pip-egg-info-30ilh9hd'\n",
      "             cwd: C:\\Users\\Riadh\\AppData\\Local\\Temp\\pip-wheel-pnc4rdl5\\distribute_b559ff1140b64d12b7817ba33e491b1c\\\n",
      "        Complete output (10 lines):\n",
      "        Traceback (most recent call last):\n",
      "          File \"<string>\", line 1, in <module>\n",
      "          File \"C:\\Users\\Riadh\\AppData\\Local\\Temp\\pip-wheel-pnc4rdl5\\distribute_b559ff1140b64d12b7817ba33e491b1c\\setuptools\\__init__.py\", line 2, in <module>\n",
      "            from setuptools.extension import Extension, Library\n",
      "          File \"C:\\Users\\Riadh\\AppData\\Local\\Temp\\pip-wheel-pnc4rdl5\\distribute_b559ff1140b64d12b7817ba33e491b1c\\setuptools\\extension.py\", line 5, in <module>\n",
      "            from setuptools.dist import _get_unpatched\n",
      "          File \"C:\\Users\\Riadh\\AppData\\Local\\Temp\\pip-wheel-pnc4rdl5\\distribute_b559ff1140b64d12b7817ba33e491b1c\\setuptools\\dist.py\", line 103\n",
      "            except ValueError, e:\n",
      "                             ^\n",
      "        SyntaxError: invalid syntax\n",
      "        ----------------------------------------\n",
      "    WARNING: Discarding https://files.pythonhosted.org/packages/e7/da/2e0f7670f9f7dbe440f5673b5b18e896d7b85b4303d4281925176a12e6bc/distribute-0.6.31.tar.gz#sha256=9716293effc8d68068ce41e287b6903cf355641d0642b44e69dd92e9699dcbcf (from https://pypi.org/simple/distribute/). Command errored out with exit status 1: python setup.py egg_info Check the logs for full command output.\n",
      "        ERROR: Command errored out with exit status 1:\n",
      "         command: 'C:\\Users\\Riadh\\.conda\\envs\\gee\\python.exe' -c 'import io, os, sys, setuptools, tokenize; sys.argv[0] = '\"'\"'C:\\\\Users\\\\Riadh\\\\AppData\\\\Local\\\\Temp\\\\pip-wheel-pnc4rdl5\\\\distribute_1acd842b3f5840749b1822f41794e1af\\\\setup.py'\"'\"'; __file__='\"'\"'C:\\\\Users\\\\Riadh\\\\AppData\\\\Local\\\\Temp\\\\pip-wheel-pnc4rdl5\\\\distribute_1acd842b3f5840749b1822f41794e1af\\\\setup.py'\"'\"';f = getattr(tokenize, '\"'\"'open'\"'\"', open)(__file__) if os.path.exists(__file__) else io.StringIO('\"'\"'from setuptools import setup; setup()'\"'\"');code = f.read().replace('\"'\"'\\r\\n'\"'\"', '\"'\"'\\n'\"'\"');f.close();exec(compile(code, __file__, '\"'\"'exec'\"'\"'))' egg_info --egg-base 'C:\\Users\\Riadh\\AppData\\Local\\Temp\\pip-pip-egg-info-cgc16g3j'\n",
      "             cwd: C:\\Users\\Riadh\\AppData\\Local\\Temp\\pip-wheel-pnc4rdl5\\distribute_1acd842b3f5840749b1822f41794e1af\\\n",
      "        Complete output (10 lines):\n",
      "        Traceback (most recent call last):\n",
      "          File \"<string>\", line 1, in <module>\n",
      "          File \"C:\\Users\\Riadh\\AppData\\Local\\Temp\\pip-wheel-pnc4rdl5\\distribute_1acd842b3f5840749b1822f41794e1af\\setuptools\\__init__.py\", line 2, in <module>\n",
      "            from setuptools.extension import Extension, Library\n",
      "          File \"C:\\Users\\Riadh\\AppData\\Local\\Temp\\pip-wheel-pnc4rdl5\\distribute_1acd842b3f5840749b1822f41794e1af\\setuptools\\extension.py\", line 5, in <module>\n",
      "            from setuptools.dist import _get_unpatched\n",
      "          File \"C:\\Users\\Riadh\\AppData\\Local\\Temp\\pip-wheel-pnc4rdl5\\distribute_1acd842b3f5840749b1822f41794e1af\\setuptools\\dist.py\", line 103\n",
      "            except ValueError, e:\n",
      "                             ^\n",
      "        SyntaxError: invalid syntax\n",
      "        ----------------------------------------\n",
      "    WARNING: Discarding https://files.pythonhosted.org/packages/e7/23/507064c9ee19ecab8783248273473cff1291bce2411f51459eba5109551a/distribute-0.6.30.zip#sha256=07a68008c9321369ea33136e9547bf330f1797764583226456e1511a32127527 (from https://pypi.org/simple/distribute/). Command errored out with exit status 1: python setup.py egg_info Check the logs for full command output.\n",
      "        ERROR: Command errored out with exit status 1:\n",
      "         command: 'C:\\Users\\Riadh\\.conda\\envs\\gee\\python.exe' -c 'import io, os, sys, setuptools, tokenize; sys.argv[0] = '\"'\"'C:\\\\Users\\\\Riadh\\\\AppData\\\\Local\\\\Temp\\\\pip-wheel-pnc4rdl5\\\\distribute_3a4b4da126534785b2e0000bcee49a1d\\\\setup.py'\"'\"'; __file__='\"'\"'C:\\\\Users\\\\Riadh\\\\AppData\\\\Local\\\\Temp\\\\pip-wheel-pnc4rdl5\\\\distribute_3a4b4da126534785b2e0000bcee49a1d\\\\setup.py'\"'\"';f = getattr(tokenize, '\"'\"'open'\"'\"', open)(__file__) if os.path.exists(__file__) else io.StringIO('\"'\"'from setuptools import setup; setup()'\"'\"');code = f.read().replace('\"'\"'\\r\\n'\"'\"', '\"'\"'\\n'\"'\"');f.close();exec(compile(code, __file__, '\"'\"'exec'\"'\"'))' egg_info --egg-base 'C:\\Users\\Riadh\\AppData\\Local\\Temp\\pip-pip-egg-info-11km0v48'\n",
      "             cwd: C:\\Users\\Riadh\\AppData\\Local\\Temp\\pip-wheel-pnc4rdl5\\distribute_3a4b4da126534785b2e0000bcee49a1d\\\n",
      "        Complete output (10 lines):\n",
      "        Traceback (most recent call last):\n",
      "          File \"<string>\", line 1, in <module>\n",
      "          File \"C:\\Users\\Riadh\\AppData\\Local\\Temp\\pip-wheel-pnc4rdl5\\distribute_3a4b4da126534785b2e0000bcee49a1d\\setuptools\\__init__.py\", line 2, in <module>\n",
      "            from setuptools.extension import Extension, Library\n",
      "          File \"C:\\Users\\Riadh\\AppData\\Local\\Temp\\pip-wheel-pnc4rdl5\\distribute_3a4b4da126534785b2e0000bcee49a1d\\setuptools\\extension.py\", line 5, in <module>\n",
      "            from setuptools.dist import _get_unpatched\n",
      "          File \"C:\\Users\\Riadh\\AppData\\Local\\Temp\\pip-wheel-pnc4rdl5\\distribute_3a4b4da126534785b2e0000bcee49a1d\\setuptools\\dist.py\", line 103\n",
      "            except ValueError, e:\n",
      "                             ^\n",
      "        SyntaxError: invalid syntax\n",
      "        ----------------------------------------\n",
      "    WARNING: Discarding https://files.pythonhosted.org/packages/d7/4b/a08384fdde2b86d0f88aa16df7b31326d90b7b3a9ff55acfa1c1c6b2c5be/distribute-0.6.30.tar.gz#sha256=7ff34c3a9a844ee881ff28efc5d1f74603b72e0a5235a9d6dc76e603149e8eab (from https://pypi.org/simple/distribute/). Command errored out with exit status 1: python setup.py egg_info Check the logs for full command output.\n",
      "        ERROR: Command errored out with exit status 1:\n",
      "         command: 'C:\\Users\\Riadh\\.conda\\envs\\gee\\python.exe' -c 'import io, os, sys, setuptools, tokenize; sys.argv[0] = '\"'\"'C:\\\\Users\\\\Riadh\\\\AppData\\\\Local\\\\Temp\\\\pip-wheel-pnc4rdl5\\\\distribute_bf9dc3b8fc5c49ecb9956f114d78e4a8\\\\setup.py'\"'\"'; __file__='\"'\"'C:\\\\Users\\\\Riadh\\\\AppData\\\\Local\\\\Temp\\\\pip-wheel-pnc4rdl5\\\\distribute_bf9dc3b8fc5c49ecb9956f114d78e4a8\\\\setup.py'\"'\"';f = getattr(tokenize, '\"'\"'open'\"'\"', open)(__file__) if os.path.exists(__file__) else io.StringIO('\"'\"'from setuptools import setup; setup()'\"'\"');code = f.read().replace('\"'\"'\\r\\n'\"'\"', '\"'\"'\\n'\"'\"');f.close();exec(compile(code, __file__, '\"'\"'exec'\"'\"'))' egg_info --egg-base 'C:\\Users\\Riadh\\AppData\\Local\\Temp\\pip-pip-egg-info-wli9vulk'\n",
      "             cwd: C:\\Users\\Riadh\\AppData\\Local\\Temp\\pip-wheel-pnc4rdl5\\distribute_bf9dc3b8fc5c49ecb9956f114d78e4a8\\\n",
      "        Complete output (10 lines):\n",
      "        Traceback (most recent call last):\n",
      "          File \"<string>\", line 1, in <module>\n",
      "          File \"C:\\Users\\Riadh\\AppData\\Local\\Temp\\pip-wheel-pnc4rdl5\\distribute_bf9dc3b8fc5c49ecb9956f114d78e4a8\\setuptools\\__init__.py\", line 2, in <module>\n",
      "            from setuptools.extension import Extension, Library\n",
      "          File \"C:\\Users\\Riadh\\AppData\\Local\\Temp\\pip-wheel-pnc4rdl5\\distribute_bf9dc3b8fc5c49ecb9956f114d78e4a8\\setuptools\\extension.py\", line 5, in <module>\n",
      "            from setuptools.dist import _get_unpatched\n",
      "          File \"C:\\Users\\Riadh\\AppData\\Local\\Temp\\pip-wheel-pnc4rdl5\\distribute_bf9dc3b8fc5c49ecb9956f114d78e4a8\\setuptools\\dist.py\", line 103\n",
      "            except ValueError, e:\n",
      "                             ^\n",
      "        SyntaxError: invalid syntax\n",
      "        ----------------------------------------\n",
      "    WARNING: Discarding https://files.pythonhosted.org/packages/a5/9f/54f0d4cf1a29308ea6b64c4cc8b3f5a3378fc51420c4d66e6b6485e628e9/distribute-0.6.29.zip#sha256=fe32fe888ea39e8f8efae20b5a47880b52b1647c2d9b7b3031d12e7461764327 (from https://pypi.org/simple/distribute/). Command errored out with exit status 1: python setup.py egg_info Check the logs for full command output.\n",
      "        ERROR: Command errored out with exit status 1:\n",
      "         command: 'C:\\Users\\Riadh\\.conda\\envs\\gee\\python.exe' -c 'import io, os, sys, setuptools, tokenize; sys.argv[0] = '\"'\"'C:\\\\Users\\\\Riadh\\\\AppData\\\\Local\\\\Temp\\\\pip-wheel-pnc4rdl5\\\\distribute_798e8e91ad9e44cb9a51c9e1f9b2d1d9\\\\setup.py'\"'\"'; __file__='\"'\"'C:\\\\Users\\\\Riadh\\\\AppData\\\\Local\\\\Temp\\\\pip-wheel-pnc4rdl5\\\\distribute_798e8e91ad9e44cb9a51c9e1f9b2d1d9\\\\setup.py'\"'\"';f = getattr(tokenize, '\"'\"'open'\"'\"', open)(__file__) if os.path.exists(__file__) else io.StringIO('\"'\"'from setuptools import setup; setup()'\"'\"');code = f.read().replace('\"'\"'\\r\\n'\"'\"', '\"'\"'\\n'\"'\"');f.close();exec(compile(code, __file__, '\"'\"'exec'\"'\"'))' egg_info --egg-base 'C:\\Users\\Riadh\\AppData\\Local\\Temp\\pip-pip-egg-info-pmfsojcj'\n",
      "             cwd: C:\\Users\\Riadh\\AppData\\Local\\Temp\\pip-wheel-pnc4rdl5\\distribute_798e8e91ad9e44cb9a51c9e1f9b2d1d9\\\n",
      "        Complete output (10 lines):\n",
      "        Traceback (most recent call last):\n",
      "          File \"<string>\", line 1, in <module>\n",
      "          File \"C:\\Users\\Riadh\\AppData\\Local\\Temp\\pip-wheel-pnc4rdl5\\distribute_798e8e91ad9e44cb9a51c9e1f9b2d1d9\\setuptools\\__init__.py\", line 2, in <module>\n",
      "            from setuptools.extension import Extension, Library\n",
      "          File \"C:\\Users\\Riadh\\AppData\\Local\\Temp\\pip-wheel-pnc4rdl5\\distribute_798e8e91ad9e44cb9a51c9e1f9b2d1d9\\setuptools\\extension.py\", line 5, in <module>\n",
      "            from setuptools.dist import _get_unpatched\n",
      "          File \"C:\\Users\\Riadh\\AppData\\Local\\Temp\\pip-wheel-pnc4rdl5\\distribute_798e8e91ad9e44cb9a51c9e1f9b2d1d9\\setuptools\\dist.py\", line 103\n",
      "            except ValueError, e:\n",
      "                             ^\n",
      "        SyntaxError: invalid syntax\n",
      "        ----------------------------------------\n",
      "    WARNING: Discarding https://files.pythonhosted.org/packages/1d/72/fe1c1eb05445595be6b653d5b282d4687528d437d6f038bfb8e69f3afd01/distribute-0.6.29.tar.gz#sha256=2d74ee0360907f87e7125fe847ba541866777a1bc5315b4578bda06a4604544d (from https://pypi.org/simple/distribute/). Command errored out with exit status 1: python setup.py egg_info Check the logs for full command output.\n",
      "        ERROR: Command errored out with exit status 1:\n",
      "         command: 'C:\\Users\\Riadh\\.conda\\envs\\gee\\python.exe' -c 'import io, os, sys, setuptools, tokenize; sys.argv[0] = '\"'\"'C:\\\\Users\\\\Riadh\\\\AppData\\\\Local\\\\Temp\\\\pip-wheel-pnc4rdl5\\\\distribute_efdad9be5ca149288907e737025cbcdb\\\\setup.py'\"'\"'; __file__='\"'\"'C:\\\\Users\\\\Riadh\\\\AppData\\\\Local\\\\Temp\\\\pip-wheel-pnc4rdl5\\\\distribute_efdad9be5ca149288907e737025cbcdb\\\\setup.py'\"'\"';f = getattr(tokenize, '\"'\"'open'\"'\"', open)(__file__) if os.path.exists(__file__) else io.StringIO('\"'\"'from setuptools import setup; setup()'\"'\"');code = f.read().replace('\"'\"'\\r\\n'\"'\"', '\"'\"'\\n'\"'\"');f.close();exec(compile(code, __file__, '\"'\"'exec'\"'\"'))' egg_info --egg-base 'C:\\Users\\Riadh\\AppData\\Local\\Temp\\pip-pip-egg-info-6u95vrsn'\n",
      "             cwd: C:\\Users\\Riadh\\AppData\\Local\\Temp\\pip-wheel-pnc4rdl5\\distribute_efdad9be5ca149288907e737025cbcdb\\\n",
      "        Complete output (10 lines):\n",
      "        Traceback (most recent call last):\n",
      "          File \"<string>\", line 1, in <module>\n",
      "          File \"C:\\Users\\Riadh\\AppData\\Local\\Temp\\pip-wheel-pnc4rdl5\\distribute_efdad9be5ca149288907e737025cbcdb\\setuptools\\__init__.py\", line 2, in <module>\n",
      "            from setuptools.extension import Extension, Library\n",
      "          File \"C:\\Users\\Riadh\\AppData\\Local\\Temp\\pip-wheel-pnc4rdl5\\distribute_efdad9be5ca149288907e737025cbcdb\\setuptools\\extension.py\", line 5, in <module>\n",
      "            from setuptools.dist import _get_unpatched\n",
      "          File \"C:\\Users\\Riadh\\AppData\\Local\\Temp\\pip-wheel-pnc4rdl5\\distribute_efdad9be5ca149288907e737025cbcdb\\setuptools\\dist.py\", line 103\n",
      "            except ValueError, e:\n",
      "                             ^\n",
      "        SyntaxError: invalid syntax\n",
      "        ----------------------------------------\n",
      "    WARNING: Discarding https://files.pythonhosted.org/packages/cb/0e/a58066fc4059f5b0d7dafa484aac0fcf45180800059eaf69528857237f64/distribute-0.6.28.zip#sha256=d754b7b21be61816dfddbbda234b1039a7e4f5e921201cc7bfde2d2985ef72e4 (from https://pypi.org/simple/distribute/). Command errored out with exit status 1: python setup.py egg_info Check the logs for full command output.\n",
      "        ERROR: Command errored out with exit status 1:\n",
      "         command: 'C:\\Users\\Riadh\\.conda\\envs\\gee\\python.exe' -c 'import io, os, sys, setuptools, tokenize; sys.argv[0] = '\"'\"'C:\\\\Users\\\\Riadh\\\\AppData\\\\Local\\\\Temp\\\\pip-wheel-pnc4rdl5\\\\distribute_a96911150f0540e583ff2902f580875a\\\\setup.py'\"'\"'; __file__='\"'\"'C:\\\\Users\\\\Riadh\\\\AppData\\\\Local\\\\Temp\\\\pip-wheel-pnc4rdl5\\\\distribute_a96911150f0540e583ff2902f580875a\\\\setup.py'\"'\"';f = getattr(tokenize, '\"'\"'open'\"'\"', open)(__file__) if os.path.exists(__file__) else io.StringIO('\"'\"'from setuptools import setup; setup()'\"'\"');code = f.read().replace('\"'\"'\\r\\n'\"'\"', '\"'\"'\\n'\"'\"');f.close();exec(compile(code, __file__, '\"'\"'exec'\"'\"'))' egg_info --egg-base 'C:\\Users\\Riadh\\AppData\\Local\\Temp\\pip-pip-egg-info-q2vx04fp'\n",
      "             cwd: C:\\Users\\Riadh\\AppData\\Local\\Temp\\pip-wheel-pnc4rdl5\\distribute_a96911150f0540e583ff2902f580875a\\\n",
      "        Complete output (10 lines):\n",
      "        Traceback (most recent call last):\n",
      "          File \"<string>\", line 1, in <module>\n",
      "          File \"C:\\Users\\Riadh\\AppData\\Local\\Temp\\pip-wheel-pnc4rdl5\\distribute_a96911150f0540e583ff2902f580875a\\setuptools\\__init__.py\", line 2, in <module>\n",
      "            from setuptools.extension import Extension, Library\n",
      "          File \"C:\\Users\\Riadh\\AppData\\Local\\Temp\\pip-wheel-pnc4rdl5\\distribute_a96911150f0540e583ff2902f580875a\\setuptools\\extension.py\", line 5, in <module>\n",
      "            from setuptools.dist import _get_unpatched\n",
      "          File \"C:\\Users\\Riadh\\AppData\\Local\\Temp\\pip-wheel-pnc4rdl5\\distribute_a96911150f0540e583ff2902f580875a\\setuptools\\dist.py\", line 103\n",
      "            except ValueError, e:\n",
      "                             ^\n",
      "        SyntaxError: invalid syntax\n",
      "        ----------------------------------------\n",
      "    WARNING: Discarding https://files.pythonhosted.org/packages/2f/f5/0ac674dd39ea80db147230362cff5e9cbe3b1e893fde9aeab5d2f72da83c/distribute-0.6.28.tar.gz#sha256=a42e897551aeb7600708f4aa6a0c02acb4458613976234b7d4fad7ae841a8d63 (from https://pypi.org/simple/distribute/). Command errored out with exit status 1: python setup.py egg_info Check the logs for full command output.\n",
      "        ERROR: Command errored out with exit status 1:\n",
      "         command: 'C:\\Users\\Riadh\\.conda\\envs\\gee\\python.exe' -c 'import io, os, sys, setuptools, tokenize; sys.argv[0] = '\"'\"'C:\\\\Users\\\\Riadh\\\\AppData\\\\Local\\\\Temp\\\\pip-wheel-pnc4rdl5\\\\distribute_2c49843933414a55a77a7283e94a65e2\\\\setup.py'\"'\"'; __file__='\"'\"'C:\\\\Users\\\\Riadh\\\\AppData\\\\Local\\\\Temp\\\\pip-wheel-pnc4rdl5\\\\distribute_2c49843933414a55a77a7283e94a65e2\\\\setup.py'\"'\"';f = getattr(tokenize, '\"'\"'open'\"'\"', open)(__file__) if os.path.exists(__file__) else io.StringIO('\"'\"'from setuptools import setup; setup()'\"'\"');code = f.read().replace('\"'\"'\\r\\n'\"'\"', '\"'\"'\\n'\"'\"');f.close();exec(compile(code, __file__, '\"'\"'exec'\"'\"'))' egg_info --egg-base 'C:\\Users\\Riadh\\AppData\\Local\\Temp\\pip-pip-egg-info-of8gmoov'\n",
      "             cwd: C:\\Users\\Riadh\\AppData\\Local\\Temp\\pip-wheel-pnc4rdl5\\distribute_2c49843933414a55a77a7283e94a65e2\\\n",
      "        Complete output (10 lines):\n",
      "        Traceback (most recent call last):\n",
      "          File \"<string>\", line 1, in <module>\n",
      "          File \"C:\\Users\\Riadh\\AppData\\Local\\Temp\\pip-wheel-pnc4rdl5\\distribute_2c49843933414a55a77a7283e94a65e2\\setuptools\\__init__.py\", line 2, in <module>\n",
      "            from setuptools.extension import Extension, Library\n",
      "          File \"C:\\Users\\Riadh\\AppData\\Local\\Temp\\pip-wheel-pnc4rdl5\\distribute_2c49843933414a55a77a7283e94a65e2\\setuptools\\extension.py\", line 5, in <module>\n",
      "            from setuptools.dist import _get_unpatched\n",
      "          File \"C:\\Users\\Riadh\\AppData\\Local\\Temp\\pip-wheel-pnc4rdl5\\distribute_2c49843933414a55a77a7283e94a65e2\\setuptools\\dist.py\", line 103\n",
      "            except ValueError, e:\n",
      "                             ^\n",
      "        SyntaxError: invalid syntax\n",
      "        ----------------------------------------\n",
      "    WARNING: Discarding https://files.pythonhosted.org/packages/8c/ce/7e1d6c0bb82683b74960f09651de2a536bc7b48ac74b54675bfb79cc27e2/distribute-0.6.27.zip#sha256=fd98fb9a36237271809533334535c369fe78a689f22ceedf8d6778f3b05a19ff (from https://pypi.org/simple/distribute/). Command errored out with exit status 1: python setup.py egg_info Check the logs for full command output.\n",
      "        ERROR: Command errored out with exit status 1:\n",
      "         command: 'C:\\Users\\Riadh\\.conda\\envs\\gee\\python.exe' -c 'import io, os, sys, setuptools, tokenize; sys.argv[0] = '\"'\"'C:\\\\Users\\\\Riadh\\\\AppData\\\\Local\\\\Temp\\\\pip-wheel-pnc4rdl5\\\\distribute_9a33c7a91c1448189155eeeacc6c2fe9\\\\setup.py'\"'\"'; __file__='\"'\"'C:\\\\Users\\\\Riadh\\\\AppData\\\\Local\\\\Temp\\\\pip-wheel-pnc4rdl5\\\\distribute_9a33c7a91c1448189155eeeacc6c2fe9\\\\setup.py'\"'\"';f = getattr(tokenize, '\"'\"'open'\"'\"', open)(__file__) if os.path.exists(__file__) else io.StringIO('\"'\"'from setuptools import setup; setup()'\"'\"');code = f.read().replace('\"'\"'\\r\\n'\"'\"', '\"'\"'\\n'\"'\"');f.close();exec(compile(code, __file__, '\"'\"'exec'\"'\"'))' egg_info --egg-base 'C:\\Users\\Riadh\\AppData\\Local\\Temp\\pip-pip-egg-info-c2pmhncz'\n",
      "             cwd: C:\\Users\\Riadh\\AppData\\Local\\Temp\\pip-wheel-pnc4rdl5\\distribute_9a33c7a91c1448189155eeeacc6c2fe9\\\n",
      "        Complete output (10 lines):\n",
      "        Traceback (most recent call last):\n",
      "          File \"<string>\", line 1, in <module>\n",
      "          File \"C:\\Users\\Riadh\\AppData\\Local\\Temp\\pip-wheel-pnc4rdl5\\distribute_9a33c7a91c1448189155eeeacc6c2fe9\\setuptools\\__init__.py\", line 2, in <module>\n",
      "            from setuptools.extension import Extension, Library\n",
      "          File \"C:\\Users\\Riadh\\AppData\\Local\\Temp\\pip-wheel-pnc4rdl5\\distribute_9a33c7a91c1448189155eeeacc6c2fe9\\setuptools\\extension.py\", line 5, in <module>\n",
      "            from setuptools.dist import _get_unpatched\n",
      "          File \"C:\\Users\\Riadh\\AppData\\Local\\Temp\\pip-wheel-pnc4rdl5\\distribute_9a33c7a91c1448189155eeeacc6c2fe9\\setuptools\\dist.py\", line 103\n",
      "            except ValueError, e:\n",
      "                             ^\n",
      "        SyntaxError: invalid syntax\n",
      "        ----------------------------------------\n",
      "    WARNING: Discarding https://files.pythonhosted.org/packages/33/cd/b81641625955e7f13d3a02b13176f7cc7becf96da5607c3283d14e2fa0a6/distribute-0.6.27.tar.gz#sha256=5d79e472ba49e5de17318a9c59b9adf5790ba6b186c6edc1657acd9afe55de00 (from https://pypi.org/simple/distribute/). Command errored out with exit status 1: python setup.py egg_info Check the logs for full command output.\n",
      "        ERROR: Command errored out with exit status 1:\n",
      "         command: 'C:\\Users\\Riadh\\.conda\\envs\\gee\\python.exe' -c 'import io, os, sys, setuptools, tokenize; sys.argv[0] = '\"'\"'C:\\\\Users\\\\Riadh\\\\AppData\\\\Local\\\\Temp\\\\pip-wheel-pnc4rdl5\\\\distribute_c01a3952e64c4548b3335c118b0b516d\\\\setup.py'\"'\"'; __file__='\"'\"'C:\\\\Users\\\\Riadh\\\\AppData\\\\Local\\\\Temp\\\\pip-wheel-pnc4rdl5\\\\distribute_c01a3952e64c4548b3335c118b0b516d\\\\setup.py'\"'\"';f = getattr(tokenize, '\"'\"'open'\"'\"', open)(__file__) if os.path.exists(__file__) else io.StringIO('\"'\"'from setuptools import setup; setup()'\"'\"');code = f.read().replace('\"'\"'\\r\\n'\"'\"', '\"'\"'\\n'\"'\"');f.close();exec(compile(code, __file__, '\"'\"'exec'\"'\"'))' egg_info --egg-base 'C:\\Users\\Riadh\\AppData\\Local\\Temp\\pip-pip-egg-info-1dayurz8'\n",
      "             cwd: C:\\Users\\Riadh\\AppData\\Local\\Temp\\pip-wheel-pnc4rdl5\\distribute_c01a3952e64c4548b3335c118b0b516d\\\n",
      "        Complete output (10 lines):\n",
      "        Traceback (most recent call last):\n",
      "          File \"<string>\", line 1, in <module>\n",
      "          File \"C:\\Users\\Riadh\\AppData\\Local\\Temp\\pip-wheel-pnc4rdl5\\distribute_c01a3952e64c4548b3335c118b0b516d\\setuptools\\__init__.py\", line 2, in <module>\n",
      "            from setuptools.extension import Extension, Library\n",
      "          File \"C:\\Users\\Riadh\\AppData\\Local\\Temp\\pip-wheel-pnc4rdl5\\distribute_c01a3952e64c4548b3335c118b0b516d\\setuptools\\extension.py\", line 5, in <module>\n",
      "            from setuptools.dist import _get_unpatched\n",
      "          File \"C:\\Users\\Riadh\\AppData\\Local\\Temp\\pip-wheel-pnc4rdl5\\distribute_c01a3952e64c4548b3335c118b0b516d\\setuptools\\dist.py\", line 103\n",
      "            except ValueError, e:\n",
      "                             ^\n",
      "        SyntaxError: invalid syntax\n",
      "        ----------------------------------------\n",
      "    WARNING: Discarding https://files.pythonhosted.org/packages/2c/be/b67877f2b48db5bbcf7b5e131a69c401753c9af9b4968254ff8bfc9e1ca7/distribute-0.6.26.zip#sha256=2f3551943f8a18ece8948711a6340fafc2e57c29d921e1e3ec0caf78878ff343 (from https://pypi.org/simple/distribute/). Command errored out with exit status 1: python setup.py egg_info Check the logs for full command output.\n",
      "        ERROR: Command errored out with exit status 1:\n",
      "         command: 'C:\\Users\\Riadh\\.conda\\envs\\gee\\python.exe' -c 'import io, os, sys, setuptools, tokenize; sys.argv[0] = '\"'\"'C:\\\\Users\\\\Riadh\\\\AppData\\\\Local\\\\Temp\\\\pip-wheel-pnc4rdl5\\\\distribute_3280053d3df5430a8b5d80da5824bd1e\\\\setup.py'\"'\"'; __file__='\"'\"'C:\\\\Users\\\\Riadh\\\\AppData\\\\Local\\\\Temp\\\\pip-wheel-pnc4rdl5\\\\distribute_3280053d3df5430a8b5d80da5824bd1e\\\\setup.py'\"'\"';f = getattr(tokenize, '\"'\"'open'\"'\"', open)(__file__) if os.path.exists(__file__) else io.StringIO('\"'\"'from setuptools import setup; setup()'\"'\"');code = f.read().replace('\"'\"'\\r\\n'\"'\"', '\"'\"'\\n'\"'\"');f.close();exec(compile(code, __file__, '\"'\"'exec'\"'\"'))' egg_info --egg-base 'C:\\Users\\Riadh\\AppData\\Local\\Temp\\pip-pip-egg-info-g26n68xv'\n",
      "             cwd: C:\\Users\\Riadh\\AppData\\Local\\Temp\\pip-wheel-pnc4rdl5\\distribute_3280053d3df5430a8b5d80da5824bd1e\\\n",
      "        Complete output (10 lines):\n",
      "        Traceback (most recent call last):\n",
      "          File \"<string>\", line 1, in <module>\n",
      "          File \"C:\\Users\\Riadh\\AppData\\Local\\Temp\\pip-wheel-pnc4rdl5\\distribute_3280053d3df5430a8b5d80da5824bd1e\\setuptools\\__init__.py\", line 2, in <module>\n",
      "            from setuptools.extension import Extension, Library\n",
      "          File \"C:\\Users\\Riadh\\AppData\\Local\\Temp\\pip-wheel-pnc4rdl5\\distribute_3280053d3df5430a8b5d80da5824bd1e\\setuptools\\extension.py\", line 5, in <module>\n",
      "            from setuptools.dist import _get_unpatched\n",
      "          File \"C:\\Users\\Riadh\\AppData\\Local\\Temp\\pip-wheel-pnc4rdl5\\distribute_3280053d3df5430a8b5d80da5824bd1e\\setuptools\\dist.py\", line 103\n",
      "            except ValueError, e:\n",
      "                             ^\n",
      "        SyntaxError: invalid syntax\n",
      "        ----------------------------------------\n",
      "    WARNING: Discarding https://files.pythonhosted.org/packages/03/08/16815ba1e7d7dc21289c0ea89bffea4c34cc4d10979d2f3f64837ee51087/distribute-0.6.26.tar.gz#sha256=9c29c56dcbb0e88a12714071d0b64e1be2da805b650f9394e8c7c719b7675030 (from https://pypi.org/simple/distribute/). Command errored out with exit status 1: python setup.py egg_info Check the logs for full command output.\n",
      "        ERROR: Command errored out with exit status 1:\n",
      "         command: 'C:\\Users\\Riadh\\.conda\\envs\\gee\\python.exe' -c 'import io, os, sys, setuptools, tokenize; sys.argv[0] = '\"'\"'C:\\\\Users\\\\Riadh\\\\AppData\\\\Local\\\\Temp\\\\pip-wheel-pnc4rdl5\\\\distribute_aaa26d0a310944738b2a7ac72622bd91\\\\setup.py'\"'\"'; __file__='\"'\"'C:\\\\Users\\\\Riadh\\\\AppData\\\\Local\\\\Temp\\\\pip-wheel-pnc4rdl5\\\\distribute_aaa26d0a310944738b2a7ac72622bd91\\\\setup.py'\"'\"';f = getattr(tokenize, '\"'\"'open'\"'\"', open)(__file__) if os.path.exists(__file__) else io.StringIO('\"'\"'from setuptools import setup; setup()'\"'\"');code = f.read().replace('\"'\"'\\r\\n'\"'\"', '\"'\"'\\n'\"'\"');f.close();exec(compile(code, __file__, '\"'\"'exec'\"'\"'))' egg_info --egg-base 'C:\\Users\\Riadh\\AppData\\Local\\Temp\\pip-pip-egg-info-3fn1ecur'\n",
      "             cwd: C:\\Users\\Riadh\\AppData\\Local\\Temp\\pip-wheel-pnc4rdl5\\distribute_aaa26d0a310944738b2a7ac72622bd91\\\n",
      "        Complete output (10 lines):\n",
      "        Traceback (most recent call last):\n",
      "          File \"<string>\", line 1, in <module>\n",
      "          File \"C:\\Users\\Riadh\\AppData\\Local\\Temp\\pip-wheel-pnc4rdl5\\distribute_aaa26d0a310944738b2a7ac72622bd91\\setuptools\\__init__.py\", line 2, in <module>\n",
      "            from setuptools.extension import Extension, Library\n",
      "          File \"C:\\Users\\Riadh\\AppData\\Local\\Temp\\pip-wheel-pnc4rdl5\\distribute_aaa26d0a310944738b2a7ac72622bd91\\setuptools\\extension.py\", line 2, in <module>\n",
      "            from setuptools.dist import _get_unpatched\n",
      "          File \"C:\\Users\\Riadh\\AppData\\Local\\Temp\\pip-wheel-pnc4rdl5\\distribute_aaa26d0a310944738b2a7ac72622bd91\\setuptools\\dist.py\", line 103\n",
      "            except ValueError, e:\n",
      "                             ^\n",
      "        SyntaxError: invalid syntax\n",
      "        ----------------------------------------\n",
      "    WARNING: Discarding https://files.pythonhosted.org/packages/2a/e5/a20bb4e1abdf71985e9a67d56136b973b41ea295ba3e756f47ad1c54953d/distribute-0.6.25.zip#sha256=865a99ed213301c83396bc111c659ce6ffcd870417a6115d7e59271c74df1f2d (from https://pypi.org/simple/distribute/). Command errored out with exit status 1: python setup.py egg_info Check the logs for full command output.\n",
      "        ERROR: Command errored out with exit status 1:\n",
      "         command: 'C:\\Users\\Riadh\\.conda\\envs\\gee\\python.exe' -c 'import io, os, sys, setuptools, tokenize; sys.argv[0] = '\"'\"'C:\\\\Users\\\\Riadh\\\\AppData\\\\Local\\\\Temp\\\\pip-wheel-pnc4rdl5\\\\distribute_c433f37742d04404a480b23afe751d16\\\\setup.py'\"'\"'; __file__='\"'\"'C:\\\\Users\\\\Riadh\\\\AppData\\\\Local\\\\Temp\\\\pip-wheel-pnc4rdl5\\\\distribute_c433f37742d04404a480b23afe751d16\\\\setup.py'\"'\"';f = getattr(tokenize, '\"'\"'open'\"'\"', open)(__file__) if os.path.exists(__file__) else io.StringIO('\"'\"'from setuptools import setup; setup()'\"'\"');code = f.read().replace('\"'\"'\\r\\n'\"'\"', '\"'\"'\\n'\"'\"');f.close();exec(compile(code, __file__, '\"'\"'exec'\"'\"'))' egg_info --egg-base 'C:\\Users\\Riadh\\AppData\\Local\\Temp\\pip-pip-egg-info-280dxbdy'\n",
      "             cwd: C:\\Users\\Riadh\\AppData\\Local\\Temp\\pip-wheel-pnc4rdl5\\distribute_c433f37742d04404a480b23afe751d16\\\n",
      "        Complete output (10 lines):\n",
      "        Traceback (most recent call last):\n",
      "          File \"<string>\", line 1, in <module>\n",
      "          File \"C:\\Users\\Riadh\\AppData\\Local\\Temp\\pip-wheel-pnc4rdl5\\distribute_c433f37742d04404a480b23afe751d16\\setuptools\\__init__.py\", line 2, in <module>\n",
      "            from setuptools.extension import Extension, Library\n",
      "          File \"C:\\Users\\Riadh\\AppData\\Local\\Temp\\pip-wheel-pnc4rdl5\\distribute_c433f37742d04404a480b23afe751d16\\setuptools\\extension.py\", line 2, in <module>\n",
      "            from setuptools.dist import _get_unpatched\n",
      "          File \"C:\\Users\\Riadh\\AppData\\Local\\Temp\\pip-wheel-pnc4rdl5\\distribute_c433f37742d04404a480b23afe751d16\\setuptools\\dist.py\", line 103\n",
      "            except ValueError, e:\n",
      "                             ^\n",
      "        SyntaxError: invalid syntax\n",
      "        ----------------------------------------\n",
      "    WARNING: Discarding https://files.pythonhosted.org/packages/60/63/3ed8905bef060a1654000d19d4d55ea56a87fb895bbad83d9c52cb024a50/distribute-0.6.25.tar.gz#sha256=ed11ff44b68b8dd274f11d7d5ca1659620be0620fb7dc305b3d39b0742788c31 (from https://pypi.org/simple/distribute/). Command errored out with exit status 1: python setup.py egg_info Check the logs for full command output.\n",
      "        ERROR: Command errored out with exit status 1:\n",
      "         command: 'C:\\Users\\Riadh\\.conda\\envs\\gee\\python.exe' -c 'import io, os, sys, setuptools, tokenize; sys.argv[0] = '\"'\"'C:\\\\Users\\\\Riadh\\\\AppData\\\\Local\\\\Temp\\\\pip-wheel-pnc4rdl5\\\\distribute_7fae1570ee564e89b81e05cb202a4e4a\\\\setup.py'\"'\"'; __file__='\"'\"'C:\\\\Users\\\\Riadh\\\\AppData\\\\Local\\\\Temp\\\\pip-wheel-pnc4rdl5\\\\distribute_7fae1570ee564e89b81e05cb202a4e4a\\\\setup.py'\"'\"';f = getattr(tokenize, '\"'\"'open'\"'\"', open)(__file__) if os.path.exists(__file__) else io.StringIO('\"'\"'from setuptools import setup; setup()'\"'\"');code = f.read().replace('\"'\"'\\r\\n'\"'\"', '\"'\"'\\n'\"'\"');f.close();exec(compile(code, __file__, '\"'\"'exec'\"'\"'))' egg_info --egg-base 'C:\\Users\\Riadh\\AppData\\Local\\Temp\\pip-pip-egg-info-sqz04ivl'\n",
      "             cwd: C:\\Users\\Riadh\\AppData\\Local\\Temp\\pip-wheel-pnc4rdl5\\distribute_7fae1570ee564e89b81e05cb202a4e4a\\\n",
      "        Complete output (10 lines):\n",
      "        Traceback (most recent call last):\n",
      "          File \"<string>\", line 1, in <module>\n",
      "          File \"C:\\Users\\Riadh\\AppData\\Local\\Temp\\pip-wheel-pnc4rdl5\\distribute_7fae1570ee564e89b81e05cb202a4e4a\\setuptools\\__init__.py\", line 2, in <module>\n",
      "            from setuptools.extension import Extension, Library\n",
      "          File \"C:\\Users\\Riadh\\AppData\\Local\\Temp\\pip-wheel-pnc4rdl5\\distribute_7fae1570ee564e89b81e05cb202a4e4a\\setuptools\\extension.py\", line 2, in <module>\n",
      "            from setuptools.dist import _get_unpatched\n",
      "          File \"C:\\Users\\Riadh\\AppData\\Local\\Temp\\pip-wheel-pnc4rdl5\\distribute_7fae1570ee564e89b81e05cb202a4e4a\\setuptools\\dist.py\", line 103\n",
      "            except ValueError, e:\n",
      "                             ^\n",
      "        SyntaxError: invalid syntax\n",
      "        ----------------------------------------\n",
      "    WARNING: Discarding https://files.pythonhosted.org/packages/af/1e/ebca61f90d9edb8088e5c4363a05279e572ac42ffae20229ce6af303cb8f/distribute-0.6.24.zip#sha256=2f172188e1d50ed9f541b6317ba08e3028a1bdb286c55a1d36fedc717c0b4695 (from https://pypi.org/simple/distribute/). Command errored out with exit status 1: python setup.py egg_info Check the logs for full command output.\n",
      "        ERROR: Command errored out with exit status 1:\n",
      "         command: 'C:\\Users\\Riadh\\.conda\\envs\\gee\\python.exe' -c 'import io, os, sys, setuptools, tokenize; sys.argv[0] = '\"'\"'C:\\\\Users\\\\Riadh\\\\AppData\\\\Local\\\\Temp\\\\pip-wheel-pnc4rdl5\\\\distribute_690a3284843d46cface14bab86b0adf1\\\\setup.py'\"'\"'; __file__='\"'\"'C:\\\\Users\\\\Riadh\\\\AppData\\\\Local\\\\Temp\\\\pip-wheel-pnc4rdl5\\\\distribute_690a3284843d46cface14bab86b0adf1\\\\setup.py'\"'\"';f = getattr(tokenize, '\"'\"'open'\"'\"', open)(__file__) if os.path.exists(__file__) else io.StringIO('\"'\"'from setuptools import setup; setup()'\"'\"');code = f.read().replace('\"'\"'\\r\\n'\"'\"', '\"'\"'\\n'\"'\"');f.close();exec(compile(code, __file__, '\"'\"'exec'\"'\"'))' egg_info --egg-base 'C:\\Users\\Riadh\\AppData\\Local\\Temp\\pip-pip-egg-info-z3s2a8tm'\n",
      "             cwd: C:\\Users\\Riadh\\AppData\\Local\\Temp\\pip-wheel-pnc4rdl5\\distribute_690a3284843d46cface14bab86b0adf1\\\n",
      "        Complete output (10 lines):\n",
      "        Traceback (most recent call last):\n",
      "          File \"<string>\", line 1, in <module>\n",
      "          File \"C:\\Users\\Riadh\\AppData\\Local\\Temp\\pip-wheel-pnc4rdl5\\distribute_690a3284843d46cface14bab86b0adf1\\setuptools\\__init__.py\", line 2, in <module>\n",
      "            from setuptools.extension import Extension, Library\n",
      "          File \"C:\\Users\\Riadh\\AppData\\Local\\Temp\\pip-wheel-pnc4rdl5\\distribute_690a3284843d46cface14bab86b0adf1\\setuptools\\extension.py\", line 2, in <module>\n",
      "            from setuptools.dist import _get_unpatched\n",
      "          File \"C:\\Users\\Riadh\\AppData\\Local\\Temp\\pip-wheel-pnc4rdl5\\distribute_690a3284843d46cface14bab86b0adf1\\setuptools\\dist.py\", line 103\n",
      "            except ValueError, e:\n",
      "                             ^\n",
      "        SyntaxError: invalid syntax\n",
      "        ----------------------------------------\n",
      "    WARNING: Discarding https://files.pythonhosted.org/packages/8a/4f/49f801acde031de47223a7541763b2f5ccedf88cb001694b0d3570e9dc15/distribute-0.6.24.tar.gz#sha256=c61fde9f388c9600eb8ee54bd7168039c5fb74fa334138bc49cdf6a6c1341627 (from https://pypi.org/simple/distribute/). Command errored out with exit status 1: python setup.py egg_info Check the logs for full command output.\n",
      "        ERROR: Command errored out with exit status 1:\n",
      "         command: 'C:\\Users\\Riadh\\.conda\\envs\\gee\\python.exe' -c 'import io, os, sys, setuptools, tokenize; sys.argv[0] = '\"'\"'C:\\\\Users\\\\Riadh\\\\AppData\\\\Local\\\\Temp\\\\pip-wheel-pnc4rdl5\\\\distribute_a482d5d750704e28bb46da979a3c8145\\\\setup.py'\"'\"'; __file__='\"'\"'C:\\\\Users\\\\Riadh\\\\AppData\\\\Local\\\\Temp\\\\pip-wheel-pnc4rdl5\\\\distribute_a482d5d750704e28bb46da979a3c8145\\\\setup.py'\"'\"';f = getattr(tokenize, '\"'\"'open'\"'\"', open)(__file__) if os.path.exists(__file__) else io.StringIO('\"'\"'from setuptools import setup; setup()'\"'\"');code = f.read().replace('\"'\"'\\r\\n'\"'\"', '\"'\"'\\n'\"'\"');f.close();exec(compile(code, __file__, '\"'\"'exec'\"'\"'))' egg_info --egg-base 'C:\\Users\\Riadh\\AppData\\Local\\Temp\\pip-pip-egg-info-vrj70ilf'\n",
      "             cwd: C:\\Users\\Riadh\\AppData\\Local\\Temp\\pip-wheel-pnc4rdl5\\distribute_a482d5d750704e28bb46da979a3c8145\\\n",
      "        Complete output (10 lines):\n",
      "        Traceback (most recent call last):\n",
      "          File \"<string>\", line 1, in <module>\n",
      "          File \"C:\\Users\\Riadh\\AppData\\Local\\Temp\\pip-wheel-pnc4rdl5\\distribute_a482d5d750704e28bb46da979a3c8145\\setuptools\\__init__.py\", line 2, in <module>\n",
      "            from setuptools.extension import Extension, Library\n",
      "          File \"C:\\Users\\Riadh\\AppData\\Local\\Temp\\pip-wheel-pnc4rdl5\\distribute_a482d5d750704e28bb46da979a3c8145\\setuptools\\extension.py\", line 2, in <module>\n",
      "            from setuptools.dist import _get_unpatched\n",
      "          File \"C:\\Users\\Riadh\\AppData\\Local\\Temp\\pip-wheel-pnc4rdl5\\distribute_a482d5d750704e28bb46da979a3c8145\\setuptools\\dist.py\", line 103\n",
      "            except ValueError, e:\n",
      "                             ^\n",
      "        SyntaxError: invalid syntax\n",
      "        ----------------------------------------\n",
      "    WARNING: Discarding https://files.pythonhosted.org/packages/64/4d/2e651f25c2feda7bbde61ce8584055a41d3a4d38fd0a83a2ec1a0ed4662c/distribute-0.6.21.zip#sha256=66cfd8f068da36fa5fb932968ab0378fe5716a7bd7c84016273a160fb07fa3e3 (from https://pypi.org/simple/distribute/). Command errored out with exit status 1: python setup.py egg_info Check the logs for full command output.\n",
      "        ERROR: Command errored out with exit status 1:\n",
      "         command: 'C:\\Users\\Riadh\\.conda\\envs\\gee\\python.exe' -c 'import io, os, sys, setuptools, tokenize; sys.argv[0] = '\"'\"'C:\\\\Users\\\\Riadh\\\\AppData\\\\Local\\\\Temp\\\\pip-wheel-pnc4rdl5\\\\distribute_9f34bba9c7bc4e63abacdb4f0a56fae5\\\\setup.py'\"'\"'; __file__='\"'\"'C:\\\\Users\\\\Riadh\\\\AppData\\\\Local\\\\Temp\\\\pip-wheel-pnc4rdl5\\\\distribute_9f34bba9c7bc4e63abacdb4f0a56fae5\\\\setup.py'\"'\"';f = getattr(tokenize, '\"'\"'open'\"'\"', open)(__file__) if os.path.exists(__file__) else io.StringIO('\"'\"'from setuptools import setup; setup()'\"'\"');code = f.read().replace('\"'\"'\\r\\n'\"'\"', '\"'\"'\\n'\"'\"');f.close();exec(compile(code, __file__, '\"'\"'exec'\"'\"'))' egg_info --egg-base 'C:\\Users\\Riadh\\AppData\\Local\\Temp\\pip-pip-egg-info-_39k423e'\n",
      "             cwd: C:\\Users\\Riadh\\AppData\\Local\\Temp\\pip-wheel-pnc4rdl5\\distribute_9f34bba9c7bc4e63abacdb4f0a56fae5\\\n",
      "        Complete output (10 lines):\n",
      "        Traceback (most recent call last):\n",
      "          File \"<string>\", line 1, in <module>\n",
      "          File \"C:\\Users\\Riadh\\AppData\\Local\\Temp\\pip-wheel-pnc4rdl5\\distribute_9f34bba9c7bc4e63abacdb4f0a56fae5\\setuptools\\__init__.py\", line 2, in <module>\n",
      "            from setuptools.extension import Extension, Library\n",
      "          File \"C:\\Users\\Riadh\\AppData\\Local\\Temp\\pip-wheel-pnc4rdl5\\distribute_9f34bba9c7bc4e63abacdb4f0a56fae5\\setuptools\\extension.py\", line 2, in <module>\n",
      "            from setuptools.dist import _get_unpatched\n",
      "          File \"C:\\Users\\Riadh\\AppData\\Local\\Temp\\pip-wheel-pnc4rdl5\\distribute_9f34bba9c7bc4e63abacdb4f0a56fae5\\setuptools\\dist.py\", line 103\n",
      "            except ValueError, e:\n",
      "                             ^\n",
      "        SyntaxError: invalid syntax\n",
      "        ----------------------------------------\n",
      "    WARNING: Discarding https://files.pythonhosted.org/packages/77/b5/c12c3b72749402550bbfdbc7865c6e9fee3293379096305029ee8be34126/distribute-0.6.21.tar.gz#sha256=5701c39864ac17d17b66aceca4ea3c92a8b9ab63d593ac491a2455d3de3e53b9 (from https://pypi.org/simple/distribute/). Command errored out with exit status 1: python setup.py egg_info Check the logs for full command output.\n",
      "        ERROR: Command errored out with exit status 1:\n",
      "         command: 'C:\\Users\\Riadh\\.conda\\envs\\gee\\python.exe' -c 'import io, os, sys, setuptools, tokenize; sys.argv[0] = '\"'\"'C:\\\\Users\\\\Riadh\\\\AppData\\\\Local\\\\Temp\\\\pip-wheel-pnc4rdl5\\\\distribute_8a6c506157af4138acb781bd8ab5ff05\\\\setup.py'\"'\"'; __file__='\"'\"'C:\\\\Users\\\\Riadh\\\\AppData\\\\Local\\\\Temp\\\\pip-wheel-pnc4rdl5\\\\distribute_8a6c506157af4138acb781bd8ab5ff05\\\\setup.py'\"'\"';f = getattr(tokenize, '\"'\"'open'\"'\"', open)(__file__) if os.path.exists(__file__) else io.StringIO('\"'\"'from setuptools import setup; setup()'\"'\"');code = f.read().replace('\"'\"'\\r\\n'\"'\"', '\"'\"'\\n'\"'\"');f.close();exec(compile(code, __file__, '\"'\"'exec'\"'\"'))' egg_info --egg-base 'C:\\Users\\Riadh\\AppData\\Local\\Temp\\pip-pip-egg-info-mthvzm4w'\n",
      "             cwd: C:\\Users\\Riadh\\AppData\\Local\\Temp\\pip-wheel-pnc4rdl5\\distribute_8a6c506157af4138acb781bd8ab5ff05\\\n",
      "        Complete output (10 lines):\n",
      "        Traceback (most recent call last):\n",
      "          File \"<string>\", line 1, in <module>\n",
      "          File \"C:\\Users\\Riadh\\AppData\\Local\\Temp\\pip-wheel-pnc4rdl5\\distribute_8a6c506157af4138acb781bd8ab5ff05\\setuptools\\__init__.py\", line 2, in <module>\n",
      "            from setuptools.extension import Extension, Library\n",
      "          File \"C:\\Users\\Riadh\\AppData\\Local\\Temp\\pip-wheel-pnc4rdl5\\distribute_8a6c506157af4138acb781bd8ab5ff05\\setuptools\\extension.py\", line 2, in <module>\n",
      "            from setuptools.dist import _get_unpatched\n",
      "          File \"C:\\Users\\Riadh\\AppData\\Local\\Temp\\pip-wheel-pnc4rdl5\\distribute_8a6c506157af4138acb781bd8ab5ff05\\setuptools\\dist.py\", line 103\n",
      "            except ValueError, e:\n",
      "                             ^\n",
      "        SyntaxError: invalid syntax\n",
      "        ----------------------------------------\n",
      "    WARNING: Discarding https://files.pythonhosted.org/packages/fd/38/c1df29e89485ed854db98cbf89cae131244ae5624da622425f59c2fc1b7a/distribute-0.6.20.zip#sha256=c9975d1e6ec2c73fc84440586989bf62c29ea0f8c0cade30b8b840590deb6696 (from https://pypi.org/simple/distribute/). Command errored out with exit status 1: python setup.py egg_info Check the logs for full command output.\n",
      "        ERROR: Command errored out with exit status 1:\n",
      "         command: 'C:\\Users\\Riadh\\.conda\\envs\\gee\\python.exe' -c 'import io, os, sys, setuptools, tokenize; sys.argv[0] = '\"'\"'C:\\\\Users\\\\Riadh\\\\AppData\\\\Local\\\\Temp\\\\pip-wheel-pnc4rdl5\\\\distribute_adeceaee1251410ca83eb00e89acce0c\\\\setup.py'\"'\"'; __file__='\"'\"'C:\\\\Users\\\\Riadh\\\\AppData\\\\Local\\\\Temp\\\\pip-wheel-pnc4rdl5\\\\distribute_adeceaee1251410ca83eb00e89acce0c\\\\setup.py'\"'\"';f = getattr(tokenize, '\"'\"'open'\"'\"', open)(__file__) if os.path.exists(__file__) else io.StringIO('\"'\"'from setuptools import setup; setup()'\"'\"');code = f.read().replace('\"'\"'\\r\\n'\"'\"', '\"'\"'\\n'\"'\"');f.close();exec(compile(code, __file__, '\"'\"'exec'\"'\"'))' egg_info --egg-base 'C:\\Users\\Riadh\\AppData\\Local\\Temp\\pip-pip-egg-info-020uv8e5'\n",
      "             cwd: C:\\Users\\Riadh\\AppData\\Local\\Temp\\pip-wheel-pnc4rdl5\\distribute_adeceaee1251410ca83eb00e89acce0c\\\n",
      "        Complete output (10 lines):\n",
      "        Traceback (most recent call last):\n",
      "          File \"<string>\", line 1, in <module>\n",
      "          File \"C:\\Users\\Riadh\\AppData\\Local\\Temp\\pip-wheel-pnc4rdl5\\distribute_adeceaee1251410ca83eb00e89acce0c\\setuptools\\__init__.py\", line 2, in <module>\n",
      "            from setuptools.extension import Extension, Library\n",
      "          File \"C:\\Users\\Riadh\\AppData\\Local\\Temp\\pip-wheel-pnc4rdl5\\distribute_adeceaee1251410ca83eb00e89acce0c\\setuptools\\extension.py\", line 2, in <module>\n",
      "            from setuptools.dist import _get_unpatched\n",
      "          File \"C:\\Users\\Riadh\\AppData\\Local\\Temp\\pip-wheel-pnc4rdl5\\distribute_adeceaee1251410ca83eb00e89acce0c\\setuptools\\dist.py\", line 103\n",
      "            except ValueError, e:\n",
      "                             ^\n",
      "        SyntaxError: invalid syntax\n",
      "        ----------------------------------------\n",
      "    WARNING: Discarding https://files.pythonhosted.org/packages/ff/1b/ea2ba1b02f2ed1f80d81db35335f14480648f1f0d20be3094dbf75ff68e1/distribute-0.6.20.tar.gz#sha256=8314683ad7cadfeb5918ff0bf7d410782a0b7f1615173c72d761cc8b43f7520e (from https://pypi.org/simple/distribute/). Command errored out with exit status 1: python setup.py egg_info Check the logs for full command output.\n",
      "        ERROR: Command errored out with exit status 1:\n",
      "         command: 'C:\\Users\\Riadh\\.conda\\envs\\gee\\python.exe' -c 'import io, os, sys, setuptools, tokenize; sys.argv[0] = '\"'\"'C:\\\\Users\\\\Riadh\\\\AppData\\\\Local\\\\Temp\\\\pip-wheel-pnc4rdl5\\\\distribute_bbe78b7700644430b94e8e24419d7939\\\\setup.py'\"'\"'; __file__='\"'\"'C:\\\\Users\\\\Riadh\\\\AppData\\\\Local\\\\Temp\\\\pip-wheel-pnc4rdl5\\\\distribute_bbe78b7700644430b94e8e24419d7939\\\\setup.py'\"'\"';f = getattr(tokenize, '\"'\"'open'\"'\"', open)(__file__) if os.path.exists(__file__) else io.StringIO('\"'\"'from setuptools import setup; setup()'\"'\"');code = f.read().replace('\"'\"'\\r\\n'\"'\"', '\"'\"'\\n'\"'\"');f.close();exec(compile(code, __file__, '\"'\"'exec'\"'\"'))' egg_info --egg-base 'C:\\Users\\Riadh\\AppData\\Local\\Temp\\pip-pip-egg-info-g30sqi0d'\n",
      "             cwd: C:\\Users\\Riadh\\AppData\\Local\\Temp\\pip-wheel-pnc4rdl5\\distribute_bbe78b7700644430b94e8e24419d7939\\\n",
      "        Complete output (10 lines):\n",
      "        Traceback (most recent call last):\n",
      "          File \"<string>\", line 1, in <module>\n",
      "          File \"C:\\Users\\Riadh\\AppData\\Local\\Temp\\pip-wheel-pnc4rdl5\\distribute_bbe78b7700644430b94e8e24419d7939\\setuptools\\__init__.py\", line 2, in <module>\n",
      "            from setuptools.extension import Extension, Library\n",
      "          File \"C:\\Users\\Riadh\\AppData\\Local\\Temp\\pip-wheel-pnc4rdl5\\distribute_bbe78b7700644430b94e8e24419d7939\\setuptools\\extension.py\", line 2, in <module>\n",
      "            from setuptools.dist import _get_unpatched\n",
      "          File \"C:\\Users\\Riadh\\AppData\\Local\\Temp\\pip-wheel-pnc4rdl5\\distribute_bbe78b7700644430b94e8e24419d7939\\setuptools\\dist.py\", line 103\n",
      "            except ValueError, e:\n",
      "                             ^\n",
      "        SyntaxError: invalid syntax\n",
      "        ----------------------------------------\n",
      "    WARNING: Discarding https://files.pythonhosted.org/packages/e2/f5/64dedcfd63da54b05372dcf0688b9ab6dd27ac64acac40f260f96d561519/distribute-0.6.19.zip#sha256=5ce5d0e067de948136c61b24ffc943bf01f25da22e672acf698ad17581dfdacd (from https://pypi.org/simple/distribute/). Command errored out with exit status 1: python setup.py egg_info Check the logs for full command output.\n",
      "        ERROR: Command errored out with exit status 1:\n",
      "         command: 'C:\\Users\\Riadh\\.conda\\envs\\gee\\python.exe' -c 'import io, os, sys, setuptools, tokenize; sys.argv[0] = '\"'\"'C:\\\\Users\\\\Riadh\\\\AppData\\\\Local\\\\Temp\\\\pip-wheel-pnc4rdl5\\\\distribute_06a2a1102d4a45198425e2cf8588664f\\\\setup.py'\"'\"'; __file__='\"'\"'C:\\\\Users\\\\Riadh\\\\AppData\\\\Local\\\\Temp\\\\pip-wheel-pnc4rdl5\\\\distribute_06a2a1102d4a45198425e2cf8588664f\\\\setup.py'\"'\"';f = getattr(tokenize, '\"'\"'open'\"'\"', open)(__file__) if os.path.exists(__file__) else io.StringIO('\"'\"'from setuptools import setup; setup()'\"'\"');code = f.read().replace('\"'\"'\\r\\n'\"'\"', '\"'\"'\\n'\"'\"');f.close();exec(compile(code, __file__, '\"'\"'exec'\"'\"'))' egg_info --egg-base 'C:\\Users\\Riadh\\AppData\\Local\\Temp\\pip-pip-egg-info-gvnfrvhx'\n",
      "             cwd: C:\\Users\\Riadh\\AppData\\Local\\Temp\\pip-wheel-pnc4rdl5\\distribute_06a2a1102d4a45198425e2cf8588664f\\\n",
      "        Complete output (10 lines):\n",
      "        Traceback (most recent call last):\n",
      "          File \"<string>\", line 1, in <module>\n",
      "          File \"C:\\Users\\Riadh\\AppData\\Local\\Temp\\pip-wheel-pnc4rdl5\\distribute_06a2a1102d4a45198425e2cf8588664f\\setuptools\\__init__.py\", line 2, in <module>\n",
      "            from setuptools.extension import Extension, Library\n",
      "          File \"C:\\Users\\Riadh\\AppData\\Local\\Temp\\pip-wheel-pnc4rdl5\\distribute_06a2a1102d4a45198425e2cf8588664f\\setuptools\\extension.py\", line 2, in <module>\n",
      "            from setuptools.dist import _get_unpatched\n",
      "          File \"C:\\Users\\Riadh\\AppData\\Local\\Temp\\pip-wheel-pnc4rdl5\\distribute_06a2a1102d4a45198425e2cf8588664f\\setuptools\\dist.py\", line 103\n",
      "            except ValueError, e:\n",
      "                             ^\n",
      "        SyntaxError: invalid syntax\n",
      "        ----------------------------------------\n",
      "    WARNING: Discarding https://files.pythonhosted.org/packages/86/74/d6862980635b0827a9564646fbab7386c91d46b5dc177deb7a4d5a4a74df/distribute-0.6.19.tar.gz#sha256=a1c4f65170ae95c4078ca5c3e24f1df018fe6ea2d4f3a702eed0d74d70cd6722 (from https://pypi.org/simple/distribute/). Command errored out with exit status 1: python setup.py egg_info Check the logs for full command output.\n",
      "        ERROR: Command errored out with exit status 1:\n",
      "         command: 'C:\\Users\\Riadh\\.conda\\envs\\gee\\python.exe' -c 'import io, os, sys, setuptools, tokenize; sys.argv[0] = '\"'\"'C:\\\\Users\\\\Riadh\\\\AppData\\\\Local\\\\Temp\\\\pip-wheel-pnc4rdl5\\\\distribute_494118db0591416286d3ada1b332dddc\\\\setup.py'\"'\"'; __file__='\"'\"'C:\\\\Users\\\\Riadh\\\\AppData\\\\Local\\\\Temp\\\\pip-wheel-pnc4rdl5\\\\distribute_494118db0591416286d3ada1b332dddc\\\\setup.py'\"'\"';f = getattr(tokenize, '\"'\"'open'\"'\"', open)(__file__) if os.path.exists(__file__) else io.StringIO('\"'\"'from setuptools import setup; setup()'\"'\"');code = f.read().replace('\"'\"'\\r\\n'\"'\"', '\"'\"'\\n'\"'\"');f.close();exec(compile(code, __file__, '\"'\"'exec'\"'\"'))' egg_info --egg-base 'C:\\Users\\Riadh\\AppData\\Local\\Temp\\pip-pip-egg-info-v0vgr3dc'\n",
      "             cwd: C:\\Users\\Riadh\\AppData\\Local\\Temp\\pip-wheel-pnc4rdl5\\distribute_494118db0591416286d3ada1b332dddc\\\n",
      "        Complete output (10 lines):\n",
      "        Traceback (most recent call last):\n",
      "          File \"<string>\", line 1, in <module>\n",
      "          File \"C:\\Users\\Riadh\\AppData\\Local\\Temp\\pip-wheel-pnc4rdl5\\distribute_494118db0591416286d3ada1b332dddc\\setuptools\\__init__.py\", line 2, in <module>\n",
      "            from setuptools.extension import Extension, Library\n",
      "          File \"C:\\Users\\Riadh\\AppData\\Local\\Temp\\pip-wheel-pnc4rdl5\\distribute_494118db0591416286d3ada1b332dddc\\setuptools\\extension.py\", line 2, in <module>\n",
      "            from setuptools.dist import _get_unpatched\n",
      "          File \"C:\\Users\\Riadh\\AppData\\Local\\Temp\\pip-wheel-pnc4rdl5\\distribute_494118db0591416286d3ada1b332dddc\\setuptools\\dist.py\", line 103\n",
      "            except ValueError, e:\n",
      "                             ^\n",
      "        SyntaxError: invalid syntax\n",
      "        ----------------------------------------\n",
      "    WARNING: Discarding https://files.pythonhosted.org/packages/35/4f/b0564981f9dd220a6db88be661a8331523a2524caf3d01e976a0c87a6942/distribute-0.6.18.zip#sha256=89fb195fdc09527e1d21758272ec67cad5304390aeb3ff6fe45821687aa93577 (from https://pypi.org/simple/distribute/). Command errored out with exit status 1: python setup.py egg_info Check the logs for full command output.\n",
      "        ERROR: Command errored out with exit status 1:\n",
      "         command: 'C:\\Users\\Riadh\\.conda\\envs\\gee\\python.exe' -c 'import io, os, sys, setuptools, tokenize; sys.argv[0] = '\"'\"'C:\\\\Users\\\\Riadh\\\\AppData\\\\Local\\\\Temp\\\\pip-wheel-pnc4rdl5\\\\distribute_7d5ccd4704d24a11a708a5c7be203227\\\\setup.py'\"'\"'; __file__='\"'\"'C:\\\\Users\\\\Riadh\\\\AppData\\\\Local\\\\Temp\\\\pip-wheel-pnc4rdl5\\\\distribute_7d5ccd4704d24a11a708a5c7be203227\\\\setup.py'\"'\"';f = getattr(tokenize, '\"'\"'open'\"'\"', open)(__file__) if os.path.exists(__file__) else io.StringIO('\"'\"'from setuptools import setup; setup()'\"'\"');code = f.read().replace('\"'\"'\\r\\n'\"'\"', '\"'\"'\\n'\"'\"');f.close();exec(compile(code, __file__, '\"'\"'exec'\"'\"'))' egg_info --egg-base 'C:\\Users\\Riadh\\AppData\\Local\\Temp\\pip-pip-egg-info-y6lbwx3a'\n",
      "             cwd: C:\\Users\\Riadh\\AppData\\Local\\Temp\\pip-wheel-pnc4rdl5\\distribute_7d5ccd4704d24a11a708a5c7be203227\\\n",
      "        Complete output (10 lines):\n",
      "        Traceback (most recent call last):\n",
      "          File \"<string>\", line 1, in <module>\n",
      "          File \"C:\\Users\\Riadh\\AppData\\Local\\Temp\\pip-wheel-pnc4rdl5\\distribute_7d5ccd4704d24a11a708a5c7be203227\\setuptools\\__init__.py\", line 2, in <module>\n",
      "            from setuptools.extension import Extension, Library\n",
      "          File \"C:\\Users\\Riadh\\AppData\\Local\\Temp\\pip-wheel-pnc4rdl5\\distribute_7d5ccd4704d24a11a708a5c7be203227\\setuptools\\extension.py\", line 2, in <module>\n",
      "            from setuptools.dist import _get_unpatched\n",
      "          File \"C:\\Users\\Riadh\\AppData\\Local\\Temp\\pip-wheel-pnc4rdl5\\distribute_7d5ccd4704d24a11a708a5c7be203227\\setuptools\\dist.py\", line 103\n",
      "            except ValueError, e:\n",
      "                             ^\n",
      "        SyntaxError: invalid syntax\n",
      "        ----------------------------------------\n",
      "    WARNING: Discarding https://files.pythonhosted.org/packages/b3/93/cc5e6ff77a060b5a28e3e0d8db907f4b69a546ce75ff6fd653319461cdf1/distribute-0.6.18.tar.gz#sha256=160f74cd7b4125b373604b8ce84c6fa5153d46416b85aae2469255f679d6362a (from https://pypi.org/simple/distribute/). Command errored out with exit status 1: python setup.py egg_info Check the logs for full command output.\n",
      "        ERROR: Command errored out with exit status 1:\n",
      "         command: 'C:\\Users\\Riadh\\.conda\\envs\\gee\\python.exe' -c 'import io, os, sys, setuptools, tokenize; sys.argv[0] = '\"'\"'C:\\\\Users\\\\Riadh\\\\AppData\\\\Local\\\\Temp\\\\pip-wheel-pnc4rdl5\\\\distribute_fa72c8f0321b41cebbb5669f21514d1c\\\\setup.py'\"'\"'; __file__='\"'\"'C:\\\\Users\\\\Riadh\\\\AppData\\\\Local\\\\Temp\\\\pip-wheel-pnc4rdl5\\\\distribute_fa72c8f0321b41cebbb5669f21514d1c\\\\setup.py'\"'\"';f = getattr(tokenize, '\"'\"'open'\"'\"', open)(__file__) if os.path.exists(__file__) else io.StringIO('\"'\"'from setuptools import setup; setup()'\"'\"');code = f.read().replace('\"'\"'\\r\\n'\"'\"', '\"'\"'\\n'\"'\"');f.close();exec(compile(code, __file__, '\"'\"'exec'\"'\"'))' egg_info --egg-base 'C:\\Users\\Riadh\\AppData\\Local\\Temp\\pip-pip-egg-info-ymte8wan'\n",
      "             cwd: C:\\Users\\Riadh\\AppData\\Local\\Temp\\pip-wheel-pnc4rdl5\\distribute_fa72c8f0321b41cebbb5669f21514d1c\\\n",
      "        Complete output (10 lines):\n",
      "        Traceback (most recent call last):\n",
      "          File \"<string>\", line 1, in <module>\n",
      "          File \"C:\\Users\\Riadh\\AppData\\Local\\Temp\\pip-wheel-pnc4rdl5\\distribute_fa72c8f0321b41cebbb5669f21514d1c\\setuptools\\__init__.py\", line 2, in <module>\n",
      "            from setuptools.extension import Extension, Library\n",
      "          File \"C:\\Users\\Riadh\\AppData\\Local\\Temp\\pip-wheel-pnc4rdl5\\distribute_fa72c8f0321b41cebbb5669f21514d1c\\setuptools\\extension.py\", line 2, in <module>\n",
      "            from setuptools.dist import _get_unpatched\n",
      "          File \"C:\\Users\\Riadh\\AppData\\Local\\Temp\\pip-wheel-pnc4rdl5\\distribute_fa72c8f0321b41cebbb5669f21514d1c\\setuptools\\dist.py\", line 103\n",
      "            except ValueError, e:\n",
      "                             ^\n",
      "        SyntaxError: invalid syntax\n",
      "        ----------------------------------------\n",
      "    WARNING: Discarding https://files.pythonhosted.org/packages/5f/d0/2c0c6142f91f75e3f3cfefe869757226742fd21db00e935b6cb9052a01bf/distribute-0.6.17.zip#sha256=5c138bca2e17c730089a1120864472c3c659fbe87d7ba65dd7a1c089c759bfa9 (from https://pypi.org/simple/distribute/). Command errored out with exit status 1: python setup.py egg_info Check the logs for full command output.\n",
      "        ERROR: Command errored out with exit status 1:\n",
      "         command: 'C:\\Users\\Riadh\\.conda\\envs\\gee\\python.exe' -c 'import io, os, sys, setuptools, tokenize; sys.argv[0] = '\"'\"'C:\\\\Users\\\\Riadh\\\\AppData\\\\Local\\\\Temp\\\\pip-wheel-pnc4rdl5\\\\distribute_da2f80a37d964d73b8bd92ff12033111\\\\setup.py'\"'\"'; __file__='\"'\"'C:\\\\Users\\\\Riadh\\\\AppData\\\\Local\\\\Temp\\\\pip-wheel-pnc4rdl5\\\\distribute_da2f80a37d964d73b8bd92ff12033111\\\\setup.py'\"'\"';f = getattr(tokenize, '\"'\"'open'\"'\"', open)(__file__) if os.path.exists(__file__) else io.StringIO('\"'\"'from setuptools import setup; setup()'\"'\"');code = f.read().replace('\"'\"'\\r\\n'\"'\"', '\"'\"'\\n'\"'\"');f.close();exec(compile(code, __file__, '\"'\"'exec'\"'\"'))' egg_info --egg-base 'C:\\Users\\Riadh\\AppData\\Local\\Temp\\pip-pip-egg-info-2cglq_tw'\n",
      "             cwd: C:\\Users\\Riadh\\AppData\\Local\\Temp\\pip-wheel-pnc4rdl5\\distribute_da2f80a37d964d73b8bd92ff12033111\\\n",
      "        Complete output (10 lines):\n",
      "        Traceback (most recent call last):\n",
      "          File \"<string>\", line 1, in <module>\n",
      "          File \"C:\\Users\\Riadh\\AppData\\Local\\Temp\\pip-wheel-pnc4rdl5\\distribute_da2f80a37d964d73b8bd92ff12033111\\setuptools\\__init__.py\", line 2, in <module>\n",
      "            from setuptools.extension import Extension, Library\n",
      "          File \"C:\\Users\\Riadh\\AppData\\Local\\Temp\\pip-wheel-pnc4rdl5\\distribute_da2f80a37d964d73b8bd92ff12033111\\setuptools\\extension.py\", line 2, in <module>\n",
      "            from setuptools.dist import _get_unpatched\n",
      "          File \"C:\\Users\\Riadh\\AppData\\Local\\Temp\\pip-wheel-pnc4rdl5\\distribute_da2f80a37d964d73b8bd92ff12033111\\setuptools\\dist.py\", line 103\n",
      "            except ValueError, e:\n",
      "                             ^\n",
      "        SyntaxError: invalid syntax\n",
      "        ----------------------------------------\n",
      "    WARNING: Discarding https://files.pythonhosted.org/packages/7f/1c/37153c8248bd510bfd573c26d5fd2b91bcf39ebc513ab8f7883294d0625b/distribute-0.6.17.tar.gz#sha256=8052d922eaf542e336593822c15e753248373c88ce4a1a94674952698ab7c5ac (from https://pypi.org/simple/distribute/). Command errored out with exit status 1: python setup.py egg_info Check the logs for full command output.\n",
      "        ERROR: Command errored out with exit status 1:\n",
      "         command: 'C:\\Users\\Riadh\\.conda\\envs\\gee\\python.exe' -c 'import io, os, sys, setuptools, tokenize; sys.argv[0] = '\"'\"'C:\\\\Users\\\\Riadh\\\\AppData\\\\Local\\\\Temp\\\\pip-wheel-pnc4rdl5\\\\distribute_57752478c1e24d87ad8d4b4ac8918ea0\\\\setup.py'\"'\"'; __file__='\"'\"'C:\\\\Users\\\\Riadh\\\\AppData\\\\Local\\\\Temp\\\\pip-wheel-pnc4rdl5\\\\distribute_57752478c1e24d87ad8d4b4ac8918ea0\\\\setup.py'\"'\"';f = getattr(tokenize, '\"'\"'open'\"'\"', open)(__file__) if os.path.exists(__file__) else io.StringIO('\"'\"'from setuptools import setup; setup()'\"'\"');code = f.read().replace('\"'\"'\\r\\n'\"'\"', '\"'\"'\\n'\"'\"');f.close();exec(compile(code, __file__, '\"'\"'exec'\"'\"'))' egg_info --egg-base 'C:\\Users\\Riadh\\AppData\\Local\\Temp\\pip-pip-egg-info-xnotp961'\n",
      "             cwd: C:\\Users\\Riadh\\AppData\\Local\\Temp\\pip-wheel-pnc4rdl5\\distribute_57752478c1e24d87ad8d4b4ac8918ea0\\\n",
      "        Complete output (10 lines):\n",
      "        Traceback (most recent call last):\n",
      "          File \"<string>\", line 1, in <module>\n",
      "          File \"C:\\Users\\Riadh\\AppData\\Local\\Temp\\pip-wheel-pnc4rdl5\\distribute_57752478c1e24d87ad8d4b4ac8918ea0\\setuptools\\__init__.py\", line 2, in <module>\n",
      "            from setuptools.extension import Extension, Library\n",
      "          File \"C:\\Users\\Riadh\\AppData\\Local\\Temp\\pip-wheel-pnc4rdl5\\distribute_57752478c1e24d87ad8d4b4ac8918ea0\\setuptools\\extension.py\", line 2, in <module>\n",
      "            from setuptools.dist import _get_unpatched\n",
      "          File \"C:\\Users\\Riadh\\AppData\\Local\\Temp\\pip-wheel-pnc4rdl5\\distribute_57752478c1e24d87ad8d4b4ac8918ea0\\setuptools\\dist.py\", line 103\n",
      "            except ValueError, e:\n",
      "                             ^\n",
      "        SyntaxError: invalid syntax\n",
      "        ----------------------------------------\n",
      "    WARNING: Discarding https://files.pythonhosted.org/packages/de/f0/13745a2a99391522cd6d8eb493c0fff54754c669de5988efab80573d382d/distribute-0.6.16.zip#sha256=5ba2f101f32861c5aa87cc50037b1c7d30a2b225c8c324afbc0b89a8660b8dbe (from https://pypi.org/simple/distribute/). Command errored out with exit status 1: python setup.py egg_info Check the logs for full command output.\n",
      "        ERROR: Command errored out with exit status 1:\n",
      "         command: 'C:\\Users\\Riadh\\.conda\\envs\\gee\\python.exe' -c 'import io, os, sys, setuptools, tokenize; sys.argv[0] = '\"'\"'C:\\\\Users\\\\Riadh\\\\AppData\\\\Local\\\\Temp\\\\pip-wheel-pnc4rdl5\\\\distribute_0bd8f0fed51b4364a4e429d5596033cb\\\\setup.py'\"'\"'; __file__='\"'\"'C:\\\\Users\\\\Riadh\\\\AppData\\\\Local\\\\Temp\\\\pip-wheel-pnc4rdl5\\\\distribute_0bd8f0fed51b4364a4e429d5596033cb\\\\setup.py'\"'\"';f = getattr(tokenize, '\"'\"'open'\"'\"', open)(__file__) if os.path.exists(__file__) else io.StringIO('\"'\"'from setuptools import setup; setup()'\"'\"');code = f.read().replace('\"'\"'\\r\\n'\"'\"', '\"'\"'\\n'\"'\"');f.close();exec(compile(code, __file__, '\"'\"'exec'\"'\"'))' egg_info --egg-base 'C:\\Users\\Riadh\\AppData\\Local\\Temp\\pip-pip-egg-info-5jtqeljm'\n",
      "             cwd: C:\\Users\\Riadh\\AppData\\Local\\Temp\\pip-wheel-pnc4rdl5\\distribute_0bd8f0fed51b4364a4e429d5596033cb\\\n",
      "        Complete output (10 lines):\n",
      "        Traceback (most recent call last):\n",
      "          File \"<string>\", line 1, in <module>\n",
      "          File \"C:\\Users\\Riadh\\AppData\\Local\\Temp\\pip-wheel-pnc4rdl5\\distribute_0bd8f0fed51b4364a4e429d5596033cb\\setuptools\\__init__.py\", line 2, in <module>\n",
      "            from setuptools.extension import Extension, Library\n",
      "          File \"C:\\Users\\Riadh\\AppData\\Local\\Temp\\pip-wheel-pnc4rdl5\\distribute_0bd8f0fed51b4364a4e429d5596033cb\\setuptools\\extension.py\", line 2, in <module>\n",
      "            from setuptools.dist import _get_unpatched\n",
      "          File \"C:\\Users\\Riadh\\AppData\\Local\\Temp\\pip-wheel-pnc4rdl5\\distribute_0bd8f0fed51b4364a4e429d5596033cb\\setuptools\\dist.py\", line 103\n",
      "            except ValueError, e:\n",
      "                             ^\n",
      "        SyntaxError: invalid syntax\n",
      "        ----------------------------------------\n",
      "    WARNING: Discarding https://files.pythonhosted.org/packages/20/e0/6c03055f8520384b0050bb97757ab58afae5f35adb8b9a26bba2cd4de8bd/distribute-0.6.16.tar.gz#sha256=cb2de242f3af2d1aa225e514e5b8ed7d41cdb4c505d3cf5cc6e3ca0646b4dd9b (from https://pypi.org/simple/distribute/). Command errored out with exit status 1: python setup.py egg_info Check the logs for full command output.\n",
      "        ERROR: Command errored out with exit status 1:\n",
      "         command: 'C:\\Users\\Riadh\\.conda\\envs\\gee\\python.exe' -c 'import io, os, sys, setuptools, tokenize; sys.argv[0] = '\"'\"'C:\\\\Users\\\\Riadh\\\\AppData\\\\Local\\\\Temp\\\\pip-wheel-pnc4rdl5\\\\distribute_00880c3ed47d4f7785d986e448007682\\\\setup.py'\"'\"'; __file__='\"'\"'C:\\\\Users\\\\Riadh\\\\AppData\\\\Local\\\\Temp\\\\pip-wheel-pnc4rdl5\\\\distribute_00880c3ed47d4f7785d986e448007682\\\\setup.py'\"'\"';f = getattr(tokenize, '\"'\"'open'\"'\"', open)(__file__) if os.path.exists(__file__) else io.StringIO('\"'\"'from setuptools import setup; setup()'\"'\"');code = f.read().replace('\"'\"'\\r\\n'\"'\"', '\"'\"'\\n'\"'\"');f.close();exec(compile(code, __file__, '\"'\"'exec'\"'\"'))' egg_info --egg-base 'C:\\Users\\Riadh\\AppData\\Local\\Temp\\pip-pip-egg-info-uqxqd8np'\n",
      "             cwd: C:\\Users\\Riadh\\AppData\\Local\\Temp\\pip-wheel-pnc4rdl5\\distribute_00880c3ed47d4f7785d986e448007682\\\n",
      "        Complete output (10 lines):\n",
      "        Traceback (most recent call last):\n",
      "          File \"<string>\", line 1, in <module>\n",
      "          File \"C:\\Users\\Riadh\\AppData\\Local\\Temp\\pip-wheel-pnc4rdl5\\distribute_00880c3ed47d4f7785d986e448007682\\setuptools\\__init__.py\", line 2, in <module>\n",
      "            from setuptools.extension import Extension, Library\n",
      "          File \"C:\\Users\\Riadh\\AppData\\Local\\Temp\\pip-wheel-pnc4rdl5\\distribute_00880c3ed47d4f7785d986e448007682\\setuptools\\extension.py\", line 2, in <module>\n",
      "            from setuptools.dist import _get_unpatched\n",
      "          File \"C:\\Users\\Riadh\\AppData\\Local\\Temp\\pip-wheel-pnc4rdl5\\distribute_00880c3ed47d4f7785d986e448007682\\setuptools\\dist.py\", line 103\n",
      "            except ValueError, e:\n",
      "                             ^\n",
      "        SyntaxError: invalid syntax\n",
      "        ----------------------------------------\n",
      "    WARNING: Discarding https://files.pythonhosted.org/packages/7f/00/9219235d4222c3da6729e6e2afa4a9080b987169bab3b2ec6cbb7c2e86da/distribute-0.6.15.zip#sha256=a6cba0f43a70dceab680ba475df2a451b53257e5dc3267323c2a666c1673a31b (from https://pypi.org/simple/distribute/). Command errored out with exit status 1: python setup.py egg_info Check the logs for full command output.\n",
      "        ERROR: Command errored out with exit status 1:\n",
      "         command: 'C:\\Users\\Riadh\\.conda\\envs\\gee\\python.exe' -c 'import io, os, sys, setuptools, tokenize; sys.argv[0] = '\"'\"'C:\\\\Users\\\\Riadh\\\\AppData\\\\Local\\\\Temp\\\\pip-wheel-pnc4rdl5\\\\distribute_beba101785a54122ba04503fe1ef76a5\\\\setup.py'\"'\"'; __file__='\"'\"'C:\\\\Users\\\\Riadh\\\\AppData\\\\Local\\\\Temp\\\\pip-wheel-pnc4rdl5\\\\distribute_beba101785a54122ba04503fe1ef76a5\\\\setup.py'\"'\"';f = getattr(tokenize, '\"'\"'open'\"'\"', open)(__file__) if os.path.exists(__file__) else io.StringIO('\"'\"'from setuptools import setup; setup()'\"'\"');code = f.read().replace('\"'\"'\\r\\n'\"'\"', '\"'\"'\\n'\"'\"');f.close();exec(compile(code, __file__, '\"'\"'exec'\"'\"'))' egg_info --egg-base 'C:\\Users\\Riadh\\AppData\\Local\\Temp\\pip-pip-egg-info-ir_do4yk'\n",
      "             cwd: C:\\Users\\Riadh\\AppData\\Local\\Temp\\pip-wheel-pnc4rdl5\\distribute_beba101785a54122ba04503fe1ef76a5\\\n",
      "        Complete output (10 lines):\n",
      "        Traceback (most recent call last):\n",
      "          File \"<string>\", line 1, in <module>\n",
      "          File \"C:\\Users\\Riadh\\AppData\\Local\\Temp\\pip-wheel-pnc4rdl5\\distribute_beba101785a54122ba04503fe1ef76a5\\setuptools\\__init__.py\", line 2, in <module>\n",
      "            from setuptools.extension import Extension, Library\n",
      "          File \"C:\\Users\\Riadh\\AppData\\Local\\Temp\\pip-wheel-pnc4rdl5\\distribute_beba101785a54122ba04503fe1ef76a5\\setuptools\\extension.py\", line 2, in <module>\n",
      "            from setuptools.dist import _get_unpatched\n",
      "          File \"C:\\Users\\Riadh\\AppData\\Local\\Temp\\pip-wheel-pnc4rdl5\\distribute_beba101785a54122ba04503fe1ef76a5\\setuptools\\dist.py\", line 103\n",
      "            except ValueError, e:\n",
      "                             ^\n",
      "        SyntaxError: invalid syntax\n",
      "        ----------------------------------------\n",
      "    WARNING: Discarding https://files.pythonhosted.org/packages/07/a6/8f6b270b7e6a1be3df78b174e2437fdb631cfcce16f82c2f8b7affb50ee2/distribute-0.6.15.tar.gz#sha256=85b05942f84146d8f0ed17906b90af7662d649b922fe77a8c402da5da258a481 (from https://pypi.org/simple/distribute/). Command errored out with exit status 1: python setup.py egg_info Check the logs for full command output.\n",
      "        ERROR: Command errored out with exit status 1:\n",
      "         command: 'C:\\Users\\Riadh\\.conda\\envs\\gee\\python.exe' -c 'import io, os, sys, setuptools, tokenize; sys.argv[0] = '\"'\"'C:\\\\Users\\\\Riadh\\\\AppData\\\\Local\\\\Temp\\\\pip-wheel-pnc4rdl5\\\\distribute_e74d4238baf744729631361633ded336\\\\setup.py'\"'\"'; __file__='\"'\"'C:\\\\Users\\\\Riadh\\\\AppData\\\\Local\\\\Temp\\\\pip-wheel-pnc4rdl5\\\\distribute_e74d4238baf744729631361633ded336\\\\setup.py'\"'\"';f = getattr(tokenize, '\"'\"'open'\"'\"', open)(__file__) if os.path.exists(__file__) else io.StringIO('\"'\"'from setuptools import setup; setup()'\"'\"');code = f.read().replace('\"'\"'\\r\\n'\"'\"', '\"'\"'\\n'\"'\"');f.close();exec(compile(code, __file__, '\"'\"'exec'\"'\"'))' egg_info --egg-base 'C:\\Users\\Riadh\\AppData\\Local\\Temp\\pip-pip-egg-info-glfhpbvb'\n",
      "             cwd: C:\\Users\\Riadh\\AppData\\Local\\Temp\\pip-wheel-pnc4rdl5\\distribute_e74d4238baf744729631361633ded336\\\n",
      "        Complete output (10 lines):\n",
      "        Traceback (most recent call last):\n",
      "          File \"<string>\", line 1, in <module>\n",
      "          File \"C:\\Users\\Riadh\\AppData\\Local\\Temp\\pip-wheel-pnc4rdl5\\distribute_e74d4238baf744729631361633ded336\\setuptools\\__init__.py\", line 2, in <module>\n",
      "            from setuptools.extension import Extension, Library\n",
      "          File \"C:\\Users\\Riadh\\AppData\\Local\\Temp\\pip-wheel-pnc4rdl5\\distribute_e74d4238baf744729631361633ded336\\setuptools\\extension.py\", line 2, in <module>\n",
      "            from setuptools.dist import _get_unpatched\n",
      "          File \"C:\\Users\\Riadh\\AppData\\Local\\Temp\\pip-wheel-pnc4rdl5\\distribute_e74d4238baf744729631361633ded336\\setuptools\\dist.py\", line 103\n",
      "            except ValueError, e:\n",
      "                             ^\n",
      "        SyntaxError: invalid syntax\n",
      "        ----------------------------------------\n",
      "    WARNING: Discarding https://files.pythonhosted.org/packages/0b/f7/c564907eacadc3cbace0174a95c9176e5a371e19ddc38baf1919d2d8cb3d/distribute-0.6.14.zip#sha256=4ceec6b1ec8300fe4e1a60a9781c7bc1956feee0d6a87a002254aca080a9126d (from https://pypi.org/simple/distribute/). Command errored out with exit status 1: python setup.py egg_info Check the logs for full command output.\n",
      "    ERROR: Exception:\n",
      "    Traceback (most recent call last):\n",
      "      File \"C:\\Users\\Riadh\\.conda\\envs\\gee\\lib\\site-packages\\pip\\_internal\\cli\\base_command.py\", line 180, in _main\n",
      "        status = self.run(options, args)\n",
      "      File \"C:\\Users\\Riadh\\.conda\\envs\\gee\\lib\\site-packages\\pip\\_internal\\cli\\req_command.py\", line 204, in wrapper\n",
      "        return func(self, options, args)\n",
      "      File \"C:\\Users\\Riadh\\.conda\\envs\\gee\\lib\\site-packages\\pip\\_internal\\commands\\wheel.py\", line 142, in run\n",
      "        requirement_set = resolver.resolve(\n",
      "      File \"C:\\Users\\Riadh\\.conda\\envs\\gee\\lib\\site-packages\\pip\\_internal\\resolution\\resolvelib\\resolver.py\", line 127, in resolve\n",
      "        result = self._result = resolver.resolve(\n",
      "      File \"C:\\Users\\Riadh\\.conda\\envs\\gee\\lib\\site-packages\\pip\\_vendor\\resolvelib\\resolvers.py\", line 473, in resolve\n",
      "        state = resolution.resolve(requirements, max_rounds=max_rounds)\n",
      "      File \"C:\\Users\\Riadh\\.conda\\envs\\gee\\lib\\site-packages\\pip\\_vendor\\resolvelib\\resolvers.py\", line 341, in resolve\n",
      "        name, crit = self._merge_into_criterion(r, parent=None)\n",
      "      File \"C:\\Users\\Riadh\\.conda\\envs\\gee\\lib\\site-packages\\pip\\_vendor\\resolvelib\\resolvers.py\", line 172, in _merge_into_criterion\n",
      "        if not criterion.candidates:\n",
      "      File \"C:\\Users\\Riadh\\.conda\\envs\\gee\\lib\\site-packages\\pip\\_vendor\\resolvelib\\structs.py\", line 139, in __bool__\n",
      "        return bool(self._sequence)\n",
      "      File \"C:\\Users\\Riadh\\.conda\\envs\\gee\\lib\\site-packages\\pip\\_internal\\resolution\\resolvelib\\found_candidates.py\", line 143, in __bool__\n",
      "        return any(self)\n",
      "      File \"C:\\Users\\Riadh\\.conda\\envs\\gee\\lib\\site-packages\\pip\\_internal\\resolution\\resolvelib\\found_candidates.py\", line 129, in <genexpr>\n",
      "        return (c for c in iterator if id(c) not in self._incompatible_ids)\n",
      "      File \"C:\\Users\\Riadh\\.conda\\envs\\gee\\lib\\site-packages\\pip\\_internal\\resolution\\resolvelib\\found_candidates.py\", line 33, in _iter_built\n",
      "        candidate = func()\n",
      "      File \"C:\\Users\\Riadh\\.conda\\envs\\gee\\lib\\site-packages\\pip\\_internal\\resolution\\resolvelib\\factory.py\", line 200, in _make_candidate_from_link\n",
      "        self._link_candidate_cache[link] = LinkCandidate(\n",
      "      File \"C:\\Users\\Riadh\\.conda\\envs\\gee\\lib\\site-packages\\pip\\_internal\\resolution\\resolvelib\\candidates.py\", line 306, in __init__\n",
      "        super().__init__(\n",
      "      File \"C:\\Users\\Riadh\\.conda\\envs\\gee\\lib\\site-packages\\pip\\_internal\\resolution\\resolvelib\\candidates.py\", line 151, in __init__\n",
      "        self.dist = self._prepare()\n",
      "      File \"C:\\Users\\Riadh\\.conda\\envs\\gee\\lib\\site-packages\\pip\\_internal\\resolution\\resolvelib\\candidates.py\", line 234, in _prepare\n",
      "        dist = self._prepare_distribution()\n",
      "      File \"C:\\Users\\Riadh\\.conda\\envs\\gee\\lib\\site-packages\\pip\\_internal\\resolution\\resolvelib\\candidates.py\", line 317, in _prepare_distribution\n",
      "        return self._factory.preparer.prepare_linked_requirement(\n",
      "      File \"C:\\Users\\Riadh\\.conda\\envs\\gee\\lib\\site-packages\\pip\\_internal\\operations\\prepare.py\", line 508, in prepare_linked_requirement\n",
      "        return self._prepare_linked_requirement(req, parallel_builds)\n",
      "      File \"C:\\Users\\Riadh\\.conda\\envs\\gee\\lib\\site-packages\\pip\\_internal\\operations\\prepare.py\", line 550, in _prepare_linked_requirement\n",
      "        local_file = unpack_url(\n",
      "      File \"C:\\Users\\Riadh\\.conda\\envs\\gee\\lib\\site-packages\\pip\\_internal\\operations\\prepare.py\", line 249, in unpack_url\n",
      "        unpack_file(file.path, location, file.content_type)\n",
      "      File \"C:\\Users\\Riadh\\.conda\\envs\\gee\\lib\\site-packages\\pip\\_internal\\utils\\unpacking.py\", line 256, in unpack_file\n",
      "        untar_file(filename, location)\n",
      "      File \"C:\\Users\\Riadh\\.conda\\envs\\gee\\lib\\site-packages\\pip\\_internal\\utils\\unpacking.py\", line 227, in untar_file\n",
      "        shutil.copyfileobj(fp, destfp)\n",
      "    OSError: [Errno 28] No space left on device\n",
      "    Traceback (most recent call last):\n",
      "      File \"C:\\Users\\Riadh\\.conda\\envs\\gee\\lib\\site-packages\\setuptools\\installer.py\", line 75, in fetch_build_egg\n",
      "        subprocess.check_call(cmd)\n",
      "      File \"C:\\Users\\Riadh\\.conda\\envs\\gee\\lib\\subprocess.py\", line 373, in check_call\n",
      "        raise CalledProcessError(retcode, cmd)\n",
      "    subprocess.CalledProcessError: Command '['C:\\\\Users\\\\Riadh\\\\.conda\\\\envs\\\\gee\\\\python.exe', '-m', 'pip', '--disable-pip-version-check', 'wheel', '--no-deps', '-w', 'C:\\\\Users\\\\Riadh\\\\AppData\\\\Local\\\\Temp\\\\tmpg2e6c7_z', '--quiet', 'distribute']' returned non-zero exit status 2.\n",
      "    \n",
      "    The above exception was the direct cause of the following exception:\n",
      "    \n",
      "    Traceback (most recent call last):\n",
      "      File \"<string>\", line 1, in <module>\n",
      "      File \"C:\\Users\\Riadh\\AppData\\Local\\Temp\\pip-install-md6rjt6o\\dotenv_e8d448dfba5c4e3aab390d18db4140a6\\setup.py\", line 13, in <module>\n",
      "        setup(name='dotenv',\n",
      "      File \"C:\\Users\\Riadh\\.conda\\envs\\gee\\lib\\site-packages\\setuptools\\__init__.py\", line 152, in setup\n",
      "        _install_setup_requires(attrs)\n",
      "      File \"C:\\Users\\Riadh\\.conda\\envs\\gee\\lib\\site-packages\\setuptools\\__init__.py\", line 147, in _install_setup_requires\n",
      "        dist.fetch_build_eggs(dist.setup_requires)\n",
      "      File \"C:\\Users\\Riadh\\.conda\\envs\\gee\\lib\\site-packages\\setuptools\\dist.py\", line 686, in fetch_build_eggs\n",
      "        resolved_dists = pkg_resources.working_set.resolve(\n",
      "      File \"C:\\Users\\Riadh\\.conda\\envs\\gee\\lib\\site-packages\\pkg_resources\\__init__.py\", line 766, in resolve\n",
      "        dist = best[req.key] = env.best_match(\n",
      "      File \"C:\\Users\\Riadh\\.conda\\envs\\gee\\lib\\site-packages\\pkg_resources\\__init__.py\", line 1051, in best_match\n",
      "        return self.obtain(req, installer)\n",
      "      File \"C:\\Users\\Riadh\\.conda\\envs\\gee\\lib\\site-packages\\pkg_resources\\__init__.py\", line 1063, in obtain\n",
      "        return installer(requirement)\n",
      "      File \"C:\\Users\\Riadh\\.conda\\envs\\gee\\lib\\site-packages\\setuptools\\dist.py\", line 745, in fetch_build_egg\n",
      "        return fetch_build_egg(self, req)\n",
      "      File \"C:\\Users\\Riadh\\.conda\\envs\\gee\\lib\\site-packages\\setuptools\\installer.py\", line 77, in fetch_build_egg\n",
      "        raise DistutilsError(str(e)) from e\n",
      "    distutils.errors.DistutilsError: Command '['C:\\\\Users\\\\Riadh\\\\.conda\\\\envs\\\\gee\\\\python.exe', '-m', 'pip', '--disable-pip-version-check', 'wheel', '--no-deps', '-w', 'C:\\\\Users\\\\Riadh\\\\AppData\\\\Local\\\\Temp\\\\tmpg2e6c7_z', '--quiet', 'distribute']' returned non-zero exit status 2.\n",
      "    ----------------------------------------\n",
      "WARNING: Discarding https://files.pythonhosted.org/packages/2a/79/933746dc7f4891e5d7de0c113fd3c38cbf76bda0ea1b52df6484e3714928/dotenv-0.0.4.tar.gz#sha256=147fb269f4b65313079c4c2e2c9e74581f1e75c11c92555dcf5b5f48f24599a4 (from https://pypi.org/simple/dotenv/). Command errored out with exit status 1: python setup.py egg_info Check the logs for full command output.\n",
      "    ERROR: Command errored out with exit status 1:\n",
      "     command: 'C:\\Users\\Riadh\\.conda\\envs\\gee\\python.exe' -c 'import io, os, sys, setuptools, tokenize; sys.argv[0] = '\"'\"'C:\\\\Users\\\\Riadh\\\\AppData\\\\Local\\\\Temp\\\\pip-install-md6rjt6o\\\\dotenv_d31d4df2f0bb4a7782f60b639ba10764\\\\setup.py'\"'\"'; __file__='\"'\"'C:\\\\Users\\\\Riadh\\\\AppData\\\\Local\\\\Temp\\\\pip-install-md6rjt6o\\\\dotenv_d31d4df2f0bb4a7782f60b639ba10764\\\\setup.py'\"'\"';f = getattr(tokenize, '\"'\"'open'\"'\"', open)(__file__) if os.path.exists(__file__) else io.StringIO('\"'\"'from setuptools import setup; setup()'\"'\"');code = f.read().replace('\"'\"'\\r\\n'\"'\"', '\"'\"'\\n'\"'\"');f.close();exec(compile(code, __file__, '\"'\"'exec'\"'\"'))' egg_info --egg-base 'C:\\Users\\Riadh\\AppData\\Local\\Temp\\pip-pip-egg-info-nso_1vsv'\n",
      "         cwd: C:\\Users\\Riadh\\AppData\\Local\\Temp\\pip-install-md6rjt6o\\dotenv_d31d4df2f0bb4a7782f60b639ba10764\\\n",
      "    Complete output (54 lines):\n",
      "    Downloading http://pypi.python.org/packages/source/d/distribute/distribute-0.6.34.tar.gz\n",
      "    Traceback (most recent call last):\n",
      "      File \"C:\\Users\\Riadh\\AppData\\Local\\Temp\\pip-install-md6rjt6o\\dotenv_d31d4df2f0bb4a7782f60b639ba10764\\distribute_setup.py\", line 150, in use_setuptools\n",
      "        raise ImportError\n",
      "    ImportError\n",
      "    \n",
      "    During handling of the above exception, another exception occurred:\n",
      "    \n",
      "    Traceback (most recent call last):\n",
      "      File \"C:\\Users\\Riadh\\.conda\\envs\\gee\\lib\\urllib\\request.py\", line 1346, in do_open\n",
      "        h.request(req.get_method(), req.selector, req.data, headers,\n",
      "      File \"C:\\Users\\Riadh\\.conda\\envs\\gee\\lib\\http\\client.py\", line 1253, in request\n",
      "        self._send_request(method, url, body, headers, encode_chunked)\n",
      "      File \"C:\\Users\\Riadh\\.conda\\envs\\gee\\lib\\http\\client.py\", line 1299, in _send_request\n",
      "        self.endheaders(body, encode_chunked=encode_chunked)\n",
      "      File \"C:\\Users\\Riadh\\.conda\\envs\\gee\\lib\\http\\client.py\", line 1248, in endheaders\n",
      "        self._send_output(message_body, encode_chunked=encode_chunked)\n",
      "      File \"C:\\Users\\Riadh\\.conda\\envs\\gee\\lib\\http\\client.py\", line 1008, in _send_output\n",
      "        self.send(msg)\n",
      "      File \"C:\\Users\\Riadh\\.conda\\envs\\gee\\lib\\http\\client.py\", line 948, in send\n",
      "        self.connect()\n",
      "      File \"C:\\Users\\Riadh\\.conda\\envs\\gee\\lib\\http\\client.py\", line 919, in connect\n",
      "        self.sock = self._create_connection(\n",
      "      File \"C:\\Users\\Riadh\\.conda\\envs\\gee\\lib\\socket.py\", line 843, in create_connection\n",
      "        raise err\n",
      "      File \"C:\\Users\\Riadh\\.conda\\envs\\gee\\lib\\socket.py\", line 831, in create_connection\n",
      "        sock.connect(sa)\n",
      "    TimeoutError: [WinError 10060] Une tentative de connexion a Ã©chouÃ© car le parti connectÃ© nâ€™a pas rÃ©pondu convenablement au-delÃ  dâ€™une certaine durÃ©e ou une connexion Ã©tablie a Ã©chouÃ© car lâ€™hÃ´te de connexion nâ€™a pas rÃ©pondu\n",
      "    \n",
      "    During handling of the above exception, another exception occurred:\n",
      "    \n",
      "    Traceback (most recent call last):\n",
      "      File \"<string>\", line 1, in <module>\n",
      "      File \"C:\\Users\\Riadh\\AppData\\Local\\Temp\\pip-install-md6rjt6o\\dotenv_d31d4df2f0bb4a7782f60b639ba10764\\setup.py\", line 5, in <module>\n",
      "        use_setuptools()\n",
      "      File \"C:\\Users\\Riadh\\AppData\\Local\\Temp\\pip-install-md6rjt6o\\dotenv_d31d4df2f0bb4a7782f60b639ba10764\\distribute_setup.py\", line 152, in use_setuptools\n",
      "        return _do_download(version, download_base, to_dir, download_delay)\n",
      "      File \"C:\\Users\\Riadh\\AppData\\Local\\Temp\\pip-install-md6rjt6o\\dotenv_d31d4df2f0bb4a7782f60b639ba10764\\distribute_setup.py\", line 130, in _do_download\n",
      "        tarball = download_setuptools(version, download_base,\n",
      "      File \"C:\\Users\\Riadh\\AppData\\Local\\Temp\\pip-install-md6rjt6o\\dotenv_d31d4df2f0bb4a7782f60b639ba10764\\distribute_setup.py\", line 201, in download_setuptools\n",
      "        src = urlopen(url)\n",
      "      File \"C:\\Users\\Riadh\\.conda\\envs\\gee\\lib\\urllib\\request.py\", line 214, in urlopen\n",
      "        return opener.open(url, data, timeout)\n",
      "      File \"C:\\Users\\Riadh\\.conda\\envs\\gee\\lib\\urllib\\request.py\", line 517, in open\n",
      "        response = self._open(req, data)\n",
      "      File \"C:\\Users\\Riadh\\.conda\\envs\\gee\\lib\\urllib\\request.py\", line 534, in _open\n",
      "        result = self._call_chain(self.handle_open, protocol, protocol +\n",
      "      File \"C:\\Users\\Riadh\\.conda\\envs\\gee\\lib\\urllib\\request.py\", line 494, in _call_chain\n",
      "        result = func(*args)\n",
      "      File \"C:\\Users\\Riadh\\.conda\\envs\\gee\\lib\\urllib\\request.py\", line 1375, in http_open\n",
      "        return self.do_open(http.client.HTTPConnection, req)\n",
      "      File \"C:\\Users\\Riadh\\.conda\\envs\\gee\\lib\\urllib\\request.py\", line 1349, in do_open\n",
      "        raise URLError(err)\n",
      "    urllib.error.URLError: <urlopen error [WinError 10060] Une tentative de connexion a Ã©chouÃ© car le parti connectÃ© nâ€™a pas rÃ©pondu convenablement au-delÃ  dâ€™une certaine durÃ©e ou une connexion Ã©tablie a Ã©chouÃ© car lâ€™hÃ´te de connexion nâ€™a pas rÃ©pondu>\n",
      "    ----------------------------------------\n",
      "WARNING: Discarding https://files.pythonhosted.org/packages/ca/41/d922e0b32beaf7251ff1540a4b5a13c54d6bc25ccd9704294524a1f3af17/dotenv-0.0.2.tar.gz#sha256=6a35c7afd2a1584ccfdcd2af22994b125846ded1fa08ef4a831f4e2281303100 (from https://pypi.org/simple/dotenv/). Command errored out with exit status 1: python setup.py egg_info Check the logs for full command output.\n",
      "    ERROR: Command errored out with exit status 1:\n",
      "     command: 'C:\\Users\\Riadh\\.conda\\envs\\gee\\python.exe' -c 'import io, os, sys, setuptools, tokenize; sys.argv[0] = '\"'\"'C:\\\\Users\\\\Riadh\\\\AppData\\\\Local\\\\Temp\\\\pip-install-md6rjt6o\\\\dotenv_24f66998d7af44838d71f9a0896a714e\\\\setup.py'\"'\"'; __file__='\"'\"'C:\\\\Users\\\\Riadh\\\\AppData\\\\Local\\\\Temp\\\\pip-install-md6rjt6o\\\\dotenv_24f66998d7af44838d71f9a0896a714e\\\\setup.py'\"'\"';f = getattr(tokenize, '\"'\"'open'\"'\"', open)(__file__) if os.path.exists(__file__) else io.StringIO('\"'\"'from setuptools import setup; setup()'\"'\"');code = f.read().replace('\"'\"'\\r\\n'\"'\"', '\"'\"'\\n'\"'\"');f.close();exec(compile(code, __file__, '\"'\"'exec'\"'\"'))' egg_info --egg-base 'C:\\Users\\Riadh\\AppData\\Local\\Temp\\pip-pip-egg-info-59etloyr'\n",
      "         cwd: C:\\Users\\Riadh\\AppData\\Local\\Temp\\pip-install-md6rjt6o\\dotenv_24f66998d7af44838d71f9a0896a714e\\\n",
      "    Complete output (54 lines):\n",
      "    Downloading http://pypi.python.org/packages/source/d/distribute/distribute-0.6.34.tar.gz\n",
      "    Traceback (most recent call last):\n",
      "      File \"C:\\Users\\Riadh\\AppData\\Local\\Temp\\pip-install-md6rjt6o\\dotenv_24f66998d7af44838d71f9a0896a714e\\distribute_setup.py\", line 150, in use_setuptools\n",
      "        raise ImportError\n",
      "    ImportError\n",
      "    \n",
      "    During handling of the above exception, another exception occurred:\n",
      "    \n",
      "    Traceback (most recent call last):\n",
      "      File \"C:\\Users\\Riadh\\.conda\\envs\\gee\\lib\\urllib\\request.py\", line 1346, in do_open\n",
      "        h.request(req.get_method(), req.selector, req.data, headers,\n",
      "      File \"C:\\Users\\Riadh\\.conda\\envs\\gee\\lib\\http\\client.py\", line 1253, in request\n",
      "        self._send_request(method, url, body, headers, encode_chunked)\n",
      "      File \"C:\\Users\\Riadh\\.conda\\envs\\gee\\lib\\http\\client.py\", line 1299, in _send_request\n",
      "        self.endheaders(body, encode_chunked=encode_chunked)\n",
      "      File \"C:\\Users\\Riadh\\.conda\\envs\\gee\\lib\\http\\client.py\", line 1248, in endheaders\n",
      "        self._send_output(message_body, encode_chunked=encode_chunked)\n",
      "      File \"C:\\Users\\Riadh\\.conda\\envs\\gee\\lib\\http\\client.py\", line 1008, in _send_output\n",
      "        self.send(msg)\n",
      "      File \"C:\\Users\\Riadh\\.conda\\envs\\gee\\lib\\http\\client.py\", line 948, in send\n",
      "        self.connect()\n",
      "      File \"C:\\Users\\Riadh\\.conda\\envs\\gee\\lib\\http\\client.py\", line 919, in connect\n",
      "        self.sock = self._create_connection(\n",
      "      File \"C:\\Users\\Riadh\\.conda\\envs\\gee\\lib\\socket.py\", line 843, in create_connection\n",
      "        raise err\n",
      "      File \"C:\\Users\\Riadh\\.conda\\envs\\gee\\lib\\socket.py\", line 831, in create_connection\n",
      "        sock.connect(sa)\n",
      "    TimeoutError: [WinError 10060] Une tentative de connexion a Ã©chouÃ© car le parti connectÃ© nâ€™a pas rÃ©pondu convenablement au-delÃ  dâ€™une certaine durÃ©e ou une connexion Ã©tablie a Ã©chouÃ© car lâ€™hÃ´te de connexion nâ€™a pas rÃ©pondu\n",
      "    \n",
      "    During handling of the above exception, another exception occurred:\n",
      "    \n",
      "    Traceback (most recent call last):\n",
      "      File \"<string>\", line 1, in <module>\n",
      "      File \"C:\\Users\\Riadh\\AppData\\Local\\Temp\\pip-install-md6rjt6o\\dotenv_24f66998d7af44838d71f9a0896a714e\\setup.py\", line 5, in <module>\n",
      "        use_setuptools()\n",
      "      File \"C:\\Users\\Riadh\\AppData\\Local\\Temp\\pip-install-md6rjt6o\\dotenv_24f66998d7af44838d71f9a0896a714e\\distribute_setup.py\", line 152, in use_setuptools\n",
      "        return _do_download(version, download_base, to_dir, download_delay)\n",
      "      File \"C:\\Users\\Riadh\\AppData\\Local\\Temp\\pip-install-md6rjt6o\\dotenv_24f66998d7af44838d71f9a0896a714e\\distribute_setup.py\", line 130, in _do_download\n",
      "        tarball = download_setuptools(version, download_base,\n",
      "      File \"C:\\Users\\Riadh\\AppData\\Local\\Temp\\pip-install-md6rjt6o\\dotenv_24f66998d7af44838d71f9a0896a714e\\distribute_setup.py\", line 201, in download_setuptools\n",
      "        src = urlopen(url)\n",
      "      File \"C:\\Users\\Riadh\\.conda\\envs\\gee\\lib\\urllib\\request.py\", line 214, in urlopen\n",
      "        return opener.open(url, data, timeout)\n",
      "      File \"C:\\Users\\Riadh\\.conda\\envs\\gee\\lib\\urllib\\request.py\", line 517, in open\n",
      "        response = self._open(req, data)\n",
      "      File \"C:\\Users\\Riadh\\.conda\\envs\\gee\\lib\\urllib\\request.py\", line 534, in _open\n",
      "        result = self._call_chain(self.handle_open, protocol, protocol +\n",
      "      File \"C:\\Users\\Riadh\\.conda\\envs\\gee\\lib\\urllib\\request.py\", line 494, in _call_chain\n",
      "        result = func(*args)\n",
      "      File \"C:\\Users\\Riadh\\.conda\\envs\\gee\\lib\\urllib\\request.py\", line 1375, in http_open\n",
      "        return self.do_open(http.client.HTTPConnection, req)\n",
      "      File \"C:\\Users\\Riadh\\.conda\\envs\\gee\\lib\\urllib\\request.py\", line 1349, in do_open\n",
      "        raise URLError(err)\n",
      "    urllib.error.URLError: <urlopen error [WinError 10060] Une tentative de connexion a Ã©chouÃ© car le parti connectÃ© nâ€™a pas rÃ©pondu convenablement au-delÃ  dâ€™une certaine durÃ©e ou une connexion Ã©tablie a Ã©chouÃ© car lâ€™hÃ´te de connexion nâ€™a pas rÃ©pondu>\n",
      "    ----------------------------------------\n",
      "WARNING: Discarding https://files.pythonhosted.org/packages/fa/5a/6dcdddeaa0ddc0bd331fdd1bc8696d9650ede0cb014083716976174eb4b8/dotenv-0.0.1.tar.gz#sha256=04006132a48e301a40b5bc3e8ea0d667a68981f277bb1785af0f8b9f7958e278 (from https://pypi.org/simple/dotenv/). Command errored out with exit status 1: python setup.py egg_info Check the logs for full command output.\n",
      "ERROR: Could not find a version that satisfies the requirement dotenv (from versions: 0.0.1, 0.0.2, 0.0.4, 0.0.5)\n",
      "ERROR: No matching distribution found for dotenv\n"
     ]
    }
   ],
   "source": [
    "pip install dotenv"
   ]
  },
  {
   "cell_type": "code",
   "execution_count": 5,
   "metadata": {},
   "outputs": [],
   "source": [
    "# env variables\n",
    "load_dotenv()\n",
    "OPEN_WEATHER_TOKEN = os.getenv('Open_weather_token')"
   ]
  },
  {
   "cell_type": "markdown",
   "metadata": {},
   "source": [
    "## 1. Get weather data"
   ]
  },
  {
   "cell_type": "code",
   "execution_count": 6,
   "metadata": {},
   "outputs": [],
   "source": [
    "french_top_35 = [\"Mont Saint Michel\", \"St Malo\", \"Bayeux\", \"Le Havre\",\n",
    "                \"Rouen\", \"Paris\", \"Amiens\", \"Lille\", \"Strasbourg\",\n",
    "                \"Chateau du Haut Koenigsbourg\", \"Colmar\", \"Eguisheim\",\n",
    "                \"Besancon\", \"Dijon\", \"Annecy\", \"Grenoble\", \"Lyon\",\n",
    "                \"Gorges du Verdon\", \"Bormes les Mimosas\", \"Cassis\",\n",
    "                \"Marseille\", \"Aix en Provence\", \"Avignon\", \"Uzes\", \"Nimes\",\n",
    "                \"Aigues Mortes\", \"Saintes Maries de la mer\", \"Collioure\",\n",
    "                \"Carcassonne\", \"Ariege\", \"Toulouse\", \"Montauban\", \"Biarritz\",\n",
    "                \"Bayonne\", \"La Rochelle\"]"
   ]
  },
  {
   "cell_type": "code",
   "execution_count": 2,
   "metadata": {},
   "outputs": [
    {
     "ename": "NameError",
     "evalue": "name 'pd' is not defined",
     "output_type": "error",
     "traceback": [
      "\u001b[1;31m---------------------------------------------------------------------------\u001b[0m",
      "\u001b[1;31mNameError\u001b[0m                                 Traceback (most recent call last)",
      "\u001b[1;32m~\\AppData\\Local\\Temp/ipykernel_20100/2748407180.py\u001b[0m in \u001b[0;36m<module>\u001b[1;34m\u001b[0m\n\u001b[0;32m      1\u001b[0m \u001b[1;31m# init dataframe\u001b[0m\u001b[1;33m\u001b[0m\u001b[1;33m\u001b[0m\u001b[0m\n\u001b[1;32m----> 2\u001b[1;33m \u001b[0mweather_df\u001b[0m \u001b[1;33m=\u001b[0m \u001b[0mpd\u001b[0m\u001b[1;33m.\u001b[0m\u001b[0mDataFrame\u001b[0m\u001b[1;33m(\u001b[0m\u001b[0mfrench_top_35\u001b[0m\u001b[1;33m,\u001b[0m \u001b[0mcolumns\u001b[0m\u001b[1;33m=\u001b[0m\u001b[1;33m[\u001b[0m\u001b[1;34m\"cities\"\u001b[0m\u001b[1;33m]\u001b[0m\u001b[1;33m)\u001b[0m\u001b[1;33m\u001b[0m\u001b[1;33m\u001b[0m\u001b[0m\n\u001b[0m\u001b[0;32m      3\u001b[0m \u001b[0mdisplay\u001b[0m\u001b[1;33m(\u001b[0m\u001b[0mweather_df\u001b[0m\u001b[1;33m.\u001b[0m\u001b[0msample\u001b[0m\u001b[1;33m(\u001b[0m\u001b[1;36m2\u001b[0m\u001b[1;33m)\u001b[0m\u001b[1;33m)\u001b[0m\u001b[1;33m\u001b[0m\u001b[1;33m\u001b[0m\u001b[0m\n",
      "\u001b[1;31mNameError\u001b[0m: name 'pd' is not defined"
     ]
    }
   ],
   "source": [
    "# init dataframe\n",
    "weather_df = pd.DataFrame(french_top_35, columns=[\"cities\"])\n",
    "display(weather_df.sample(2))"
   ]
  },
  {
   "cell_type": "code",
   "execution_count": 8,
   "metadata": {},
   "outputs": [
    {
     "data": {
      "text/html": [
       "<div>\n",
       "<style scoped>\n",
       "    .dataframe tbody tr th:only-of-type {\n",
       "        vertical-align: middle;\n",
       "    }\n",
       "\n",
       "    .dataframe tbody tr th {\n",
       "        vertical-align: top;\n",
       "    }\n",
       "\n",
       "    .dataframe thead th {\n",
       "        text-align: right;\n",
       "    }\n",
       "</style>\n",
       "<table border=\"1\" class=\"dataframe\">\n",
       "  <thead>\n",
       "    <tr style=\"text-align: right;\">\n",
       "      <th></th>\n",
       "      <th>cities</th>\n",
       "      <th>full_address</th>\n",
       "      <th>latitude</th>\n",
       "      <th>longitude</th>\n",
       "    </tr>\n",
       "  </thead>\n",
       "  <tbody>\n",
       "    <tr>\n",
       "      <th>31</th>\n",
       "      <td>Montauban</td>\n",
       "      <td>Montauban, Tarn-et-Garonne, Occitanie, France ...</td>\n",
       "      <td>44.017584</td>\n",
       "      <td>1.354999</td>\n",
       "    </tr>\n",
       "    <tr>\n",
       "      <th>26</th>\n",
       "      <td>Saintes Maries de la mer</td>\n",
       "      <td>Saintes-Maries-de-la-Mer, Arles, Bouches-du-Rh...</td>\n",
       "      <td>43.452277</td>\n",
       "      <td>4.428717</td>\n",
       "    </tr>\n",
       "  </tbody>\n",
       "</table>\n",
       "</div>"
      ],
      "text/plain": [
       "                      cities  \\\n",
       "31                 Montauban   \n",
       "26  Saintes Maries de la mer   \n",
       "\n",
       "                                         full_address   latitude  longitude  \n",
       "31  Montauban, Tarn-et-Garonne, Occitanie, France ...  44.017584   1.354999  \n",
       "26  Saintes-Maries-de-la-Mer, Arles, Bouches-du-Rh...  43.452277   4.428717  "
      ]
     },
     "metadata": {},
     "output_type": "display_data"
    }
   ],
   "source": [
    "# coordinates of cities\n",
    "def cities_to_coords(city_name) :\n",
    "    \"\"\" get cities coordiniates.\n",
    "    \"\"\"\n",
    "\n",
    "    # geocoder\n",
    "    geolocator = Nominatim(user_agent=\"app\")\n",
    "    location = geolocator.geocode(city_name)\n",
    "\n",
    "    # full_address, latitude, longitude\n",
    "    full_address = location.address\n",
    "    latitude = location.latitude\n",
    "    longitude = location.longitude\n",
    "\n",
    "    # return \n",
    "    return pd.Series([full_address, latitude, longitude])\n",
    "\n",
    "## RUN\n",
    "if not \"full_address\" in weather_df.columns :\n",
    "    weather_df[[\"full_address\", \"latitude\", \"longitude\"]] = weather_df[\"cities\"].apply(cities_to_coords)\n",
    "    display(weather_df.sample(2))\n",
    "\n",
    "else : \n",
    "    display(weather_df.sample(2))\n",
    "    print(\"full_address, latitude & longitude columns exists !\")"
   ]
  },
  {
   "cell_type": "code",
   "execution_count": 9,
   "metadata": {},
   "outputs": [],
   "source": [
    "def volume_rain(lat, lon, exclude, appid) :\n",
    "    \"\"\" volume of rain in each city over 7 next days.\n",
    "    \"\"\"\n",
    "\n",
    "    # open weather one call api\n",
    "    params = (\n",
    "        ('lat', lat),\n",
    "        ('lon', lon),\n",
    "        ('exclude', exclude),\n",
    "        ('appid', appid)\n",
    "    )\n",
    "\n",
    "    response = requests.get('https://api.openweathermap.org/data/2.5/onecall', params=params)\n",
    "\n",
    "    # normalize reponse\n",
    "    open_weather_7days = pd.json_normalize(response.json()[\"daily\"])\n",
    "\n",
    "    # clean rain column\n",
    "    open_weather_7days[\"rain\"] = open_weather_7days[\"rain\"].apply(lambda x : 0 if np.isnan(x) else x) \n",
    "\n",
    "    # calculate volumn \n",
    "    n_days = open_weather_7days.shape[0]\n",
    "    volume_rain_7days =  np.sum(open_weather_7days[\"rain\"] * open_weather_7days[\"pop\"]) / n_days\n",
    "\n",
    "    # return \n",
    "    return round(volume_rain_7days,3)"
   ]
  },
  {
   "cell_type": "code",
   "execution_count": 10,
   "metadata": {},
   "outputs": [
    {
     "data": {
      "text/html": [
       "<div>\n",
       "<style scoped>\n",
       "    .dataframe tbody tr th:only-of-type {\n",
       "        vertical-align: middle;\n",
       "    }\n",
       "\n",
       "    .dataframe tbody tr th {\n",
       "        vertical-align: top;\n",
       "    }\n",
       "\n",
       "    .dataframe thead th {\n",
       "        text-align: right;\n",
       "    }\n",
       "</style>\n",
       "<table border=\"1\" class=\"dataframe\">\n",
       "  <thead>\n",
       "    <tr style=\"text-align: right;\">\n",
       "      <th></th>\n",
       "      <th>cities</th>\n",
       "      <th>full_address</th>\n",
       "      <th>latitude</th>\n",
       "      <th>longitude</th>\n",
       "      <th>volume_rain_7days</th>\n",
       "    </tr>\n",
       "  </thead>\n",
       "  <tbody>\n",
       "    <tr>\n",
       "      <th>25</th>\n",
       "      <td>Aigues Mortes</td>\n",
       "      <td>Aigues-Mortes, Nîmes, Gard, Occitanie, France ...</td>\n",
       "      <td>43.565823</td>\n",
       "      <td>4.191284</td>\n",
       "      <td>2.645</td>\n",
       "    </tr>\n",
       "    <tr>\n",
       "      <th>23</th>\n",
       "      <td>Uzes</td>\n",
       "      <td>Uzès, Nîmes, Gard, Occitanie, France métropoli...</td>\n",
       "      <td>44.012128</td>\n",
       "      <td>4.419672</td>\n",
       "      <td>2.102</td>\n",
       "    </tr>\n",
       "  </tbody>\n",
       "</table>\n",
       "</div>"
      ],
      "text/plain": [
       "           cities                                       full_address  \\\n",
       "25  Aigues Mortes  Aigues-Mortes, Nîmes, Gard, Occitanie, France ...   \n",
       "23           Uzes  Uzès, Nîmes, Gard, Occitanie, France métropoli...   \n",
       "\n",
       "     latitude  longitude  volume_rain_7days  \n",
       "25  43.565823   4.191284              2.645  \n",
       "23  44.012128   4.419672              2.102  "
      ]
     },
     "metadata": {},
     "output_type": "display_data"
    }
   ],
   "source": [
    "# fill weather_df\n",
    "exclude = 'current,minutely,hourly,alerts'\n",
    "appid = OPEN_WEATHER_TOKEN\n",
    "if not \"volume_rain_7days\" in weather_df.columns :\n",
    "    weather_df[\"volume_rain_7days\"] = weather_df[[\"latitude\", \"longitude\"]].transpose().apply(lambda x : volume_rain(x[0], x[1], exclude, appid))\n",
    "\n",
    "display(weather_df.sample(2))"
   ]
  },
  {
   "cell_type": "code",
   "execution_count": 11,
   "metadata": {},
   "outputs": [
    {
     "data": {
      "text/html": [
       "<div>\n",
       "<style scoped>\n",
       "    .dataframe tbody tr th:only-of-type {\n",
       "        vertical-align: middle;\n",
       "    }\n",
       "\n",
       "    .dataframe tbody tr th {\n",
       "        vertical-align: top;\n",
       "    }\n",
       "\n",
       "    .dataframe thead th {\n",
       "        text-align: right;\n",
       "    }\n",
       "</style>\n",
       "<table border=\"1\" class=\"dataframe\">\n",
       "  <thead>\n",
       "    <tr style=\"text-align: right;\">\n",
       "      <th></th>\n",
       "      <th>cities</th>\n",
       "      <th>full_address</th>\n",
       "      <th>latitude</th>\n",
       "      <th>longitude</th>\n",
       "      <th>volume_rain_7days</th>\n",
       "      <th>uuid</th>\n",
       "    </tr>\n",
       "  </thead>\n",
       "  <tbody>\n",
       "    <tr>\n",
       "      <th>21</th>\n",
       "      <td>Aix en Provence</td>\n",
       "      <td>Aix-en-Provence, Bouches-du-Rhône, Provence-Al...</td>\n",
       "      <td>43.529842</td>\n",
       "      <td>5.447474</td>\n",
       "      <td>2.566</td>\n",
       "      <td>fc388387-8378-47b6-9c60-2834649475ee</td>\n",
       "    </tr>\n",
       "    <tr>\n",
       "      <th>15</th>\n",
       "      <td>Grenoble</td>\n",
       "      <td>Grenoble, Isère, Auvergne-Rhône-Alpes, France ...</td>\n",
       "      <td>45.187560</td>\n",
       "      <td>5.735782</td>\n",
       "      <td>7.462</td>\n",
       "      <td>590c8222-37f8-443a-b577-38826ab507e7</td>\n",
       "    </tr>\n",
       "  </tbody>\n",
       "</table>\n",
       "</div>"
      ],
      "text/plain": [
       "             cities                                       full_address  \\\n",
       "21  Aix en Provence  Aix-en-Provence, Bouches-du-Rhône, Provence-Al...   \n",
       "15         Grenoble  Grenoble, Isère, Auvergne-Rhône-Alpes, France ...   \n",
       "\n",
       "     latitude  longitude  volume_rain_7days  \\\n",
       "21  43.529842   5.447474              2.566   \n",
       "15  45.187560   5.735782              7.462   \n",
       "\n",
       "                                    uuid  \n",
       "21  fc388387-8378-47b6-9c60-2834649475ee  \n",
       "15  590c8222-37f8-443a-b577-38826ab507e7  "
      ]
     },
     "metadata": {},
     "output_type": "display_data"
    }
   ],
   "source": [
    "# unique identifier (uuid)\n",
    "if not \"uuid\" in weather_df.columns :\n",
    "    weather_df['uuid'] = weather_df.index.to_series().map(lambda x: uuid.uuid4())\n",
    "\n",
    "display(weather_df.sample(2))"
   ]
  },
  {
   "cell_type": "code",
   "execution_count": 12,
   "metadata": {},
   "outputs": [
    {
     "data": {
      "text/html": [
       "<div>\n",
       "<style scoped>\n",
       "    .dataframe tbody tr th:only-of-type {\n",
       "        vertical-align: middle;\n",
       "    }\n",
       "\n",
       "    .dataframe tbody tr th {\n",
       "        vertical-align: top;\n",
       "    }\n",
       "\n",
       "    .dataframe thead th {\n",
       "        text-align: right;\n",
       "    }\n",
       "</style>\n",
       "<table border=\"1\" class=\"dataframe\">\n",
       "  <thead>\n",
       "    <tr style=\"text-align: right;\">\n",
       "      <th></th>\n",
       "      <th>uuid</th>\n",
       "      <th>cities</th>\n",
       "      <th>full_address</th>\n",
       "      <th>latitude</th>\n",
       "      <th>longitude</th>\n",
       "      <th>volume_rain_7days</th>\n",
       "    </tr>\n",
       "  </thead>\n",
       "  <tbody>\n",
       "    <tr>\n",
       "      <th>25</th>\n",
       "      <td>30fa5619-03b3-45aa-845e-c46de7589a71</td>\n",
       "      <td>Aigues Mortes</td>\n",
       "      <td>Aigues-Mortes, Nîmes, Gard, Occitanie, France ...</td>\n",
       "      <td>43.565823</td>\n",
       "      <td>4.191284</td>\n",
       "      <td>2.645</td>\n",
       "    </tr>\n",
       "    <tr>\n",
       "      <th>27</th>\n",
       "      <td>db214571-646b-4e91-bab1-8e7475e57327</td>\n",
       "      <td>Collioure</td>\n",
       "      <td>Collioure, Céret, Pyrénées-Orientales, Occitan...</td>\n",
       "      <td>42.525050</td>\n",
       "      <td>3.083155</td>\n",
       "      <td>1.168</td>\n",
       "    </tr>\n",
       "  </tbody>\n",
       "</table>\n",
       "</div>"
      ],
      "text/plain": [
       "                                    uuid         cities  \\\n",
       "25  30fa5619-03b3-45aa-845e-c46de7589a71  Aigues Mortes   \n",
       "27  db214571-646b-4e91-bab1-8e7475e57327      Collioure   \n",
       "\n",
       "                                         full_address   latitude  longitude  \\\n",
       "25  Aigues-Mortes, Nîmes, Gard, Occitanie, France ...  43.565823   4.191284   \n",
       "27  Collioure, Céret, Pyrénées-Orientales, Occitan...  42.525050   3.083155   \n",
       "\n",
       "    volume_rain_7days  \n",
       "25              2.645  \n",
       "27              1.168  "
      ]
     },
     "metadata": {},
     "output_type": "display_data"
    }
   ],
   "source": [
    "# reorder columns\n",
    "keep_col = ['uuid', 'cities', 'full_address', 'latitude', 'longitude', 'volume_rain_7days']\n",
    "weather_df = weather_df[keep_col]\n",
    "\n",
    "display(weather_df.sample(2))"
   ]
  },
  {
   "cell_type": "code",
   "execution_count": 13,
   "metadata": {},
   "outputs": [
    {
     "name": "stdout",
     "output_type": "stream",
     "text": [
      "../data/temp/weather_data.csv exists !\n"
     ]
    }
   ],
   "source": [
    "# save dataframe\n",
    "weather_data = \"../data/temp/weather_data.csv\"\n",
    "overwrite = False \n",
    "\n",
    "if not os.path.exists(weather_data) or overwrite==True:\n",
    "    weather_df.to_csv(weather_data)\n",
    "\n",
    "else :\n",
    "    print(f\"{weather_data} exists !\")"
   ]
  },
  {
   "cell_type": "code",
   "execution_count": 18,
   "metadata": {},
   "outputs": [
    {
     "data": {
      "text/html": [
       "<div>\n",
       "<style scoped>\n",
       "    .dataframe tbody tr th:only-of-type {\n",
       "        vertical-align: middle;\n",
       "    }\n",
       "\n",
       "    .dataframe tbody tr th {\n",
       "        vertical-align: top;\n",
       "    }\n",
       "\n",
       "    .dataframe thead th {\n",
       "        text-align: right;\n",
       "    }\n",
       "</style>\n",
       "<table border=\"1\" class=\"dataframe\">\n",
       "  <thead>\n",
       "    <tr style=\"text-align: right;\">\n",
       "      <th></th>\n",
       "      <th>uuid</th>\n",
       "      <th>cities</th>\n",
       "      <th>full_address</th>\n",
       "      <th>latitude</th>\n",
       "      <th>longitude</th>\n",
       "      <th>volume_rain_7days</th>\n",
       "    </tr>\n",
       "  </thead>\n",
       "  <tbody>\n",
       "    <tr>\n",
       "      <th>9</th>\n",
       "      <td>bb9ce686-e536-4202-ada1-9ee4db6d47d8</td>\n",
       "      <td>Chateau du Haut Koenigsbourg</td>\n",
       "      <td>Château du Haut-Kœnigsbourg, Chemin fermé suit...</td>\n",
       "      <td>48.249490</td>\n",
       "      <td>7.344296</td>\n",
       "      <td>2.275</td>\n",
       "    </tr>\n",
       "    <tr>\n",
       "      <th>17</th>\n",
       "      <td>a7ad6334-307c-451f-9a55-449e22544a73</td>\n",
       "      <td>Gorges du Verdon</td>\n",
       "      <td>Gorges du Verdon, Route des Crêtes, Les Ferrai...</td>\n",
       "      <td>43.749656</td>\n",
       "      <td>6.328562</td>\n",
       "      <td>1.450</td>\n",
       "    </tr>\n",
       "  </tbody>\n",
       "</table>\n",
       "</div>"
      ],
      "text/plain": [
       "                                    uuid                        cities  \\\n",
       "9   bb9ce686-e536-4202-ada1-9ee4db6d47d8  Chateau du Haut Koenigsbourg   \n",
       "17  a7ad6334-307c-451f-9a55-449e22544a73              Gorges du Verdon   \n",
       "\n",
       "                                         full_address   latitude  longitude  \\\n",
       "9   Château du Haut-Kœnigsbourg, Chemin fermé suit...  48.249490   7.344296   \n",
       "17  Gorges du Verdon, Route des Crêtes, Les Ferrai...  43.749656   6.328562   \n",
       "\n",
       "    volume_rain_7days  \n",
       "9               2.275  \n",
       "17              1.450  "
      ]
     },
     "metadata": {},
     "output_type": "display_data"
    },
    {
     "data": {
      "text/html": [
       "<div>\n",
       "<style scoped>\n",
       "    .dataframe tbody tr th:only-of-type {\n",
       "        vertical-align: middle;\n",
       "    }\n",
       "\n",
       "    .dataframe tbody tr th {\n",
       "        vertical-align: top;\n",
       "    }\n",
       "\n",
       "    .dataframe thead th {\n",
       "        text-align: right;\n",
       "    }\n",
       "</style>\n",
       "<table border=\"1\" class=\"dataframe\">\n",
       "  <thead>\n",
       "    <tr style=\"text-align: right;\">\n",
       "      <th></th>\n",
       "      <th>uuid</th>\n",
       "      <th>cities</th>\n",
       "      <th>full_address</th>\n",
       "      <th>latitude</th>\n",
       "      <th>longitude</th>\n",
       "      <th>volume_rain_7days</th>\n",
       "    </tr>\n",
       "  </thead>\n",
       "  <tbody>\n",
       "    <tr>\n",
       "      <th>20</th>\n",
       "      <td>03752e13-f4e7-4ae6-ada0-9c63311a42b7</td>\n",
       "      <td>Marseille</td>\n",
       "      <td>Marseille, Bouches-du-Rhône, Provence-Alpes-Cô...</td>\n",
       "      <td>43.296174</td>\n",
       "      <td>5.369953</td>\n",
       "      <td>2.306</td>\n",
       "    </tr>\n",
       "    <tr>\n",
       "      <th>23</th>\n",
       "      <td>7c8e4332-0cbf-41af-aa1b-1bec0dadbd8b</td>\n",
       "      <td>Uzes</td>\n",
       "      <td>Uzès, Nîmes, Gard, Occitanie, France métropoli...</td>\n",
       "      <td>44.012128</td>\n",
       "      <td>4.419672</td>\n",
       "      <td>2.102</td>\n",
       "    </tr>\n",
       "  </tbody>\n",
       "</table>\n",
       "</div>"
      ],
      "text/plain": [
       "                                    uuid     cities  \\\n",
       "20  03752e13-f4e7-4ae6-ada0-9c63311a42b7  Marseille   \n",
       "23  7c8e4332-0cbf-41af-aa1b-1bec0dadbd8b       Uzes   \n",
       "\n",
       "                                         full_address   latitude  longitude  \\\n",
       "20  Marseille, Bouches-du-Rhône, Provence-Alpes-Cô...  43.296174   5.369953   \n",
       "23  Uzès, Nîmes, Gard, Occitanie, France métropoli...  44.012128   4.419672   \n",
       "\n",
       "    volume_rain_7days  \n",
       "20              2.306  \n",
       "23              2.102  "
      ]
     },
     "metadata": {},
     "output_type": "display_data"
    }
   ],
   "source": [
    "# fetch best destinations\n",
    "top_5_destinations = weather_df.sort_values(by=['volume_rain_7days'])[:5]\n",
    "top_20_destinations = weather_df.sort_values(by=['volume_rain_7days'])[:20]\n",
    "display(top_5_destinations.sample(2))\n",
    "display(top_20_destinations.sample(2))\n"
   ]
  },
  {
   "cell_type": "code",
   "execution_count": 21,
   "metadata": {},
   "outputs": [],
   "source": [
    "# plot function\n",
    "def plot(df, lat_col, lon_col, color_col, mapbox_token_file, zoom=5) :\n",
    "    # read token file\n",
    "    px.set_mapbox_access_token(open(mapbox_token_file).read())\n",
    "\n",
    "    # fig\n",
    "    fig = px.scatter_mapbox(df, lat=lat_col, lon=lon_col,     \n",
    "                        color=color_col, size=color_col,\n",
    "                        color_continuous_scale=px.colors.cyclical.IceFire, \n",
    "                        size_max=15, zoom=zoom)\n",
    "\n",
    "    fig.show()"
   ]
  },
  {
   "cell_type": "code",
   "execution_count": 22,
   "metadata": {},
   "outputs": [
    {
     "data": {
      "application/vnd.plotly.v1+json": {
       "config": {
        "plotlyServerURL": "https://plot.ly"
       },
       "data": [
        {
         "hovertemplate": "Volume of rain=%{marker.color}<br>latitude=%{lat}<br>longitude=%{lon}<extra></extra>",
         "lat": [
          42.52505,
          43.7496562,
          44.0121279,
          43.2140359,
          48.249489800000006
         ],
         "legendgroup": "",
         "lon": [
          3.0831554,
          6.3285616,
          4.4196718,
          5.5396318,
          7.34429620253195
         ],
         "marker": {
          "color": [
           1.168,
           1.45,
           2.102,
           2.12,
           2.275
          ],
          "coloraxis": "coloraxis",
          "size": [
           1.168,
           1.45,
           2.102,
           2.12,
           2.275
          ],
          "sizemode": "area",
          "sizeref": 0.01011111111111111
         },
         "mode": "markers",
         "name": "",
         "showlegend": false,
         "subplot": "mapbox",
         "type": "scattermapbox"
        }
       ],
       "layout": {
        "coloraxis": {
         "colorbar": {
          "title": {
           "text": "Volume of rain"
          }
         },
         "colorscale": [
          [
           0,
           "#000000"
          ],
          [
           0.0625,
           "#001f4d"
          ],
          [
           0.125,
           "#003786"
          ],
          [
           0.1875,
           "#0e58a8"
          ],
          [
           0.25,
           "#217eb8"
          ],
          [
           0.3125,
           "#30a4ca"
          ],
          [
           0.375,
           "#54c8df"
          ],
          [
           0.4375,
           "#9be4ef"
          ],
          [
           0.5,
           "#e1e9d1"
          ],
          [
           0.5625,
           "#f3d573"
          ],
          [
           0.625,
           "#e7b000"
          ],
          [
           0.6875,
           "#da8200"
          ],
          [
           0.75,
           "#c65400"
          ],
          [
           0.8125,
           "#ac2301"
          ],
          [
           0.875,
           "#820000"
          ],
          [
           0.9375,
           "#4c0000"
          ],
          [
           1,
           "#000000"
          ]
         ]
        },
        "legend": {
         "itemsizing": "constant",
         "tracegroupgap": 0
        },
        "mapbox": {
         "accesstoken": "pk.eyJ1Ijoic2hha2Fzb20iLCJhIjoiY2plMWg1NGFpMXZ5NjJxbjhlM2ttN3AwbiJ9.RtGYHmreKiyBfHuElgYq_w",
         "center": {
          "lat": 44.35007196,
          "lon": 5.34306336050639
         },
         "domain": {
          "x": [
           0,
           1
          ],
          "y": [
           0,
           1
          ]
         },
         "zoom": 5
        },
        "margin": {
         "t": 60
        },
        "template": {
         "data": {
          "bar": [
           {
            "error_x": {
             "color": "#2a3f5f"
            },
            "error_y": {
             "color": "#2a3f5f"
            },
            "marker": {
             "line": {
              "color": "#E5ECF6",
              "width": 0.5
             },
             "pattern": {
              "fillmode": "overlay",
              "size": 10,
              "solidity": 0.2
             }
            },
            "type": "bar"
           }
          ],
          "barpolar": [
           {
            "marker": {
             "line": {
              "color": "#E5ECF6",
              "width": 0.5
             },
             "pattern": {
              "fillmode": "overlay",
              "size": 10,
              "solidity": 0.2
             }
            },
            "type": "barpolar"
           }
          ],
          "carpet": [
           {
            "aaxis": {
             "endlinecolor": "#2a3f5f",
             "gridcolor": "white",
             "linecolor": "white",
             "minorgridcolor": "white",
             "startlinecolor": "#2a3f5f"
            },
            "baxis": {
             "endlinecolor": "#2a3f5f",
             "gridcolor": "white",
             "linecolor": "white",
             "minorgridcolor": "white",
             "startlinecolor": "#2a3f5f"
            },
            "type": "carpet"
           }
          ],
          "choropleth": [
           {
            "colorbar": {
             "outlinewidth": 0,
             "ticks": ""
            },
            "type": "choropleth"
           }
          ],
          "contour": [
           {
            "colorbar": {
             "outlinewidth": 0,
             "ticks": ""
            },
            "colorscale": [
             [
              0,
              "#0d0887"
             ],
             [
              0.1111111111111111,
              "#46039f"
             ],
             [
              0.2222222222222222,
              "#7201a8"
             ],
             [
              0.3333333333333333,
              "#9c179e"
             ],
             [
              0.4444444444444444,
              "#bd3786"
             ],
             [
              0.5555555555555556,
              "#d8576b"
             ],
             [
              0.6666666666666666,
              "#ed7953"
             ],
             [
              0.7777777777777778,
              "#fb9f3a"
             ],
             [
              0.8888888888888888,
              "#fdca26"
             ],
             [
              1,
              "#f0f921"
             ]
            ],
            "type": "contour"
           }
          ],
          "contourcarpet": [
           {
            "colorbar": {
             "outlinewidth": 0,
             "ticks": ""
            },
            "type": "contourcarpet"
           }
          ],
          "heatmap": [
           {
            "colorbar": {
             "outlinewidth": 0,
             "ticks": ""
            },
            "colorscale": [
             [
              0,
              "#0d0887"
             ],
             [
              0.1111111111111111,
              "#46039f"
             ],
             [
              0.2222222222222222,
              "#7201a8"
             ],
             [
              0.3333333333333333,
              "#9c179e"
             ],
             [
              0.4444444444444444,
              "#bd3786"
             ],
             [
              0.5555555555555556,
              "#d8576b"
             ],
             [
              0.6666666666666666,
              "#ed7953"
             ],
             [
              0.7777777777777778,
              "#fb9f3a"
             ],
             [
              0.8888888888888888,
              "#fdca26"
             ],
             [
              1,
              "#f0f921"
             ]
            ],
            "type": "heatmap"
           }
          ],
          "heatmapgl": [
           {
            "colorbar": {
             "outlinewidth": 0,
             "ticks": ""
            },
            "colorscale": [
             [
              0,
              "#0d0887"
             ],
             [
              0.1111111111111111,
              "#46039f"
             ],
             [
              0.2222222222222222,
              "#7201a8"
             ],
             [
              0.3333333333333333,
              "#9c179e"
             ],
             [
              0.4444444444444444,
              "#bd3786"
             ],
             [
              0.5555555555555556,
              "#d8576b"
             ],
             [
              0.6666666666666666,
              "#ed7953"
             ],
             [
              0.7777777777777778,
              "#fb9f3a"
             ],
             [
              0.8888888888888888,
              "#fdca26"
             ],
             [
              1,
              "#f0f921"
             ]
            ],
            "type": "heatmapgl"
           }
          ],
          "histogram": [
           {
            "marker": {
             "pattern": {
              "fillmode": "overlay",
              "size": 10,
              "solidity": 0.2
             }
            },
            "type": "histogram"
           }
          ],
          "histogram2d": [
           {
            "colorbar": {
             "outlinewidth": 0,
             "ticks": ""
            },
            "colorscale": [
             [
              0,
              "#0d0887"
             ],
             [
              0.1111111111111111,
              "#46039f"
             ],
             [
              0.2222222222222222,
              "#7201a8"
             ],
             [
              0.3333333333333333,
              "#9c179e"
             ],
             [
              0.4444444444444444,
              "#bd3786"
             ],
             [
              0.5555555555555556,
              "#d8576b"
             ],
             [
              0.6666666666666666,
              "#ed7953"
             ],
             [
              0.7777777777777778,
              "#fb9f3a"
             ],
             [
              0.8888888888888888,
              "#fdca26"
             ],
             [
              1,
              "#f0f921"
             ]
            ],
            "type": "histogram2d"
           }
          ],
          "histogram2dcontour": [
           {
            "colorbar": {
             "outlinewidth": 0,
             "ticks": ""
            },
            "colorscale": [
             [
              0,
              "#0d0887"
             ],
             [
              0.1111111111111111,
              "#46039f"
             ],
             [
              0.2222222222222222,
              "#7201a8"
             ],
             [
              0.3333333333333333,
              "#9c179e"
             ],
             [
              0.4444444444444444,
              "#bd3786"
             ],
             [
              0.5555555555555556,
              "#d8576b"
             ],
             [
              0.6666666666666666,
              "#ed7953"
             ],
             [
              0.7777777777777778,
              "#fb9f3a"
             ],
             [
              0.8888888888888888,
              "#fdca26"
             ],
             [
              1,
              "#f0f921"
             ]
            ],
            "type": "histogram2dcontour"
           }
          ],
          "mesh3d": [
           {
            "colorbar": {
             "outlinewidth": 0,
             "ticks": ""
            },
            "type": "mesh3d"
           }
          ],
          "parcoords": [
           {
            "line": {
             "colorbar": {
              "outlinewidth": 0,
              "ticks": ""
             }
            },
            "type": "parcoords"
           }
          ],
          "pie": [
           {
            "automargin": true,
            "type": "pie"
           }
          ],
          "scatter": [
           {
            "marker": {
             "colorbar": {
              "outlinewidth": 0,
              "ticks": ""
             }
            },
            "type": "scatter"
           }
          ],
          "scatter3d": [
           {
            "line": {
             "colorbar": {
              "outlinewidth": 0,
              "ticks": ""
             }
            },
            "marker": {
             "colorbar": {
              "outlinewidth": 0,
              "ticks": ""
             }
            },
            "type": "scatter3d"
           }
          ],
          "scattercarpet": [
           {
            "marker": {
             "colorbar": {
              "outlinewidth": 0,
              "ticks": ""
             }
            },
            "type": "scattercarpet"
           }
          ],
          "scattergeo": [
           {
            "marker": {
             "colorbar": {
              "outlinewidth": 0,
              "ticks": ""
             }
            },
            "type": "scattergeo"
           }
          ],
          "scattergl": [
           {
            "marker": {
             "colorbar": {
              "outlinewidth": 0,
              "ticks": ""
             }
            },
            "type": "scattergl"
           }
          ],
          "scattermapbox": [
           {
            "marker": {
             "colorbar": {
              "outlinewidth": 0,
              "ticks": ""
             }
            },
            "type": "scattermapbox"
           }
          ],
          "scatterpolar": [
           {
            "marker": {
             "colorbar": {
              "outlinewidth": 0,
              "ticks": ""
             }
            },
            "type": "scatterpolar"
           }
          ],
          "scatterpolargl": [
           {
            "marker": {
             "colorbar": {
              "outlinewidth": 0,
              "ticks": ""
             }
            },
            "type": "scatterpolargl"
           }
          ],
          "scatterternary": [
           {
            "marker": {
             "colorbar": {
              "outlinewidth": 0,
              "ticks": ""
             }
            },
            "type": "scatterternary"
           }
          ],
          "surface": [
           {
            "colorbar": {
             "outlinewidth": 0,
             "ticks": ""
            },
            "colorscale": [
             [
              0,
              "#0d0887"
             ],
             [
              0.1111111111111111,
              "#46039f"
             ],
             [
              0.2222222222222222,
              "#7201a8"
             ],
             [
              0.3333333333333333,
              "#9c179e"
             ],
             [
              0.4444444444444444,
              "#bd3786"
             ],
             [
              0.5555555555555556,
              "#d8576b"
             ],
             [
              0.6666666666666666,
              "#ed7953"
             ],
             [
              0.7777777777777778,
              "#fb9f3a"
             ],
             [
              0.8888888888888888,
              "#fdca26"
             ],
             [
              1,
              "#f0f921"
             ]
            ],
            "type": "surface"
           }
          ],
          "table": [
           {
            "cells": {
             "fill": {
              "color": "#EBF0F8"
             },
             "line": {
              "color": "white"
             }
            },
            "header": {
             "fill": {
              "color": "#C8D4E3"
             },
             "line": {
              "color": "white"
             }
            },
            "type": "table"
           }
          ]
         },
         "layout": {
          "annotationdefaults": {
           "arrowcolor": "#2a3f5f",
           "arrowhead": 0,
           "arrowwidth": 1
          },
          "autotypenumbers": "strict",
          "coloraxis": {
           "colorbar": {
            "outlinewidth": 0,
            "ticks": ""
           }
          },
          "colorscale": {
           "diverging": [
            [
             0,
             "#8e0152"
            ],
            [
             0.1,
             "#c51b7d"
            ],
            [
             0.2,
             "#de77ae"
            ],
            [
             0.3,
             "#f1b6da"
            ],
            [
             0.4,
             "#fde0ef"
            ],
            [
             0.5,
             "#f7f7f7"
            ],
            [
             0.6,
             "#e6f5d0"
            ],
            [
             0.7,
             "#b8e186"
            ],
            [
             0.8,
             "#7fbc41"
            ],
            [
             0.9,
             "#4d9221"
            ],
            [
             1,
             "#276419"
            ]
           ],
           "sequential": [
            [
             0,
             "#0d0887"
            ],
            [
             0.1111111111111111,
             "#46039f"
            ],
            [
             0.2222222222222222,
             "#7201a8"
            ],
            [
             0.3333333333333333,
             "#9c179e"
            ],
            [
             0.4444444444444444,
             "#bd3786"
            ],
            [
             0.5555555555555556,
             "#d8576b"
            ],
            [
             0.6666666666666666,
             "#ed7953"
            ],
            [
             0.7777777777777778,
             "#fb9f3a"
            ],
            [
             0.8888888888888888,
             "#fdca26"
            ],
            [
             1,
             "#f0f921"
            ]
           ],
           "sequentialminus": [
            [
             0,
             "#0d0887"
            ],
            [
             0.1111111111111111,
             "#46039f"
            ],
            [
             0.2222222222222222,
             "#7201a8"
            ],
            [
             0.3333333333333333,
             "#9c179e"
            ],
            [
             0.4444444444444444,
             "#bd3786"
            ],
            [
             0.5555555555555556,
             "#d8576b"
            ],
            [
             0.6666666666666666,
             "#ed7953"
            ],
            [
             0.7777777777777778,
             "#fb9f3a"
            ],
            [
             0.8888888888888888,
             "#fdca26"
            ],
            [
             1,
             "#f0f921"
            ]
           ]
          },
          "colorway": [
           "#636efa",
           "#EF553B",
           "#00cc96",
           "#ab63fa",
           "#FFA15A",
           "#19d3f3",
           "#FF6692",
           "#B6E880",
           "#FF97FF",
           "#FECB52"
          ],
          "font": {
           "color": "#2a3f5f"
          },
          "geo": {
           "bgcolor": "white",
           "lakecolor": "white",
           "landcolor": "#E5ECF6",
           "showlakes": true,
           "showland": true,
           "subunitcolor": "white"
          },
          "hoverlabel": {
           "align": "left"
          },
          "hovermode": "closest",
          "mapbox": {
           "style": "light"
          },
          "paper_bgcolor": "white",
          "plot_bgcolor": "#E5ECF6",
          "polar": {
           "angularaxis": {
            "gridcolor": "white",
            "linecolor": "white",
            "ticks": ""
           },
           "bgcolor": "#E5ECF6",
           "radialaxis": {
            "gridcolor": "white",
            "linecolor": "white",
            "ticks": ""
           }
          },
          "scene": {
           "xaxis": {
            "backgroundcolor": "#E5ECF6",
            "gridcolor": "white",
            "gridwidth": 2,
            "linecolor": "white",
            "showbackground": true,
            "ticks": "",
            "zerolinecolor": "white"
           },
           "yaxis": {
            "backgroundcolor": "#E5ECF6",
            "gridcolor": "white",
            "gridwidth": 2,
            "linecolor": "white",
            "showbackground": true,
            "ticks": "",
            "zerolinecolor": "white"
           },
           "zaxis": {
            "backgroundcolor": "#E5ECF6",
            "gridcolor": "white",
            "gridwidth": 2,
            "linecolor": "white",
            "showbackground": true,
            "ticks": "",
            "zerolinecolor": "white"
           }
          },
          "shapedefaults": {
           "line": {
            "color": "#2a3f5f"
           }
          },
          "ternary": {
           "aaxis": {
            "gridcolor": "white",
            "linecolor": "white",
            "ticks": ""
           },
           "baxis": {
            "gridcolor": "white",
            "linecolor": "white",
            "ticks": ""
           },
           "bgcolor": "#E5ECF6",
           "caxis": {
            "gridcolor": "white",
            "linecolor": "white",
            "ticks": ""
           }
          },
          "title": {
           "x": 0.05
          },
          "xaxis": {
           "automargin": true,
           "gridcolor": "white",
           "linecolor": "white",
           "ticks": "",
           "title": {
            "standoff": 15
           },
           "zerolinecolor": "white",
           "zerolinewidth": 2
          },
          "yaxis": {
           "automargin": true,
           "gridcolor": "white",
           "linecolor": "white",
           "ticks": "",
           "title": {
            "standoff": 15
           },
           "zerolinecolor": "white",
           "zerolinewidth": 2
          }
         }
        }
       }
      }
     },
     "metadata": {},
     "output_type": "display_data"
    }
   ],
   "source": [
    "# top 5 destinations plot\n",
    "# df\n",
    "df = top_5_destinations.copy()\n",
    "df = df.rename(columns={\"volume_rain_7days\": \"Volume of rain\"})\n",
    "\n",
    "# cols\n",
    "lat_col = \"latitude\"\n",
    "lon_col = \"longitude\"\n",
    "color_col = \"Volume of rain\"\n",
    "# token\n",
    "mapbox_token_file = \"../.mapbox_token\"\n",
    "\n",
    "plot(df, lat_col, lon_col, color_col, mapbox_token_file)"
   ]
  },
  {
   "cell_type": "code",
   "execution_count": 26,
   "metadata": {},
   "outputs": [
    {
     "data": {
      "application/vnd.plotly.v1+json": {
       "config": {
        "plotlyServerURL": "https://plot.ly"
       },
       "data": [
        {
         "hovertemplate": "Volume of rain=%{marker.color}<br>latitude=%{lat}<br>longitude=%{lon}<extra></extra>",
         "lat": [
          42.52505,
          43.7496562,
          44.0121279,
          43.2140359,
          48.249489800000006,
          43.2961743,
          42.9455368,
          48.0777517,
          43.9492493,
          43.1572172,
          48.0447968,
          43.5298424,
          48.584614,
          43.4522771,
          43.8374249,
          43.5658225,
          48.8588897,
          50.6365654,
          49.8941708,
          45.7578137
         ],
         "legendgroup": "",
         "lon": [
          3.0831554,
          6.3285616,
          4.4196718,
          5.5396318,
          7.34429620253195,
          5.3699525,
          1.4065544156065486,
          7.3579641,
          4.8059012,
          6.329253867921363,
          7.3079618,
          5.4474738,
          7.7507127,
          4.4287172,
          4.3600687,
          4.1912837,
          2.3200410217200766,
          3.0635282,
          2.2956951,
          4.8320114
         ],
         "marker": {
          "color": [
           1.168,
           1.45,
           2.102,
           2.12,
           2.275,
           2.306,
           2.347,
           2.347,
           2.355,
           2.402,
           2.537,
           2.566,
           2.566,
           2.583,
           2.59,
           2.645,
           2.789,
           3.046,
           3.432,
           3.641
          ],
          "coloraxis": "coloraxis",
          "size": [
           1.168,
           1.45,
           2.102,
           2.12,
           2.275,
           2.306,
           2.347,
           2.347,
           2.355,
           2.402,
           2.537,
           2.566,
           2.566,
           2.583,
           2.59,
           2.645,
           2.789,
           3.046,
           3.432,
           3.641
          ],
          "sizemode": "area",
          "sizeref": 0.016182222222222223
         },
         "mode": "markers",
         "name": "",
         "showlegend": false,
         "subplot": "mapbox",
         "type": "scattermapbox"
        }
       ],
       "layout": {
        "coloraxis": {
         "colorbar": {
          "title": {
           "text": "Volume of rain"
          }
         },
         "colorscale": [
          [
           0,
           "#000000"
          ],
          [
           0.0625,
           "#001f4d"
          ],
          [
           0.125,
           "#003786"
          ],
          [
           0.1875,
           "#0e58a8"
          ],
          [
           0.25,
           "#217eb8"
          ],
          [
           0.3125,
           "#30a4ca"
          ],
          [
           0.375,
           "#54c8df"
          ],
          [
           0.4375,
           "#9be4ef"
          ],
          [
           0.5,
           "#e1e9d1"
          ],
          [
           0.5625,
           "#f3d573"
          ],
          [
           0.625,
           "#e7b000"
          ],
          [
           0.6875,
           "#da8200"
          ],
          [
           0.75,
           "#c65400"
          ],
          [
           0.8125,
           "#ac2301"
          ],
          [
           0.875,
           "#820000"
          ],
          [
           0.9375,
           "#4c0000"
          ],
          [
           1,
           "#000000"
          ]
         ]
        },
        "legend": {
         "itemsizing": "constant",
         "tracegroupgap": 0
        },
        "mapbox": {
         "accesstoken": "pk.eyJ1Ijoic2hha2Fzb20iLCJhIjoiY2plMWg1NGFpMXZ5NjJxbjhlM2ttN3AwbiJ9.RtGYHmreKiyBfHuElgYq_w",
         "center": {
          "lat": 45.466925319999994,
          "lon": 4.899121825388997
         },
         "domain": {
          "x": [
           0,
           1
          ],
          "y": [
           0,
           1
          ]
         },
         "zoom": 3.5
        },
        "margin": {
         "t": 60
        },
        "template": {
         "data": {
          "bar": [
           {
            "error_x": {
             "color": "#2a3f5f"
            },
            "error_y": {
             "color": "#2a3f5f"
            },
            "marker": {
             "line": {
              "color": "#E5ECF6",
              "width": 0.5
             },
             "pattern": {
              "fillmode": "overlay",
              "size": 10,
              "solidity": 0.2
             }
            },
            "type": "bar"
           }
          ],
          "barpolar": [
           {
            "marker": {
             "line": {
              "color": "#E5ECF6",
              "width": 0.5
             },
             "pattern": {
              "fillmode": "overlay",
              "size": 10,
              "solidity": 0.2
             }
            },
            "type": "barpolar"
           }
          ],
          "carpet": [
           {
            "aaxis": {
             "endlinecolor": "#2a3f5f",
             "gridcolor": "white",
             "linecolor": "white",
             "minorgridcolor": "white",
             "startlinecolor": "#2a3f5f"
            },
            "baxis": {
             "endlinecolor": "#2a3f5f",
             "gridcolor": "white",
             "linecolor": "white",
             "minorgridcolor": "white",
             "startlinecolor": "#2a3f5f"
            },
            "type": "carpet"
           }
          ],
          "choropleth": [
           {
            "colorbar": {
             "outlinewidth": 0,
             "ticks": ""
            },
            "type": "choropleth"
           }
          ],
          "contour": [
           {
            "colorbar": {
             "outlinewidth": 0,
             "ticks": ""
            },
            "colorscale": [
             [
              0,
              "#0d0887"
             ],
             [
              0.1111111111111111,
              "#46039f"
             ],
             [
              0.2222222222222222,
              "#7201a8"
             ],
             [
              0.3333333333333333,
              "#9c179e"
             ],
             [
              0.4444444444444444,
              "#bd3786"
             ],
             [
              0.5555555555555556,
              "#d8576b"
             ],
             [
              0.6666666666666666,
              "#ed7953"
             ],
             [
              0.7777777777777778,
              "#fb9f3a"
             ],
             [
              0.8888888888888888,
              "#fdca26"
             ],
             [
              1,
              "#f0f921"
             ]
            ],
            "type": "contour"
           }
          ],
          "contourcarpet": [
           {
            "colorbar": {
             "outlinewidth": 0,
             "ticks": ""
            },
            "type": "contourcarpet"
           }
          ],
          "heatmap": [
           {
            "colorbar": {
             "outlinewidth": 0,
             "ticks": ""
            },
            "colorscale": [
             [
              0,
              "#0d0887"
             ],
             [
              0.1111111111111111,
              "#46039f"
             ],
             [
              0.2222222222222222,
              "#7201a8"
             ],
             [
              0.3333333333333333,
              "#9c179e"
             ],
             [
              0.4444444444444444,
              "#bd3786"
             ],
             [
              0.5555555555555556,
              "#d8576b"
             ],
             [
              0.6666666666666666,
              "#ed7953"
             ],
             [
              0.7777777777777778,
              "#fb9f3a"
             ],
             [
              0.8888888888888888,
              "#fdca26"
             ],
             [
              1,
              "#f0f921"
             ]
            ],
            "type": "heatmap"
           }
          ],
          "heatmapgl": [
           {
            "colorbar": {
             "outlinewidth": 0,
             "ticks": ""
            },
            "colorscale": [
             [
              0,
              "#0d0887"
             ],
             [
              0.1111111111111111,
              "#46039f"
             ],
             [
              0.2222222222222222,
              "#7201a8"
             ],
             [
              0.3333333333333333,
              "#9c179e"
             ],
             [
              0.4444444444444444,
              "#bd3786"
             ],
             [
              0.5555555555555556,
              "#d8576b"
             ],
             [
              0.6666666666666666,
              "#ed7953"
             ],
             [
              0.7777777777777778,
              "#fb9f3a"
             ],
             [
              0.8888888888888888,
              "#fdca26"
             ],
             [
              1,
              "#f0f921"
             ]
            ],
            "type": "heatmapgl"
           }
          ],
          "histogram": [
           {
            "marker": {
             "pattern": {
              "fillmode": "overlay",
              "size": 10,
              "solidity": 0.2
             }
            },
            "type": "histogram"
           }
          ],
          "histogram2d": [
           {
            "colorbar": {
             "outlinewidth": 0,
             "ticks": ""
            },
            "colorscale": [
             [
              0,
              "#0d0887"
             ],
             [
              0.1111111111111111,
              "#46039f"
             ],
             [
              0.2222222222222222,
              "#7201a8"
             ],
             [
              0.3333333333333333,
              "#9c179e"
             ],
             [
              0.4444444444444444,
              "#bd3786"
             ],
             [
              0.5555555555555556,
              "#d8576b"
             ],
             [
              0.6666666666666666,
              "#ed7953"
             ],
             [
              0.7777777777777778,
              "#fb9f3a"
             ],
             [
              0.8888888888888888,
              "#fdca26"
             ],
             [
              1,
              "#f0f921"
             ]
            ],
            "type": "histogram2d"
           }
          ],
          "histogram2dcontour": [
           {
            "colorbar": {
             "outlinewidth": 0,
             "ticks": ""
            },
            "colorscale": [
             [
              0,
              "#0d0887"
             ],
             [
              0.1111111111111111,
              "#46039f"
             ],
             [
              0.2222222222222222,
              "#7201a8"
             ],
             [
              0.3333333333333333,
              "#9c179e"
             ],
             [
              0.4444444444444444,
              "#bd3786"
             ],
             [
              0.5555555555555556,
              "#d8576b"
             ],
             [
              0.6666666666666666,
              "#ed7953"
             ],
             [
              0.7777777777777778,
              "#fb9f3a"
             ],
             [
              0.8888888888888888,
              "#fdca26"
             ],
             [
              1,
              "#f0f921"
             ]
            ],
            "type": "histogram2dcontour"
           }
          ],
          "mesh3d": [
           {
            "colorbar": {
             "outlinewidth": 0,
             "ticks": ""
            },
            "type": "mesh3d"
           }
          ],
          "parcoords": [
           {
            "line": {
             "colorbar": {
              "outlinewidth": 0,
              "ticks": ""
             }
            },
            "type": "parcoords"
           }
          ],
          "pie": [
           {
            "automargin": true,
            "type": "pie"
           }
          ],
          "scatter": [
           {
            "marker": {
             "colorbar": {
              "outlinewidth": 0,
              "ticks": ""
             }
            },
            "type": "scatter"
           }
          ],
          "scatter3d": [
           {
            "line": {
             "colorbar": {
              "outlinewidth": 0,
              "ticks": ""
             }
            },
            "marker": {
             "colorbar": {
              "outlinewidth": 0,
              "ticks": ""
             }
            },
            "type": "scatter3d"
           }
          ],
          "scattercarpet": [
           {
            "marker": {
             "colorbar": {
              "outlinewidth": 0,
              "ticks": ""
             }
            },
            "type": "scattercarpet"
           }
          ],
          "scattergeo": [
           {
            "marker": {
             "colorbar": {
              "outlinewidth": 0,
              "ticks": ""
             }
            },
            "type": "scattergeo"
           }
          ],
          "scattergl": [
           {
            "marker": {
             "colorbar": {
              "outlinewidth": 0,
              "ticks": ""
             }
            },
            "type": "scattergl"
           }
          ],
          "scattermapbox": [
           {
            "marker": {
             "colorbar": {
              "outlinewidth": 0,
              "ticks": ""
             }
            },
            "type": "scattermapbox"
           }
          ],
          "scatterpolar": [
           {
            "marker": {
             "colorbar": {
              "outlinewidth": 0,
              "ticks": ""
             }
            },
            "type": "scatterpolar"
           }
          ],
          "scatterpolargl": [
           {
            "marker": {
             "colorbar": {
              "outlinewidth": 0,
              "ticks": ""
             }
            },
            "type": "scatterpolargl"
           }
          ],
          "scatterternary": [
           {
            "marker": {
             "colorbar": {
              "outlinewidth": 0,
              "ticks": ""
             }
            },
            "type": "scatterternary"
           }
          ],
          "surface": [
           {
            "colorbar": {
             "outlinewidth": 0,
             "ticks": ""
            },
            "colorscale": [
             [
              0,
              "#0d0887"
             ],
             [
              0.1111111111111111,
              "#46039f"
             ],
             [
              0.2222222222222222,
              "#7201a8"
             ],
             [
              0.3333333333333333,
              "#9c179e"
             ],
             [
              0.4444444444444444,
              "#bd3786"
             ],
             [
              0.5555555555555556,
              "#d8576b"
             ],
             [
              0.6666666666666666,
              "#ed7953"
             ],
             [
              0.7777777777777778,
              "#fb9f3a"
             ],
             [
              0.8888888888888888,
              "#fdca26"
             ],
             [
              1,
              "#f0f921"
             ]
            ],
            "type": "surface"
           }
          ],
          "table": [
           {
            "cells": {
             "fill": {
              "color": "#EBF0F8"
             },
             "line": {
              "color": "white"
             }
            },
            "header": {
             "fill": {
              "color": "#C8D4E3"
             },
             "line": {
              "color": "white"
             }
            },
            "type": "table"
           }
          ]
         },
         "layout": {
          "annotationdefaults": {
           "arrowcolor": "#2a3f5f",
           "arrowhead": 0,
           "arrowwidth": 1
          },
          "autotypenumbers": "strict",
          "coloraxis": {
           "colorbar": {
            "outlinewidth": 0,
            "ticks": ""
           }
          },
          "colorscale": {
           "diverging": [
            [
             0,
             "#8e0152"
            ],
            [
             0.1,
             "#c51b7d"
            ],
            [
             0.2,
             "#de77ae"
            ],
            [
             0.3,
             "#f1b6da"
            ],
            [
             0.4,
             "#fde0ef"
            ],
            [
             0.5,
             "#f7f7f7"
            ],
            [
             0.6,
             "#e6f5d0"
            ],
            [
             0.7,
             "#b8e186"
            ],
            [
             0.8,
             "#7fbc41"
            ],
            [
             0.9,
             "#4d9221"
            ],
            [
             1,
             "#276419"
            ]
           ],
           "sequential": [
            [
             0,
             "#0d0887"
            ],
            [
             0.1111111111111111,
             "#46039f"
            ],
            [
             0.2222222222222222,
             "#7201a8"
            ],
            [
             0.3333333333333333,
             "#9c179e"
            ],
            [
             0.4444444444444444,
             "#bd3786"
            ],
            [
             0.5555555555555556,
             "#d8576b"
            ],
            [
             0.6666666666666666,
             "#ed7953"
            ],
            [
             0.7777777777777778,
             "#fb9f3a"
            ],
            [
             0.8888888888888888,
             "#fdca26"
            ],
            [
             1,
             "#f0f921"
            ]
           ],
           "sequentialminus": [
            [
             0,
             "#0d0887"
            ],
            [
             0.1111111111111111,
             "#46039f"
            ],
            [
             0.2222222222222222,
             "#7201a8"
            ],
            [
             0.3333333333333333,
             "#9c179e"
            ],
            [
             0.4444444444444444,
             "#bd3786"
            ],
            [
             0.5555555555555556,
             "#d8576b"
            ],
            [
             0.6666666666666666,
             "#ed7953"
            ],
            [
             0.7777777777777778,
             "#fb9f3a"
            ],
            [
             0.8888888888888888,
             "#fdca26"
            ],
            [
             1,
             "#f0f921"
            ]
           ]
          },
          "colorway": [
           "#636efa",
           "#EF553B",
           "#00cc96",
           "#ab63fa",
           "#FFA15A",
           "#19d3f3",
           "#FF6692",
           "#B6E880",
           "#FF97FF",
           "#FECB52"
          ],
          "font": {
           "color": "#2a3f5f"
          },
          "geo": {
           "bgcolor": "white",
           "lakecolor": "white",
           "landcolor": "#E5ECF6",
           "showlakes": true,
           "showland": true,
           "subunitcolor": "white"
          },
          "hoverlabel": {
           "align": "left"
          },
          "hovermode": "closest",
          "mapbox": {
           "style": "light"
          },
          "paper_bgcolor": "white",
          "plot_bgcolor": "#E5ECF6",
          "polar": {
           "angularaxis": {
            "gridcolor": "white",
            "linecolor": "white",
            "ticks": ""
           },
           "bgcolor": "#E5ECF6",
           "radialaxis": {
            "gridcolor": "white",
            "linecolor": "white",
            "ticks": ""
           }
          },
          "scene": {
           "xaxis": {
            "backgroundcolor": "#E5ECF6",
            "gridcolor": "white",
            "gridwidth": 2,
            "linecolor": "white",
            "showbackground": true,
            "ticks": "",
            "zerolinecolor": "white"
           },
           "yaxis": {
            "backgroundcolor": "#E5ECF6",
            "gridcolor": "white",
            "gridwidth": 2,
            "linecolor": "white",
            "showbackground": true,
            "ticks": "",
            "zerolinecolor": "white"
           },
           "zaxis": {
            "backgroundcolor": "#E5ECF6",
            "gridcolor": "white",
            "gridwidth": 2,
            "linecolor": "white",
            "showbackground": true,
            "ticks": "",
            "zerolinecolor": "white"
           }
          },
          "shapedefaults": {
           "line": {
            "color": "#2a3f5f"
           }
          },
          "ternary": {
           "aaxis": {
            "gridcolor": "white",
            "linecolor": "white",
            "ticks": ""
           },
           "baxis": {
            "gridcolor": "white",
            "linecolor": "white",
            "ticks": ""
           },
           "bgcolor": "#E5ECF6",
           "caxis": {
            "gridcolor": "white",
            "linecolor": "white",
            "ticks": ""
           }
          },
          "title": {
           "x": 0.05
          },
          "xaxis": {
           "automargin": true,
           "gridcolor": "white",
           "linecolor": "white",
           "ticks": "",
           "title": {
            "standoff": 15
           },
           "zerolinecolor": "white",
           "zerolinewidth": 2
          },
          "yaxis": {
           "automargin": true,
           "gridcolor": "white",
           "linecolor": "white",
           "ticks": "",
           "title": {
            "standoff": 15
           },
           "zerolinecolor": "white",
           "zerolinewidth": 2
          }
         }
        }
       }
      }
     },
     "metadata": {},
     "output_type": "display_data"
    }
   ],
   "source": [
    "# top 20 destinations plot\n",
    "# df\n",
    "df = top_20_destinations.copy()\n",
    "df = df.rename(columns={\"volume_rain_7days\": \"Volume of rain\"})\n",
    "\n",
    "# cols\n",
    "lat_col = \"latitude\"\n",
    "lon_col = \"longitude\"\n",
    "color_col = \"Volume of rain\"\n",
    "# token\n",
    "mapbox_token_file = \"../.mapbox_token\"\n",
    "\n",
    "plot(df, lat_col, lon_col, color_col, mapbox_token_file, zoom=3.5)"
   ]
  }
 ],
 "metadata": {
  "interpreter": {
   "hash": "2b4cb09aecf8790cd274d191b703edeb02c60c746e8312459975c730244dc2f5"
  },
  "kernelspec": {
   "display_name": "Python 3.8.3 64-bit ('venv': venv)",
   "language": "python",
   "name": "python3"
  },
  "language_info": {
   "codemirror_mode": {
    "name": "ipython",
    "version": 3
   },
   "file_extension": ".py",
   "mimetype": "text/x-python",
   "name": "python",
   "nbconvert_exporter": "python",
   "pygments_lexer": "ipython3",
   "version": "3.9.5"
  },
  "orig_nbformat": 4
 },
 "nbformat": 4,
 "nbformat_minor": 2
}
