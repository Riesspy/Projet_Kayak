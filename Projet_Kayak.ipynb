{
  "cells": [
    {
      "cell_type": "code",
      "execution_count": null,
      "metadata": {
        "id": "CMeRHV3CrtlK"
      },
      "outputs": [],
      "source": [
        "# import\n",
        "import os\n",
        "import uuid\n",
        "import requests\n",
        "import numpy as np\n",
        "import pandas as pd\n",
        "import plotly.express as px\n",
        "import plotly.graph_objects as go\n",
        "from dotenv import load_dotenv\n",
        "from IPython.display import display\n",
        "from geopy.geocoders import Nominatim\n",
        "import boto3\n",
        "from IPython.display import display\n",
        "from sqlalchemy import create_engine\n",
        "from sqlalchemy.orm import sessionmaker \n",
        "from sqlalchemy import Column, Integer, String, Float \n",
        "from sqlalchemy.ext.declarative import declarative_base"
      ]
    },
    {
      "cell_type": "markdown",
      "metadata": {
        "id": "NwqaPXK4rtlQ"
      },
      "source": [
        "Get weather data with an API"
      ]
    },
    {
      "cell_type": "code",
      "execution_count": null,
      "metadata": {
        "id": "QEyw3glyrtlS"
      },
      "outputs": [],
      "source": [
        "French_Top_Cities = [\"Mont Saint Michel\", \"St Malo\", \"Bayeux\", \"Le Havre\",\n",
        "                \"Rouen\", \"Paris\", \"Amiens\", \"Lille\", \"Strasbourg\",\n",
        "                \"Chateau du Haut Koenigsbourg\", \"Colmar\", \"Eguisheim\",\n",
        "                \"Besancon\", \"Dijon\", \"Annecy\", \"Grenoble\", \"Lyon\",\n",
        "                \"Gorges du Verdon\", \"Bormes les Mimosas\", \"Cassis\",\n",
        "                \"Marseille\", \"Aix en Provence\", \"Avignon\", \"Uzes\", \"Nimes\",\n",
        "                \"Aigues Mortes\", \"Saintes Maries de la mer\", \"Collioure\",\n",
        "                \"Carcassonne\", \"Ariege\", \"Toulouse\", \"Montauban\", \"Biarritz\",\n",
        "                \"Bayonne\", \"La Rochelle\"]\n",
        "\n",
        "# Load variables\n",
        "load_dotenv()\n",
        "OPEN_WEATHER_TOKEN = os.getenv('Open_weather_token')"
      ]
    },
    {
      "cell_type": "code",
      "execution_count": null,
      "metadata": {
        "id": "bX8WV-owrtlU",
        "outputId": "26bb93c5-70ec-452e-bf45-5ecc746906f2"
      },
      "outputs": [
        {
          "data": {
            "text/html": [
              "<div>\n",
              "<style scoped>\n",
              "    .dataframe tbody tr th:only-of-type {\n",
              "        vertical-align: middle;\n",
              "    }\n",
              "\n",
              "    .dataframe tbody tr th {\n",
              "        vertical-align: top;\n",
              "    }\n",
              "\n",
              "    .dataframe thead th {\n",
              "        text-align: right;\n",
              "    }\n",
              "</style>\n",
              "<table border=\"1\" class=\"dataframe\">\n",
              "  <thead>\n",
              "    <tr style=\"text-align: right;\">\n",
              "      <th></th>\n",
              "      <th>cities</th>\n",
              "    </tr>\n",
              "  </thead>\n",
              "  <tbody>\n",
              "    <tr>\n",
              "      <th>31</th>\n",
              "      <td>Montauban</td>\n",
              "    </tr>\n",
              "    <tr>\n",
              "      <th>0</th>\n",
              "      <td>Mont Saint Michel</td>\n",
              "    </tr>\n",
              "  </tbody>\n",
              "</table>\n",
              "</div>"
            ],
            "text/plain": [
              "               cities\n",
              "31          Montauban\n",
              "0   Mont Saint Michel"
            ]
          },
          "metadata": {},
          "output_type": "display_data"
        }
      ],
      "source": [
        "# init dataframe\n",
        "weather_df = pd.DataFrame(French_Top_Cities, columns=[\"cities\"])\n",
        "display(weather_df.sample(2))"
      ]
    },
    {
      "cell_type": "code",
      "execution_count": null,
      "metadata": {
        "id": "Sdl8AIy7rtlX",
        "outputId": "88cd52bd-e397-45be-fc7a-9cb0c3c00b44"
      },
      "outputs": [
        {
          "data": {
            "text/html": [
              "<div>\n",
              "<style scoped>\n",
              "    .dataframe tbody tr th:only-of-type {\n",
              "        vertical-align: middle;\n",
              "    }\n",
              "\n",
              "    .dataframe tbody tr th {\n",
              "        vertical-align: top;\n",
              "    }\n",
              "\n",
              "    .dataframe thead th {\n",
              "        text-align: right;\n",
              "    }\n",
              "</style>\n",
              "<table border=\"1\" class=\"dataframe\">\n",
              "  <thead>\n",
              "    <tr style=\"text-align: right;\">\n",
              "      <th></th>\n",
              "      <th>cities</th>\n",
              "      <th>full_address</th>\n",
              "      <th>latitude</th>\n",
              "      <th>longitude</th>\n",
              "    </tr>\n",
              "  </thead>\n",
              "  <tbody>\n",
              "    <tr>\n",
              "      <th>31</th>\n",
              "      <td>Montauban</td>\n",
              "      <td>Montauban, Tarn-et-Garonne, Occitanie, France ...</td>\n",
              "      <td>44.017584</td>\n",
              "      <td>1.354999</td>\n",
              "    </tr>\n",
              "    <tr>\n",
              "      <th>26</th>\n",
              "      <td>Saintes Maries de la mer</td>\n",
              "      <td>Saintes-Maries-de-la-Mer, Arles, Bouches-du-Rh...</td>\n",
              "      <td>43.452277</td>\n",
              "      <td>4.428717</td>\n",
              "    </tr>\n",
              "  </tbody>\n",
              "</table>\n",
              "</div>"
            ],
            "text/plain": [
              "                      cities  \\\n",
              "31                 Montauban   \n",
              "26  Saintes Maries de la mer   \n",
              "\n",
              "                                         full_address   latitude  longitude  \n",
              "31  Montauban, Tarn-et-Garonne, Occitanie, France ...  44.017584   1.354999  \n",
              "26  Saintes-Maries-de-la-Mer, Arles, Bouches-du-Rh...  43.452277   4.428717  "
            ]
          },
          "metadata": {},
          "output_type": "display_data"
        }
      ],
      "source": [
        "# Get Cities coordinates \n",
        "def cities_to_coords(city_name) :\n",
        "   \n",
        "    # geocoder\n",
        "    geolocator = Nominatim(user_agent=\"app\")\n",
        "    location = geolocator.geocode(city_name)\n",
        "\n",
        "    # full_address, latitude, longitude\n",
        "    full_address = location.address\n",
        "    latitude = location.latitude\n",
        "    longitude = location.longitude\n",
        "\n",
        "    # return \n",
        "    return pd.Series([full_address, latitude, longitude])\n",
        "\n",
        "## RUN\n",
        "if not \"full_address\" in weather_df.columns :\n",
        "    weather_df[[\"full_address\", \"latitude\", \"longitude\"]] = weather_df[\"cities\"].apply(cities_to_coords)\n",
        "    display(weather_df.sample(2))\n",
        "\n",
        "else : \n",
        "    display(weather_df.sample(2))\n",
        "    print(\"full_address, latitude & longitude columns exists !\")"
      ]
    },
    {
      "cell_type": "code",
      "execution_count": null,
      "metadata": {
        "id": "bFtL2bZUrtla"
      },
      "outputs": [],
      "source": [
        "# Get rain volume\n",
        "\n",
        "def volume_rain(lat, lon, exclude, appid) :\n",
        "    params = (\n",
        "        ('lat', lat),\n",
        "        ('lon', lon),\n",
        "        ('exclude', exclude),\n",
        "        ('appid', appid)\n",
        "    )\n",
        "\n",
        "    response = requests.get('https://api.openweathermap.org/data/2.5/onecall', params=params)\n",
        "        open_weather_7days = pd.json_normalize(response.json()[\"daily\"])\n",
        "       open_weather_7days[\"rain\"] = open_weather_7days[\"rain\"].apply(lambda x : 0 if np.isnan(x) else x) \n",
        "\n",
        "    n_days = open_weather_7days.shape[0]\n",
        "    volume_rain_7days =  np.sum(open_weather_7days[\"rain\"] * open_weather_7days[\"pop\"]) / n_days\n",
        "\n",
        "    return round(volume_rain_7days,3)"
      ]
    },
    {
      "cell_type": "code",
      "execution_count": null,
      "metadata": {
        "id": "20xOqV4Lrtlb",
        "outputId": "650a6666-a7bf-4bee-9b52-cb72772efd06"
      },
      "outputs": [
        {
          "data": {
            "text/html": [
              "<div>\n",
              "<style scoped>\n",
              "    .dataframe tbody tr th:only-of-type {\n",
              "        vertical-align: middle;\n",
              "    }\n",
              "\n",
              "    .dataframe tbody tr th {\n",
              "        vertical-align: top;\n",
              "    }\n",
              "\n",
              "    .dataframe thead th {\n",
              "        text-align: right;\n",
              "    }\n",
              "</style>\n",
              "<table border=\"1\" class=\"dataframe\">\n",
              "  <thead>\n",
              "    <tr style=\"text-align: right;\">\n",
              "      <th></th>\n",
              "      <th>cities</th>\n",
              "      <th>full_address</th>\n",
              "      <th>latitude</th>\n",
              "      <th>longitude</th>\n",
              "      <th>volume_rain_7days</th>\n",
              "    </tr>\n",
              "  </thead>\n",
              "  <tbody>\n",
              "    <tr>\n",
              "      <th>25</th>\n",
              "      <td>Aigues Mortes</td>\n",
              "      <td>Aigues-Mortes, Nîmes, Gard, Occitanie, France ...</td>\n",
              "      <td>43.565823</td>\n",
              "      <td>4.191284</td>\n",
              "      <td>2.645</td>\n",
              "    </tr>\n",
              "    <tr>\n",
              "      <th>23</th>\n",
              "      <td>Uzes</td>\n",
              "      <td>Uzès, Nîmes, Gard, Occitanie, France métropoli...</td>\n",
              "      <td>44.012128</td>\n",
              "      <td>4.419672</td>\n",
              "      <td>2.102</td>\n",
              "    </tr>\n",
              "  </tbody>\n",
              "</table>\n",
              "</div>"
            ],
            "text/plain": [
              "           cities                                       full_address  \\\n",
              "25  Aigues Mortes  Aigues-Mortes, Nîmes, Gard, Occitanie, France ...   \n",
              "23           Uzes  Uzès, Nîmes, Gard, Occitanie, France métropoli...   \n",
              "\n",
              "     latitude  longitude  volume_rain_7days  \n",
              "25  43.565823   4.191284              2.645  \n",
              "23  44.012128   4.419672              2.102  "
            ]
          },
          "metadata": {},
          "output_type": "display_data"
        }
      ],
      "source": [
        "# fill weather_df\n",
        "exclude = 'current,minutely,hourly,alerts'\n",
        "appid = OPEN_WEATHER_TOKEN\n",
        "if not \"volume_rain_7days\" in weather_df.columns :\n",
        "    weather_df[\"volume_rain_7days\"] = weather_df[[\"latitude\", \"longitude\"]].transpose().apply(lambda x : volume_rain(x[0], x[1], exclude, appid))\n",
        "\n",
        "display(weather_df.sample(2))"
      ]
    },
    {
      "cell_type": "code",
      "execution_count": null,
      "metadata": {
        "id": "F0KSY-tbrtld",
        "outputId": "4cedbb34-a0b6-41f3-bfd9-0c8eb7cf1a41"
      },
      "outputs": [
        {
          "data": {
            "text/html": [
              "<div>\n",
              "<style scoped>\n",
              "    .dataframe tbody tr th:only-of-type {\n",
              "        vertical-align: middle;\n",
              "    }\n",
              "\n",
              "    .dataframe tbody tr th {\n",
              "        vertical-align: top;\n",
              "    }\n",
              "\n",
              "    .dataframe thead th {\n",
              "        text-align: right;\n",
              "    }\n",
              "</style>\n",
              "<table border=\"1\" class=\"dataframe\">\n",
              "  <thead>\n",
              "    <tr style=\"text-align: right;\">\n",
              "      <th></th>\n",
              "      <th>cities</th>\n",
              "      <th>full_address</th>\n",
              "      <th>latitude</th>\n",
              "      <th>longitude</th>\n",
              "      <th>volume_rain_7days</th>\n",
              "      <th>uuid</th>\n",
              "    </tr>\n",
              "  </thead>\n",
              "  <tbody>\n",
              "    <tr>\n",
              "      <th>21</th>\n",
              "      <td>Aix en Provence</td>\n",
              "      <td>Aix-en-Provence, Bouches-du-Rhône, Provence-Al...</td>\n",
              "      <td>43.529842</td>\n",
              "      <td>5.447474</td>\n",
              "      <td>2.566</td>\n",
              "      <td>fc388387-8378-47b6-9c60-2834649475ee</td>\n",
              "    </tr>\n",
              "    <tr>\n",
              "      <th>15</th>\n",
              "      <td>Grenoble</td>\n",
              "      <td>Grenoble, Isère, Auvergne-Rhône-Alpes, France ...</td>\n",
              "      <td>45.187560</td>\n",
              "      <td>5.735782</td>\n",
              "      <td>7.462</td>\n",
              "      <td>590c8222-37f8-443a-b577-38826ab507e7</td>\n",
              "    </tr>\n",
              "  </tbody>\n",
              "</table>\n",
              "</div>"
            ],
            "text/plain": [
              "             cities                                       full_address  \\\n",
              "21  Aix en Provence  Aix-en-Provence, Bouches-du-Rhône, Provence-Al...   \n",
              "15         Grenoble  Grenoble, Isère, Auvergne-Rhône-Alpes, France ...   \n",
              "\n",
              "     latitude  longitude  volume_rain_7days  \\\n",
              "21  43.529842   5.447474              2.566   \n",
              "15  45.187560   5.735782              7.462   \n",
              "\n",
              "                                    uuid  \n",
              "21  fc388387-8378-47b6-9c60-2834649475ee  \n",
              "15  590c8222-37f8-443a-b577-38826ab507e7  "
            ]
          },
          "metadata": {},
          "output_type": "display_data"
        }
      ],
      "source": [
        "# unique identifier (uuid)\n",
        "if not \"uuid\" in weather_df.columns :\n",
        "    weather_df['uuid'] = weather_df.index.to_series().map(lambda x: uuid.uuid4())\n",
        "\n",
        "display(weather_df.sample(2))"
      ]
    },
    {
      "cell_type": "code",
      "execution_count": null,
      "metadata": {
        "id": "LwN4riW5rtlf",
        "outputId": "f5e4b779-9506-492c-e83e-e90b712dfae6"
      },
      "outputs": [
        {
          "data": {
            "text/html": [
              "<div>\n",
              "<style scoped>\n",
              "    .dataframe tbody tr th:only-of-type {\n",
              "        vertical-align: middle;\n",
              "    }\n",
              "\n",
              "    .dataframe tbody tr th {\n",
              "        vertical-align: top;\n",
              "    }\n",
              "\n",
              "    .dataframe thead th {\n",
              "        text-align: right;\n",
              "    }\n",
              "</style>\n",
              "<table border=\"1\" class=\"dataframe\">\n",
              "  <thead>\n",
              "    <tr style=\"text-align: right;\">\n",
              "      <th></th>\n",
              "      <th>uuid</th>\n",
              "      <th>cities</th>\n",
              "      <th>full_address</th>\n",
              "      <th>latitude</th>\n",
              "      <th>longitude</th>\n",
              "      <th>volume_rain_7days</th>\n",
              "    </tr>\n",
              "  </thead>\n",
              "  <tbody>\n",
              "    <tr>\n",
              "      <th>25</th>\n",
              "      <td>30fa5619-03b3-45aa-845e-c46de7589a71</td>\n",
              "      <td>Aigues Mortes</td>\n",
              "      <td>Aigues-Mortes, Nîmes, Gard, Occitanie, France ...</td>\n",
              "      <td>43.565823</td>\n",
              "      <td>4.191284</td>\n",
              "      <td>2.645</td>\n",
              "    </tr>\n",
              "    <tr>\n",
              "      <th>27</th>\n",
              "      <td>db214571-646b-4e91-bab1-8e7475e57327</td>\n",
              "      <td>Collioure</td>\n",
              "      <td>Collioure, Céret, Pyrénées-Orientales, Occitan...</td>\n",
              "      <td>42.525050</td>\n",
              "      <td>3.083155</td>\n",
              "      <td>1.168</td>\n",
              "    </tr>\n",
              "  </tbody>\n",
              "</table>\n",
              "</div>"
            ],
            "text/plain": [
              "                                    uuid         cities  \\\n",
              "25  30fa5619-03b3-45aa-845e-c46de7589a71  Aigues Mortes   \n",
              "27  db214571-646b-4e91-bab1-8e7475e57327      Collioure   \n",
              "\n",
              "                                         full_address   latitude  longitude  \\\n",
              "25  Aigues-Mortes, Nîmes, Gard, Occitanie, France ...  43.565823   4.191284   \n",
              "27  Collioure, Céret, Pyrénées-Orientales, Occitan...  42.525050   3.083155   \n",
              "\n",
              "    volume_rain_7days  \n",
              "25              2.645  \n",
              "27              1.168  "
            ]
          },
          "metadata": {},
          "output_type": "display_data"
        }
      ],
      "source": [
        "# reorder columns\n",
        "keep_col = ['uuid', 'cities', 'full_address', 'latitude', 'longitude', 'volume_rain_7days']\n",
        "weather_df = weather_df[keep_col]\n",
        "\n",
        "display(weather_df.sample(2))"
      ]
    },
    {
      "cell_type": "code",
      "execution_count": null,
      "metadata": {
        "id": "n2uo_AuyNdhP"
      },
      "outputs": [],
      "source": [
        "# Save dataframe\n",
        "weather_data = \"../data/weather_data.csv\"\n",
        "overwrite = False \n",
        "\n",
        "if not os.path.exists(weather_data) or overwrite==True:\n",
        "    weather_df.to_csv(weather_data)\n",
        "\n",
        "else :\n",
        "    print(f\"{weather_data} exists !\")"
      ]
    },
    {
      "cell_type": "code",
      "execution_count": null,
      "metadata": {
        "id": "0vKfGQY9rtlk",
        "outputId": "98e744ee-dc84-4bec-f9e3-a34f00c2e466"
      },
      "outputs": [
        {
          "data": {
            "text/html": [
              "<div>\n",
              "<style scoped>\n",
              "    .dataframe tbody tr th:only-of-type {\n",
              "        vertical-align: middle;\n",
              "    }\n",
              "\n",
              "    .dataframe tbody tr th {\n",
              "        vertical-align: top;\n",
              "    }\n",
              "\n",
              "    .dataframe thead th {\n",
              "        text-align: right;\n",
              "    }\n",
              "</style>\n",
              "<table border=\"1\" class=\"dataframe\">\n",
              "  <thead>\n",
              "    <tr style=\"text-align: right;\">\n",
              "      <th></th>\n",
              "      <th>uuid</th>\n",
              "      <th>cities</th>\n",
              "      <th>full_address</th>\n",
              "      <th>latitude</th>\n",
              "      <th>longitude</th>\n",
              "      <th>volume_rain_7days</th>\n",
              "    </tr>\n",
              "  </thead>\n",
              "  <tbody>\n",
              "    <tr>\n",
              "      <th>9</th>\n",
              "      <td>bb9ce686-e536-4202-ada1-9ee4db6d47d8</td>\n",
              "      <td>Chateau du Haut Koenigsbourg</td>\n",
              "      <td>Château du Haut-Kœnigsbourg, Chemin fermé suit...</td>\n",
              "      <td>48.249490</td>\n",
              "      <td>7.344296</td>\n",
              "      <td>2.275</td>\n",
              "    </tr>\n",
              "    <tr>\n",
              "      <th>17</th>\n",
              "      <td>a7ad6334-307c-451f-9a55-449e22544a73</td>\n",
              "      <td>Gorges du Verdon</td>\n",
              "      <td>Gorges du Verdon, Route des Crêtes, Les Ferrai...</td>\n",
              "      <td>43.749656</td>\n",
              "      <td>6.328562</td>\n",
              "      <td>1.450</td>\n",
              "    </tr>\n",
              "  </tbody>\n",
              "</table>\n",
              "</div>"
            ],
            "text/plain": [
              "                                    uuid                        cities  \\\n",
              "9   bb9ce686-e536-4202-ada1-9ee4db6d47d8  Chateau du Haut Koenigsbourg   \n",
              "17  a7ad6334-307c-451f-9a55-449e22544a73              Gorges du Verdon   \n",
              "\n",
              "                                         full_address   latitude  longitude  \\\n",
              "9   Château du Haut-Kœnigsbourg, Chemin fermé suit...  48.249490   7.344296   \n",
              "17  Gorges du Verdon, Route des Crêtes, Les Ferrai...  43.749656   6.328562   \n",
              "\n",
              "    volume_rain_7days  \n",
              "9               2.275  \n",
              "17              1.450  "
            ]
          },
          "metadata": {},
          "output_type": "display_data"
        },
        {
          "data": {
            "text/html": [
              "<div>\n",
              "<style scoped>\n",
              "    .dataframe tbody tr th:only-of-type {\n",
              "        vertical-align: middle;\n",
              "    }\n",
              "\n",
              "    .dataframe tbody tr th {\n",
              "        vertical-align: top;\n",
              "    }\n",
              "\n",
              "    .dataframe thead th {\n",
              "        text-align: right;\n",
              "    }\n",
              "</style>\n",
              "<table border=\"1\" class=\"dataframe\">\n",
              "  <thead>\n",
              "    <tr style=\"text-align: right;\">\n",
              "      <th></th>\n",
              "      <th>uuid</th>\n",
              "      <th>cities</th>\n",
              "      <th>full_address</th>\n",
              "      <th>latitude</th>\n",
              "      <th>longitude</th>\n",
              "      <th>volume_rain_7days</th>\n",
              "    </tr>\n",
              "  </thead>\n",
              "  <tbody>\n",
              "    <tr>\n",
              "      <th>20</th>\n",
              "      <td>03752e13-f4e7-4ae6-ada0-9c63311a42b7</td>\n",
              "      <td>Marseille</td>\n",
              "      <td>Marseille, Bouches-du-Rhône, Provence-Alpes-Cô...</td>\n",
              "      <td>43.296174</td>\n",
              "      <td>5.369953</td>\n",
              "      <td>2.306</td>\n",
              "    </tr>\n",
              "    <tr>\n",
              "      <th>23</th>\n",
              "      <td>7c8e4332-0cbf-41af-aa1b-1bec0dadbd8b</td>\n",
              "      <td>Uzes</td>\n",
              "      <td>Uzès, Nîmes, Gard, Occitanie, France métropoli...</td>\n",
              "      <td>44.012128</td>\n",
              "      <td>4.419672</td>\n",
              "      <td>2.102</td>\n",
              "    </tr>\n",
              "  </tbody>\n",
              "</table>\n",
              "</div>"
            ],
            "text/plain": [
              "                                    uuid     cities  \\\n",
              "20  03752e13-f4e7-4ae6-ada0-9c63311a42b7  Marseille   \n",
              "23  7c8e4332-0cbf-41af-aa1b-1bec0dadbd8b       Uzes   \n",
              "\n",
              "                                         full_address   latitude  longitude  \\\n",
              "20  Marseille, Bouches-du-Rhône, Provence-Alpes-Cô...  43.296174   5.369953   \n",
              "23  Uzès, Nîmes, Gard, Occitanie, France métropoli...  44.012128   4.419672   \n",
              "\n",
              "    volume_rain_7days  \n",
              "20              2.306  \n",
              "23              2.102  "
            ]
          },
          "metadata": {},
          "output_type": "display_data"
        }
      ],
      "source": [
        "# fetch best destinations\n",
        "top_5_destinations = weather_df.sort_values(by=['volume_rain_7days'])[:5]\n",
        "top_20_destinations = weather_df.sort_values(by=['volume_rain_7days'])[:20]\n",
        "display(top_5_destinations.sample(2))\n",
        "display(top_20_destinations.sample(2))\n"
      ]
    },
    {
      "cell_type": "code",
      "execution_count": null,
      "metadata": {
        "id": "zWaBA4o9rtll"
      },
      "outputs": [],
      "source": [
        "# plot function\n",
        "def plot(df, lat_col, lon_col, color_col, mapbox_token_file, zoom=5) :\n",
        "    # read token file\n",
        "    px.set_mapbox_access_token(open(mapbox_token_file).read())\n",
        "\n",
        "    # fig\n",
        "    fig = px.scatter_mapbox(df, lat=lat_col, lon=lon_col,     \n",
        "                        color=color_col, size=color_col,\n",
        "                        color_continuous_scale=px.colors.cyclical.IceFire, \n",
        "                        size_max=15, zoom=zoom)\n",
        "\n",
        "    fig.show()"
      ]
    },
    {
      "cell_type": "markdown",
      "metadata": {
        "id": "hV72rDpRt9wp"
      },
      "source": [
        "Scrape Booking.com"
      ]
    },
    {
      "cell_type": "code",
      "execution_count": null,
      "metadata": {
        "id": "GS8OaWiWtFGX"
      },
      "outputs": [],
      "source": [
        "# read json from scrapy spider\n",
        "hotels_file = \"../data/hotels_booking.json\"\n",
        "\n",
        "# file to json\n",
        "hotels_json = json.load(open(hotels_file))\n",
        "\n",
        "# json to df\n",
        "hotels_df = pd.json_normalize(hotels_json)\n",
        "\n",
        "display(hotels_df.columns)"
      ]
    },
    {
      "cell_type": "code",
      "execution_count": null,
      "metadata": {
        "id": "L2WSfIA4tHXk"
      },
      "outputs": [],
      "source": [
        "# clean some text\n",
        "def clean_text(text) :\n",
        "    return text.replace(\"\\n\", \"\")\n",
        "\n",
        "hotels_df[\"name\"] = hotels_df[\"name\"].apply(lambda x : clean_text(x))\n",
        "hotels_df[\"score\"] = hotels_df[\"score\"].apply(lambda x : clean_text(x))\n",
        "hotels_df[\"description\"] = hotels_df[\"description\"].apply(lambda x : clean_text(x))"
      ]
    },
    {
      "cell_type": "code",
      "execution_count": null,
      "metadata": {
        "id": "uTN_AweftJyI"
      },
      "outputs": [],
      "source": [
        "# astring score\n",
        "hotels_df[\"score\"] = hotels_df[\"score\"].astype(float)"
      ]
    },
    {
      "cell_type": "code",
      "execution_count": null,
      "metadata": {
        "id": "EnPJmPSltL4A"
      },
      "outputs": [],
      "source": [
        "# save\n",
        "export_hotels_csv = \"../data/hotels_booking.csv\"\n",
        "hotels_df.to_csv(export_hotels_csv)"
      ]
    },
    {
      "cell_type": "markdown",
      "metadata": {
        "id": "6xxtjKvHt3dB"
      },
      "source": [
        "ETL & Datawarehouse"
      ]
    },
    {
      "cell_type": "code",
      "execution_count": null,
      "metadata": {
        "id": "ZhFM64hutPv6"
      },
      "outputs": [],
      "source": [
        "# load dotenv variables\n",
        "load_dotenv()\n",
        "DBUSER = os.getenv('DBUSER')\n",
        "DBPASS = os.getenv('DBPASS')\n",
        "DBHOST = os.getenv('DBHOST')\n",
        "DBNAME = os.getenv('DBNAME')\n",
        "\n",
        "print(f\"RDS Database : {DBNAME}\")"
      ]
    },
    {
      "cell_type": "code",
      "execution_count": null,
      "metadata": {
        "id": "_hW3zVNlu6lk"
      },
      "outputs": [],
      "source": [
        "# engine : connected to our db\n",
        "connection_string = f\"postgresql+psycopg2://{DBUSER}:{DBPASS}@{DBHOST}/{DBNAME}\"\n",
        "engine = create_engine(connection_string, echo=True, future=True)"
      ]
    },
    {
      "cell_type": "code",
      "execution_count": null,
      "metadata": {
        "id": "7VnpSvmUu6pQ"
      },
      "outputs": [],
      "source": [
        "# sqlalchemy session to upload database\n",
        "Session = sessionmaker(bind=engine)\n",
        "local_session = Session()"
      ]
    },
    {
      "cell_type": "code",
      "execution_count": null,
      "metadata": {
        "id": "64HB8AnAu6st"
      },
      "outputs": [],
      "source": [
        "# declarative base\n",
        "Base = declarative_base()\n",
        "\n",
        "# create city table\n",
        "# Let's define our table \n",
        "class City(Base):\n",
        "    __tablename__ = \"cities\"\n",
        "\n",
        "    uuid         = Column(String, primary_key=True)\n",
        "    name         = Column(String)\n",
        "    full_address = Column(String)\n",
        "    latitude     = Column(Float)\n",
        "    longitude    = Column(Float)\n",
        "\n",
        "    def __repr__(self):\n",
        "        return f\"<City(name={self.name})>\"\n",
        "\n",
        "# weather table\n",
        "class Weather(Base):\n",
        "    __tablename__ = \"weathers\"\n",
        "\n",
        "    weather_id    = Column(Integer, primary_key=True)\n",
        "    city_uuid     = Column(String)\n",
        "    volume_rain   = Column(Float)\n",
        "\n",
        "    def __repr__(self):\n",
        "        return f\"<Weather(uuid={self.city_uuid}, volume={self.volume_rain})>\"\n",
        "\n",
        "# hotel table\n",
        "class Hotel(Base):\n",
        "    __tablename__ = \"hotels\"\n",
        "\n",
        "    hotel_id     = Column(Integer, primary_key=True)\n",
        "    name        = Column(String)\n",
        "    city        = Column(String)\n",
        "    url         = Column(String)\n",
        "    image_url   = Column(String)\n",
        "    score       = Column(Float)\n",
        "    description = Column(String)\n",
        "\n",
        "    def __repr__(self):\n",
        "        return f\"<Hotel(name={self.name}, score={self.score})>\""
      ]
    },
    {
      "cell_type": "code",
      "execution_count": null,
      "metadata": {
        "id": "G1F4ya2fu6xT"
      },
      "outputs": [],
      "source": [
        "# create_table\n",
        "INIT = False\n",
        "if INIT : \n",
        "    Base.metadata.create_all(engine)"
      ]
    },
    {
      "cell_type": "markdown",
      "metadata": {
        "id": "gy56cFSVvEpP"
      },
      "source": [
        "Read Datalake files\n",
        "weather_csv\n",
        "hotels_booking_csv"
      ]
    },
    {
      "cell_type": "code",
      "execution_count": null,
      "metadata": {
        "id": "O_-x8Kb6u7Fu"
      },
      "outputs": [],
      "source": [
        "# s3 bucket\n",
        "# dotenv variables\n",
        "load_dotenv()\n",
        "AWSS_ACCESS_KEY = os.getenv('AWS_ACCESS_KEY_ID')\n",
        "AWS_SECRET_ACCESS_KEY = os.getenv('AWS_SECRET_ACCESS_KEY')\n",
        "\n",
        "# aws session\n",
        "session = boto3.Session(aws_access_key_id=AWSS_ACCESS_KEY, aws_secret_access_key=AWS_SECRET_ACCESS_KEY)\n",
        "\n",
        "# s3 service\n",
        "s3 = session.resource(\"s3\")\n",
        "\n",
        "# bucket \n",
        "bucket_name = 'projet_kayak'\n",
        "kayak_bucket = s3.Bucket(bucket_name)"
      ]
    },
    {
      "cell_type": "code",
      "execution_count": null,
      "metadata": {
        "id": "eG1yE-wXu7Jy"
      },
      "outputs": [],
      "source": [
        "# read weather data from s3\n",
        "weather_key = \"weather_data.csv\"\n",
        "weather_csv_obj = s3.Object(bucket_name, weather_key)\n",
        "weather_csv = weather_csv_obj.get()['Body'].read().decode('utf-8') \n",
        "\n",
        "# dataframe\n",
        "weather_df = pd.read_csv(weather_csv, index_col=[0])\n",
        "display(weather_df.sample(2))\n",
        "weather_df.columns"
      ]
    },
    {
      "cell_type": "code",
      "execution_count": null,
      "metadata": {
        "id": "JSyTFePzvLNk"
      },
      "outputs": [],
      "source": [
        "# read hotels data from s3\n",
        "hotels_key = \"hotels_booking.csv\"\n",
        "hotels_key_obj = s3.Object(bucket_name, hotels_key)\n",
        "hotels_csv = hotels_key_obj.get()['Body'].read().decode('utf-8') \n",
        "\n",
        "# dataframe\n",
        "hotels_df = pd.read_csv(hotels_csv, index_col=[0])\n",
        "display(hotels_df.sample(2))"
      ]
    },
    {
      "cell_type": "markdown",
      "metadata": {
        "id": "K5bVUWgAvNpP"
      },
      "source": [
        "ETL"
      ]
    },
    {
      "cell_type": "code",
      "execution_count": null,
      "metadata": {
        "id": "hXBHs6F2vPH8"
      },
      "outputs": [],
      "source": [
        "# city df\n",
        "keep_col = ['uuid', 'cities', 'full_address', 'latitude', 'longitude']\n",
        "city_df = weather_df[keep_col].copy()"
      ]
    },
    {
      "cell_type": "code",
      "execution_count": null,
      "metadata": {
        "id": "EjnCBypwvPUi"
      },
      "outputs": [],
      "source": [
        "# weather df\n",
        "keep_col = ['uuid', 'volume_rain_7days']\n",
        "weather_df_volume = weather_df[keep_col].copy()\n",
        "weather_df_volume = weather_df_volume.reset_index()\n",
        "display(weather_df_volume.sample(2))"
      ]
    },
    {
      "cell_type": "code",
      "execution_count": null,
      "metadata": {
        "id": "l0uL8ScmvPYF"
      },
      "outputs": [],
      "source": [
        "# hotel dataframe\n",
        "hotels_df = hotels_df.reset_index().copy()\n",
        "display(hotels_df.sample(2))"
      ]
    },
    {
      "cell_type": "markdown",
      "metadata": {
        "id": "BYsmE3nUvXIX"
      },
      "source": [
        "DataWarehouse\n",
        "Tables :\n",
        "\n",
        "cities\n",
        "weathers\n",
        "hotels"
      ]
    },
    {
      "cell_type": "code",
      "execution_count": null,
      "metadata": {
        "id": "bE0nwUqzvPeJ"
      },
      "outputs": [],
      "source": [
        "# fill City TABLE\n",
        "for idx in range(city_df.shape[0]) : \n",
        "    # get row\n",
        "    city_row = city_df.iloc[idx]\n",
        "\n",
        "    # create city object\n",
        "    city_uuid         = city_row[\"uuid\"]\n",
        "    city_name         = city_row[\"cities\"]\n",
        "    city_fulladdress  = city_row[\"full_address\"]\n",
        "    city_latitude     = city_row[\"latitude\"]\n",
        "    city_longitude    = city_row[\"longitude\"]\n",
        "    city = City(uuid=city_uuid, name=city_name, full_address=city_fulladdress,\n",
        "                latitude=city_latitude, longitude=city_longitude)\n",
        "\n",
        "    # add & commit\n",
        "    # verify if cities in table\n",
        "    city_in_table = local_session.query(City).filter_by(name=city_name).first()\n",
        "\n",
        "    if not city_in_table : \n",
        "        # Add values to db \n",
        "        local_session.add(city)\n",
        "\n",
        "        # Commit the results \n",
        "        local_session.commit()   \n",
        "        \n",
        "    print(city)"
      ]
    },
    {
      "cell_type": "code",
      "execution_count": null,
      "metadata": {
        "id": "ntnEm6Bsvfo8"
      },
      "outputs": [],
      "source": [
        "# fill Weather TABLE\n",
        "for idx in range(weather_df_volume.shape[0]) : \n",
        "    # get row\n",
        "    weather_row = weather_df_volume.iloc[idx]\n",
        "\n",
        "    # create city object\n",
        "    weather_id        = int(weather_row[\"index\"])\n",
        "    city_uuid         = weather_row[\"uuid\"]\n",
        "    weather_volume    = float(weather_row[\"volume_rain_7days\"])\n",
        "    weather = Weather(weather_id=weather_id, city_uuid=city_uuid, volume_rain=weather_volume)\n",
        "\n",
        "    # add & commit\n",
        "    # verify if cities in table\n",
        "    weather_in_table = local_session.query(Weather).filter_by(weather_id=weather_id).first()\n",
        "\n",
        "    if not weather_in_table : \n",
        "        # Add values to db \n",
        "        local_session.add(weather)\n",
        "\n",
        "        # Commit the results \n",
        "        local_session.commit()   \n",
        "        \n",
        "    print(weather)"
      ]
    },
    {
      "cell_type": "code",
      "execution_count": null,
      "metadata": {
        "id": "ipqauMabvjWr"
      },
      "outputs": [],
      "source": [
        "# fill Hotel TABLE\n",
        "for idx in range(hotels_df.shape[0]) : \n",
        "    # get row\n",
        "    hotel_row = hotels_df.iloc[idx]\n",
        "\n",
        "    # create city object\n",
        "    hotel_id        = int(hotel_row[\"index\"])\n",
        "    name            = hotel_row[\"name\"]\n",
        "    city            = hotel_row[\"city\"]\n",
        "    url             = hotel_row[\"url\"]\n",
        "    image_url       = hotel_row[\"image_url\"]\n",
        "    score           = hotel_row[\"score\"]\n",
        "    description     = hotel_row[\"description\"]\n",
        "\n",
        "    # hotel object\n",
        "    hotel = Hotel(hotel_id=hotel_id, name=name, \n",
        "                    city=city, url=url, \n",
        "                    image_url=image_url, score=score, \n",
        "                    description=description)\n",
        "\n",
        "    # add & commit\n",
        "    # verify if cities in table\n",
        "    hotel_in_table = local_session.query(Hotel).filter_by(name=name).first()\n",
        "\n",
        "    if not hotel_in_table : \n",
        "        # Add values to db \n",
        "        local_session.add(hotel)\n",
        "\n",
        "        # Commit the results \n",
        "        local_session.commit()   \n",
        "        \n",
        "    print(hotel)"
      ]
    }
  ],
  "metadata": {
    "colab": {
      "name": "get_weather.ipynb",
      "provenance": []
    },
    "interpreter": {
      "hash": "2b4cb09aecf8790cd274d191b703edeb02c60c746e8312459975c730244dc2f5"
    },
    "kernelspec": {
      "display_name": "Python 3.8.3 64-bit ('venv': venv)",
      "language": "python",
      "name": "python3"
    },
    "language_info": {
      "codemirror_mode": {
        "name": "ipython",
        "version": 3
      },
      "file_extension": ".py",
      "mimetype": "text/x-python",
      "name": "python",
      "nbconvert_exporter": "python",
      "pygments_lexer": "ipython3",
      "version": "3.8.3"
    },
    "orig_nbformat": 4
  },
  "nbformat": 4,
  "nbformat_minor": 0
}
